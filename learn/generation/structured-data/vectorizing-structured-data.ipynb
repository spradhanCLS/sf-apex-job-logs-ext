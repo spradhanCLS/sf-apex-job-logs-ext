{
  "cells": [
    {
      "cell_type": "markdown",
      "metadata": {
        "id": "view-in-github",
        "colab_type": "text"
      },
      "source": [
        "<a href=\"https://colab.research.google.com/github/spradhanCLS/sf-apex-job-logs-ext/blob/main/learn/generation/structured-data/vectorizing-structured-data.ipynb\" target=\"_parent\"><img src=\"https://colab.research.google.com/assets/colab-badge.svg\" alt=\"Open In Colab\"/></a>"
      ]
    },
    {
      "cell_type": "markdown",
      "metadata": {
        "id": "aPDeZH2gSWY_"
      },
      "source": [
        "[![Open In Colab](https://colab.research.google.com/assets/colab-badge.svg)](https://colab.research.google.com/github/pinecone-io/examples/blob/master/learn/generation/structured-data/vectorizing-structured-data.ipynb) [![Open nbviewer](https://raw.githubusercontent.com/pinecone-io/examples/master/assets/nbviewer-shield.svg)](https://nbviewer.org/github/pinecone-io/examples/blob/master/learn/generation/structured-data/vectorizing-structured-data.ipynb)"
      ]
    },
    {
      "cell_type": "markdown",
      "metadata": {
        "id": "4Hmy_-yTOWjP"
      },
      "source": [
        "# Setup\n",
        "\n",
        "Install the following libraries to work with this notebook.\n",
        "\n",
        "Note: You will need two API keys to run this notebook: a [Pinecone](https://www.pinecone.io/) serverless API key, which you can get at app.pinecone.io after signing up for an account, and an OpenAI API key, which you can get at [OpenAI](https://openai.com/blog/openai-api).\n"
      ]
    },
    {
      "cell_type": "code",
      "execution_count": 1,
      "metadata": {
        "colab": {
          "base_uri": "https://localhost:8080/"
        },
        "id": "4LslX1iX1XlV",
        "outputId": "036d20a0-765e-4aad-aedb-ffd76b5f96f1"
      },
      "outputs": [
        {
          "output_type": "stream",
          "name": "stdout",
          "text": [
            "Python 3.12.11\n"
          ]
        }
      ],
      "source": [
        "# This notebook runs on Python version:\n",
        "!python3 --version"
      ]
    },
    {
      "cell_type": "code",
      "execution_count": 9,
      "metadata": {
        "colab": {
          "base_uri": "https://localhost:8080/",
          "height": 1000
        },
        "id": "U2aBWr00P_63",
        "outputId": "0425b6e6-af19-46e7-e5a1-9a8ccdb3f09c",
        "collapsed": true
      },
      "outputs": [
        {
          "output_type": "stream",
          "name": "stdout",
          "text": [
            "\u001b[2K     \u001b[90m━━━━━━━━━━━━━━━━━━━━━━━━━━━━━━━━━━━━━━━━\u001b[0m \u001b[32m61.0/61.0 kB\u001b[0m \u001b[31m1.9 MB/s\u001b[0m eta \u001b[36m0:00:00\u001b[0m\n",
            "\u001b[2K   \u001b[90m━━━━━━━━━━━━━━━━━━━━━━━━━━━━━━━━━━━━━━━━\u001b[0m \u001b[32m18.0/18.0 MB\u001b[0m \u001b[31m94.1 MB/s\u001b[0m eta \u001b[36m0:00:00\u001b[0m\n",
            "\u001b[?25h\u001b[31mERROR: pip's dependency resolver does not currently take into account all the packages that are installed. This behaviour is the source of the following dependency conflicts.\n",
            "google-colab 1.0.0 requires pandas==2.2.2, but you have pandas 2.2.3 which is incompatible.\n",
            "opencv-contrib-python 4.12.0.88 requires numpy<2.3.0,>=2; python_version >= \"3.9\", but you have numpy 1.26.4 which is incompatible.\n",
            "opencv-python-headless 4.12.0.88 requires numpy<2.3.0,>=2; python_version >= \"3.9\", but you have numpy 1.26.4 which is incompatible.\n",
            "ydf 0.13.0 requires protobuf<7.0.0,>=5.29.1, but you have protobuf 3.20.3 which is incompatible.\n",
            "pandas-gbq 0.29.2 requires google-api-core<3.0.0,>=2.10.2, but you have google-api-core 1.34.1 which is incompatible.\n",
            "xarray 2025.8.0 requires packaging>=24.1, but you have packaging 23.2 which is incompatible.\n",
            "thinc 8.3.6 requires numpy<3.0.0,>=2.0.0, but you have numpy 1.26.4 which is incompatible.\n",
            "db-dtypes 1.4.3 requires packaging>=24.2.0, but you have packaging 23.2 which is incompatible.\u001b[0m\u001b[31m\n",
            "\u001b[0mCollecting llama-index\n",
            "  Downloading llama_index-0.13.6-py3-none-any.whl.metadata (12 kB)\n",
            "Collecting llama-index-cli<0.6,>=0.5.0 (from llama-index)\n",
            "  Downloading llama_index_cli-0.5.0-py3-none-any.whl.metadata (1.4 kB)\n",
            "Collecting llama-index-core<0.14,>=0.13.6 (from llama-index)\n",
            "  Downloading llama_index_core-0.13.6-py3-none-any.whl.metadata (2.5 kB)\n",
            "Collecting llama-index-embeddings-openai<0.6,>=0.5.0 (from llama-index)\n",
            "  Downloading llama_index_embeddings_openai-0.5.0-py3-none-any.whl.metadata (400 bytes)\n",
            "Collecting llama-index-indices-managed-llama-cloud>=0.4.0 (from llama-index)\n",
            "  Downloading llama_index_indices_managed_llama_cloud-0.9.3-py3-none-any.whl.metadata (3.7 kB)\n",
            "Collecting llama-index-llms-openai<0.6,>=0.5.0 (from llama-index)\n",
            "  Downloading llama_index_llms_openai-0.5.4-py3-none-any.whl.metadata (3.0 kB)\n",
            "Collecting llama-index-readers-file<0.6,>=0.5.0 (from llama-index)\n",
            "  Downloading llama_index_readers_file-0.5.3-py3-none-any.whl.metadata (5.7 kB)\n",
            "Collecting llama-index-readers-llama-parse>=0.4.0 (from llama-index)\n",
            "  Downloading llama_index_readers_llama_parse-0.5.0-py3-none-any.whl.metadata (3.1 kB)\n",
            "Collecting nltk>3.8.1 (from llama-index)\n",
            "  Downloading nltk-3.9.1-py3-none-any.whl.metadata (2.9 kB)\n",
            "Collecting aiohttp<4,>=3.8.6 (from llama-index-core<0.14,>=0.13.6->llama-index)\n",
            "  Downloading aiohttp-3.12.15-cp312-cp312-manylinux_2_17_x86_64.manylinux2014_x86_64.whl.metadata (7.7 kB)\n",
            "Collecting aiosqlite (from llama-index-core<0.14,>=0.13.6->llama-index)\n",
            "  Downloading aiosqlite-0.21.0-py3-none-any.whl.metadata (4.3 kB)\n",
            "Collecting banks<3,>=2.2.0 (from llama-index-core<0.14,>=0.13.6->llama-index)\n",
            "  Downloading banks-2.2.0-py3-none-any.whl.metadata (12 kB)\n",
            "Collecting dataclasses-json (from llama-index-core<0.14,>=0.13.6->llama-index)\n",
            "  Downloading dataclasses_json-0.6.7-py3-none-any.whl.metadata (25 kB)\n",
            "Collecting deprecated>=1.2.9.3 (from llama-index-core<0.14,>=0.13.6->llama-index)\n",
            "  Downloading Deprecated-1.2.18-py2.py3-none-any.whl.metadata (5.7 kB)\n",
            "Collecting dirtyjson<2,>=1.0.8 (from llama-index-core<0.14,>=0.13.6->llama-index)\n",
            "  Downloading dirtyjson-1.0.8-py3-none-any.whl.metadata (11 kB)\n",
            "Collecting filetype<2,>=1.2.0 (from llama-index-core<0.14,>=0.13.6->llama-index)\n",
            "  Downloading filetype-1.2.0-py2.py3-none-any.whl.metadata (6.5 kB)\n",
            "Collecting fsspec>=2023.5.0 (from llama-index-core<0.14,>=0.13.6->llama-index)\n",
            "  Downloading fsspec-2025.9.0-py3-none-any.whl.metadata (10 kB)\n",
            "Collecting httpx (from llama-index-core<0.14,>=0.13.6->llama-index)\n",
            "  Downloading httpx-0.28.1-py3-none-any.whl.metadata (7.1 kB)\n",
            "Collecting llama-index-workflows<2,>=1.0.1 (from llama-index-core<0.14,>=0.13.6->llama-index)\n",
            "  Downloading llama_index_workflows-1.3.0-py3-none-any.whl.metadata (6.4 kB)\n",
            "Collecting nest-asyncio<2,>=1.5.8 (from llama-index-core<0.14,>=0.13.6->llama-index)\n",
            "  Downloading nest_asyncio-1.6.0-py3-none-any.whl.metadata (2.8 kB)\n",
            "Collecting networkx>=3.0 (from llama-index-core<0.14,>=0.13.6->llama-index)\n",
            "  Downloading networkx-3.5-py3-none-any.whl.metadata (6.3 kB)\n",
            "Collecting numpy (from llama-index-core<0.14,>=0.13.6->llama-index)\n",
            "  Downloading numpy-2.3.2-cp312-cp312-manylinux_2_27_x86_64.manylinux_2_28_x86_64.whl.metadata (62 kB)\n",
            "\u001b[2K     \u001b[90m━━━━━━━━━━━━━━━━━━━━━━━━━━━━━━━━━━━━━━━━\u001b[0m \u001b[32m62.1/62.1 kB\u001b[0m \u001b[31m16.0 MB/s\u001b[0m eta \u001b[36m0:00:00\u001b[0m\n",
            "\u001b[?25hCollecting pillow>=9.0.0 (from llama-index-core<0.14,>=0.13.6->llama-index)\n",
            "  Downloading pillow-11.3.0-cp312-cp312-manylinux_2_27_x86_64.manylinux_2_28_x86_64.whl.metadata (9.0 kB)\n",
            "Collecting platformdirs (from llama-index-core<0.14,>=0.13.6->llama-index)\n",
            "  Downloading platformdirs-4.4.0-py3-none-any.whl.metadata (12 kB)\n",
            "Collecting pydantic>=2.8.0 (from llama-index-core<0.14,>=0.13.6->llama-index)\n",
            "  Downloading pydantic-2.11.7-py3-none-any.whl.metadata (67 kB)\n",
            "\u001b[2K     \u001b[90m━━━━━━━━━━━━━━━━━━━━━━━━━━━━━━━━━━━━━━━\u001b[0m \u001b[32m68.0/68.0 kB\u001b[0m \u001b[31m166.8 MB/s\u001b[0m eta \u001b[36m0:00:00\u001b[0m\n",
            "\u001b[?25hCollecting pyyaml>=6.0.1 (from llama-index-core<0.14,>=0.13.6->llama-index)\n",
            "  Downloading PyYAML-6.0.2-cp312-cp312-manylinux_2_17_x86_64.manylinux2014_x86_64.whl.metadata (2.1 kB)\n",
            "Collecting requests>=2.31.0 (from llama-index-core<0.14,>=0.13.6->llama-index)\n",
            "  Downloading requests-2.32.5-py3-none-any.whl.metadata (4.9 kB)\n",
            "Collecting setuptools>=80.9.0 (from llama-index-core<0.14,>=0.13.6->llama-index)\n",
            "  Downloading setuptools-80.9.0-py3-none-any.whl.metadata (6.6 kB)\n",
            "Collecting sqlalchemy>=1.4.49 (from sqlalchemy[asyncio]>=1.4.49->llama-index-core<0.14,>=0.13.6->llama-index)\n",
            "  Downloading sqlalchemy-2.0.43-cp312-cp312-manylinux_2_17_x86_64.manylinux2014_x86_64.whl.metadata (9.6 kB)\n",
            "Collecting tenacity!=8.4.0,<10.0.0,>=8.2.0 (from llama-index-core<0.14,>=0.13.6->llama-index)\n",
            "  Downloading tenacity-9.1.2-py3-none-any.whl.metadata (1.2 kB)\n",
            "Collecting tiktoken>=0.7.0 (from llama-index-core<0.14,>=0.13.6->llama-index)\n",
            "  Downloading tiktoken-0.11.0-cp312-cp312-manylinux_2_17_x86_64.manylinux2014_x86_64.whl.metadata (6.7 kB)\n",
            "Collecting tqdm<5,>=4.66.1 (from llama-index-core<0.14,>=0.13.6->llama-index)\n",
            "  Downloading tqdm-4.67.1-py3-none-any.whl.metadata (57 kB)\n",
            "\u001b[2K     \u001b[90m━━━━━━━━━━━━━━━━━━━━━━━━━━━━━━━━━━━━━━━\u001b[0m \u001b[32m57.7/57.7 kB\u001b[0m \u001b[31m242.0 MB/s\u001b[0m eta \u001b[36m0:00:00\u001b[0m\n",
            "\u001b[?25hCollecting typing-extensions>=4.5.0 (from llama-index-core<0.14,>=0.13.6->llama-index)\n",
            "  Downloading typing_extensions-4.15.0-py3-none-any.whl.metadata (3.3 kB)\n",
            "Collecting typing-inspect>=0.8.0 (from llama-index-core<0.14,>=0.13.6->llama-index)\n",
            "  Downloading typing_inspect-0.9.0-py3-none-any.whl.metadata (1.5 kB)\n",
            "Collecting wrapt (from llama-index-core<0.14,>=0.13.6->llama-index)\n",
            "  Downloading wrapt-1.17.3-cp312-cp312-manylinux1_x86_64.manylinux_2_28_x86_64.manylinux_2_5_x86_64.whl.metadata (6.4 kB)\n",
            "Collecting openai>=1.1.0 (from llama-index-embeddings-openai<0.6,>=0.5.0->llama-index)\n",
            "  Downloading openai-1.106.1-py3-none-any.whl.metadata (29 kB)\n",
            "Collecting llama-cloud==0.1.35 (from llama-index-indices-managed-llama-cloud>=0.4.0->llama-index)\n",
            "  Downloading llama_cloud-0.1.35-py3-none-any.whl.metadata (1.2 kB)\n",
            "Collecting certifi>=2024.7.4 (from llama-cloud==0.1.35->llama-index-indices-managed-llama-cloud>=0.4.0->llama-index)\n",
            "  Downloading certifi-2025.8.3-py3-none-any.whl.metadata (2.4 kB)\n",
            "Collecting beautifulsoup4<5,>=4.12.3 (from llama-index-readers-file<0.6,>=0.5.0->llama-index)\n",
            "  Downloading beautifulsoup4-4.13.5-py3-none-any.whl.metadata (3.8 kB)\n",
            "Collecting defusedxml>=0.7.1 (from llama-index-readers-file<0.6,>=0.5.0->llama-index)\n",
            "  Downloading defusedxml-0.7.1-py2.py3-none-any.whl.metadata (32 kB)\n",
            "Collecting pandas<2.3.0 (from llama-index-readers-file<0.6,>=0.5.0->llama-index)\n",
            "  Downloading pandas-2.2.3-cp312-cp312-manylinux_2_17_x86_64.manylinux2014_x86_64.whl.metadata (89 kB)\n",
            "\u001b[2K     \u001b[90m━━━━━━━━━━━━━━━━━━━━━━━━━━━━━━━━━━━━━━━\u001b[0m \u001b[32m89.9/89.9 kB\u001b[0m \u001b[31m274.3 MB/s\u001b[0m eta \u001b[36m0:00:00\u001b[0m\n",
            "\u001b[?25hCollecting pypdf<7,>=5.1.0 (from llama-index-readers-file<0.6,>=0.5.0->llama-index)\n",
            "  Downloading pypdf-6.0.0-py3-none-any.whl.metadata (7.1 kB)\n",
            "Collecting striprtf<0.0.27,>=0.0.26 (from llama-index-readers-file<0.6,>=0.5.0->llama-index)\n",
            "  Downloading striprtf-0.0.26-py3-none-any.whl.metadata (2.1 kB)\n",
            "Collecting llama-parse>=0.5.0 (from llama-index-readers-llama-parse>=0.4.0->llama-index)\n",
            "  Downloading llama_parse-0.6.64-py3-none-any.whl.metadata (6.6 kB)\n",
            "Collecting click (from nltk>3.8.1->llama-index)\n",
            "  Downloading click-8.2.1-py3-none-any.whl.metadata (2.5 kB)\n",
            "Collecting joblib (from nltk>3.8.1->llama-index)\n",
            "  Downloading joblib-1.5.2-py3-none-any.whl.metadata (5.6 kB)\n",
            "Collecting regex>=2021.8.3 (from nltk>3.8.1->llama-index)\n",
            "  Downloading regex-2025.9.1-cp312-cp312-manylinux2014_x86_64.manylinux_2_17_x86_64.manylinux_2_28_x86_64.whl.metadata (40 kB)\n",
            "\u001b[2K     \u001b[90m━━━━━━━━━━━━━━━━━━━━━━━━━━━━━━━━━━━━━━━━\u001b[0m \u001b[32m40.5/40.5 kB\u001b[0m \u001b[31m63.2 MB/s\u001b[0m eta \u001b[36m0:00:00\u001b[0m\n",
            "\u001b[?25hCollecting aiohappyeyeballs>=2.5.0 (from aiohttp<4,>=3.8.6->llama-index-core<0.14,>=0.13.6->llama-index)\n",
            "  Downloading aiohappyeyeballs-2.6.1-py3-none-any.whl.metadata (5.9 kB)\n",
            "Collecting aiosignal>=1.4.0 (from aiohttp<4,>=3.8.6->llama-index-core<0.14,>=0.13.6->llama-index)\n",
            "  Downloading aiosignal-1.4.0-py3-none-any.whl.metadata (3.7 kB)\n",
            "Collecting attrs>=17.3.0 (from aiohttp<4,>=3.8.6->llama-index-core<0.14,>=0.13.6->llama-index)\n",
            "  Downloading attrs-25.3.0-py3-none-any.whl.metadata (10 kB)\n",
            "Collecting frozenlist>=1.1.1 (from aiohttp<4,>=3.8.6->llama-index-core<0.14,>=0.13.6->llama-index)\n",
            "  Downloading frozenlist-1.7.0-cp312-cp312-manylinux_2_5_x86_64.manylinux1_x86_64.manylinux_2_17_x86_64.manylinux2014_x86_64.whl.metadata (18 kB)\n",
            "Collecting multidict<7.0,>=4.5 (from aiohttp<4,>=3.8.6->llama-index-core<0.14,>=0.13.6->llama-index)\n",
            "  Downloading multidict-6.6.4-cp312-cp312-manylinux2014_x86_64.manylinux_2_17_x86_64.manylinux_2_28_x86_64.whl.metadata (5.3 kB)\n",
            "Collecting propcache>=0.2.0 (from aiohttp<4,>=3.8.6->llama-index-core<0.14,>=0.13.6->llama-index)\n",
            "  Downloading propcache-0.3.2-cp312-cp312-manylinux_2_17_x86_64.manylinux2014_x86_64.whl.metadata (12 kB)\n",
            "Collecting yarl<2.0,>=1.17.0 (from aiohttp<4,>=3.8.6->llama-index-core<0.14,>=0.13.6->llama-index)\n",
            "  Downloading yarl-1.20.1-cp312-cp312-manylinux_2_17_x86_64.manylinux2014_x86_64.whl.metadata (73 kB)\n",
            "\u001b[2K     \u001b[90m━━━━━━━━━━━━━━━━━━━━━━━━━━━━━━━━━━━━━━━\u001b[0m \u001b[32m73.9/73.9 kB\u001b[0m \u001b[31m136.6 MB/s\u001b[0m eta \u001b[36m0:00:00\u001b[0m\n",
            "\u001b[?25hCollecting griffe (from banks<3,>=2.2.0->llama-index-core<0.14,>=0.13.6->llama-index)\n",
            "  Downloading griffe-1.14.0-py3-none-any.whl.metadata (5.1 kB)\n",
            "Collecting jinja2 (from banks<3,>=2.2.0->llama-index-core<0.14,>=0.13.6->llama-index)\n",
            "  Downloading jinja2-3.1.6-py3-none-any.whl.metadata (2.9 kB)\n",
            "Collecting soupsieve>1.2 (from beautifulsoup4<5,>=4.12.3->llama-index-readers-file<0.6,>=0.5.0->llama-index)\n",
            "  Downloading soupsieve-2.8-py3-none-any.whl.metadata (4.6 kB)\n",
            "Collecting anyio (from httpx->llama-index-core<0.14,>=0.13.6->llama-index)\n",
            "  Downloading anyio-4.10.0-py3-none-any.whl.metadata (4.0 kB)\n",
            "Collecting httpcore==1.* (from httpx->llama-index-core<0.14,>=0.13.6->llama-index)\n",
            "  Downloading httpcore-1.0.9-py3-none-any.whl.metadata (21 kB)\n",
            "Collecting idna (from httpx->llama-index-core<0.14,>=0.13.6->llama-index)\n",
            "  Downloading idna-3.10-py3-none-any.whl.metadata (10 kB)\n",
            "Collecting h11>=0.16 (from httpcore==1.*->httpx->llama-index-core<0.14,>=0.13.6->llama-index)\n",
            "  Downloading h11-0.16.0-py3-none-any.whl.metadata (8.3 kB)\n",
            "Collecting llama-index-instrumentation>=0.1.0 (from llama-index-workflows<2,>=1.0.1->llama-index-core<0.14,>=0.13.6->llama-index)\n",
            "  Downloading llama_index_instrumentation-0.4.0-py3-none-any.whl.metadata (252 bytes)\n",
            "Collecting llama-cloud-services>=0.6.64 (from llama-parse>=0.5.0->llama-index-readers-llama-parse>=0.4.0->llama-index)\n",
            "  Downloading llama_cloud_services-0.6.64-py3-none-any.whl.metadata (3.3 kB)\n",
            "Collecting distro<2,>=1.7.0 (from openai>=1.1.0->llama-index-embeddings-openai<0.6,>=0.5.0->llama-index)\n",
            "  Downloading distro-1.9.0-py3-none-any.whl.metadata (6.8 kB)\n",
            "Collecting jiter<1,>=0.4.0 (from openai>=1.1.0->llama-index-embeddings-openai<0.6,>=0.5.0->llama-index)\n",
            "  Downloading jiter-0.10.0-cp312-cp312-manylinux_2_17_x86_64.manylinux2014_x86_64.whl.metadata (5.2 kB)\n",
            "Collecting sniffio (from openai>=1.1.0->llama-index-embeddings-openai<0.6,>=0.5.0->llama-index)\n",
            "  Downloading sniffio-1.3.1-py3-none-any.whl.metadata (3.9 kB)\n",
            "Collecting python-dateutil>=2.8.2 (from pandas<2.3.0->llama-index-readers-file<0.6,>=0.5.0->llama-index)\n",
            "  Downloading python_dateutil-2.9.0.post0-py2.py3-none-any.whl.metadata (8.4 kB)\n",
            "Collecting pytz>=2020.1 (from pandas<2.3.0->llama-index-readers-file<0.6,>=0.5.0->llama-index)\n",
            "  Downloading pytz-2025.2-py2.py3-none-any.whl.metadata (22 kB)\n",
            "Collecting tzdata>=2022.7 (from pandas<2.3.0->llama-index-readers-file<0.6,>=0.5.0->llama-index)\n",
            "  Downloading tzdata-2025.2-py2.py3-none-any.whl.metadata (1.4 kB)\n",
            "Collecting annotated-types>=0.6.0 (from pydantic>=2.8.0->llama-index-core<0.14,>=0.13.6->llama-index)\n",
            "  Downloading annotated_types-0.7.0-py3-none-any.whl.metadata (15 kB)\n",
            "Collecting pydantic-core==2.33.2 (from pydantic>=2.8.0->llama-index-core<0.14,>=0.13.6->llama-index)\n",
            "  Downloading pydantic_core-2.33.2-cp312-cp312-manylinux_2_17_x86_64.manylinux2014_x86_64.whl.metadata (6.8 kB)\n",
            "Collecting typing-inspection>=0.4.0 (from pydantic>=2.8.0->llama-index-core<0.14,>=0.13.6->llama-index)\n",
            "  Downloading typing_inspection-0.4.1-py3-none-any.whl.metadata (2.6 kB)\n",
            "Collecting charset_normalizer<4,>=2 (from requests>=2.31.0->llama-index-core<0.14,>=0.13.6->llama-index)\n",
            "  Downloading charset_normalizer-3.4.3-cp312-cp312-manylinux2014_x86_64.manylinux_2_17_x86_64.manylinux_2_28_x86_64.whl.metadata (36 kB)\n",
            "Collecting urllib3<3,>=1.21.1 (from requests>=2.31.0->llama-index-core<0.14,>=0.13.6->llama-index)\n",
            "  Downloading urllib3-2.5.0-py3-none-any.whl.metadata (6.5 kB)\n",
            "Collecting greenlet>=1 (from sqlalchemy>=1.4.49->sqlalchemy[asyncio]>=1.4.49->llama-index-core<0.14,>=0.13.6->llama-index)\n",
            "  Downloading greenlet-3.2.4-cp312-cp312-manylinux_2_24_x86_64.manylinux_2_28_x86_64.whl.metadata (4.1 kB)\n",
            "Collecting mypy-extensions>=0.3.0 (from typing-inspect>=0.8.0->llama-index-core<0.14,>=0.13.6->llama-index)\n",
            "  Downloading mypy_extensions-1.1.0-py3-none-any.whl.metadata (1.1 kB)\n",
            "Collecting marshmallow<4.0.0,>=3.18.0 (from dataclasses-json->llama-index-core<0.14,>=0.13.6->llama-index)\n",
            "  Downloading marshmallow-3.26.1-py3-none-any.whl.metadata (7.3 kB)\n",
            "INFO: pip is looking at multiple versions of llama-cloud-services to determine which version is compatible with other requirements. This could take a while.\n",
            "Collecting llama-parse>=0.5.0 (from llama-index-readers-llama-parse>=0.4.0->llama-index)\n",
            "  Downloading llama_parse-0.6.63-py3-none-any.whl.metadata (6.6 kB)\n",
            "Collecting llama-cloud-services>=0.6.63 (from llama-parse>=0.5.0->llama-index-readers-llama-parse>=0.4.0->llama-index)\n",
            "  Downloading llama_cloud_services-0.6.63-py3-none-any.whl.metadata (3.7 kB)\n",
            "Collecting llama-parse>=0.5.0 (from llama-index-readers-llama-parse>=0.4.0->llama-index)\n",
            "  Downloading llama_parse-0.6.62-py3-none-any.whl.metadata (6.6 kB)\n",
            "Collecting llama-cloud-services>=0.6.62 (from llama-parse>=0.5.0->llama-index-readers-llama-parse>=0.4.0->llama-index)\n",
            "  Downloading llama_cloud_services-0.6.62-py3-none-any.whl.metadata (3.7 kB)\n",
            "Collecting llama-parse>=0.5.0 (from llama-index-readers-llama-parse>=0.4.0->llama-index)\n",
            "  Downloading llama_parse-0.6.60-py3-none-any.whl.metadata (6.6 kB)\n",
            "INFO: pip is still looking at multiple versions of llama-cloud-services to determine which version is compatible with other requirements. This could take a while.\n",
            "Collecting llama-cloud-services>=0.6.60 (from llama-parse>=0.5.0->llama-index-readers-llama-parse>=0.4.0->llama-index)\n",
            "  Downloading llama_cloud_services-0.6.60-py3-none-any.whl.metadata (3.7 kB)\n",
            "Collecting llama-parse>=0.5.0 (from llama-index-readers-llama-parse>=0.4.0->llama-index)\n",
            "  Downloading llama_parse-0.6.59-py3-none-any.whl.metadata (6.6 kB)\n",
            "INFO: This is taking longer than usual. You might need to provide the dependency resolver with stricter constraints to reduce runtime. See https://pip.pypa.io/warnings/backtracking for guidance. If you want to abort this run, press Ctrl + C.\n",
            "Collecting llama-cloud-services>=0.6.59 (from llama-parse>=0.5.0->llama-index-readers-llama-parse>=0.4.0->llama-index)\n",
            "  Downloading llama_cloud_services-0.6.59-py3-none-any.whl.metadata (3.7 kB)\n",
            "Collecting llama-parse>=0.5.0 (from llama-index-readers-llama-parse>=0.4.0->llama-index)\n",
            "  Downloading llama_parse-0.6.58-py3-none-any.whl.metadata (6.6 kB)\n",
            "Collecting llama-cloud-services>=0.6.58 (from llama-parse>=0.5.0->llama-index-readers-llama-parse>=0.4.0->llama-index)\n",
            "  Downloading llama_cloud_services-0.6.58-py3-none-any.whl.metadata (3.7 kB)\n",
            "Collecting llama-parse>=0.5.0 (from llama-index-readers-llama-parse>=0.4.0->llama-index)\n",
            "  Downloading llama_parse-0.6.57-py3-none-any.whl.metadata (6.6 kB)\n",
            "Collecting llama-cloud-services>=0.6.56 (from llama-parse>=0.5.0->llama-index-readers-llama-parse>=0.4.0->llama-index)\n",
            "  Downloading llama_cloud_services-0.6.57-py3-none-any.whl.metadata (3.7 kB)\n",
            "  Downloading llama_cloud_services-0.6.56-py3-none-any.whl.metadata (3.7 kB)\n",
            "Collecting llama-parse>=0.5.0 (from llama-index-readers-llama-parse>=0.4.0->llama-index)\n",
            "  Downloading llama_parse-0.6.56-py3-none-any.whl.metadata (6.6 kB)\n",
            "  Downloading llama_parse-0.6.55-py3-none-any.whl.metadata (6.6 kB)\n",
            "Collecting llama-cloud-services>=0.6.55 (from llama-parse>=0.5.0->llama-index-readers-llama-parse>=0.4.0->llama-index)\n",
            "  Downloading llama_cloud_services-0.6.55-py3-none-any.whl.metadata (3.7 kB)\n",
            "Collecting llama-parse>=0.5.0 (from llama-index-readers-llama-parse>=0.4.0->llama-index)\n",
            "  Downloading llama_parse-0.6.54-py3-none-any.whl.metadata (6.6 kB)\n",
            "Collecting llama-cloud-services>=0.6.54 (from llama-parse>=0.5.0->llama-index-readers-llama-parse>=0.4.0->llama-index)\n",
            "  Downloading llama_cloud_services-0.6.54-py3-none-any.whl.metadata (3.6 kB)\n",
            "Collecting python-dotenv<2,>=1.0.1 (from llama-cloud-services>=0.6.54->llama-parse>=0.5.0->llama-index-readers-llama-parse>=0.4.0->llama-index)\n",
            "  Downloading python_dotenv-1.1.1-py3-none-any.whl.metadata (24 kB)\n",
            "Collecting packaging>=17.0 (from marshmallow<4.0.0,>=3.18.0->dataclasses-json->llama-index-core<0.14,>=0.13.6->llama-index)\n",
            "  Downloading packaging-25.0-py3-none-any.whl.metadata (3.3 kB)\n",
            "Collecting six>=1.5 (from python-dateutil>=2.8.2->pandas<2.3.0->llama-index-readers-file<0.6,>=0.5.0->llama-index)\n",
            "  Downloading six-1.17.0-py2.py3-none-any.whl.metadata (1.7 kB)\n",
            "Collecting colorama>=0.4 (from griffe->banks<3,>=2.2.0->llama-index-core<0.14,>=0.13.6->llama-index)\n",
            "  Downloading colorama-0.4.6-py2.py3-none-any.whl.metadata (17 kB)\n",
            "Collecting MarkupSafe>=2.0 (from jinja2->banks<3,>=2.2.0->llama-index-core<0.14,>=0.13.6->llama-index)\n",
            "  Downloading MarkupSafe-3.0.2-cp312-cp312-manylinux_2_17_x86_64.manylinux2014_x86_64.whl.metadata (4.0 kB)\n",
            "Downloading llama_index-0.13.6-py3-none-any.whl (7.0 kB)\n",
            "Downloading llama_index_cli-0.5.0-py3-none-any.whl (28 kB)\n",
            "Downloading llama_index_core-0.13.6-py3-none-any.whl (7.6 MB)\n",
            "\u001b[2K   \u001b[90m━━━━━━━━━━━━━━━━━━━━━━━━━━━━━━━━━━━━━━━━\u001b[0m \u001b[32m7.6/7.6 MB\u001b[0m \u001b[31m123.7 MB/s\u001b[0m eta \u001b[36m0:00:00\u001b[0m\n",
            "\u001b[?25hDownloading llama_index_embeddings_openai-0.5.0-py3-none-any.whl (7.0 kB)\n",
            "Downloading llama_index_indices_managed_llama_cloud-0.9.3-py3-none-any.whl (17 kB)\n",
            "Downloading Deprecated-1.2.18-py2.py3-none-any.whl (10.0 kB)\n",
            "Downloading llama_cloud-0.1.35-py3-none-any.whl (303 kB)\n",
            "\u001b[2K   \u001b[90m━━━━━━━━━━━━━━━━━━━━━━━━━━━━━━━━━━━━━━━\u001b[0m \u001b[32m303.3/303.3 kB\u001b[0m \u001b[31m307.5 MB/s\u001b[0m eta \u001b[36m0:00:00\u001b[0m\n",
            "\u001b[?25hDownloading llama_index_llms_openai-0.5.4-py3-none-any.whl (25 kB)\n",
            "Downloading llama_index_readers_file-0.5.3-py3-none-any.whl (51 kB)\n",
            "\u001b[2K   \u001b[90m━━━━━━━━━━━━━━━━━━━━━━━━━━━━━━━━━━━━━━━━\u001b[0m \u001b[32m51.8/51.8 kB\u001b[0m \u001b[31m135.5 MB/s\u001b[0m eta \u001b[36m0:00:00\u001b[0m\n",
            "\u001b[?25hDownloading llama_index_readers_llama_parse-0.5.0-py3-none-any.whl (3.2 kB)\n",
            "Downloading nltk-3.9.1-py3-none-any.whl (1.5 MB)\n",
            "\u001b[2K   \u001b[90m━━━━━━━━━━━━━━━━━━━━━━━━━━━━━━━━━━━━━━━━\u001b[0m \u001b[32m1.5/1.5 MB\u001b[0m \u001b[31m150.8 MB/s\u001b[0m eta \u001b[36m0:00:00\u001b[0m\n",
            "\u001b[?25hDownloading aiohttp-3.12.15-cp312-cp312-manylinux_2_17_x86_64.manylinux2014_x86_64.whl (1.7 MB)\n",
            "\u001b[2K   \u001b[90m━━━━━━━━━━━━━━━━━━━━━━━━━━━━━━━━━━━━━━━━\u001b[0m \u001b[32m1.7/1.7 MB\u001b[0m \u001b[31m164.0 MB/s\u001b[0m eta \u001b[36m0:00:00\u001b[0m\n",
            "\u001b[?25hDownloading banks-2.2.0-py3-none-any.whl (29 kB)\n",
            "Downloading beautifulsoup4-4.13.5-py3-none-any.whl (105 kB)\n",
            "\u001b[2K   \u001b[90m━━━━━━━━━━━━━━━━━━━━━━━━━━━━━━━━━━━━━━━\u001b[0m \u001b[32m105.1/105.1 kB\u001b[0m \u001b[31m147.3 MB/s\u001b[0m eta \u001b[36m0:00:00\u001b[0m\n",
            "\u001b[?25hDownloading defusedxml-0.7.1-py2.py3-none-any.whl (25 kB)\n",
            "Downloading dirtyjson-1.0.8-py3-none-any.whl (25 kB)\n",
            "Downloading filetype-1.2.0-py2.py3-none-any.whl (19 kB)\n",
            "Downloading fsspec-2025.9.0-py3-none-any.whl (199 kB)\n",
            "\u001b[2K   \u001b[90m━━━━━━━━━━━━━━━━━━━━━━━━━━━━━━━━━━━━━━━\u001b[0m \u001b[32m199.3/199.3 kB\u001b[0m \u001b[31m159.1 MB/s\u001b[0m eta \u001b[36m0:00:00\u001b[0m\n",
            "\u001b[?25hDownloading httpx-0.28.1-py3-none-any.whl (73 kB)\n",
            "\u001b[2K   \u001b[90m━━━━━━━━━━━━━━━━━━━━━━━━━━━━━━━━━━━━━━━━\u001b[0m \u001b[32m73.5/73.5 kB\u001b[0m \u001b[31m197.9 MB/s\u001b[0m eta \u001b[36m0:00:00\u001b[0m\n",
            "\u001b[?25hDownloading httpcore-1.0.9-py3-none-any.whl (78 kB)\n",
            "\u001b[2K   \u001b[90m━━━━━━━━━━━━━━━━━━━━━━━━━━━━━━━━━━━━━━━━\u001b[0m \u001b[32m78.8/78.8 kB\u001b[0m \u001b[31m173.7 MB/s\u001b[0m eta \u001b[36m0:00:00\u001b[0m\n",
            "\u001b[?25hDownloading llama_index_workflows-1.3.0-py3-none-any.whl (42 kB)\n",
            "\u001b[2K   \u001b[90m━━━━━━━━━━━━━━━━━━━━━━━━━━━━━━━━━━━━━━━━\u001b[0m \u001b[32m42.5/42.5 kB\u001b[0m \u001b[31m107.1 MB/s\u001b[0m eta \u001b[36m0:00:00\u001b[0m\n",
            "\u001b[?25hDownloading llama_parse-0.6.54-py3-none-any.whl (4.9 kB)\n",
            "Downloading llama_cloud_services-0.6.54-py3-none-any.whl (63 kB)\n",
            "\u001b[2K   \u001b[90m━━━━━━━━━━━━━━━━━━━━━━━━━━━━━━━━━━━━━━━━\u001b[0m \u001b[32m63.9/63.9 kB\u001b[0m \u001b[31m164.5 MB/s\u001b[0m eta \u001b[36m0:00:00\u001b[0m\n",
            "\u001b[?25hDownloading click-8.2.1-py3-none-any.whl (102 kB)\n",
            "\u001b[2K   \u001b[90m━━━━━━━━━━━━━━━━━━━━━━━━━━━━━━━━━━━━━━━\u001b[0m \u001b[32m102.2/102.2 kB\u001b[0m \u001b[31m107.0 MB/s\u001b[0m eta \u001b[36m0:00:00\u001b[0m\n",
            "\u001b[?25hDownloading nest_asyncio-1.6.0-py3-none-any.whl (5.2 kB)\n",
            "Downloading networkx-3.5-py3-none-any.whl (2.0 MB)\n",
            "\u001b[2K   \u001b[90m━━━━━━━━━━━━━━━━━━━━━━━━━━━━━━━━━━━━━━━━\u001b[0m \u001b[32m2.0/2.0 MB\u001b[0m \u001b[31m220.0 MB/s\u001b[0m eta \u001b[36m0:00:00\u001b[0m\n",
            "\u001b[?25hDownloading openai-1.106.1-py3-none-any.whl (930 kB)\n",
            "\u001b[2K   \u001b[90m━━━━━━━━━━━━━━━━━━━━━━━━━━━━━━━━━━━━━━━\u001b[0m \u001b[32m930.8/930.8 kB\u001b[0m \u001b[31m192.2 MB/s\u001b[0m eta \u001b[36m0:00:00\u001b[0m\n",
            "\u001b[?25hDownloading pandas-2.2.3-cp312-cp312-manylinux_2_17_x86_64.manylinux2014_x86_64.whl (12.7 MB)\n",
            "\u001b[2K   \u001b[90m━━━━━━━━━━━━━━━━━━━━━━━━━━━━━━━━━━━━━━━━\u001b[0m \u001b[32m12.7/12.7 MB\u001b[0m \u001b[31m130.7 MB/s\u001b[0m eta \u001b[36m0:00:00\u001b[0m\n",
            "\u001b[?25hDownloading numpy-2.3.2-cp312-cp312-manylinux_2_27_x86_64.manylinux_2_28_x86_64.whl (16.6 MB)\n",
            "\u001b[2K   \u001b[90m━━━━━━━━━━━━━━━━━━━━━━━━━━━━━━━━━━━━━━━━\u001b[0m \u001b[32m16.6/16.6 MB\u001b[0m \u001b[31m172.4 MB/s\u001b[0m eta \u001b[36m0:00:00\u001b[0m\n",
            "\u001b[?25hDownloading pillow-11.3.0-cp312-cp312-manylinux_2_27_x86_64.manylinux_2_28_x86_64.whl (6.6 MB)\n",
            "\u001b[2K   \u001b[90m━━━━━━━━━━━━━━━━━━━━━━━━━━━━━━━━━━━━━━━━\u001b[0m \u001b[32m6.6/6.6 MB\u001b[0m \u001b[31m163.1 MB/s\u001b[0m eta \u001b[36m0:00:00\u001b[0m\n",
            "\u001b[?25hDownloading platformdirs-4.4.0-py3-none-any.whl (18 kB)\n",
            "Downloading pydantic-2.11.7-py3-none-any.whl (444 kB)\n",
            "\u001b[2K   \u001b[90m━━━━━━━━━━━━━━━━━━━━━━━━━━━━━━━━━━━━━━━\u001b[0m \u001b[32m444.8/444.8 kB\u001b[0m \u001b[31m118.8 MB/s\u001b[0m eta \u001b[36m0:00:00\u001b[0m\n",
            "\u001b[?25hDownloading pydantic_core-2.33.2-cp312-cp312-manylinux_2_17_x86_64.manylinux2014_x86_64.whl (2.0 MB)\n",
            "\u001b[2K   \u001b[90m━━━━━━━━━━━━━━━━━━━━━━━━━━━━━━━━━━━━━━━━\u001b[0m \u001b[32m2.0/2.0 MB\u001b[0m \u001b[31m203.6 MB/s\u001b[0m eta \u001b[36m0:00:00\u001b[0m\n",
            "\u001b[?25hDownloading pypdf-6.0.0-py3-none-any.whl (310 kB)\n",
            "\u001b[2K   \u001b[90m━━━━━━━━━━━━━━━━━━━━━━━━━━━━━━━━━━━━━━━\u001b[0m \u001b[32m310.5/310.5 kB\u001b[0m \u001b[31m181.3 MB/s\u001b[0m eta \u001b[36m0:00:00\u001b[0m\n",
            "\u001b[?25hDownloading PyYAML-6.0.2-cp312-cp312-manylinux_2_17_x86_64.manylinux2014_x86_64.whl (767 kB)\n",
            "\u001b[2K   \u001b[90m━━━━━━━━━━━━━━━━━━━━━━━━━━━━━━━━━━━━━━━\u001b[0m \u001b[32m767.5/767.5 kB\u001b[0m \u001b[31m196.3 MB/s\u001b[0m eta \u001b[36m0:00:00\u001b[0m\n",
            "\u001b[?25hDownloading regex-2025.9.1-cp312-cp312-manylinux2014_x86_64.manylinux_2_17_x86_64.manylinux_2_28_x86_64.whl (801 kB)\n",
            "\u001b[2K   \u001b[90m━━━━━━━━━━━━━━━━━━━━━━━━━━━━━━━━━━━━━━━\u001b[0m \u001b[32m802.0/802.0 kB\u001b[0m \u001b[31m200.3 MB/s\u001b[0m eta \u001b[36m0:00:00\u001b[0m\n",
            "\u001b[?25hDownloading requests-2.32.5-py3-none-any.whl (64 kB)\n",
            "\u001b[2K   \u001b[90m━━━━━━━━━━━━━━━━━━━━━━━━━━━━━━━━━━━━━━━━\u001b[0m \u001b[32m64.7/64.7 kB\u001b[0m \u001b[31m173.9 MB/s\u001b[0m eta \u001b[36m0:00:00\u001b[0m\n",
            "\u001b[?25hDownloading setuptools-80.9.0-py3-none-any.whl (1.2 MB)\n",
            "\u001b[2K   \u001b[90m━━━━━━━━━━━━━━━━━━━━━━━━━━━━━━━━━━━━━━━━\u001b[0m \u001b[32m1.2/1.2 MB\u001b[0m \u001b[31m207.1 MB/s\u001b[0m eta \u001b[36m0:00:00\u001b[0m\n",
            "\u001b[?25hDownloading sqlalchemy-2.0.43-cp312-cp312-manylinux_2_17_x86_64.manylinux2014_x86_64.whl (3.3 MB)\n",
            "\u001b[2K   \u001b[90m━━━━━━━━━━━━━━━━━━━━━━━━━━━━━━━━━━━━━━━━\u001b[0m \u001b[32m3.3/3.3 MB\u001b[0m \u001b[31m181.1 MB/s\u001b[0m eta \u001b[36m0:00:00\u001b[0m\n",
            "\u001b[?25hDownloading striprtf-0.0.26-py3-none-any.whl (6.9 kB)\n",
            "Downloading tenacity-9.1.2-py3-none-any.whl (28 kB)\n",
            "Downloading tiktoken-0.11.0-cp312-cp312-manylinux_2_17_x86_64.manylinux2014_x86_64.whl (1.2 MB)\n",
            "\u001b[2K   \u001b[90m━━━━━━━━━━━━━━━━━━━━━━━━━━━━━━━━━━━━━━━━\u001b[0m \u001b[32m1.2/1.2 MB\u001b[0m \u001b[31m193.5 MB/s\u001b[0m eta \u001b[36m0:00:00\u001b[0m\n",
            "\u001b[?25hDownloading tqdm-4.67.1-py3-none-any.whl (78 kB)\n",
            "\u001b[2K   \u001b[90m━━━━━━━━━━━━━━━━━━━━━━━━━━━━━━━━━━━━━━━━\u001b[0m \u001b[32m78.5/78.5 kB\u001b[0m \u001b[31m165.5 MB/s\u001b[0m eta \u001b[36m0:00:00\u001b[0m\n",
            "\u001b[?25hDownloading typing_extensions-4.15.0-py3-none-any.whl (44 kB)\n",
            "\u001b[2K   \u001b[90m━━━━━━━━━━━━━━━━━━━━━━━━━━━━━━━━━━━━━━━━\u001b[0m \u001b[32m44.6/44.6 kB\u001b[0m \u001b[31m121.5 MB/s\u001b[0m eta \u001b[36m0:00:00\u001b[0m\n",
            "\u001b[?25hDownloading typing_inspect-0.9.0-py3-none-any.whl (8.8 kB)\n",
            "Downloading wrapt-1.17.3-cp312-cp312-manylinux1_x86_64.manylinux_2_28_x86_64.manylinux_2_5_x86_64.whl (88 kB)\n",
            "\u001b[2K   \u001b[90m━━━━━━━━━━━━━━━━━━━━━━━━━━━━━━━━━━━━━━━━\u001b[0m \u001b[32m88.0/88.0 kB\u001b[0m \u001b[31m72.2 MB/s\u001b[0m eta \u001b[36m0:00:00\u001b[0m\n",
            "\u001b[?25hDownloading aiosqlite-0.21.0-py3-none-any.whl (15 kB)\n",
            "Downloading dataclasses_json-0.6.7-py3-none-any.whl (28 kB)\n",
            "Downloading joblib-1.5.2-py3-none-any.whl (308 kB)\n",
            "\u001b[2K   \u001b[90m━━━━━━━━━━━━━━━━━━━━━━━━━━━━━━━━━━━━━━━\u001b[0m \u001b[32m308.4/308.4 kB\u001b[0m \u001b[31m192.4 MB/s\u001b[0m eta \u001b[36m0:00:00\u001b[0m\n",
            "\u001b[?25hDownloading aiohappyeyeballs-2.6.1-py3-none-any.whl (15 kB)\n",
            "Downloading aiosignal-1.4.0-py3-none-any.whl (7.5 kB)\n",
            "Downloading annotated_types-0.7.0-py3-none-any.whl (13 kB)\n",
            "Downloading anyio-4.10.0-py3-none-any.whl (107 kB)\n",
            "\u001b[2K   \u001b[90m━━━━━━━━━━━━━━━━━━━━━━━━━━━━━━━━━━━━━━━\u001b[0m \u001b[32m107.2/107.2 kB\u001b[0m \u001b[31m106.9 MB/s\u001b[0m eta \u001b[36m0:00:00\u001b[0m\n",
            "\u001b[?25hDownloading attrs-25.3.0-py3-none-any.whl (63 kB)\n",
            "\u001b[2K   \u001b[90m━━━━━━━━━━━━━━━━━━━━━━━━━━━━━━━━━━━━━━━━\u001b[0m \u001b[32m63.8/63.8 kB\u001b[0m \u001b[31m116.2 MB/s\u001b[0m eta \u001b[36m0:00:00\u001b[0m\n",
            "\u001b[?25hDownloading certifi-2025.8.3-py3-none-any.whl (161 kB)\n",
            "\u001b[2K   \u001b[90m━━━━━━━━━━━━━━━━━━━━━━━━━━━━━━━━━━━━━━━\u001b[0m \u001b[32m161.2/161.2 kB\u001b[0m \u001b[31m183.9 MB/s\u001b[0m eta \u001b[36m0:00:00\u001b[0m\n",
            "\u001b[?25hDownloading charset_normalizer-3.4.3-cp312-cp312-manylinux2014_x86_64.manylinux_2_17_x86_64.manylinux_2_28_x86_64.whl (151 kB)\n",
            "\u001b[2K   \u001b[90m━━━━━━━━━━━━━━━━━━━━━━━━━━━━━━━━━━━━━━━\u001b[0m \u001b[32m151.8/151.8 kB\u001b[0m \u001b[31m171.0 MB/s\u001b[0m eta \u001b[36m0:00:00\u001b[0m\n",
            "\u001b[?25hDownloading distro-1.9.0-py3-none-any.whl (20 kB)\n",
            "Downloading frozenlist-1.7.0-cp312-cp312-manylinux_2_5_x86_64.manylinux1_x86_64.manylinux_2_17_x86_64.manylinux2014_x86_64.whl (241 kB)\n",
            "\u001b[2K   \u001b[90m━━━━━━━━━━━━━━━━━━━━━━━━━━━━━━━━━━━━━━━\u001b[0m \u001b[32m241.8/241.8 kB\u001b[0m \u001b[31m159.1 MB/s\u001b[0m eta \u001b[36m0:00:00\u001b[0m\n",
            "\u001b[?25hDownloading greenlet-3.2.4-cp312-cp312-manylinux_2_24_x86_64.manylinux_2_28_x86_64.whl (607 kB)\n",
            "\u001b[2K   \u001b[90m━━━━━━━━━━━━━━━━━━━━━━━━━━━━━━━━━━━━━━━\u001b[0m \u001b[32m607.6/607.6 kB\u001b[0m \u001b[31m177.9 MB/s\u001b[0m eta \u001b[36m0:00:00\u001b[0m\n",
            "\u001b[?25hDownloading idna-3.10-py3-none-any.whl (70 kB)\n",
            "\u001b[2K   \u001b[90m━━━━━━━━━━━━━━━━━━━━━━━━━━━━━━━━━━━━━━━━\u001b[0m \u001b[32m70.4/70.4 kB\u001b[0m \u001b[31m142.7 MB/s\u001b[0m eta \u001b[36m0:00:00\u001b[0m\n",
            "\u001b[?25hDownloading jiter-0.10.0-cp312-cp312-manylinux_2_17_x86_64.manylinux2014_x86_64.whl (352 kB)\n",
            "\u001b[2K   \u001b[90m━━━━━━━━━━━━━━━━━━━━━━━━━━━━━━━━━━━━━━━\u001b[0m \u001b[32m352.0/352.0 kB\u001b[0m \u001b[31m188.0 MB/s\u001b[0m eta \u001b[36m0:00:00\u001b[0m\n",
            "\u001b[?25hDownloading llama_index_instrumentation-0.4.0-py3-none-any.whl (14 kB)\n",
            "Downloading marshmallow-3.26.1-py3-none-any.whl (50 kB)\n",
            "\u001b[2K   \u001b[90m━━━━━━━━━━━━━━━━━━━━━━━━━━━━━━━━━━━━━━━━\u001b[0m \u001b[32m50.9/50.9 kB\u001b[0m \u001b[31m140.5 MB/s\u001b[0m eta \u001b[36m0:00:00\u001b[0m\n",
            "\u001b[?25hDownloading multidict-6.6.4-cp312-cp312-manylinux2014_x86_64.manylinux_2_17_x86_64.manylinux_2_28_x86_64.whl (256 kB)\n",
            "\u001b[2K   \u001b[90m━━━━━━━━━━━━━━━━━━━━━━━━━━━━━━━━━━━━━━━\u001b[0m \u001b[32m256.1/256.1 kB\u001b[0m \u001b[31m208.7 MB/s\u001b[0m eta \u001b[36m0:00:00\u001b[0m\n",
            "\u001b[?25hDownloading mypy_extensions-1.1.0-py3-none-any.whl (5.0 kB)\n",
            "Downloading propcache-0.3.2-cp312-cp312-manylinux_2_17_x86_64.manylinux2014_x86_64.whl (224 kB)\n",
            "\u001b[2K   \u001b[90m━━━━━━━━━━━━━━━━━━━━━━━━━━━━━━━━━━━━━━━\u001b[0m \u001b[32m224.4/224.4 kB\u001b[0m \u001b[31m178.6 MB/s\u001b[0m eta \u001b[36m0:00:00\u001b[0m\n",
            "\u001b[?25hDownloading python_dateutil-2.9.0.post0-py2.py3-none-any.whl (229 kB)\n",
            "\u001b[2K   \u001b[90m━━━━━━━━━━━━━━━━━━━━━━━━━━━━━━━━━━━━━━━\u001b[0m \u001b[32m229.9/229.9 kB\u001b[0m \u001b[31m169.2 MB/s\u001b[0m eta \u001b[36m0:00:00\u001b[0m\n",
            "\u001b[?25hDownloading pytz-2025.2-py2.py3-none-any.whl (509 kB)\n",
            "\u001b[2K   \u001b[90m━━━━━━━━━━━━━━━━━━━━━━━━━━━━━━━━━━━━━━━\u001b[0m \u001b[32m509.2/509.2 kB\u001b[0m \u001b[31m188.7 MB/s\u001b[0m eta \u001b[36m0:00:00\u001b[0m\n",
            "\u001b[?25hDownloading sniffio-1.3.1-py3-none-any.whl (10 kB)\n",
            "Downloading soupsieve-2.8-py3-none-any.whl (36 kB)\n",
            "Downloading typing_inspection-0.4.1-py3-none-any.whl (14 kB)\n",
            "Downloading tzdata-2025.2-py2.py3-none-any.whl (347 kB)\n",
            "\u001b[2K   \u001b[90m━━━━━━━━━━━━━━━━━━━━━━━━━━━━━━━━━━━━━━━\u001b[0m \u001b[32m347.8/347.8 kB\u001b[0m \u001b[31m186.2 MB/s\u001b[0m eta \u001b[36m0:00:00\u001b[0m\n",
            "\u001b[?25hDownloading urllib3-2.5.0-py3-none-any.whl (129 kB)\n",
            "\u001b[2K   \u001b[90m━━━━━━━━━━━━━━━━━━━━━━━━━━━━━━━━━━━━━━━\u001b[0m \u001b[32m129.8/129.8 kB\u001b[0m \u001b[31m183.5 MB/s\u001b[0m eta \u001b[36m0:00:00\u001b[0m\n",
            "\u001b[?25hDownloading yarl-1.20.1-cp312-cp312-manylinux_2_17_x86_64.manylinux2014_x86_64.whl (355 kB)\n",
            "\u001b[2K   \u001b[90m━━━━━━━━━━━━━━━━━━━━━━━━━━━━━━━━━━━━━━━\u001b[0m \u001b[32m355.6/355.6 kB\u001b[0m \u001b[31m111.4 MB/s\u001b[0m eta \u001b[36m0:00:00\u001b[0m\n",
            "\u001b[?25hDownloading griffe-1.14.0-py3-none-any.whl (144 kB)\n",
            "\u001b[2K   \u001b[90m━━━━━━━━━━━━━━━━━━━━━━━━━━━━━━━━━━━━━━━\u001b[0m \u001b[32m144.4/144.4 kB\u001b[0m \u001b[31m112.0 MB/s\u001b[0m eta \u001b[36m0:00:00\u001b[0m\n",
            "\u001b[?25hDownloading jinja2-3.1.6-py3-none-any.whl (134 kB)\n",
            "\u001b[2K   \u001b[90m━━━━━━━━━━━━━━━━━━━━━━━━━━━━━━━━━━━━━━━\u001b[0m \u001b[32m134.9/134.9 kB\u001b[0m \u001b[31m261.2 MB/s\u001b[0m eta \u001b[36m0:00:00\u001b[0m\n",
            "\u001b[?25hDownloading colorama-0.4.6-py2.py3-none-any.whl (25 kB)\n",
            "Downloading h11-0.16.0-py3-none-any.whl (37 kB)\n",
            "Downloading MarkupSafe-3.0.2-cp312-cp312-manylinux_2_17_x86_64.manylinux2014_x86_64.whl (23 kB)\n",
            "Downloading packaging-25.0-py3-none-any.whl (66 kB)\n",
            "\u001b[2K   \u001b[90m━━━━━━━━━━━━━━━━━━━━━━━━━━━━━━━━━━━━━━━━\u001b[0m \u001b[32m66.5/66.5 kB\u001b[0m \u001b[31m244.1 MB/s\u001b[0m eta \u001b[36m0:00:00\u001b[0m\n",
            "\u001b[?25hDownloading python_dotenv-1.1.1-py3-none-any.whl (20 kB)\n",
            "Downloading six-1.17.0-py2.py3-none-any.whl (11 kB)\n",
            "Installing collected packages: striprtf, pytz, filetype, dirtyjson, wrapt, urllib3, tzdata, typing-extensions, tqdm, tenacity, soupsieve, sniffio, six, setuptools, regex, pyyaml, python-dotenv, pypdf, propcache, platformdirs, pillow, packaging, numpy, networkx, nest-asyncio, mypy-extensions, multidict, MarkupSafe, joblib, jiter, idna, h11, greenlet, fsspec, frozenlist, distro, defusedxml, colorama, click, charset_normalizer, certifi, attrs, annotated-types, aiohappyeyeballs, yarl, typing-inspection, typing-inspect, sqlalchemy, requests, python-dateutil, pydantic-core, nltk, marshmallow, jinja2, httpcore, griffe, deprecated, beautifulsoup4, anyio, aiosqlite, aiosignal, tiktoken, pydantic, pandas, httpx, dataclasses-json, aiohttp, openai, llama-index-instrumentation, llama-cloud, banks, llama-index-workflows, llama-index-core, llama-index-readers-file, llama-index-llms-openai, llama-index-indices-managed-llama-cloud, llama-index-embeddings-openai, llama-cloud-services, llama-parse, llama-index-cli, llama-index-readers-llama-parse, llama-index\n",
            "  Attempting uninstall: striprtf\n",
            "    Found existing installation: striprtf 0.0.26\n",
            "    Uninstalling striprtf-0.0.26:\n",
            "      Successfully uninstalled striprtf-0.0.26\n",
            "  Attempting uninstall: pytz\n",
            "    Found existing installation: pytz 2025.2\n",
            "    Uninstalling pytz-2025.2:\n",
            "      Successfully uninstalled pytz-2025.2\n",
            "  Attempting uninstall: filetype\n",
            "    Found existing installation: filetype 1.2.0\n",
            "    Uninstalling filetype-1.2.0:\n",
            "      Successfully uninstalled filetype-1.2.0\n",
            "  Attempting uninstall: dirtyjson\n",
            "    Found existing installation: dirtyjson 1.0.8\n",
            "    Uninstalling dirtyjson-1.0.8:\n",
            "      Successfully uninstalled dirtyjson-1.0.8\n",
            "  Attempting uninstall: wrapt\n",
            "    Found existing installation: wrapt 1.17.3\n",
            "    Uninstalling wrapt-1.17.3:\n",
            "      Successfully uninstalled wrapt-1.17.3\n",
            "  Attempting uninstall: urllib3\n",
            "    Found existing installation: urllib3 2.5.0\n",
            "    Uninstalling urllib3-2.5.0:\n",
            "      Successfully uninstalled urllib3-2.5.0\n",
            "  Attempting uninstall: tzdata\n",
            "    Found existing installation: tzdata 2025.2\n",
            "    Uninstalling tzdata-2025.2:\n",
            "      Successfully uninstalled tzdata-2025.2\n",
            "  Attempting uninstall: typing-extensions\n",
            "    Found existing installation: typing_extensions 4.15.0\n",
            "    Uninstalling typing_extensions-4.15.0:\n",
            "      Successfully uninstalled typing_extensions-4.15.0\n",
            "  Attempting uninstall: tqdm\n",
            "    Found existing installation: tqdm 4.67.1\n",
            "    Uninstalling tqdm-4.67.1:\n",
            "      Successfully uninstalled tqdm-4.67.1\n",
            "  Attempting uninstall: tenacity\n",
            "    Found existing installation: tenacity 8.5.0\n",
            "    Uninstalling tenacity-8.5.0:\n",
            "      Successfully uninstalled tenacity-8.5.0\n",
            "  Attempting uninstall: soupsieve\n",
            "    Found existing installation: soupsieve 2.8\n",
            "    Uninstalling soupsieve-2.8:\n",
            "      Successfully uninstalled soupsieve-2.8\n",
            "  Attempting uninstall: sniffio\n",
            "    Found existing installation: sniffio 1.3.1\n",
            "    Uninstalling sniffio-1.3.1:\n",
            "      Successfully uninstalled sniffio-1.3.1\n",
            "  Attempting uninstall: six\n",
            "    Found existing installation: six 1.17.0\n",
            "    Uninstalling six-1.17.0:\n",
            "      Successfully uninstalled six-1.17.0\n",
            "  Attempting uninstall: setuptools\n",
            "    Found existing installation: setuptools 75.2.0\n",
            "    Uninstalling setuptools-75.2.0:\n",
            "      Successfully uninstalled setuptools-75.2.0\n",
            "  Attempting uninstall: regex\n",
            "    Found existing installation: regex 2024.11.6\n",
            "    Uninstalling regex-2024.11.6:\n",
            "      Successfully uninstalled regex-2024.11.6\n",
            "  Attempting uninstall: pyyaml\n",
            "    Found existing installation: PyYAML 6.0.2\n",
            "    Uninstalling PyYAML-6.0.2:\n",
            "      Successfully uninstalled PyYAML-6.0.2\n",
            "  Attempting uninstall: python-dotenv\n",
            "    Found existing installation: python-dotenv 1.1.1\n",
            "    Uninstalling python-dotenv-1.1.1:\n",
            "      Successfully uninstalled python-dotenv-1.1.1\n",
            "  Attempting uninstall: pypdf\n",
            "    Found existing installation: pypdf 4.3.1\n",
            "    Uninstalling pypdf-4.3.1:\n",
            "      Successfully uninstalled pypdf-4.3.1\n",
            "  Attempting uninstall: propcache\n",
            "    Found existing installation: propcache 0.3.2\n",
            "    Uninstalling propcache-0.3.2:\n",
            "      Successfully uninstalled propcache-0.3.2\n",
            "  Attempting uninstall: platformdirs\n",
            "    Found existing installation: platformdirs 4.4.0\n",
            "    Uninstalling platformdirs-4.4.0:\n",
            "      Successfully uninstalled platformdirs-4.4.0\n",
            "  Attempting uninstall: pillow\n",
            "    Found existing installation: pillow 11.3.0\n",
            "    Uninstalling pillow-11.3.0:\n",
            "      Successfully uninstalled pillow-11.3.0\n",
            "  Attempting uninstall: packaging\n",
            "    Found existing installation: packaging 23.2\n",
            "    Uninstalling packaging-23.2:\n",
            "      Successfully uninstalled packaging-23.2\n",
            "  Attempting uninstall: numpy\n",
            "    Found existing installation: numpy 1.26.4\n",
            "    Uninstalling numpy-1.26.4:\n",
            "      Successfully uninstalled numpy-1.26.4\n",
            "  Attempting uninstall: networkx\n",
            "    Found existing installation: networkx 3.5\n",
            "    Uninstalling networkx-3.5:\n",
            "      Successfully uninstalled networkx-3.5\n",
            "  Attempting uninstall: nest-asyncio\n",
            "    Found existing installation: nest-asyncio 1.6.0\n",
            "    Uninstalling nest-asyncio-1.6.0:\n",
            "      Successfully uninstalled nest-asyncio-1.6.0\n",
            "  Attempting uninstall: mypy-extensions\n",
            "    Found existing installation: mypy_extensions 1.1.0\n",
            "    Uninstalling mypy_extensions-1.1.0:\n",
            "      Successfully uninstalled mypy_extensions-1.1.0\n",
            "  Attempting uninstall: multidict\n",
            "    Found existing installation: multidict 6.6.4\n",
            "    Uninstalling multidict-6.6.4:\n",
            "      Successfully uninstalled multidict-6.6.4\n",
            "  Attempting uninstall: MarkupSafe\n",
            "    Found existing installation: MarkupSafe 3.0.2\n",
            "    Uninstalling MarkupSafe-3.0.2:\n",
            "      Successfully uninstalled MarkupSafe-3.0.2\n",
            "  Attempting uninstall: joblib\n",
            "    Found existing installation: joblib 1.5.2\n",
            "    Uninstalling joblib-1.5.2:\n",
            "      Successfully uninstalled joblib-1.5.2\n",
            "  Attempting uninstall: jiter\n",
            "    Found existing installation: jiter 0.10.0\n",
            "    Uninstalling jiter-0.10.0:\n",
            "      Successfully uninstalled jiter-0.10.0\n",
            "  Attempting uninstall: idna\n",
            "    Found existing installation: idna 3.10\n",
            "    Uninstalling idna-3.10:\n",
            "      Successfully uninstalled idna-3.10\n",
            "  Attempting uninstall: h11\n",
            "    Found existing installation: h11 0.16.0\n",
            "    Uninstalling h11-0.16.0:\n",
            "      Successfully uninstalled h11-0.16.0\n",
            "  Attempting uninstall: greenlet\n",
            "    Found existing installation: greenlet 3.2.4\n",
            "    Uninstalling greenlet-3.2.4:\n",
            "      Successfully uninstalled greenlet-3.2.4\n",
            "  Attempting uninstall: fsspec\n",
            "    Found existing installation: fsspec 2025.3.0\n",
            "    Uninstalling fsspec-2025.3.0:\n",
            "      Successfully uninstalled fsspec-2025.3.0\n",
            "  Attempting uninstall: frozenlist\n",
            "    Found existing installation: frozenlist 1.7.0\n",
            "    Uninstalling frozenlist-1.7.0:\n",
            "      Successfully uninstalled frozenlist-1.7.0\n",
            "  Attempting uninstall: distro\n",
            "    Found existing installation: distro 1.9.0\n",
            "    Uninstalling distro-1.9.0:\n",
            "      Successfully uninstalled distro-1.9.0\n",
            "  Attempting uninstall: defusedxml\n",
            "    Found existing installation: defusedxml 0.7.1\n",
            "    Uninstalling defusedxml-0.7.1:\n",
            "      Successfully uninstalled defusedxml-0.7.1\n",
            "  Attempting uninstall: click\n",
            "    Found existing installation: click 8.2.1\n",
            "    Uninstalling click-8.2.1:\n",
            "      Successfully uninstalled click-8.2.1\n",
            "  Attempting uninstall: charset_normalizer\n",
            "    Found existing installation: charset-normalizer 3.4.3\n",
            "    Uninstalling charset-normalizer-3.4.3:\n",
            "      Successfully uninstalled charset-normalizer-3.4.3\n",
            "  Attempting uninstall: certifi\n",
            "    Found existing installation: certifi 2025.8.3\n",
            "    Uninstalling certifi-2025.8.3:\n",
            "      Successfully uninstalled certifi-2025.8.3\n",
            "  Attempting uninstall: attrs\n",
            "    Found existing installation: attrs 25.3.0\n",
            "    Uninstalling attrs-25.3.0:\n",
            "      Successfully uninstalled attrs-25.3.0\n",
            "  Attempting uninstall: annotated-types\n",
            "    Found existing installation: annotated-types 0.7.0\n",
            "    Uninstalling annotated-types-0.7.0:\n",
            "      Successfully uninstalled annotated-types-0.7.0\n",
            "  Attempting uninstall: aiohappyeyeballs\n",
            "    Found existing installation: aiohappyeyeballs 2.6.1\n",
            "    Uninstalling aiohappyeyeballs-2.6.1:\n",
            "      Successfully uninstalled aiohappyeyeballs-2.6.1\n",
            "  Attempting uninstall: yarl\n",
            "    Found existing installation: yarl 1.20.1\n",
            "    Uninstalling yarl-1.20.1:\n",
            "      Successfully uninstalled yarl-1.20.1\n",
            "  Attempting uninstall: typing-inspection\n",
            "    Found existing installation: typing-inspection 0.4.1\n",
            "    Uninstalling typing-inspection-0.4.1:\n",
            "      Successfully uninstalled typing-inspection-0.4.1\n",
            "  Attempting uninstall: typing-inspect\n",
            "    Found existing installation: typing-inspect 0.9.0\n",
            "    Uninstalling typing-inspect-0.9.0:\n",
            "      Successfully uninstalled typing-inspect-0.9.0\n",
            "  Attempting uninstall: sqlalchemy\n",
            "    Found existing installation: SQLAlchemy 2.0.43\n",
            "    Uninstalling SQLAlchemy-2.0.43:\n",
            "      Successfully uninstalled SQLAlchemy-2.0.43\n",
            "  Attempting uninstall: requests\n",
            "    Found existing installation: requests 2.32.4\n",
            "    Uninstalling requests-2.32.4:\n",
            "      Successfully uninstalled requests-2.32.4\n",
            "  Attempting uninstall: python-dateutil\n",
            "    Found existing installation: python-dateutil 2.9.0.post0\n",
            "    Uninstalling python-dateutil-2.9.0.post0:\n",
            "      Successfully uninstalled python-dateutil-2.9.0.post0\n",
            "  Attempting uninstall: pydantic-core\n",
            "    Found existing installation: pydantic_core 2.33.2\n",
            "    Uninstalling pydantic_core-2.33.2:\n",
            "      Successfully uninstalled pydantic_core-2.33.2\n",
            "  Attempting uninstall: nltk\n",
            "    Found existing installation: nltk 3.9.1\n",
            "    Uninstalling nltk-3.9.1:\n",
            "      Successfully uninstalled nltk-3.9.1\n",
            "  Attempting uninstall: marshmallow\n",
            "    Found existing installation: marshmallow 3.26.1\n",
            "    Uninstalling marshmallow-3.26.1:\n",
            "      Successfully uninstalled marshmallow-3.26.1\n",
            "  Attempting uninstall: jinja2\n",
            "    Found existing installation: Jinja2 3.1.6\n",
            "    Uninstalling Jinja2-3.1.6:\n",
            "      Successfully uninstalled Jinja2-3.1.6\n",
            "  Attempting uninstall: httpcore\n",
            "    Found existing installation: httpcore 1.0.9\n",
            "    Uninstalling httpcore-1.0.9:\n",
            "      Successfully uninstalled httpcore-1.0.9\n",
            "  Attempting uninstall: deprecated\n",
            "    Found existing installation: Deprecated 1.2.18\n",
            "    Uninstalling Deprecated-1.2.18:\n",
            "      Successfully uninstalled Deprecated-1.2.18\n",
            "  Attempting uninstall: beautifulsoup4\n",
            "    Found existing installation: beautifulsoup4 4.13.5\n",
            "    Uninstalling beautifulsoup4-4.13.5:\n",
            "      Successfully uninstalled beautifulsoup4-4.13.5\n",
            "  Attempting uninstall: anyio\n",
            "    Found existing installation: anyio 4.10.0\n",
            "    Uninstalling anyio-4.10.0:\n",
            "      Successfully uninstalled anyio-4.10.0\n",
            "  Attempting uninstall: aiosignal\n",
            "    Found existing installation: aiosignal 1.4.0\n",
            "    Uninstalling aiosignal-1.4.0:\n",
            "      Successfully uninstalled aiosignal-1.4.0\n",
            "  Attempting uninstall: tiktoken\n",
            "    Found existing installation: tiktoken 0.11.0\n",
            "    Uninstalling tiktoken-0.11.0:\n",
            "      Successfully uninstalled tiktoken-0.11.0\n",
            "  Attempting uninstall: pydantic\n",
            "    Found existing installation: pydantic 2.11.7\n",
            "    Uninstalling pydantic-2.11.7:\n",
            "      Successfully uninstalled pydantic-2.11.7\n",
            "  Attempting uninstall: pandas\n",
            "    Found existing installation: pandas 2.2.3\n",
            "    Uninstalling pandas-2.2.3:\n",
            "      Successfully uninstalled pandas-2.2.3\n",
            "  Attempting uninstall: httpx\n",
            "    Found existing installation: httpx 0.28.1\n",
            "    Uninstalling httpx-0.28.1:\n",
            "      Successfully uninstalled httpx-0.28.1\n",
            "  Attempting uninstall: dataclasses-json\n",
            "    Found existing installation: dataclasses-json 0.6.7\n",
            "    Uninstalling dataclasses-json-0.6.7:\n",
            "      Successfully uninstalled dataclasses-json-0.6.7\n",
            "  Attempting uninstall: aiohttp\n",
            "    Found existing installation: aiohttp 3.12.15\n",
            "    Uninstalling aiohttp-3.12.15:\n",
            "      Successfully uninstalled aiohttp-3.12.15\n",
            "  Attempting uninstall: openai\n",
            "    Found existing installation: openai 1.104.2\n",
            "    Uninstalling openai-1.104.2:\n",
            "      Successfully uninstalled openai-1.104.2\n",
            "  Attempting uninstall: llama-index-core\n",
            "    Found existing installation: llama-index-core 0.10.68.post1\n",
            "    Uninstalling llama-index-core-0.10.68.post1:\n",
            "      Successfully uninstalled llama-index-core-0.10.68.post1\n",
            "  Attempting uninstall: llama-index-readers-file\n",
            "    Found existing installation: llama-index-readers-file 0.1.33\n",
            "    Uninstalling llama-index-readers-file-0.1.33:\n",
            "      Successfully uninstalled llama-index-readers-file-0.1.33\n",
            "  Attempting uninstall: llama-index-llms-openai\n",
            "    Found existing installation: llama-index-llms-openai 0.1.31\n",
            "    Uninstalling llama-index-llms-openai-0.1.31:\n",
            "      Successfully uninstalled llama-index-llms-openai-0.1.31\n",
            "  Attempting uninstall: llama-index-indices-managed-llama-cloud\n",
            "    Found existing installation: llama-index-indices-managed-llama-cloud 0.1.6\n",
            "    Uninstalling llama-index-indices-managed-llama-cloud-0.1.6:\n",
            "      Successfully uninstalled llama-index-indices-managed-llama-cloud-0.1.6\n",
            "  Attempting uninstall: llama-index-embeddings-openai\n",
            "    Found existing installation: llama-index-embeddings-openai 0.1.11\n",
            "    Uninstalling llama-index-embeddings-openai-0.1.11:\n",
            "      Successfully uninstalled llama-index-embeddings-openai-0.1.11\n",
            "  Attempting uninstall: llama-parse\n",
            "    Found existing installation: llama-parse 0.4.9\n",
            "    Uninstalling llama-parse-0.4.9:\n",
            "      Successfully uninstalled llama-parse-0.4.9\n",
            "  Attempting uninstall: llama-index-cli\n",
            "    Found existing installation: llama-index-cli 0.1.13\n",
            "    Uninstalling llama-index-cli-0.1.13:\n",
            "      Successfully uninstalled llama-index-cli-0.1.13\n",
            "  Attempting uninstall: llama-index-readers-llama-parse\n",
            "    Found existing installation: llama-index-readers-llama-parse 0.1.6\n",
            "    Uninstalling llama-index-readers-llama-parse-0.1.6:\n",
            "      Successfully uninstalled llama-index-readers-llama-parse-0.1.6\n",
            "  Attempting uninstall: llama-index\n",
            "    Found existing installation: llama-index 0.10.23\n",
            "    Uninstalling llama-index-0.10.23:\n",
            "      Successfully uninstalled llama-index-0.10.23\n",
            "\u001b[31mERROR: pip's dependency resolver does not currently take into account all the packages that are installed. This behaviour is the source of the following dependency conflicts.\n",
            "ipython 7.34.0 requires jedi>=0.16, which is not installed.\n",
            "llama-index-vector-stores-pinecone 0.1.4 requires llama-index-core<0.11.0,>=0.10.11.post1, but you have llama-index-core 0.13.6 which is incompatible.\n",
            "llama-index-legacy 0.9.48.post4 requires tenacity<9.0.0,>=8.2.0, but you have tenacity 9.1.2 which is incompatible.\n",
            "llama-index-program-openai 0.1.7 requires llama-index-core<0.11.0,>=0.10.57, but you have llama-index-core 0.13.6 which is incompatible.\n",
            "llama-index-question-gen-openai 0.1.3 requires llama-index-core<0.11.0,>=0.10.1, but you have llama-index-core 0.13.6 which is incompatible.\n",
            "llama-index-question-gen-openai 0.1.3 requires llama-index-llms-openai<0.2.0,>=0.1.1, but you have llama-index-llms-openai 0.5.4 which is incompatible.\n",
            "langchain 0.1.9 requires numpy<2,>=1, but you have numpy 2.3.2 which is incompatible.\n",
            "langchain 0.1.9 requires tenacity<9.0.0,>=8.1.0, but you have tenacity 9.1.2 which is incompatible.\n",
            "langchain-community 0.0.38 requires numpy<2,>=1, but you have numpy 2.3.2 which is incompatible.\n",
            "langchain-community 0.0.38 requires tenacity<9.0.0,>=8.1.0, but you have tenacity 9.1.2 which is incompatible.\n",
            "langchain-core 0.1.53 requires packaging<24.0,>=23.2, but you have packaging 25.0 which is incompatible.\n",
            "langchain-core 0.1.53 requires tenacity<9.0.0,>=8.1.0, but you have tenacity 9.1.2 which is incompatible.\n",
            "llama-index-agent-openai 0.1.7 requires llama-index-core<0.11.0,>=0.10.1, but you have llama-index-core 0.13.6 which is incompatible.\n",
            "llama-index-agent-openai 0.1.7 requires llama-index-llms-openai<0.2.0,>=0.1.5, but you have llama-index-llms-openai 0.5.4 which is incompatible.\n",
            "llama-index-multi-modal-llms-openai 0.1.9 requires llama-index-core<0.11.0,>=0.10.1, but you have llama-index-core 0.13.6 which is incompatible.\n",
            "llama-index-multi-modal-llms-openai 0.1.9 requires llama-index-llms-openai<0.2.0,>=0.1.1, but you have llama-index-llms-openai 0.5.4 which is incompatible.\n",
            "google-colab 1.0.0 requires pandas==2.2.2, but you have pandas 2.2.3 which is incompatible.\n",
            "google-colab 1.0.0 requires requests==2.32.4, but you have requests 2.32.5 which is incompatible.\n",
            "opencv-contrib-python 4.12.0.88 requires numpy<2.3.0,>=2; python_version >= \"3.9\", but you have numpy 2.3.2 which is incompatible.\n",
            "opencv-python-headless 4.12.0.88 requires numpy<2.3.0,>=2; python_version >= \"3.9\", but you have numpy 2.3.2 which is incompatible.\n",
            "datasets 4.0.0 requires fsspec[http]<=2025.3.0,>=2023.1.0, but you have fsspec 2025.9.0 which is incompatible.\n",
            "numba 0.60.0 requires numpy<2.1,>=1.22, but you have numpy 2.3.2 which is incompatible.\n",
            "langchain-text-splitters 0.3.11 requires langchain-core<2.0.0,>=0.3.75, but you have langchain-core 0.1.53 which is incompatible.\n",
            "ydf 0.13.0 requires protobuf<7.0.0,>=5.29.1, but you have protobuf 3.20.3 which is incompatible.\n",
            "google-cloud-bigquery 3.36.0 requires google-api-core[grpc]<3.0.0,>=2.11.1, but you have google-api-core 1.34.1 which is incompatible.\n",
            "pandas-gbq 0.29.2 requires google-api-core<3.0.0,>=2.10.2, but you have google-api-core 1.34.1 which is incompatible.\n",
            "cupy-cuda12x 13.3.0 requires numpy<2.3,>=1.22, but you have numpy 2.3.2 which is incompatible.\n",
            "google-adk 1.13.0 requires tenacity<9.0.0,>=8.0.0, but you have tenacity 9.1.2 which is incompatible.\n",
            "tensorflow 2.19.0 requires numpy<2.2.0,>=1.26.0, but you have numpy 2.3.2 which is incompatible.\n",
            "google-cloud-bigtable 2.32.0 requires google-api-core[grpc]<3.0.0,>=2.17.0, but you have google-api-core 1.34.1 which is incompatible.\n",
            "gcsfs 2025.3.0 requires fsspec==2025.3.0, but you have fsspec 2025.9.0 which is incompatible.\n",
            "dataproc-spark-connect 0.8.3 requires google-api-core>=2.19, but you have google-api-core 1.34.1 which is incompatible.\n",
            "google-cloud-storage 2.19.0 requires google-api-core<3.0.0dev,>=2.15.0, but you have google-api-core 1.34.1 which is incompatible.\u001b[0m\u001b[31m\n",
            "\u001b[0mSuccessfully installed MarkupSafe-3.0.2 aiohappyeyeballs-2.6.1 aiohttp-3.12.15 aiosignal-1.4.0 aiosqlite-0.21.0 annotated-types-0.7.0 anyio-4.10.0 attrs-25.3.0 banks-2.2.0 beautifulsoup4-4.13.5 certifi-2025.8.3 charset_normalizer-3.4.3 click-8.2.1 colorama-0.4.6 dataclasses-json-0.6.7 defusedxml-0.7.1 deprecated-1.2.18 dirtyjson-1.0.8 distro-1.9.0 filetype-1.2.0 frozenlist-1.7.0 fsspec-2025.9.0 greenlet-3.2.4 griffe-1.14.0 h11-0.16.0 httpcore-1.0.9 httpx-0.28.1 idna-3.10 jinja2-3.1.6 jiter-0.10.0 joblib-1.5.2 llama-cloud-0.1.35 llama-cloud-services-0.6.54 llama-index-0.13.6 llama-index-cli-0.5.0 llama-index-core-0.13.6 llama-index-embeddings-openai-0.5.0 llama-index-indices-managed-llama-cloud-0.9.3 llama-index-instrumentation-0.4.0 llama-index-llms-openai-0.5.4 llama-index-readers-file-0.5.3 llama-index-readers-llama-parse-0.5.0 llama-index-workflows-1.3.0 llama-parse-0.6.54 marshmallow-3.26.1 multidict-6.6.4 mypy-extensions-1.1.0 nest-asyncio-1.6.0 networkx-3.5 nltk-3.9.1 numpy-2.3.2 openai-1.106.1 packaging-25.0 pandas-2.2.3 pillow-11.3.0 platformdirs-4.4.0 propcache-0.3.2 pydantic-2.11.7 pydantic-core-2.33.2 pypdf-6.0.0 python-dateutil-2.9.0.post0 python-dotenv-1.1.1 pytz-2025.2 pyyaml-6.0.2 regex-2025.9.1 requests-2.32.5 setuptools-80.9.0 six-1.17.0 sniffio-1.3.1 soupsieve-2.8 sqlalchemy-2.0.43 striprtf-0.0.26 tenacity-9.1.2 tiktoken-0.11.0 tqdm-4.67.1 typing-extensions-4.15.0 typing-inspect-0.9.0 typing-inspection-0.4.1 tzdata-2025.2 urllib3-2.5.0 wrapt-1.17.3 yarl-1.20.1\n"
          ]
        },
        {
          "output_type": "display_data",
          "data": {
            "application/vnd.colab-display-data+json": {
              "pip_warning": {
                "packages": [
                  "PIL",
                  "_distutils_hack",
                  "bs4",
                  "certifi",
                  "dateutil",
                  "defusedxml",
                  "idna",
                  "numpy",
                  "packaging",
                  "platformdirs",
                  "pytz",
                  "requests",
                  "six",
                  "soupsieve",
                  "urllib3"
                ]
              },
              "id": "19762047a9ef4bc690fdbd08787b9179"
            }
          },
          "metadata": {}
        }
      ],
      "source": [
        "# Python 3.12+ friendly set\n",
        "!pip install -qU \\\n",
        "  \"pinecone-client[grpc]==3.2.1\" \\\n",
        "  \"unstructured[pdf]>=0.18,<0.19\" \\\n",
        "  \"langchain==0.1.9\" \\\n",
        "  \"llama-index==0.10.23\" \\\n",
        "  \"llama-index-vector-stores-pinecone==0.1.4\" \\\n",
        "  \"pillow>=10.3.0\" \\\n",
        "  \"pytesseract==0.3.10\"\n",
        "\n",
        "# If you run into issues with LlamaIndex and LLM or VectorStore, run this command in a new cell:\n",
        "!pip install llama-index --upgrade --no-cache-dir --force-reinstall"
      ]
    },
    {
      "cell_type": "code",
      "execution_count": 1,
      "metadata": {
        "id": "5pUgKiRiGPxh"
      },
      "outputs": [],
      "source": [
        "# Import libs you'll need:\n",
        "import json\n",
        "import os\n",
        "import re\n",
        "from typing import Any\n",
        "import requests\n",
        "\n",
        "from bs4 import BeautifulSoup, ResultSet\n",
        "from copy import deepcopy\n",
        "from IPython.display import HTML, display\n",
        "import pandas as pd\n",
        "from pathlib import Path\n",
        "from pinecone import ServerlessSpec\n",
        "from pinecone.grpc import PineconeGRPC\n",
        "\n",
        "\n",
        "from langchain.document_loaders import TextLoader\n",
        "from llama_index.core.indices.vector_store.base import VectorStoreIndex\n",
        "from llama_index.core.readers import download_loader\n",
        "from llama_index.core.ingestion.pipeline import IngestionPipeline\n",
        "from llama_index.core.node_parser import SemanticSplitterNodeParser\n",
        "from llama_index.core.query_engine import RetrieverQueryEngine\n",
        "from llama_index.core.retrievers import VectorIndexRetriever\n",
        "from llama_index.core.schema import Document, TransformComponent\n",
        "from llama_index.embeddings.openai import OpenAIEmbedding\n",
        "from llama_index.readers.file import PDFReader\n",
        "from llama_index.vector_stores.pinecone import PineconeVectorStore\n",
        "from unstructured.partition.pdf import partition_pdf\n",
        "\n",
        "# If you run into issues with LlamaIndex and LLM or VectorStore, run this command in a new cell:\n",
        "# !pip install llama-index --upgrade --no-cache-dir --force-reinstall"
      ]
    },
    {
      "cell_type": "code",
      "execution_count": 3,
      "metadata": {
        "id": "bTxuyuUmEIbM",
        "colab": {
          "base_uri": "https://localhost:8080/",
          "height": 17
        },
        "outputId": "f07dc91a-cc44-4c8f-ef9b-c85145538c5d"
      },
      "outputs": [
        {
          "output_type": "display_data",
          "data": {
            "text/plain": [
              "<IPython.core.display.HTML object>"
            ],
            "text/html": [
              "\n",
              "  <style>\n",
              "    pre {\n",
              "        white-space: pre-wrap;\n",
              "    }\n",
              "  </style>\n",
              "  "
            ]
          },
          "metadata": {}
        }
      ],
      "source": [
        "# The following simply makes print statements wrap text in Google Colab.\n",
        "def set_css():\n",
        "  display(HTML('''\n",
        "  <style>\n",
        "    pre {\n",
        "        white-space: pre-wrap;\n",
        "    }\n",
        "  </style>\n",
        "  '''))\n",
        "\n",
        "get_ipython().events.register('pre_run_cell', set_css)\n",
        "\n",
        "# This will ensure wrapped line are also displayed within Pandas dataframes\n",
        "pd.set_option('display.max_colwidth', 400)\n"
      ]
    },
    {
      "cell_type": "markdown",
      "metadata": {
        "id": "vXSDSzAlR-DZ"
      },
      "source": [
        "# Table extraction with [Unstructured](https://unstructured-io.github.io/unstructured/index.html)\n",
        "\n",
        "You will start by extracting embedded tables from a PDF using `Unstructured`. The strategy in this section largely follows the one outlined in [this blog post](https://unstructured.io/blog/mastering-table-extraction-revolutionize-your-earnings-reports-analysis-with-ai) by `Unstructured`.\n",
        "\n",
        "Note the following:\n",
        "- PDFs need the `hi_res` strategy parameter.\n",
        "- You will use [`\"yolox\"`](https://unstructured-io.github.io/unstructured/best_practices/models.html), a table-specific ML model for extracting embedded tables from PDFs.\n",
        "- You will set the `infer_table_structure` parameter to `True`, as per `Unstructured`'s instructions for using [`partition_pdf`](https://unstructured-io.github.io/unstructured/best_practices/table_extraction_pdf.html#method-1-using-partition-pdf).\n",
        "\n",
        "The PDF you'll be using is [Explain then Rank: Scale Calibration of Neural Rankers Using Natural Language Explanations from Large Language Models](https://arxiv.org/pdf/2402.12276.pdf). It has already been [uploaded to Github](https://github.com/pinecone-io/examples/tree/master/learn/generation/semi-structured-data) for easy access."
      ]
    },
    {
      "cell_type": "code",
      "execution_count": 4,
      "metadata": {
        "colab": {
          "base_uri": "https://localhost:8080/",
          "height": 17
        },
        "id": "6sfvlW7JM0GL",
        "outputId": "1373c99e-e93a-476e-d7bf-8c51939f6207"
      },
      "outputs": [
        {
          "output_type": "display_data",
          "data": {
            "text/plain": [
              "<IPython.core.display.HTML object>"
            ],
            "text/html": [
              "\n",
              "  <style>\n",
              "    pre {\n",
              "        white-space: pre-wrap;\n",
              "    }\n",
              "  </style>\n",
              "  "
            ]
          },
          "metadata": {}
        },
        {
          "output_type": "display_data",
          "data": {
            "text/plain": [
              "<IPython.core.display.HTML object>"
            ],
            "text/html": [
              "\n",
              "  <style>\n",
              "    pre {\n",
              "        white-space: pre-wrap;\n",
              "    }\n",
              "  </style>\n",
              "  "
            ]
          },
          "metadata": {}
        }
      ],
      "source": [
        "def download_from_github(gh_dir: str, file_name: str):\n",
        "    \"\"\"\n",
        "    Download file from Github.\n",
        "\n",
        "    :param gh_dir: Github directory that houses file,\n",
        "        e.g.https://github.com/pinecone-io/examples/blob/master/learn/generation/structured-data/\n",
        "\n",
        "        Note trailing \"/\".\n",
        "\n",
        "    :param file_name: Name of file (including file extension) you want to download.\n",
        "    \"\"\"\n",
        "    # Convert GitHub URL to raw content URL\n",
        "    raw_url = gh_dir.replace(\"https://github.com/\", \"https://raw.githubusercontent.com/\").replace(\"/blob\", \"\") + file_name\n",
        "\n",
        "    # Use requests to download the file\n",
        "    response = requests.get(raw_url)\n",
        "\n",
        "    # Check if the request was successful\n",
        "    if response.status_code == 200:\n",
        "        # Write the content to a file\n",
        "        with open(file_name, 'wb') as file:\n",
        "            file.write(response.content)\n",
        "        print(f\"File '{file_name}' downloaded successfully.\")\n",
        "    else:\n",
        "        print(f\"Failed to download the file. Status code: {response.status_code}\")"
      ]
    },
    {
      "cell_type": "code",
      "execution_count": 5,
      "metadata": {
        "colab": {
          "base_uri": "https://localhost:8080/",
          "height": 34
        },
        "id": "0ksU9QbPNj1Q",
        "outputId": "bb82a015-f277-43c1-f364-ebf1eb1153d5"
      },
      "outputs": [
        {
          "output_type": "display_data",
          "data": {
            "text/plain": [
              "<IPython.core.display.HTML object>"
            ],
            "text/html": [
              "\n",
              "  <style>\n",
              "    pre {\n",
              "        white-space: pre-wrap;\n",
              "    }\n",
              "  </style>\n",
              "  "
            ]
          },
          "metadata": {}
        },
        {
          "output_type": "display_data",
          "data": {
            "text/plain": [
              "<IPython.core.display.HTML object>"
            ],
            "text/html": [
              "\n",
              "  <style>\n",
              "    pre {\n",
              "        white-space: pre-wrap;\n",
              "    }\n",
              "  </style>\n",
              "  "
            ]
          },
          "metadata": {}
        },
        {
          "output_type": "stream",
          "name": "stdout",
          "text": [
            "File 'scale-calibration-of-neural-rankers.pdf' downloaded successfully.\n"
          ]
        }
      ],
      "source": [
        "# Download file from Github\n",
        "github_dir = \"https://github.com/pinecone-io/examples/blob/master/learn/generation/structured-data/\"\n",
        "filename = \"scale-calibration-of-neural-rankers.pdf\"\n",
        "\n",
        "download_from_github(github_dir, filename)"
      ]
    },
    {
      "cell_type": "code",
      "execution_count": null,
      "metadata": {
        "colab": {
          "base_uri": "https://localhost:8080/",
          "height": 244,
          "referenced_widgets": [
            "f51e82193e3c4c1283df845ef460d52d",
            "950775a7afeb4e4bb01e14f0bfe94d92",
            "e39f5291624d47d6ad50bc1e3f7f1c1d",
            "83bc39235aaa4cf6aa18f34936b933d6",
            "8bbee1c4c0a741feb3a80550e7057e00",
            "6dc4011c1c164ed8b4143d368632d242",
            "890dcab4d54b45c2bcb4c9148e2309e6",
            "f8e3a5112b054c24b8387fcf2f6002b0",
            "6266fe4f4575402d8edf13d7c9344bdc",
            "9d4f4b9425f0468b887e7223655142b4",
            "f1a6a4d0217b44efa00cf32cd6782a3a",
            "23599b568d404c8cbba3244fa0996f6d",
            "863b47b248d74c7abd8a41ae50ad8d7c",
            "25bf178b8ebe4070a660a947aefb9138",
            "87b54a8c424f4037ae7a1a7cbecb1323",
            "8842328598884416824da42133cab32d",
            "15cf41176f314738a020e04baf8c42c7",
            "bd866d8fe75e4352a19365d101f759d0",
            "764dc30bf217439189a48a92e7dd9277",
            "bf155796884f4176a1aa8f53e32cfadd",
            "79c3f4d523ba4446b6db5095ce99287e",
            "281470206a8148258c43d753b57bffd3",
            "ebba02bdf3ac4e2690f28c90c6f6bc08",
            "4d43799aa3f0445298a0ff32b0c86e80",
            "2297098ebb89435893d854f19ec3b809",
            "071691ce562243cba6856c829341a00a",
            "d9309fbfda794aeca23d3d1cea449fa1",
            "01eb0edbf65a4c348aaeac0fdd03f696",
            "eb2a5bcfdd3b41c4aabd60f3f822dae7",
            "fef09d6de17a4f318f48ed3e5896136c",
            "e4e848f674234d2a93b58567bfaac795",
            "f6b46d69c80f4288a7bddaa04d71964c",
            "a0e391ad53684bbab7ba2a1129aac8fe",
            "6fd4141469a7461187602721d50a49df",
            "146c6277f53a4c9a99965fb60c82d830",
            "7e883f39b2f7498a86437d37e9a22a79",
            "a9476d5d9a03431aa9dc588a487eae1e",
            "c395dc19e1ba4483adb9686bc9328821",
            "7e74844605c2441faeb843dcb0c105a8",
            "11db42b25cab4bfdba9b90bdbeae2926",
            "15d6df324c9f4ed69e4ddd87cd7f0cba",
            "263bf03cd8654e9abeaef708de68ddd6",
            "8f47f02bcfb448adb1253493f5ad7568",
            "9233baf71a234fe6872af3ebe85614c3",
            "f9899a30d5194abb93d735d8f2d47089",
            "32034b4d096b479caa52803f26f00b50",
            "a590b9edf5e541ca80e556dd62190d87",
            "ea26837e443843a9a0166f77cb9b36e2",
            "914f940f4e39475d9fd456d6d1b4a720",
            "51953efd6f5445899207e59e149b5949",
            "1205cdcc42e3451abd78eb77062d12a2",
            "3fe66f5d21524830ba3ac4eb98069f4d",
            "b2715a87ccef447086683155cbf3d80e",
            "f14cc1ad7e52467ea393ee2f3f91c430",
            "34b8bec3af7947779c7cc0bfb993e88a",
            "30d4da689b4d4779b81572412a55e18c",
            "d0012b806a794e4e82f4d312ba7f58fb",
            "12be5a77ec0f4be69eab73324995ca25",
            "b91afe7eb90b47388fc2e62c57f9407c",
            "d3d4eb856bb3411881465dc9d66b2b4d",
            "65cc66b588294298bbae1c5808ce510c",
            "b4ea4c733bf6400a920c7799100205fa",
            "5741ec0e613947a09c71bbc923e11a64",
            "6c934f847bfd4602980cd219fed6eff3",
            "c5dfbe038d54412782b98f7f41c5092f",
            "3662afbeade84799aad3c25419e638c0"
          ]
        },
        "id": "wUwexkoPOaNy",
        "outputId": "8745eca1-8f25-43ea-d9c1-176983aa2cd7"
      },
      "outputs": [
        {
          "output_type": "display_data",
          "data": {
            "text/plain": [
              "<IPython.core.display.HTML object>"
            ],
            "text/html": [
              "\n",
              "  <style>\n",
              "    pre {\n",
              "        white-space: pre-wrap;\n",
              "    }\n",
              "  </style>\n",
              "  "
            ]
          },
          "metadata": {}
        },
        {
          "output_type": "display_data",
          "data": {
            "text/plain": [
              "<IPython.core.display.HTML object>"
            ],
            "text/html": [
              "\n",
              "  <style>\n",
              "    pre {\n",
              "        white-space: pre-wrap;\n",
              "    }\n",
              "  </style>\n",
              "  "
            ]
          },
          "metadata": {}
        },
        {
          "output_type": "stream",
          "name": "stdout",
          "text": [
            "Warning: No languages specified, defaulting to English.\n"
          ]
        },
        {
          "output_type": "display_data",
          "data": {
            "text/plain": [
              "yolox_l0.05_quantized.onnx:   0%|          | 0.00/54.6M [00:00<?, ?B/s]"
            ],
            "application/vnd.jupyter.widget-view+json": {
              "version_major": 2,
              "version_minor": 0,
              "model_id": "f51e82193e3c4c1283df845ef460d52d"
            }
          },
          "metadata": {}
        },
        {
          "output_type": "display_data",
          "data": {
            "text/plain": [
              "Fetching 1 files:   0%|          | 0/1 [00:00<?, ?it/s]"
            ],
            "application/vnd.jupyter.widget-view+json": {
              "version_major": 2,
              "version_minor": 0,
              "model_id": "23599b568d404c8cbba3244fa0996f6d"
            }
          },
          "metadata": {}
        },
        {
          "output_type": "display_data",
          "data": {
            "text/plain": [
              "preprocessor_config.json:   0%|          | 0.00/274 [00:00<?, ?B/s]"
            ],
            "application/vnd.jupyter.widget-view+json": {
              "version_major": 2,
              "version_minor": 0,
              "model_id": "ebba02bdf3ac4e2690f28c90c6f6bc08"
            }
          },
          "metadata": {}
        },
        {
          "output_type": "stream",
          "name": "stderr",
          "text": [
            "The `max_size` parameter is deprecated and will be removed in v4.26. Please specify in `size['longest_edge'] instead`.\n"
          ]
        },
        {
          "output_type": "display_data",
          "data": {
            "text/plain": [
              "config.json: 0.00B [00:00, ?B/s]"
            ],
            "application/vnd.jupyter.widget-view+json": {
              "version_major": 2,
              "version_minor": 0,
              "model_id": "6fd4141469a7461187602721d50a49df"
            }
          },
          "metadata": {}
        },
        {
          "output_type": "display_data",
          "data": {
            "text/plain": [
              "model.safetensors:   0%|          | 0.00/115M [00:00<?, ?B/s]"
            ],
            "application/vnd.jupyter.widget-view+json": {
              "version_major": 2,
              "version_minor": 0,
              "model_id": "f9899a30d5194abb93d735d8f2d47089"
            }
          },
          "metadata": {}
        },
        {
          "output_type": "display_data",
          "data": {
            "text/plain": [
              "model.safetensors:   0%|          | 0.00/46.8M [00:00<?, ?B/s]"
            ],
            "application/vnd.jupyter.widget-view+json": {
              "version_major": 2,
              "version_minor": 0,
              "model_id": "30d4da689b4d4779b81572412a55e18c"
            }
          },
          "metadata": {}
        }
      ],
      "source": [
        "# Note: this cell takes ~1-2mins to run in Colab.\n",
        "elements = partition_pdf(\n",
        "filename=\"scale-calibration-of-neural-rankers.pdf\",\n",
        "strategy=\"hi_res\",\n",
        "infer_table_structure=True,\n",
        "model_name=\"yolox_quantized\"  # A bit faster than plain Yolox model\n",
        ")"
      ]
    },
    {
      "cell_type": "code",
      "execution_count": null,
      "metadata": {
        "colab": {
          "base_uri": "https://localhost:8080/",
          "height": 17
        },
        "id": "Vk85Ug4MYVh2",
        "outputId": "a11535e7-4f00-45c4-8633-78b8981be474"
      },
      "outputs": [
        {
          "data": {
            "text/html": [
              "\n",
              "  <style>\n",
              "    pre {\n",
              "        white-space: pre-wrap;\n",
              "    }\n",
              "  </style>\n",
              "  "
            ],
            "text/plain": [
              "<IPython.core.display.HTML object>"
            ]
          },
          "metadata": {},
          "output_type": "display_data"
        },
        {
          "data": {
            "text/html": [
              "\n",
              "  <style>\n",
              "    pre {\n",
              "        white-space: pre-wrap;\n",
              "    }\n",
              "  </style>\n",
              "  "
            ],
            "text/plain": [
              "<IPython.core.display.HTML object>"
            ]
          },
          "metadata": {},
          "output_type": "display_data"
        }
      ],
      "source": [
        "# Save table elements\n",
        "tables = [el for el in elements if el.category == \"Table\"]"
      ]
    },
    {
      "cell_type": "code",
      "execution_count": null,
      "metadata": {
        "colab": {
          "base_uri": "https://localhost:8080/",
          "height": 17
        },
        "id": "hwtbt6sZP2XB",
        "outputId": "7e5b2300-d464-47a1-8bdc-217c939eb76f"
      },
      "outputs": [
        {
          "data": {
            "text/html": [
              "\n",
              "  <style>\n",
              "    pre {\n",
              "        white-space: pre-wrap;\n",
              "    }\n",
              "  </style>\n",
              "  "
            ],
            "text/plain": [
              "<IPython.core.display.HTML object>"
            ]
          },
          "metadata": {},
          "output_type": "display_data"
        },
        {
          "data": {
            "text/html": [
              "\n",
              "  <style>\n",
              "    pre {\n",
              "        white-space: pre-wrap;\n",
              "    }\n",
              "  </style>\n",
              "  "
            ],
            "text/plain": [
              "<IPython.core.display.HTML object>"
            ]
          },
          "metadata": {},
          "output_type": "display_data"
        }
      ],
      "source": [
        "# You are going to save the extracted Table elements to a .txt file that will be used by BeautifulSoup downstream.\n",
        "TEXT_FILE = \"scale-calibration-of-neural-rankers.txt\"\n",
        "\n",
        "# Save HTML to .txt file\n",
        "with open(TEXT_FILE, 'w') as output_file:\n",
        "        for t in tables:\n",
        "            content = t.metadata.text_as_html\n",
        "            output_file.write(content + \"\\n\\n\")"
      ]
    },
    {
      "cell_type": "code",
      "execution_count": null,
      "metadata": {
        "colab": {
          "base_uri": "https://localhost:8080/",
          "height": 17
        },
        "id": "3LWhOP20P8bO",
        "outputId": "332b1d72-b9a2-471e-c81f-6d18eb5028e2"
      },
      "outputs": [
        {
          "data": {
            "text/html": [
              "\n",
              "  <style>\n",
              "    pre {\n",
              "        white-space: pre-wrap;\n",
              "    }\n",
              "  </style>\n",
              "  "
            ],
            "text/plain": [
              "<IPython.core.display.HTML object>"
            ]
          },
          "metadata": {},
          "output_type": "display_data"
        },
        {
          "data": {
            "text/html": [
              "\n",
              "  <style>\n",
              "    pre {\n",
              "        white-space: pre-wrap;\n",
              "    }\n",
              "  </style>\n",
              "  "
            ],
            "text/plain": [
              "<IPython.core.display.HTML object>"
            ]
          },
          "metadata": {},
          "output_type": "display_data"
        }
      ],
      "source": [
        "# You will now use LangChain to load your \"documents\" (i.e. your tables)\n",
        "loader = TextLoader(TEXT_FILE)\n",
        "documents = loader.load()"
      ]
    },
    {
      "cell_type": "code",
      "execution_count": null,
      "metadata": {
        "colab": {
          "base_uri": "https://localhost:8080/",
          "height": 17
        },
        "id": "O3p5Nv_6QKQ-",
        "outputId": "403ba460-6ea3-442e-c78d-92b56975df56"
      },
      "outputs": [
        {
          "data": {
            "text/html": [
              "\n",
              "  <style>\n",
              "    pre {\n",
              "        white-space: pre-wrap;\n",
              "    }\n",
              "  </style>\n",
              "  "
            ],
            "text/plain": [
              "<IPython.core.display.HTML object>"
            ]
          },
          "metadata": {},
          "output_type": "display_data"
        },
        {
          "data": {
            "text/html": [
              "\n",
              "  <style>\n",
              "    pre {\n",
              "        white-space: pre-wrap;\n",
              "    }\n",
              "  </style>\n",
              "  "
            ],
            "text/plain": [
              "<IPython.core.display.HTML object>"
            ]
          },
          "metadata": {},
          "output_type": "display_data"
        }
      ],
      "source": [
        "# You will use BeautifulSoup to parse the HTML in your .txt file\n",
        "html_tables = BeautifulSoup(documents[0].page_content).select('table')  # documents is only of len 1"
      ]
    },
    {
      "cell_type": "code",
      "execution_count": null,
      "metadata": {
        "colab": {
          "base_uri": "https://localhost:8080/",
          "height": 35
        },
        "id": "lwEYtgRqQTP4",
        "outputId": "f6b24837-2bd5-4af1-90a9-59061d338804"
      },
      "outputs": [
        {
          "data": {
            "text/html": [
              "\n",
              "  <style>\n",
              "    pre {\n",
              "        white-space: pre-wrap;\n",
              "    }\n",
              "  </style>\n",
              "  "
            ],
            "text/plain": [
              "<IPython.core.display.HTML object>"
            ]
          },
          "metadata": {},
          "output_type": "display_data"
        },
        {
          "data": {
            "text/html": [
              "\n",
              "  <style>\n",
              "    pre {\n",
              "        white-space: pre-wrap;\n",
              "    }\n",
              "  </style>\n",
              "  "
            ],
            "text/plain": [
              "<IPython.core.display.HTML object>"
            ]
          },
          "metadata": {},
          "output_type": "display_data"
        },
        {
          "name": "stdout",
          "output_type": "stream",
          "text": [
            "You've extracted 5 tables from your PDF!\n"
          ]
        }
      ],
      "source": [
        "# Note the number of embedded tables you've extracted from the PDF..\n",
        "print(f'You\\'ve extracted {len(html_tables)} tables from your PDF!')"
      ]
    },
    {
      "cell_type": "code",
      "execution_count": null,
      "metadata": {
        "colab": {
          "base_uri": "https://localhost:8080/",
          "height": 17
        },
        "id": "jcRUuZQ2x04d",
        "outputId": "dad36c57-718e-4a1c-dc1f-e20902e22a4b"
      },
      "outputs": [
        {
          "data": {
            "text/html": [
              "\n",
              "  <style>\n",
              "    pre {\n",
              "        white-space: pre-wrap;\n",
              "    }\n",
              "  </style>\n",
              "  "
            ],
            "text/plain": [
              "<IPython.core.display.HTML object>"
            ]
          },
          "metadata": {},
          "output_type": "display_data"
        },
        {
          "data": {
            "text/html": [
              "\n",
              "  <style>\n",
              "    pre {\n",
              "        white-space: pre-wrap;\n",
              "    }\n",
              "  </style>\n",
              "  "
            ],
            "text/plain": [
              "<IPython.core.display.HTML object>"
            ]
          },
          "metadata": {},
          "output_type": "display_data"
        }
      ],
      "source": [
        "# You will now extract structured data from the tables you've extracted from the PDF.\n",
        "\n",
        "def extract_cols_and_rows(tables: ResultSet) -> tuple[list, list]:\n",
        "    \"\"\"\n",
        "    Grab column headers and rows from table elements.\n",
        "\n",
        "    :param tables: extract table elements from HTML text.\n",
        "    :return: tuple containing extracted column headers and row data.\n",
        "    \"\"\"\n",
        "    headers = []\n",
        "    rows = []\n",
        "    # Iterate over each table\n",
        "    for table in tables:\n",
        "        # Extract headers\n",
        "        th = [th.text for th in table.find_all('th')]\n",
        "        headers.append(th)\n",
        "        # Extract rows\n",
        "        tr_td = []\n",
        "        for tr in table.find_all('tr'):\n",
        "            row = [td.text for td in tr.find_all('td')]\n",
        "            if row:  # Skip empty rows\n",
        "                tr_td.append(row)\n",
        "            rows.append(row)\n",
        "    return headers, rows"
      ]
    },
    {
      "cell_type": "code",
      "execution_count": null,
      "metadata": {
        "colab": {
          "base_uri": "https://localhost:8080/",
          "height": 17
        },
        "id": "eUNKbIv2Z-oq",
        "outputId": "29430704-32ab-4b3d-bd39-8be001ad4c9f"
      },
      "outputs": [
        {
          "data": {
            "text/html": [
              "\n",
              "  <style>\n",
              "    pre {\n",
              "        white-space: pre-wrap;\n",
              "    }\n",
              "  </style>\n",
              "  "
            ],
            "text/plain": [
              "<IPython.core.display.HTML object>"
            ]
          },
          "metadata": {},
          "output_type": "display_data"
        },
        {
          "data": {
            "text/html": [
              "\n",
              "  <style>\n",
              "    pre {\n",
              "        white-space: pre-wrap;\n",
              "    }\n",
              "  </style>\n",
              "  "
            ],
            "text/plain": [
              "<IPython.core.display.HTML object>"
            ]
          },
          "metadata": {},
          "output_type": "display_data"
        }
      ],
      "source": [
        "headers, rows = extract_cols_and_rows(html_tables)"
      ]
    },
    {
      "cell_type": "markdown",
      "metadata": {
        "id": "2lBL9SuT5xso"
      },
      "source": [
        "You will only be playing with two tables in this example notebook, simply because it's easier than dealing with all 5.\n",
        "\n",
        "The two you will be using for your experiments are \"Table 1\" and \"Table 2\" in the PDF.\n",
        "\n",
        "Since nothing in table extraction is perfect (yet), you'll have to do some massaging of the extracted headers and rows to get them in the perfect, structured format."
      ]
    },
    {
      "cell_type": "markdown",
      "metadata": {
        "id": "kPc_8OV5auez"
      },
      "source": [
        "#### Table 1 Construction"
      ]
    },
    {
      "cell_type": "code",
      "execution_count": null,
      "metadata": {
        "colab": {
          "base_uri": "https://localhost:8080/",
          "height": 17
        },
        "id": "XzvEf2XU0xBC",
        "outputId": "40b608a3-8004-4f38-df2e-28013a6c195d"
      },
      "outputs": [
        {
          "data": {
            "text/html": [
              "\n",
              "  <style>\n",
              "    pre {\n",
              "        white-space: pre-wrap;\n",
              "    }\n",
              "  </style>\n",
              "  "
            ],
            "text/plain": [
              "<IPython.core.display.HTML object>"
            ]
          },
          "metadata": {},
          "output_type": "display_data"
        },
        {
          "data": {
            "text/html": [
              "\n",
              "  <style>\n",
              "    pre {\n",
              "        white-space: pre-wrap;\n",
              "    }\n",
              "  </style>\n",
              "  "
            ],
            "text/plain": [
              "<IPython.core.display.HTML object>"
            ]
          },
          "metadata": {},
          "output_type": "display_data"
        }
      ],
      "source": [
        "# Through manual investigation, you find their headers and rows in the \"headers\" and \"rows\" variables\n",
        "t1_headers = headers[1]"
      ]
    },
    {
      "cell_type": "code",
      "execution_count": null,
      "metadata": {
        "colab": {
          "base_uri": "https://localhost:8080/",
          "height": 35
        },
        "id": "65qaKp5dbHm0",
        "outputId": "1a7cd3b4-6e6a-4252-eedb-8bf90b84c4ed"
      },
      "outputs": [
        {
          "data": {
            "text/html": [
              "\n",
              "  <style>\n",
              "    pre {\n",
              "        white-space: pre-wrap;\n",
              "    }\n",
              "  </style>\n",
              "  "
            ],
            "text/plain": [
              "<IPython.core.display.HTML object>"
            ]
          },
          "metadata": {},
          "output_type": "display_data"
        },
        {
          "data": {
            "text/html": [
              "\n",
              "  <style>\n",
              "    pre {\n",
              "        white-space: pre-wrap;\n",
              "    }\n",
              "  </style>\n",
              "  "
            ],
            "text/plain": [
              "<IPython.core.display.HTML object>"
            ]
          },
          "metadata": {},
          "output_type": "display_data"
        },
        {
          "data": {
            "text/plain": [
              "['Metric', 'TREC-DL', 'NTCIR-14']"
            ]
          },
          "execution_count": 23,
          "metadata": {},
          "output_type": "execute_result"
        }
      ],
      "source": [
        "t1_headers"
      ]
    },
    {
      "cell_type": "code",
      "execution_count": null,
      "metadata": {
        "colab": {
          "base_uri": "https://localhost:8080/",
          "height": 17
        },
        "id": "r5doBtbi0xFA",
        "outputId": "bf009fd2-e841-43f6-e586-831f52b931d3"
      },
      "outputs": [
        {
          "data": {
            "text/html": [
              "\n",
              "  <style>\n",
              "    pre {\n",
              "        white-space: pre-wrap;\n",
              "    }\n",
              "  </style>\n",
              "  "
            ],
            "text/plain": [
              "<IPython.core.display.HTML object>"
            ]
          },
          "metadata": {},
          "output_type": "display_data"
        },
        {
          "data": {
            "text/html": [
              "\n",
              "  <style>\n",
              "    pre {\n",
              "        white-space: pre-wrap;\n",
              "    }\n",
              "  </style>\n",
              "  "
            ],
            "text/plain": [
              "<IPython.core.display.HTML object>"
            ]
          },
          "metadata": {},
          "output_type": "display_data"
        }
      ],
      "source": [
        "# You find the correct rows\n",
        "t1_rows = rows[15:21]"
      ]
    },
    {
      "cell_type": "code",
      "execution_count": null,
      "metadata": {
        "id": "w-BDNwx2SWZD",
        "outputId": "607dde85-8504-4aa5-8b70-7eb1cd70ebca"
      },
      "outputs": [
        {
          "data": {
            "text/html": [
              "\n",
              "  <style>\n",
              "    pre {\n",
              "        white-space: pre-wrap;\n",
              "    }\n",
              "  </style>\n",
              "  "
            ],
            "text/plain": [
              "<IPython.core.display.HTML object>"
            ]
          },
          "metadata": {},
          "output_type": "display_data"
        },
        {
          "data": {
            "text/html": [
              "\n",
              "  <style>\n",
              "    pre {\n",
              "        white-space: pre-wrap;\n",
              "    }\n",
              "  </style>\n",
              "  "
            ],
            "text/plain": [
              "<IPython.core.display.HTML object>"
            ]
          },
          "metadata": {},
          "output_type": "display_data"
        },
        {
          "data": {
            "text/plain": [
              "[['# Queries (Train/Val/Test)', '| 97/53/67', '48/16/16'],\n",
              " ['Avg. # docs per query', '282.7', '345.3'],\n",
              " ['Levels of relevance', '4', '5'],\n",
              " ['Label dist. (low to high)', '58/22/14/6', '—48/23/17/8/3'],\n",
              " ['Avg. query length', '8.0', '22.0'],\n",
              " ['Avg. doc. length', '70.9', '493.2']]"
            ]
          },
          "execution_count": 34,
          "metadata": {},
          "output_type": "execute_result"
        }
      ],
      "source": [
        "t1_rows"
      ]
    },
    {
      "cell_type": "code",
      "execution_count": null,
      "metadata": {
        "colab": {
          "base_uri": "https://localhost:8080/",
          "height": 17
        },
        "id": "PpcOfSuRa9e_",
        "outputId": "2a90f384-02a4-4ffe-cebd-8442de6f58b0"
      },
      "outputs": [
        {
          "data": {
            "text/html": [
              "\n",
              "  <style>\n",
              "    pre {\n",
              "        white-space: pre-wrap;\n",
              "    }\n",
              "  </style>\n",
              "  "
            ],
            "text/plain": [
              "<IPython.core.display.HTML object>"
            ]
          },
          "metadata": {},
          "output_type": "display_data"
        },
        {
          "data": {
            "text/html": [
              "\n",
              "  <style>\n",
              "    pre {\n",
              "        white-space: pre-wrap;\n",
              "    }\n",
              "  </style>\n",
              "  "
            ],
            "text/plain": [
              "<IPython.core.display.HTML object>"
            ]
          },
          "metadata": {},
          "output_type": "display_data"
        }
      ],
      "source": [
        "# You make your headers and rows into a dataframe for easy parsing downstream.\n",
        "df1 = pd.DataFrame(data=t1_rows, columns=t1_headers)"
      ]
    },
    {
      "cell_type": "code",
      "execution_count": null,
      "metadata": {
        "colab": {
          "base_uri": "https://localhost:8080/",
          "height": 238
        },
        "id": "tTBr9CNSbZjM",
        "outputId": "1f3da43e-3b14-41de-c858-bc622ad38186"
      },
      "outputs": [
        {
          "data": {
            "text/html": [
              "\n",
              "  <style>\n",
              "    pre {\n",
              "        white-space: pre-wrap;\n",
              "    }\n",
              "  </style>\n",
              "  "
            ],
            "text/plain": [
              "<IPython.core.display.HTML object>"
            ]
          },
          "metadata": {},
          "output_type": "display_data"
        },
        {
          "data": {
            "text/html": [
              "\n",
              "  <style>\n",
              "    pre {\n",
              "        white-space: pre-wrap;\n",
              "    }\n",
              "  </style>\n",
              "  "
            ],
            "text/plain": [
              "<IPython.core.display.HTML object>"
            ]
          },
          "metadata": {},
          "output_type": "display_data"
        },
        {
          "data": {
            "text/html": [
              "<div>\n",
              "<style scoped>\n",
              "    .dataframe tbody tr th:only-of-type {\n",
              "        vertical-align: middle;\n",
              "    }\n",
              "\n",
              "    .dataframe tbody tr th {\n",
              "        vertical-align: top;\n",
              "    }\n",
              "\n",
              "    .dataframe thead th {\n",
              "        text-align: right;\n",
              "    }\n",
              "</style>\n",
              "<table border=\"1\" class=\"dataframe\">\n",
              "  <thead>\n",
              "    <tr style=\"text-align: right;\">\n",
              "      <th></th>\n",
              "      <th>Metric</th>\n",
              "      <th>TREC-DL</th>\n",
              "      <th>NTCIR-14</th>\n",
              "    </tr>\n",
              "  </thead>\n",
              "  <tbody>\n",
              "    <tr>\n",
              "      <th>0</th>\n",
              "      <td># Queries (Train/Val/Test)</td>\n",
              "      <td>| 97/53/67</td>\n",
              "      <td>48/16/16</td>\n",
              "    </tr>\n",
              "    <tr>\n",
              "      <th>1</th>\n",
              "      <td>Avg. # docs per query</td>\n",
              "      <td>282.7</td>\n",
              "      <td>345.3</td>\n",
              "    </tr>\n",
              "    <tr>\n",
              "      <th>2</th>\n",
              "      <td>Levels of relevance</td>\n",
              "      <td>4</td>\n",
              "      <td>5</td>\n",
              "    </tr>\n",
              "    <tr>\n",
              "      <th>3</th>\n",
              "      <td>Label dist. (low to high)</td>\n",
              "      <td>58/22/14/6</td>\n",
              "      <td>—48/23/17/8/3</td>\n",
              "    </tr>\n",
              "    <tr>\n",
              "      <th>4</th>\n",
              "      <td>Avg. query length</td>\n",
              "      <td>8.0</td>\n",
              "      <td>22.0</td>\n",
              "    </tr>\n",
              "    <tr>\n",
              "      <th>5</th>\n",
              "      <td>Avg. doc. length</td>\n",
              "      <td>70.9</td>\n",
              "      <td>493.2</td>\n",
              "    </tr>\n",
              "  </tbody>\n",
              "</table>\n",
              "</div>"
            ],
            "text/plain": [
              "                       Metric     TREC-DL       NTCIR-14\n",
              "0  # Queries (Train/Val/Test)  | 97/53/67       48/16/16\n",
              "1       Avg. # docs per query       282.7          345.3\n",
              "2         Levels of relevance           4              5\n",
              "3   Label dist. (low to high)  58/22/14/6  —48/23/17/8/3\n",
              "4           Avg. query length         8.0           22.0\n",
              "5            Avg. doc. length        70.9          493.2"
            ]
          },
          "execution_count": 36,
          "metadata": {},
          "output_type": "execute_result"
        }
      ],
      "source": [
        "# Take a look at your constructed table:\n",
        "df1"
      ]
    },
    {
      "cell_type": "markdown",
      "metadata": {
        "id": "q9Iafm3Yayqu"
      },
      "source": [
        "#### Table 2 Construction"
      ]
    },
    {
      "cell_type": "code",
      "execution_count": null,
      "metadata": {
        "colab": {
          "base_uri": "https://localhost:8080/",
          "height": 303
        },
        "id": "UcpvwECAaUYM",
        "outputId": "be5b58f8-137c-4a27-c042-58d82c1d18f1"
      },
      "outputs": [
        {
          "data": {
            "text/html": [
              "\n",
              "  <style>\n",
              "    pre {\n",
              "        white-space: pre-wrap;\n",
              "    }\n",
              "  </style>\n",
              "  "
            ],
            "text/plain": [
              "<IPython.core.display.HTML object>"
            ]
          },
          "metadata": {},
          "output_type": "display_data"
        },
        {
          "data": {
            "text/html": [
              "\n",
              "  <style>\n",
              "    pre {\n",
              "        white-space: pre-wrap;\n",
              "    }\n",
              "  </style>\n",
              "  "
            ],
            "text/plain": [
              "<IPython.core.display.HTML object>"
            ]
          },
          "metadata": {},
          "output_type": "display_data"
        },
        {
          "data": {
            "text/plain": [
              "['Metric',\n",
              " 'Ranking',\n",
              " 'Calibration',\n",
              " 'Ranking',\n",
              " 'Calibration',\n",
              " '',\n",
              " 'nDCG',\n",
              " 'nDCG@10',\n",
              " 'CB-ECE',\n",
              " 'ECE',\n",
              " 'MSE |',\n",
              " 'nDCG',\n",
              " 'nDCG@10',\n",
              " 'CB-ECE',\n",
              " 'ECE',\n",
              " 'MSE']"
            ]
          },
          "execution_count": 37,
          "metadata": {},
          "output_type": "execute_result"
        }
      ],
      "source": [
        "# Headers[2] is not super well formed (likely bc the headers are nested), so you will manually overwrite these in the next cell\n",
        "headers[2]"
      ]
    },
    {
      "cell_type": "code",
      "execution_count": null,
      "metadata": {
        "colab": {
          "base_uri": "https://localhost:8080/",
          "height": 17
        },
        "id": "Be_qccioagkS",
        "outputId": "5efa69d4-b5da-4867-ac0f-2cd12fe4c747"
      },
      "outputs": [
        {
          "data": {
            "text/html": [
              "\n",
              "  <style>\n",
              "    pre {\n",
              "        white-space: pre-wrap;\n",
              "    }\n",
              "  </style>\n",
              "  "
            ],
            "text/plain": [
              "<IPython.core.display.HTML object>"
            ]
          },
          "metadata": {},
          "output_type": "display_data"
        },
        {
          "data": {
            "text/html": [
              "\n",
              "  <style>\n",
              "    pre {\n",
              "        white-space: pre-wrap;\n",
              "    }\n",
              "  </style>\n",
              "  "
            ],
            "text/plain": [
              "<IPython.core.display.HTML object>"
            ]
          },
          "metadata": {},
          "output_type": "display_data"
        }
      ],
      "source": [
        "# Manually concatenate the nested headers to maintain semantic relations in a single header per column\n",
        "# This is a design choice that you will need to discuss with stakeholders. You can structure the data extracted from your tables\n",
        "# in any way that makes sense to you.\n",
        "\n",
        "t2_headers = ['Method',\n",
        "              'TREC-ndcg',\n",
        "              'TREC-ndcg@10',\n",
        "              'TREC-CB-ECE',\n",
        "              'TREC-ECE',\n",
        "              'TREC-MSE',\n",
        "              'NTCIR-ndcg',\n",
        "              'NTCIR-ndcg@10',\n",
        "              'NTCIR-CB-ECE',\n",
        "              'NTCIR-ECE',\n",
        "              'NTCIR-MSE']"
      ]
    },
    {
      "cell_type": "code",
      "execution_count": null,
      "metadata": {
        "colab": {
          "base_uri": "https://localhost:8080/",
          "height": 17
        },
        "id": "X77R-pQp1i4g",
        "outputId": "e7c1eced-dfb7-48ba-e543-e4ac624cf01a"
      },
      "outputs": [
        {
          "data": {
            "text/html": [
              "\n",
              "  <style>\n",
              "    pre {\n",
              "        white-space: pre-wrap;\n",
              "    }\n",
              "  </style>\n",
              "  "
            ],
            "text/plain": [
              "<IPython.core.display.HTML object>"
            ]
          },
          "metadata": {},
          "output_type": "display_data"
        },
        {
          "data": {
            "text/html": [
              "\n",
              "  <style>\n",
              "    pre {\n",
              "        white-space: pre-wrap;\n",
              "    }\n",
              "  </style>\n",
              "  "
            ],
            "text/plain": [
              "<IPython.core.display.HTML object>"
            ]
          },
          "metadata": {},
          "output_type": "display_data"
        }
      ],
      "source": [
        "t2_rows = rows[21:-9]"
      ]
    },
    {
      "cell_type": "code",
      "execution_count": null,
      "metadata": {
        "colab": {
          "base_uri": "https://localhost:8080/",
          "height": 17
        },
        "id": "4-_WAkHpV6Qx",
        "outputId": "f04ce05b-4b5d-45a9-d043-834ab4ec63db"
      },
      "outputs": [
        {
          "data": {
            "text/html": [
              "\n",
              "  <style>\n",
              "    pre {\n",
              "        white-space: pre-wrap;\n",
              "    }\n",
              "  </style>\n",
              "  "
            ],
            "text/plain": [
              "<IPython.core.display.HTML object>"
            ]
          },
          "metadata": {},
          "output_type": "display_data"
        },
        {
          "data": {
            "text/html": [
              "\n",
              "  <style>\n",
              "    pre {\n",
              "        white-space: pre-wrap;\n",
              "    }\n",
              "  </style>\n",
              "  "
            ],
            "text/plain": [
              "<IPython.core.display.HTML object>"
            ]
          },
          "metadata": {},
          "output_type": "display_data"
        }
      ],
      "source": [
        "df2 = pd.DataFrame(data=t2_rows, columns=t2_headers)"
      ]
    },
    {
      "cell_type": "code",
      "execution_count": null,
      "metadata": {
        "colab": {
          "base_uri": "https://localhost:8080/",
          "height": 17
        },
        "id": "hlmFDHtCayEt",
        "outputId": "dfd2f63e-6776-4b19-a8c9-3d6c36fb663e"
      },
      "outputs": [
        {
          "data": {
            "text/html": [
              "\n",
              "  <style>\n",
              "    pre {\n",
              "        white-space: pre-wrap;\n",
              "    }\n",
              "  </style>\n",
              "  "
            ],
            "text/plain": [
              "<IPython.core.display.HTML object>"
            ]
          },
          "metadata": {},
          "output_type": "display_data"
        },
        {
          "data": {
            "text/html": [
              "\n",
              "  <style>\n",
              "    pre {\n",
              "        white-space: pre-wrap;\n",
              "    }\n",
              "  </style>\n",
              "  "
            ],
            "text/plain": [
              "<IPython.core.display.HTML object>"
            ]
          },
          "metadata": {},
          "output_type": "display_data"
        }
      ],
      "source": [
        "# Our extraction technique did not grab the index unlabeled column in Table 2, which contains the\n",
        "# classification categories each of the listed methods fall into (A, B, C...)\n",
        "\n",
        "# So, add this in:\n",
        "categories = ['A', 'B', 'C', 'C', 'D', 'E', 'F', 'F']  # Note we have to duplicate some categories since the table has two values per row in some places\n",
        "\n",
        "df2.insert(1, 'Category', categories)"
      ]
    },
    {
      "cell_type": "code",
      "execution_count": null,
      "metadata": {
        "colab": {
          "base_uri": "https://localhost:8080/",
          "height": 474
        },
        "id": "lmpEAg4NV9lv",
        "outputId": "97db51db-2681-4111-cdbd-102bf3c3979a"
      },
      "outputs": [
        {
          "data": {
            "text/html": [
              "\n",
              "  <style>\n",
              "    pre {\n",
              "        white-space: pre-wrap;\n",
              "    }\n",
              "  </style>\n",
              "  "
            ],
            "text/plain": [
              "<IPython.core.display.HTML object>"
            ]
          },
          "metadata": {},
          "output_type": "display_data"
        },
        {
          "data": {
            "text/html": [
              "\n",
              "  <style>\n",
              "    pre {\n",
              "        white-space: pre-wrap;\n",
              "    }\n",
              "  </style>\n",
              "  "
            ],
            "text/plain": [
              "<IPython.core.display.HTML object>"
            ]
          },
          "metadata": {},
          "output_type": "display_data"
        },
        {
          "data": {
            "text/html": [
              "<div>\n",
              "<style scoped>\n",
              "    .dataframe tbody tr th:only-of-type {\n",
              "        vertical-align: middle;\n",
              "    }\n",
              "\n",
              "    .dataframe tbody tr th {\n",
              "        vertical-align: top;\n",
              "    }\n",
              "\n",
              "    .dataframe thead th {\n",
              "        text-align: right;\n",
              "    }\n",
              "</style>\n",
              "<table border=\"1\" class=\"dataframe\">\n",
              "  <thead>\n",
              "    <tr style=\"text-align: right;\">\n",
              "      <th></th>\n",
              "      <th>Method</th>\n",
              "      <th>Category</th>\n",
              "      <th>TREC-ndcg</th>\n",
              "      <th>TREC-ndcg@10</th>\n",
              "      <th>TREC-CB-ECE</th>\n",
              "      <th>TREC-ECE</th>\n",
              "      <th>TREC-MSE</th>\n",
              "      <th>NTCIR-ndcg</th>\n",
              "      <th>NTCIR-ndcg@10</th>\n",
              "      <th>NTCIR-CB-ECE</th>\n",
              "      <th>NTCIR-ECE</th>\n",
              "      <th>NTCIR-MSE</th>\n",
              "    </tr>\n",
              "  </thead>\n",
              "  <tbody>\n",
              "    <tr>\n",
              "      <th>0</th>\n",
              "      <td>Uncalibrated monoBERT</td>\n",
              "      <td>A</td>\n",
              "      <td>0.799</td>\n",
              "      <td>0.494</td>\n",
              "      <td>1.205</td>\n",
              "      <td>—0.320.-——0.773</td>\n",
              "      <td></td>\n",
              "      <td>| 0.735</td>\n",
              "      <td>0.337</td>\n",
              "      <td>1.757</td>\n",
              "      <td>0.799</td>\n",
              "      <td>1.824</td>\n",
              "    </tr>\n",
              "    <tr>\n",
              "      <th>1</th>\n",
              "      <td>Post hoc + monoBERT</td>\n",
              "      <td>B</td>\n",
              "      <td>0.799</td>\n",
              "      <td>0.494</td>\n",
              "      <td>1.141</td>\n",
              "      <td>0.125</td>\n",
              "      <td>0.684 |</td>\n",
              "      <td>0.735</td>\n",
              "      <td>0.337</td>\n",
              "      <td>1.624</td>\n",
              "      <td>0.457_—«1.462</td>\n",
              "      <td></td>\n",
              "    </tr>\n",
              "    <tr>\n",
              "      <th>2</th>\n",
              "      <td>Finetune monoBERT</td>\n",
              "      <td>C</td>\n",
              "      <td>0.776</td>\n",
              "      <td>0.422</td>\n",
              "      <td>1.093</td>\n",
              "      <td>0.221</td>\n",
              "      <td>«0.721 |</td>\n",
              "      <td>0.696</td>\n",
              "      <td>0.268</td>\n",
              "      <td>1.843</td>\n",
              "      <td>0.709</td>\n",
              "      <td>‘1.874</td>\n",
              "    </tr>\n",
              "    <tr>\n",
              "      <th>3</th>\n",
              "      <td>Finetune BERT</td>\n",
              "      <td>C</td>\n",
              "      <td>0.738</td>\n",
              "      <td>0.327</td>\n",
              "      <td>1.253</td>\n",
              "      <td>0.266</td>\n",
              "      <td>~=—-0.785 |</td>\n",
              "      <td>0.727</td>\n",
              "      <td>0.285</td>\n",
              "      <td>1.756</td>\n",
              "      <td>0.546</td>\n",
              "      <td>«1.416</td>\n",
              "    </tr>\n",
              "    <tr>\n",
              "      <th>4</th>\n",
              "      <td>LLM prompting w/ rubrics</td>\n",
              "      <td>D</td>\n",
              "      <td>0.786</td>\n",
              "      <td>0.457</td>\n",
              "      <td>1.000</td>\n",
              "      <td>1.246</td>\n",
              "      <td>2.137 |</td>\n",
              "      <td>0.728</td>\n",
              "      <td>0.328</td>\n",
              "      <td>1.2947</td>\n",
              "      <td>1.194</td>\n",
              "      <td>2.773</td>\n",
              "    </tr>\n",
              "    <tr>\n",
              "      <th>5</th>\n",
              "      <td>Post hoc + MC Sampling LLM</td>\n",
              "      <td>E</td>\n",
              "      <td>0.790</td>\n",
              "      <td>0.473</td>\n",
              "      <td>1.165</td>\n",
              "      <td>0.145</td>\n",
              "      <td>0.673</td>\n",
              "      <td>| 0.736</td>\n",
              "      <td>=~ 0.364\"</td>\n",
              "      <td>1.677</td>\n",
              "      <td>0.472</td>\n",
              "      <td>‘1.540</td>\n",
              "    </tr>\n",
              "    <tr>\n",
              "      <th>6</th>\n",
              "      <td>Literal Explanation + BERT</td>\n",
              "      <td>F</td>\n",
              "      <td>0.815'</td>\n",
              "      <td>0.529\"</td>\n",
              "      <td>0.996°</td>\n",
              "      <td>0.067\"</td>\n",
              "      <td>0.602\" |</td>\n",
              "      <td>0.742</td>\n",
              "      <td>0.340</td>\n",
              "      <td>1.534\"</td>\n",
              "      <td>0.355</td>\n",
              "      <td>1.3307</td>\n",
              "    </tr>\n",
              "    <tr>\n",
              "      <th>7</th>\n",
              "      <td>Conditional Explanation + BERT</td>\n",
              "      <td>F</td>\n",
              "      <td>0.822</td>\n",
              "      <td>0.5347</td>\n",
              "      <td>0.862'</td>\n",
              "      <td>0.428</td>\n",
              "      <td>0.832 |</td>\n",
              "      <td>0.720</td>\n",
              "      <td>0.322</td>\n",
              "      <td>1.405'</td>\n",
              "      <td>0.2577</td>\n",
              "      <td>1.2907</td>\n",
              "    </tr>\n",
              "  </tbody>\n",
              "</table>\n",
              "</div>"
            ],
            "text/plain": [
              "                           Method Category TREC-ndcg TREC-ndcg@10 TREC-CB-ECE  \\\n",
              "0           Uncalibrated monoBERT        A     0.799        0.494       1.205   \n",
              "1             Post hoc + monoBERT        B     0.799        0.494       1.141   \n",
              "2               Finetune monoBERT        C     0.776        0.422       1.093   \n",
              "3                   Finetune BERT        C     0.738        0.327       1.253   \n",
              "4        LLM prompting w/ rubrics        D     0.786        0.457       1.000   \n",
              "5      Post hoc + MC Sampling LLM        E     0.790        0.473       1.165   \n",
              "6      Literal Explanation + BERT        F    0.815'       0.529\"      0.996°   \n",
              "7  Conditional Explanation + BERT        F     0.822       0.5347      0.862'   \n",
              "\n",
              "          TREC-ECE     TREC-MSE NTCIR-ndcg NTCIR-ndcg@10 NTCIR-CB-ECE  \\\n",
              "0  —0.320.-——0.773                 | 0.735         0.337        1.757   \n",
              "1            0.125      0.684 |      0.735         0.337        1.624   \n",
              "2            0.221     «0.721 |      0.696         0.268        1.843   \n",
              "3            0.266  ~=—-0.785 |      0.727         0.285        1.756   \n",
              "4            1.246      2.137 |      0.728         0.328       1.2947   \n",
              "5            0.145        0.673    | 0.736     =~ 0.364\"        1.677   \n",
              "6           0.067\"     0.602\" |      0.742         0.340       1.534\"   \n",
              "7            0.428      0.832 |      0.720         0.322       1.405'   \n",
              "\n",
              "       NTCIR-ECE NTCIR-MSE  \n",
              "0          0.799     1.824  \n",
              "1  0.457_—«1.462            \n",
              "2          0.709    ‘1.874  \n",
              "3          0.546    «1.416  \n",
              "4          1.194     2.773  \n",
              "5          0.472    ‘1.540  \n",
              "6          0.355    1.3307  \n",
              "7         0.2577    1.2907  "
            ]
          },
          "execution_count": 45,
          "metadata": {},
          "output_type": "execute_result"
        }
      ],
      "source": [
        "# You can see some weirdness here w/missing decimal points and blank cells, so you will manually clean your dataframe below.\n",
        "df2"
      ]
    },
    {
      "cell_type": "code",
      "execution_count": null,
      "metadata": {
        "id": "_Qjns6YNWup0"
      },
      "outputs": [],
      "source": [
        "# From PDF, you know the actual values these cells need to be, so set them here\n",
        "df2[\"TREC-ECE\"].iloc[0] = '0.320'\n",
        "df2[\"TREC-MSE\"].iloc[0] = '0.773'\n",
        "df2['NTCIR-ECE'].iloc[1] = '0.457'\n",
        "df2['NTCIR-MSE'].iloc[1] = '1.462'\n",
        "df2['TREC-CB-ECE'].iloc[0] = '1.205'\n",
        "df2['TREC-CB-ECE'].iloc[1] = '1.141'\n",
        "df2['TREC-CB-ECE'].iloc[5] = '1.165'"
      ]
    },
    {
      "cell_type": "code",
      "execution_count": null,
      "metadata": {
        "colab": {
          "base_uri": "https://localhost:8080/",
          "height": 474
        },
        "id": "pyQbEPxL2XHA",
        "outputId": "f6532f9b-3f8c-4614-bba4-47eeb9321642"
      },
      "outputs": [
        {
          "data": {
            "text/html": [
              "\n",
              "  <style>\n",
              "    pre {\n",
              "        white-space: pre-wrap;\n",
              "    }\n",
              "  </style>\n",
              "  "
            ],
            "text/plain": [
              "<IPython.core.display.HTML object>"
            ]
          },
          "metadata": {},
          "output_type": "display_data"
        },
        {
          "data": {
            "text/html": [
              "\n",
              "  <style>\n",
              "    pre {\n",
              "        white-space: pre-wrap;\n",
              "    }\n",
              "  </style>\n",
              "  "
            ],
            "text/plain": [
              "<IPython.core.display.HTML object>"
            ]
          },
          "metadata": {},
          "output_type": "display_data"
        },
        {
          "data": {
            "text/html": [
              "<div>\n",
              "<style scoped>\n",
              "    .dataframe tbody tr th:only-of-type {\n",
              "        vertical-align: middle;\n",
              "    }\n",
              "\n",
              "    .dataframe tbody tr th {\n",
              "        vertical-align: top;\n",
              "    }\n",
              "\n",
              "    .dataframe thead th {\n",
              "        text-align: right;\n",
              "    }\n",
              "</style>\n",
              "<table border=\"1\" class=\"dataframe\">\n",
              "  <thead>\n",
              "    <tr style=\"text-align: right;\">\n",
              "      <th></th>\n",
              "      <th>Method</th>\n",
              "      <th>Category</th>\n",
              "      <th>TREC-ndcg</th>\n",
              "      <th>TREC-ndcg@10</th>\n",
              "      <th>TREC-CB-ECE</th>\n",
              "      <th>TREC-ECE</th>\n",
              "      <th>TREC-MSE</th>\n",
              "      <th>NTCIR-ndcg</th>\n",
              "      <th>NTCIR-ndcg@10</th>\n",
              "      <th>NTCIR-CB-ECE</th>\n",
              "      <th>NTCIR-ECE</th>\n",
              "      <th>NTCIR-MSE</th>\n",
              "    </tr>\n",
              "  </thead>\n",
              "  <tbody>\n",
              "    <tr>\n",
              "      <th>0</th>\n",
              "      <td>Uncalibrated monoBERT</td>\n",
              "      <td>A</td>\n",
              "      <td>0.799</td>\n",
              "      <td>0.494</td>\n",
              "      <td>1.205</td>\n",
              "      <td>0.320</td>\n",
              "      <td>0.773</td>\n",
              "      <td>| 0.735</td>\n",
              "      <td>0.337</td>\n",
              "      <td>1.757</td>\n",
              "      <td>0.799</td>\n",
              "      <td>1.824</td>\n",
              "    </tr>\n",
              "    <tr>\n",
              "      <th>1</th>\n",
              "      <td>Post hoc + monoBERT</td>\n",
              "      <td>B</td>\n",
              "      <td>0.799</td>\n",
              "      <td>0.494</td>\n",
              "      <td>1.141</td>\n",
              "      <td>0.125</td>\n",
              "      <td>0.684 |</td>\n",
              "      <td>0.735</td>\n",
              "      <td>0.337</td>\n",
              "      <td>1.624</td>\n",
              "      <td>0.457</td>\n",
              "      <td>1.462</td>\n",
              "    </tr>\n",
              "    <tr>\n",
              "      <th>2</th>\n",
              "      <td>Finetune monoBERT</td>\n",
              "      <td>C</td>\n",
              "      <td>0.776</td>\n",
              "      <td>0.422</td>\n",
              "      <td>1.093</td>\n",
              "      <td>0.221</td>\n",
              "      <td>«0.721 |</td>\n",
              "      <td>0.696</td>\n",
              "      <td>0.268</td>\n",
              "      <td>1.843</td>\n",
              "      <td>0.709</td>\n",
              "      <td>‘1.874</td>\n",
              "    </tr>\n",
              "    <tr>\n",
              "      <th>3</th>\n",
              "      <td>Finetune BERT</td>\n",
              "      <td>C</td>\n",
              "      <td>0.738</td>\n",
              "      <td>0.327</td>\n",
              "      <td>1.253</td>\n",
              "      <td>0.266</td>\n",
              "      <td>~=—-0.785 |</td>\n",
              "      <td>0.727</td>\n",
              "      <td>0.285</td>\n",
              "      <td>1.756</td>\n",
              "      <td>0.546</td>\n",
              "      <td>«1.416</td>\n",
              "    </tr>\n",
              "    <tr>\n",
              "      <th>4</th>\n",
              "      <td>LLM prompting w/ rubrics</td>\n",
              "      <td>D</td>\n",
              "      <td>0.786</td>\n",
              "      <td>0.457</td>\n",
              "      <td>1.000</td>\n",
              "      <td>1.246</td>\n",
              "      <td>2.137 |</td>\n",
              "      <td>0.728</td>\n",
              "      <td>0.328</td>\n",
              "      <td>1.2947</td>\n",
              "      <td>1.194</td>\n",
              "      <td>2.773</td>\n",
              "    </tr>\n",
              "    <tr>\n",
              "      <th>5</th>\n",
              "      <td>Post hoc + MC Sampling LLM</td>\n",
              "      <td>E</td>\n",
              "      <td>0.790</td>\n",
              "      <td>0.473</td>\n",
              "      <td>1.165</td>\n",
              "      <td>0.145</td>\n",
              "      <td>0.673</td>\n",
              "      <td>| 0.736</td>\n",
              "      <td>=~ 0.364\"</td>\n",
              "      <td>1.677</td>\n",
              "      <td>0.472</td>\n",
              "      <td>‘1.540</td>\n",
              "    </tr>\n",
              "    <tr>\n",
              "      <th>6</th>\n",
              "      <td>Literal Explanation + BERT</td>\n",
              "      <td>F</td>\n",
              "      <td>0.815'</td>\n",
              "      <td>0.529\"</td>\n",
              "      <td>0.996°</td>\n",
              "      <td>0.067\"</td>\n",
              "      <td>0.602\" |</td>\n",
              "      <td>0.742</td>\n",
              "      <td>0.340</td>\n",
              "      <td>1.534\"</td>\n",
              "      <td>0.355</td>\n",
              "      <td>1.3307</td>\n",
              "    </tr>\n",
              "    <tr>\n",
              "      <th>7</th>\n",
              "      <td>Conditional Explanation + BERT</td>\n",
              "      <td>F</td>\n",
              "      <td>0.822</td>\n",
              "      <td>0.5347</td>\n",
              "      <td>0.862'</td>\n",
              "      <td>0.428</td>\n",
              "      <td>0.832 |</td>\n",
              "      <td>0.720</td>\n",
              "      <td>0.322</td>\n",
              "      <td>1.405'</td>\n",
              "      <td>0.2577</td>\n",
              "      <td>1.2907</td>\n",
              "    </tr>\n",
              "  </tbody>\n",
              "</table>\n",
              "</div>"
            ],
            "text/plain": [
              "                           Method Category TREC-ndcg TREC-ndcg@10 TREC-CB-ECE  \\\n",
              "0           Uncalibrated monoBERT        A     0.799        0.494       1.205   \n",
              "1             Post hoc + monoBERT        B     0.799        0.494       1.141   \n",
              "2               Finetune monoBERT        C     0.776        0.422       1.093   \n",
              "3                   Finetune BERT        C     0.738        0.327       1.253   \n",
              "4        LLM prompting w/ rubrics        D     0.786        0.457       1.000   \n",
              "5      Post hoc + MC Sampling LLM        E     0.790        0.473       1.165   \n",
              "6      Literal Explanation + BERT        F    0.815'       0.529\"      0.996°   \n",
              "7  Conditional Explanation + BERT        F     0.822       0.5347      0.862'   \n",
              "\n",
              "  TREC-ECE     TREC-MSE NTCIR-ndcg NTCIR-ndcg@10 NTCIR-CB-ECE NTCIR-ECE  \\\n",
              "0    0.320        0.773    | 0.735         0.337        1.757     0.799   \n",
              "1    0.125      0.684 |      0.735         0.337        1.624     0.457   \n",
              "2    0.221     «0.721 |      0.696         0.268        1.843     0.709   \n",
              "3    0.266  ~=—-0.785 |      0.727         0.285        1.756     0.546   \n",
              "4    1.246      2.137 |      0.728         0.328       1.2947     1.194   \n",
              "5    0.145        0.673    | 0.736     =~ 0.364\"        1.677     0.472   \n",
              "6   0.067\"     0.602\" |      0.742         0.340       1.534\"     0.355   \n",
              "7    0.428      0.832 |      0.720         0.322       1.405'    0.2577   \n",
              "\n",
              "  NTCIR-MSE  \n",
              "0     1.824  \n",
              "1     1.462  \n",
              "2    ‘1.874  \n",
              "3    «1.416  \n",
              "4     2.773  \n",
              "5    ‘1.540  \n",
              "6    1.3307  \n",
              "7    1.2907  "
            ]
          },
          "execution_count": 47,
          "metadata": {},
          "output_type": "execute_result"
        }
      ],
      "source": [
        "# Great! You can leave the special chars, etc. They shouldn't matter too much.\n",
        "df2"
      ]
    },
    {
      "cell_type": "markdown",
      "metadata": {
        "id": "SxgoRqamWeMF"
      },
      "source": [
        "# LlamaIndex and Pinecone\n",
        " Now that you have the 2 tables for experimentation, you will use [LlamaIndex](https://docs.llamaindex.ai/en/stable/) to turn the rest of the PDF (including the embedded tables, any diagrams, images, etc.) into [Documents](https://docs.llamaindex.ai/en/stable/module_guides/loading/documents_and_nodes/root.html) objects.\n",
        "\n",
        "This step is necessary because your earlier `documents` object, which you generated from your `.txt` file using `LangChain`, contains only your extracted *tables*, not the rest of the PDF's content.\n",
        "\n",
        "The main tools you'll use from LlamaIndex are as follows:\n",
        "- [`PDFReader`](https://github.com/run-llama/llama_index/blob/50806ba526dde4a054842394fe32e3880646fe6d/llama-index-legacy/llama_index/legacy/readers/file/docs_reader.py#L16) from LlamaHub\n",
        "- [`SemanticSplitterNodeParser`](https://docs.llamaindex.ai/en/stable/api/llama_index.core.node_parser.SemanticSplitterNodeParser.html#semanticsplitternodeparser), which splits a Document into Nodes, with each node being a group of semantically related sentences.\n",
        "- [`IngestionPipeline`](https://docs.llamaindex.ai/en/stable/module_guides/loading/ingestion_pipeline/root.html) to build an ETL flow that chunks your PDF, embeds it (i.e. vectorizes it), and then stores it in Pinecone in a specific [`namespace`](https://docs.pinecone.io/docs/namespaces).\n",
        "- [`RetrieverQueryEngine`](https://github.com/run-llama/llama_index/blob/v0.10.12/llama-index-core/llama_index/core/query_engine/retriever_query_engine.py#L27) for querying your LLM in the RAG pipeline you'll build.\n",
        "\n",
        "Learn more about using LlamaIndex with Pinecone on our [Integrations page](https://github.com/pinecone-io/examples/blob/master/learn/generation/llama-index/using-llamaindex-with-pinecone.ipynb)."
      ]
    },
    {
      "cell_type": "markdown",
      "metadata": {
        "id": "qXxvbbNCf13y"
      },
      "source": [
        "## Load all PDF contents with LlamaIndex\n"
      ]
    },
    {
      "cell_type": "code",
      "execution_count": null,
      "metadata": {
        "colab": {
          "base_uri": "https://localhost:8080/",
          "height": 17
        },
        "id": "hqAVtw_r0lH5",
        "outputId": "8ad396d4-6f85-4f32-c71a-670b2f8dd197"
      },
      "outputs": [
        {
          "data": {
            "text/html": [
              "\n",
              "  <style>\n",
              "    pre {\n",
              "        white-space: pre-wrap;\n",
              "    }\n",
              "  </style>\n",
              "  "
            ],
            "text/plain": [
              "<IPython.core.display.HTML object>"
            ]
          },
          "metadata": {},
          "output_type": "display_data"
        },
        {
          "data": {
            "text/html": [
              "\n",
              "  <style>\n",
              "    pre {\n",
              "        white-space: pre-wrap;\n",
              "    }\n",
              "  </style>\n",
              "  "
            ],
            "text/plain": [
              "<IPython.core.display.HTML object>"
            ]
          },
          "metadata": {},
          "output_type": "display_data"
        }
      ],
      "source": [
        "# Read in your PDF\n",
        "\n",
        "loader = PDFReader()\n",
        "path = Path('scale-calibration-of-neural-rankers.pdf')\n",
        "ctrl_docs = loader.load_data(file=path)"
      ]
    },
    {
      "cell_type": "code",
      "execution_count": null,
      "metadata": {
        "colab": {
          "base_uri": "https://localhost:8080/",
          "height": 591
        },
        "id": "hHxHW8mDkkk9",
        "outputId": "475b639f-dcb3-4f1f-8442-3aba7cc7b4d8"
      },
      "outputs": [
        {
          "data": {
            "text/html": [
              "\n",
              "  <style>\n",
              "    pre {\n",
              "        white-space: pre-wrap;\n",
              "    }\n",
              "  </style>\n",
              "  "
            ],
            "text/plain": [
              "<IPython.core.display.HTML object>"
            ]
          },
          "metadata": {},
          "output_type": "display_data"
        },
        {
          "data": {
            "text/html": [
              "\n",
              "  <style>\n",
              "    pre {\n",
              "        white-space: pre-wrap;\n",
              "    }\n",
              "  </style>\n",
              "  "
            ],
            "text/plain": [
              "<IPython.core.display.HTML object>"
            ]
          },
          "metadata": {},
          "output_type": "display_data"
        },
        {
          "data": {
            "text/plain": [
              "Document(id_='b375ddec-d6c1-4046-b99d-f6c48513c62b', embedding=None, metadata={'page_label': '7', 'file_name': 'scale-calibration-of-neural-rankers.pdf'}, excluded_embed_metadata_keys=[], excluded_llm_metadata_keys=[], relationships={}, text='Explain then Rank: Scale Calibration of Neural Rankers Using Natural Language Explanations from Large Language Models Conference’17, July 2017, Washington, DC, USA\\nTable 2: Ranking and scale calibration performance of baseline methods and our approaches on two scale calibration datasets\\nTREC and NTCIR. Note that lower is better with calibration metrics (CB-ECE, ECE and MSE). Statistically significant improve-\\nments over “Platt Scaling monoBERT” are marked with†.\\nCollection TREC NTCIR\\nMetricRanking Calibration Ranking Calibration\\nnDCG nDCG@10 CB-ECE ECE MSE nDCG nDCG@10 CB-ECE ECE MSE\\nA Uncalibrated monoBERT 0.799 0.494 1.205 0.320 0.773 0.735 0.337 1.757 0.799 1.824\\nB Post hoc + monoBERT 0.799 0.494 1.141 0.125 0.684 0.735 0.337 1.624 0.457 1.462\\nCFinetune monoBERT 0.776 0.422 1.093 0.221 0.721 0.696 0.268 1.843 0.709 1.874\\nFinetune BERT 0.738 0.327 1.253 0.266 0.785 0.727 0.285 1.756 0.546 1.416\\nD LLM prompting w/ rubrics 0.786 0.457 1.000†1.246 2.137 0.728 0.328 1.294†1.194 2.773\\nE Post hoc + MC Sampling LLM 0.790 0.473 1.165 0.145 0.673 0.736 0.364†1.677 0.472 1.540\\nFLiteral Explanation + BERT 0.815†0.529†0.996†0.067†0.602†0.742 0.340 1.534†0.355†1.330†\\nConditional Explanation + BERT 0.822†0.534†0.862†0.428 0.832 0.720 0.322 1.405†0.257†1.290†\\nMSE\\nSoftmax MultiObj\\nCalibrated Softmax\\nTraining Conditions0.6750.7000.7250.7500.7750.8000.8250.850nDCG\\n0.7100.746\\n0.7100.7380.8100.817\\n0.8100.815\\n0.8060.821\\n0.8060.809Ranking Performance\\nMSE\\nSoftmax MultiObj\\nCalibrated Softmax\\nTraining Conditions0.80.91.01.11.21.3CB-ECE1.2301.291\\n1.2311.253\\n0.9951.081\\n1.001 0.996\\n0.965\\n0.8640.965\\n0.879Scale Calibration PerformanceQuery + Document Literal Explanation Conditional Explanation\\nFigure 2: Ranking and scale calibration performance of the baseline (neural ranker taking query and documents) and NLE-based\\napproaches on TREC, using four different optimization objectives. NLE-based approaches consistently yield better ranking\\n(left) and calibration (right) performance.\\nThe training is conducted over a maximum of 10 epochs, selecting\\nthe best model based on validation set loss. To mitigate the impact\\nof randomness due to the limited dataset size in terms of query\\nnumbers, each experiment is run with 5 different random seeds. The\\nmetrics reported are averaged across these five runs and the statisti-\\ncal significance is determined using t-tests with Bonferroni correc-\\ntion [ 42] at the 95% confidence level. In relation to the components\\nand hyper-parameters used in Algorithm 1, we employ ROUGE-\\nL [19] as the text similarity function Sfollowing Quach et al . [31] .\\nThe similarity threshold 𝜆is set to 0.35, with the sampling budget\\n𝑘𝑙(maximum number of responses) fixed at 20 and 𝑘𝑠(maximumnumber of sentences in the meta NLE) at 30. The repository con-\\ntaining the source code, processed data, and detailed instructions\\nto facilitate the reproduction of the results reported in this study is\\navailable at https://github.com/PxYu/LLM-NLE-for-Calibration.\\n4.5 Results and Analysis\\nRQ1 . The central research question of this study is to determine if\\nNLEs generated by LLMs enhance the calibration and ranking per-\\nformance of neural rankers. We present the main evaluation results\\nin Table 2, categorizing each method according to the classifications\\nestablished in § 4.3 for clear distinction.', start_char_idx=None, end_char_idx=None, text_template='{metadata_str}\\n\\n{content}', metadata_template='{key}: {value}', metadata_seperator='\\n')"
            ]
          },
          "execution_count": 49,
          "metadata": {},
          "output_type": "execute_result"
        }
      ],
      "source": [
        "# Preview a Document\n",
        "ctrl_docs[6]"
      ]
    },
    {
      "cell_type": "markdown",
      "metadata": {
        "id": "OgGAXjYPkz4k"
      },
      "source": [
        "## Create Pinecone serverless index to store and retrieve Document Nodes\n"
      ]
    },
    {
      "cell_type": "code",
      "execution_count": null,
      "metadata": {
        "colab": {
          "base_uri": "https://localhost:8080/",
          "height": 17
        },
        "id": "suwf8mF-f85h",
        "outputId": "91c454b3-c201-49bf-e3f9-9c706be79e32"
      },
      "outputs": [
        {
          "data": {
            "text/html": [
              "\n",
              "  <style>\n",
              "    pre {\n",
              "        white-space: pre-wrap;\n",
              "    }\n",
              "  </style>\n",
              "  "
            ],
            "text/plain": [
              "<IPython.core.display.HTML object>"
            ]
          },
          "metadata": {},
          "output_type": "display_data"
        },
        {
          "data": {
            "text/html": [
              "\n",
              "  <style>\n",
              "    pre {\n",
              "        white-space: pre-wrap;\n",
              "    }\n",
              "  </style>\n",
              "  "
            ],
            "text/plain": [
              "<IPython.core.display.HTML object>"
            ]
          },
          "metadata": {},
          "output_type": "display_data"
        }
      ],
      "source": [
        "os.environ['PINECONE_API_KEY'] = \"<your-key-from-app.pinecone.io>\"  # REPLACE THIS WITH YOUR API KEY!\n",
        "pinecone_api_key = os.getenv(\"PINECONE_API_KEY\")\n",
        "\n",
        "# Initialize connection to Pinecone\n",
        "pc = PineconeGRPC(api_key=pinecone_api_key)\n",
        "index_name = \"structured-data-example\"\n",
        "\n",
        "if index_name not in pc.list_indexes().names():\n",
        "    pc.create_index(\n",
        "        index_name,\n",
        "        dimension=1536,  # Dimensions match encoder (embedder/vectorizer) you will use downstream, ada-002 from OpenAI.\n",
        "        spec=ServerlessSpec(cloud=\"aws\", region=\"us-west-2\"),\n",
        "    )\n",
        "\n",
        "# Initialize your index\n",
        "pinecone_index = pc.Index(index_name)"
      ]
    },
    {
      "cell_type": "code",
      "execution_count": null,
      "metadata": {
        "colab": {
          "base_uri": "https://localhost:8080/",
          "height": 88
        },
        "id": "3VEiPjDk8smd",
        "outputId": "d982a786-d743-4d79-c213-45208eac3a42"
      },
      "outputs": [
        {
          "data": {
            "text/html": [
              "\n",
              "  <style>\n",
              "    pre {\n",
              "        white-space: pre-wrap;\n",
              "    }\n",
              "  </style>\n",
              "  "
            ],
            "text/plain": [
              "<IPython.core.display.HTML object>"
            ]
          },
          "metadata": {},
          "output_type": "display_data"
        },
        {
          "data": {
            "text/html": [
              "\n",
              "  <style>\n",
              "    pre {\n",
              "        white-space: pre-wrap;\n",
              "    }\n",
              "  </style>\n",
              "  "
            ],
            "text/plain": [
              "<IPython.core.display.HTML object>"
            ]
          },
          "metadata": {},
          "output_type": "display_data"
        },
        {
          "data": {
            "text/plain": [
              "{'dimension': 1536,\n",
              " 'index_fullness': 0.0,\n",
              " 'namespaces': {'': {'vector_count': 0}},\n",
              " 'total_vector_count': 0}"
            ]
          },
          "execution_count": 52,
          "metadata": {},
          "output_type": "execute_result"
        }
      ],
      "source": [
        "# Confirm creation of your index & that (if new) it has no vectors in it yet.\n",
        "pinecone_index.describe_index_stats()"
      ]
    },
    {
      "cell_type": "code",
      "execution_count": null,
      "metadata": {
        "colab": {
          "base_uri": "https://localhost:8080/",
          "height": 17
        },
        "id": "QeJxnniVg-Pk",
        "outputId": "d483486e-ecf9-4535-bcee-970dc22404c6"
      },
      "outputs": [
        {
          "data": {
            "text/html": [
              "\n",
              "  <style>\n",
              "    pre {\n",
              "        white-space: pre-wrap;\n",
              "    }\n",
              "  </style>\n",
              "  "
            ],
            "text/plain": [
              "<IPython.core.display.HTML object>"
            ]
          },
          "metadata": {},
          "output_type": "display_data"
        }
      ],
      "source": [
        "# If for any reason you want to delete your Pinecone index and start over, execute this code:\n",
        "# pc.delete_index(index_name)"
      ]
    },
    {
      "cell_type": "markdown",
      "metadata": {
        "id": "MfXGt584gDAN"
      },
      "source": [
        "## Connect to Pinecone via LlamaIndex and build indexing pipeline"
      ]
    },
    {
      "cell_type": "markdown",
      "metadata": {
        "id": "Q55FipLo9GR0"
      },
      "source": [
        "Below, you will build an indexing pipeline via LlamaIndex. You will upload your initial batch of vectors into a Pinecone index, in the `\"control\"` namespace. You will then use this namespace to compare and contrast downstream LLM answers to variants in your experiment.\n",
        "\n",
        "Note: You will need an OpenAI API key for this step."
      ]
    },
    {
      "cell_type": "code",
      "execution_count": null,
      "metadata": {
        "colab": {
          "base_uri": "https://localhost:8080/",
          "height": 17
        },
        "id": "u2CWYlOM-SGB",
        "outputId": "2d795a88-720c-408b-efd3-7392c05076e7"
      },
      "outputs": [
        {
          "data": {
            "text/html": [
              "\n",
              "  <style>\n",
              "    pre {\n",
              "        white-space: pre-wrap;\n",
              "    }\n",
              "  </style>\n",
              "  "
            ],
            "text/plain": [
              "<IPython.core.display.HTML object>"
            ]
          },
          "metadata": {},
          "output_type": "display_data"
        },
        {
          "data": {
            "text/html": [
              "\n",
              "  <style>\n",
              "    pre {\n",
              "        white-space: pre-wrap;\n",
              "    }\n",
              "  </style>\n",
              "  "
            ],
            "text/plain": [
              "<IPython.core.display.HTML object>"
            ]
          },
          "metadata": {},
          "output_type": "display_data"
        }
      ],
      "source": [
        "# Set/Get your OpenAI API Key\n",
        "\n",
        "os.environ['OPENAI_API_KEY'] = \"<your-openai-key>\"  # REPLACE THIS WITH YOUR API KEY!\n",
        "openai_api_key = os.getenv(\"OPENAI_API_KEY\")"
      ]
    },
    {
      "cell_type": "code",
      "execution_count": null,
      "metadata": {
        "colab": {
          "base_uri": "https://localhost:8080/",
          "height": 17
        },
        "id": "RGH76RnKwBus",
        "outputId": "013bb7c9-6163-4e96-fc71-13f4a2247609"
      },
      "outputs": [
        {
          "data": {
            "text/html": [
              "\n",
              "  <style>\n",
              "    pre {\n",
              "        white-space: pre-wrap;\n",
              "    }\n",
              "  </style>\n",
              "  "
            ],
            "text/plain": [
              "<IPython.core.display.HTML object>"
            ]
          },
          "metadata": {},
          "output_type": "display_data"
        },
        {
          "data": {
            "text/html": [
              "\n",
              "  <style>\n",
              "    pre {\n",
              "        white-space: pre-wrap;\n",
              "    }\n",
              "  </style>\n",
              "  "
            ],
            "text/plain": [
              "<IPython.core.display.HTML object>"
            ]
          },
          "metadata": {},
          "output_type": "display_data"
        }
      ],
      "source": [
        "# Declare embedding model you will use throughout notebook:\n",
        "# OpenAI's ada-002 text embedding modal is the model you will use both for Node parsing and for vectorization of PDF contents\n",
        "EMBED_MODEL = OpenAIEmbedding(api_key=openai_api_key)"
      ]
    },
    {
      "cell_type": "code",
      "execution_count": null,
      "metadata": {
        "colab": {
          "base_uri": "https://localhost:8080/",
          "height": 17
        },
        "id": "Jf9lGN6hCEbG",
        "outputId": "e267bd88-6737-4c1d-d69a-a999cc37a8ec"
      },
      "outputs": [
        {
          "data": {
            "text/html": [
              "\n",
              "  <style>\n",
              "    pre {\n",
              "        white-space: pre-wrap;\n",
              "    }\n",
              "  </style>\n",
              "  "
            ],
            "text/plain": [
              "<IPython.core.display.HTML object>"
            ]
          },
          "metadata": {},
          "output_type": "display_data"
        },
        {
          "data": {
            "text/html": [
              "\n",
              "  <style>\n",
              "    pre {\n",
              "        white-space: pre-wrap;\n",
              "    }\n",
              "  </style>\n",
              "  "
            ],
            "text/plain": [
              "<IPython.core.display.HTML object>"
            ]
          },
          "metadata": {},
          "output_type": "display_data"
        }
      ],
      "source": [
        "# You will need to re-define Pinecone as a LlamaIndex PineconeVectorStore obj when you add namespaces, so build a\n",
        "# function to help you do that:\n",
        "def initialize_vector_store(index: PineconeGRPC, namespace: str) -> PineconeVectorStore:\n",
        "    \"\"\"\n",
        "    Initialize Pinecone index as a VectorStore obj.\n",
        "\n",
        "    :param index: Pinecone serverless index.\n",
        "    :param namespace: Namespace constraint you want on your queries, indexing operations, etc. when using this vector store.\n",
        "    :return: PineconeVectorStore obj.\n",
        "    \"\"\"\n",
        "    return PineconeVectorStore(pinecone_index=index, namespace=namespace)\n"
      ]
    },
    {
      "cell_type": "code",
      "execution_count": null,
      "metadata": {
        "colab": {
          "base_uri": "https://localhost:8080/",
          "height": 17
        },
        "id": "k2hgX5kjkzUB",
        "outputId": "f4292a6b-8e04-4ce6-932b-0ba14c5073ad"
      },
      "outputs": [
        {
          "data": {
            "text/html": [
              "\n",
              "  <style>\n",
              "    pre {\n",
              "        white-space: pre-wrap;\n",
              "    }\n",
              "  </style>\n",
              "  "
            ],
            "text/plain": [
              "<IPython.core.display.HTML object>"
            ]
          },
          "metadata": {},
          "output_type": "display_data"
        },
        {
          "data": {
            "text/html": [
              "\n",
              "  <style>\n",
              "    pre {\n",
              "        white-space: pre-wrap;\n",
              "    }\n",
              "  </style>\n",
              "  "
            ],
            "text/plain": [
              "<IPython.core.display.HTML object>"
            ]
          },
          "metadata": {},
          "output_type": "display_data"
        }
      ],
      "source": [
        "def run_indexing_pipeline(vector_store, documents, embed_model=EMBED_MODEL):\n",
        "    # Define pipeline stages\n",
        "    pipeline = IngestionPipeline(\n",
        "        transformations=[\n",
        "            # CleanTextForOpenAI(),  # Clean doc text\n",
        "            SemanticSplitterNodeParser(\n",
        "                buffer_size=1,\n",
        "                breakpoint_percentile_threshold=95,\n",
        "                embed_model=embed_model,\n",
        "                ),\n",
        "            embed_model,  # Vectorize nodes\n",
        "            ],\n",
        "        vector_store=vector_store # Index into Pinecone\n",
        "        )\n",
        "\n",
        "    # Run documents through pipeline\n",
        "    return pipeline.run(documents=documents)\n"
      ]
    },
    {
      "cell_type": "code",
      "execution_count": null,
      "metadata": {
        "colab": {
          "base_uri": "https://localhost:8080/",
          "height": 49,
          "referenced_widgets": [
            "215e257d9fb04bccb56294e896980191",
            "f19030ae29974a40960c10b74da57448",
            "ef005b3de2d54e6daebf4c5e8646c9fc",
            "cd514cf0a991465181bda8f6dddd50b2",
            "8ab1d70479dd474b99130c1b884d9841",
            "6d8ad326ae7549dfb345f920aa4f80a2",
            "73b3ed9119c34b19a6053f7bcddca07f",
            "6f5a6d184238401781982f74518f5bc0",
            "ba5c0de8a8814cd1a885c4d75dbeecf6",
            "4cc572b919844d83adbc9d8200ba333b",
            "aa4fbb29126d46b383f69a48c91f8adc"
          ]
        },
        "id": "34jiuAie_OSG",
        "outputId": "5a798503-bc78-479f-84a9-5f5b6c8110b0"
      },
      "outputs": [
        {
          "data": {
            "text/html": [
              "\n",
              "  <style>\n",
              "    pre {\n",
              "        white-space: pre-wrap;\n",
              "    }\n",
              "  </style>\n",
              "  "
            ],
            "text/plain": [
              "<IPython.core.display.HTML object>"
            ]
          },
          "metadata": {},
          "output_type": "display_data"
        },
        {
          "data": {
            "text/html": [
              "\n",
              "  <style>\n",
              "    pre {\n",
              "        white-space: pre-wrap;\n",
              "    }\n",
              "  </style>\n",
              "  "
            ],
            "text/plain": [
              "<IPython.core.display.HTML object>"
            ]
          },
          "metadata": {},
          "output_type": "display_data"
        },
        {
          "name": "stderr",
          "output_type": "stream",
          "text": [
            "Upserted vectors: 100%|████████████████████████████████████████████| 48/48 [00:00<00:00, 88.20it/s]\n"
          ]
        }
      ],
      "source": [
        "# Declare namespace you will put your first batch of vectors into:\n",
        "ctrl_namespace = 'control'\n",
        "\n",
        "# Initialize vector store w/control namespace\n",
        "ctrl_vector_store = initialize_vector_store(pinecone_index, ctrl_namespace)\n",
        "\n",
        "# Run pipeline\n",
        "output = run_indexing_pipeline(ctrl_vector_store, ctrl_docs)"
      ]
    },
    {
      "cell_type": "code",
      "execution_count": null,
      "metadata": {
        "colab": {
          "base_uri": "https://localhost:8080/",
          "height": 88
        },
        "id": "gY5s2MRFlXYB",
        "outputId": "c5fb33d8-81f4-4d57-d649-8c128b7a041f"
      },
      "outputs": [
        {
          "data": {
            "text/html": [
              "\n",
              "  <style>\n",
              "    pre {\n",
              "        white-space: pre-wrap;\n",
              "    }\n",
              "  </style>\n",
              "  "
            ],
            "text/plain": [
              "<IPython.core.display.HTML object>"
            ]
          },
          "metadata": {},
          "output_type": "display_data"
        },
        {
          "data": {
            "text/html": [
              "\n",
              "  <style>\n",
              "    pre {\n",
              "        white-space: pre-wrap;\n",
              "    }\n",
              "  </style>\n",
              "  "
            ],
            "text/plain": [
              "<IPython.core.display.HTML object>"
            ]
          },
          "metadata": {},
          "output_type": "display_data"
        },
        {
          "data": {
            "text/plain": [
              "{'dimension': 1536,\n",
              " 'index_fullness': 0.0,\n",
              " 'namespaces': {'control': {'vector_count': 48}},\n",
              " 'total_vector_count': 48}"
            ]
          },
          "execution_count": 58,
          "metadata": {},
          "output_type": "execute_result"
        }
      ],
      "source": [
        "# Confirm your docs made it to the index, in the right namespace\n",
        "pinecone_index.describe_index_stats()"
      ]
    },
    {
      "cell_type": "markdown",
      "metadata": {
        "id": "gBxWx48DloCD"
      },
      "source": [
        "# Build RAG pipeline, background on experiments\n",
        "\n",
        "You will run a variety of RAG experiments to figure out which way of vectorizing table data works best (i.e. provides the most accurate answers).\n",
        "\n",
        "You will run two families of experiments:\n",
        "1. Baseline RAG experiment where you do not do anything special to your PDF (this is the \"control\" variant)\n",
        "2. Experimetns where you explicitly vectorize the extracted table elements (`df_1` and `df_2`) in different ways. The different ways you will experiment with are:\n",
        "- Concatenating all row data (`v1`)\n",
        "- Concatenating all row data with header data, too (`v2`)\n",
        "- Concatenating all row data with header data, and with table description data (`v3`)\n",
        "- Injecting table values into a natural language template (`v4`)\n",
        "\n",
        "\n",
        "You ask your LLM the same 7 questions (defined below) across all experiment variants."
      ]
    },
    {
      "cell_type": "markdown",
      "metadata": {
        "id": "97s81i7MlB6J"
      },
      "source": [
        "## Questions\n",
        "\n",
        "You will ask the following 7 questions during each experiment. The answers were given by humans who read the article."
      ]
    },
    {
      "cell_type": "code",
      "execution_count": null,
      "metadata": {
        "colab": {
          "base_uri": "https://localhost:8080/",
          "height": 17
        },
        "id": "bi8mbrHAmxJ1",
        "outputId": "179a4f84-2f01-4f56-f708-21b3b21fdb7c"
      },
      "outputs": [
        {
          "data": {
            "text/html": [
              "\n",
              "  <style>\n",
              "    pre {\n",
              "        white-space: pre-wrap;\n",
              "    }\n",
              "  </style>\n",
              "  "
            ],
            "text/plain": [
              "<IPython.core.display.HTML object>"
            ]
          },
          "metadata": {},
          "output_type": "display_data"
        }
      ],
      "source": [
        "QUERIES = [\n",
        "    \"How does the average query length compare to the average document length in table 1?\",\n",
        "    \"What are the Literal Explanation + BERT method's ndcg@10 scores on both datasets in table 2?\",\n",
        "    \"What impact do natural language explanations (NLEs) have on improving the calibration and overall effectiveness of these models in document ranking tasks?\",\n",
        "    \"How do i interpret table 2's calibration and ranking scores?\",\n",
        "    \"What are the weights of \\\"Uncalibrated monoBERT\\\" tuned on?\",\n",
        "    \"What category was used to build and train literal explanation + BERT? what does this category mean?\",\n",
        "    \"Is the 'trec-dl' in table 1 the same as the 'trec' in table 2?\"\n",
        "]\n",
        "\n",
        "ANSWERS = [\n",
        "    \"The average query length is shorter in TREC (8) than it is in NTCIR (22). The average doc length is also shorter in TREC (70.9 vs 493.2)\",\n",
        "    \"TREC: 0.529; NTCIR: 0.340.\",\n",
        "    \"NLEs lead to better calibrated neural rankers while maintaining or even boosting ranking performance in most scenarios\",\n",
        "    \"Lower is better for calibration, higher is better for ranking\",\n",
        "    \"MSMarco\",\n",
        "    \"Category F: training nle-based neural rankers on calibration data.\",\n",
        "    \"Yes\"\n",
        "]"
      ]
    },
    {
      "cell_type": "markdown",
      "metadata": {
        "id": "UxJqv8rgVQcp"
      },
      "source": [
        "## Build Control RAG pipeline\n",
        "\n",
        "You will use the following RAG pipeline for each of your experiments. It fetches the top `5` semantic search results from Pinecone to use as context to send to your LLM.\n"
      ]
    },
    {
      "cell_type": "code",
      "execution_count": null,
      "metadata": {
        "colab": {
          "base_uri": "https://localhost:8080/",
          "height": 17
        },
        "id": "aP3sKC68R7_7",
        "outputId": "0129ea71-5524-4925-b9f7-c2f9fb52cfa2"
      },
      "outputs": [
        {
          "data": {
            "text/html": [
              "\n",
              "  <style>\n",
              "    pre {\n",
              "        white-space: pre-wrap;\n",
              "    }\n",
              "  </style>\n",
              "  "
            ],
            "text/plain": [
              "<IPython.core.display.HTML object>"
            ]
          },
          "metadata": {},
          "output_type": "display_data"
        }
      ],
      "source": [
        "def run_rag_pipeline(vector_store, queries, k=5, filters=None):\n",
        "    \"\"\"\n",
        "    Send queries to an LLM, having it take context from a vector store (and namespace).\n",
        "\n",
        "    :param vector_store: Your Pinecone vector store.\n",
        "    :param queries: The queries you want to ask your LLM.\n",
        "    :param k: The number of results you want retrieved as context from your Pinecone index.\n",
        "    :param filters: Option to add metadata filters to request if desired.\n",
        "    :return: Tuple of responses from your LLM.\n",
        "    \"\"\"\n",
        "\n",
        "    # Instantiate VectorStoreIndex object from our vector_store object\n",
        "    vector_index = VectorStoreIndex.from_vector_store(vector_store=vector_store)\n",
        "\n",
        "    if not filters:\n",
        "        retriever = VectorIndexRetriever(index=vector_index, similarity_top_k=k, namespace=vector_store.namespace)\n",
        "    else:\n",
        "        retriever = VectorIndexRetriever(index=vector_index, similarity_top_k=k, namespace=vector_store.namespace, filters=filters)\n",
        "\n",
        "    # Query engine\n",
        "    query_engine = RetrieverQueryEngine(retriever=retriever)\n",
        "\n",
        "    # Pass our 7 test queries\n",
        "    responses = ()\n",
        "    for i in queries:\n",
        "        response = query_engine.query(i).response\n",
        "        responses += (response, )\n",
        "\n",
        "    return responses\n"
      ]
    },
    {
      "cell_type": "markdown",
      "metadata": {
        "id": "LkvQKVs5Br2B"
      },
      "source": [
        "# Run experiments"
      ]
    },
    {
      "cell_type": "markdown",
      "metadata": {
        "id": "hZoI6qszB0Zc"
      },
      "source": [
        "## Control variant RAG pipeline"
      ]
    },
    {
      "cell_type": "code",
      "execution_count": null,
      "metadata": {
        "colab": {
          "base_uri": "https://localhost:8080/",
          "height": 17
        },
        "id": "3w_YaeMHlwo4",
        "outputId": "5a954bec-b08f-426b-f29b-a4b459b4005f"
      },
      "outputs": [
        {
          "data": {
            "text/html": [
              "\n",
              "  <style>\n",
              "    pre {\n",
              "        white-space: pre-wrap;\n",
              "    }\n",
              "  </style>\n",
              "  "
            ],
            "text/plain": [
              "<IPython.core.display.HTML object>"
            ]
          },
          "metadata": {},
          "output_type": "display_data"
        }
      ],
      "source": [
        "# Run RAG pipeline for control use case\n",
        "one_ctrl, two_ctrl, three_ctrl, four_ctrl, five_ctrl, six_ctrl, seven_ctrl = run_rag_pipeline(ctrl_vector_store, QUERIES)"
      ]
    },
    {
      "cell_type": "code",
      "execution_count": null,
      "metadata": {
        "colab": {
          "base_uri": "https://localhost:8080/",
          "height": 463
        },
        "id": "TowNyNO8cp8k",
        "outputId": "99eb856c-4faa-4530-a451-c1e222ec94e2"
      },
      "outputs": [
        {
          "data": {
            "text/html": [
              "\n",
              "  <style>\n",
              "    pre {\n",
              "        white-space: pre-wrap;\n",
              "    }\n",
              "  </style>\n",
              "  "
            ],
            "text/plain": [
              "<IPython.core.display.HTML object>"
            ]
          },
          "metadata": {},
          "output_type": "display_data"
        },
        {
          "name": "stdout",
          "output_type": "stream",
          "text": [
            "One: The average query length is shorter compared to the average document length in Table 1.\n",
            "-----\n",
            "Two: 0.529 and 0.534\n",
            "-----\n",
            "Three: Natural language explanations (NLEs) significantly enhance the scale calibration of neural rankers, often maintaining or even boosting ranking performance in most scenarios. They provide valuable insights for document differentiation and lead to statistically significant improvements in scale calibration, resulting in lower calibration error values compared to other calibration methods. Additionally, NLEs help in elucidating the rationale behind system decisions and enhancing task efficacy, ultimately improving the overall effectiveness of these models in document ranking tasks.\n",
            "-----\n",
            "Four: Interpreting Table 2's calibration and ranking scores involves understanding that lower values are better for calibration metrics such as CB-ECE, ECE, and MSE. The table compares the performance of different methods on two scale calibration datasets, TREC and NTCIR, using metrics like nDCG, nDCG@10, CB-ECE, ECE, and MSE. Significant improvements over a baseline method are marked with a dagger symbol. The values in the table represent the performance of each method in terms of ranking and calibration on the respective datasets.       \n",
            "Five: The weights of \"Uncalibrated monoBERT\" are fine-tuned on MS MARCO.\n",
            "-----\n",
            "Six: Category F was used to build and train the literal explanation + BERT. This category involves training NLE-based neural rankers on calibration data. In this method, a BERT model is finetuned to process meta NLEs and produce scale-calibrated ranking scores. Specifically, in the scenario of the literal explanation approach, where each input is represented with two meta NLEs (one for relevance and one for non-relevance), an additional processing step is involved. The hidden states obtained from encoding both NLEs are concatenated, and this concatenated representation is fed into an additional linear layer to transform these combined hidden states into a final ranking score.\n",
            "-----\n",
            "Seven: Yes, the 'trec-dl' in Table 1 is the same as the 'TREC' in Table 2.\n"
          ]
        }
      ],
      "source": [
        "print(f\"One: {one_ctrl}\\n-----\\nTwo: {two_ctrl}\\n-----\\nThree: {three_ctrl}\\n-----\\nFour: {four_ctrl}\\\n",
        "       \\nFive: {five_ctrl}\\n-----\\nSix: {six_ctrl}\\n-----\\nSeven: {seven_ctrl}\")"
      ]
    },
    {
      "cell_type": "code",
      "execution_count": null,
      "metadata": {
        "colab": {
          "base_uri": "https://localhost:8080/",
          "height": 651
        },
        "id": "Zv4gOIXZaue_",
        "outputId": "0801bf6f-2990-4412-da6e-cf7ba7d0bae5"
      },
      "outputs": [
        {
          "data": {
            "text/html": [
              "\n",
              "  <style>\n",
              "    pre {\n",
              "        white-space: pre-wrap;\n",
              "    }\n",
              "  </style>\n",
              "  "
            ],
            "text/plain": [
              "<IPython.core.display.HTML object>"
            ]
          },
          "metadata": {},
          "output_type": "display_data"
        },
        {
          "data": {
            "application/vnd.google.colaboratory.intrinsic+json": {
              "summary": "{\n  \"name\": \"exp_results\",\n  \"rows\": 7,\n  \"fields\": [\n    {\n      \"column\": \"ANSWER\",\n      \"properties\": {\n        \"dtype\": \"string\",\n        \"num_unique_values\": 7,\n        \"samples\": [\n          \"The average query length is shorter in TREC (8) than it is in NTCIR (22). The average doc length is also shorter in TREC (70.9 vs 493.2)\",\n          \"TREC: 0.529; NTCIR: 0.340.\",\n          \"Category F: training nle-based neural rankers on calibration data.\"\n        ],\n        \"semantic_type\": \"\",\n        \"description\": \"\"\n      }\n    },\n    {\n      \"column\": \"control\",\n      \"properties\": {\n        \"dtype\": \"string\",\n        \"num_unique_values\": 7,\n        \"samples\": [\n          \"The average query length is shorter compared to the average document length in Table 1.\",\n          \"0.529 and 0.534\",\n          \"Category F was used to build and train the literal explanation + BERT. This category involves training NLE-based neural rankers on calibration data. In this method, a BERT model is finetuned to process meta NLEs and produce scale-calibrated ranking scores. Specifically, in the scenario of the literal explanation approach, where each input is represented with two meta NLEs (one for relevance and one for non-relevance), an additional processing step is involved. The hidden states obtained from encoding both NLEs are concatenated, and this concatenated representation is fed into an additional linear layer to transform these combined hidden states into a final ranking score.\"\n        ],\n        \"semantic_type\": \"\",\n        \"description\": \"\"\n      }\n    }\n  ]\n}",
              "type": "dataframe",
              "variable_name": "exp_results"
            },
            "text/html": [
              "\n",
              "  <div id=\"df-abe9c9e0-fd12-4fc5-bd68-9443392de388\" class=\"colab-df-container\">\n",
              "    <div>\n",
              "<style scoped>\n",
              "    .dataframe tbody tr th:only-of-type {\n",
              "        vertical-align: middle;\n",
              "    }\n",
              "\n",
              "    .dataframe tbody tr th {\n",
              "        vertical-align: top;\n",
              "    }\n",
              "\n",
              "    .dataframe thead th {\n",
              "        text-align: right;\n",
              "    }\n",
              "</style>\n",
              "<table border=\"1\" class=\"dataframe\">\n",
              "  <thead>\n",
              "    <tr style=\"text-align: right;\">\n",
              "      <th></th>\n",
              "      <th>ANSWER</th>\n",
              "      <th>control</th>\n",
              "    </tr>\n",
              "  </thead>\n",
              "  <tbody>\n",
              "    <tr>\n",
              "      <th>How does the average query length compare to the average document length in table 1?</th>\n",
              "      <td>The average query length is shorter in TREC (8) than it is in NTCIR (22). The average doc length is also shorter in TREC (70.9 vs 493.2)</td>\n",
              "      <td>The average query length is shorter compared to the average document length in Table 1.</td>\n",
              "    </tr>\n",
              "    <tr>\n",
              "      <th>What are the Literal Explanation + BERT method's ndcg@10 scores on both datasets in table 2?</th>\n",
              "      <td>TREC: 0.529; NTCIR: 0.340.</td>\n",
              "      <td>0.529 and 0.534</td>\n",
              "    </tr>\n",
              "    <tr>\n",
              "      <th>What impact do natural language explanations (NLEs) have on improving the calibration and overall effectiveness of these models in document ranking tasks?</th>\n",
              "      <td>NLEs lead to better calibrated neural rankers while maintaining or even boosting ranking performance in most scenarios</td>\n",
              "      <td>Natural language explanations (NLEs) significantly enhance the scale calibration of neural rankers, often maintaining or even boosting ranking performance in most scenarios. They provide valuable insights for document differentiation and lead to statistically significant improvements in scale calibration, resulting in lower calibration error values compared to other calibration methods. Additi...</td>\n",
              "    </tr>\n",
              "    <tr>\n",
              "      <th>How do i interpret table 2's calibration and ranking scores?</th>\n",
              "      <td>Lower is better for calibration, higher is better for ranking</td>\n",
              "      <td>Interpreting Table 2's calibration and ranking scores involves understanding that lower values are better for calibration metrics such as CB-ECE, ECE, and MSE. The table compares the performance of different methods on two scale calibration datasets, TREC and NTCIR, using metrics like nDCG, nDCG@10, CB-ECE, ECE, and MSE. Significant improvements over a baseline method are marked with a dagger ...</td>\n",
              "    </tr>\n",
              "    <tr>\n",
              "      <th>What are the weights of \"Uncalibrated monoBERT\" tuned on?</th>\n",
              "      <td>MSMarco</td>\n",
              "      <td>The weights of \"Uncalibrated monoBERT\" are fine-tuned on MS MARCO.</td>\n",
              "    </tr>\n",
              "    <tr>\n",
              "      <th>What category was used to build and train literal explanation + BERT? what does this category mean?</th>\n",
              "      <td>Category F: training nle-based neural rankers on calibration data.</td>\n",
              "      <td>Category F was used to build and train the literal explanation + BERT. This category involves training NLE-based neural rankers on calibration data. In this method, a BERT model is finetuned to process meta NLEs and produce scale-calibrated ranking scores. Specifically, in the scenario of the literal explanation approach, where each input is represented with two meta NLEs (one for relevance an...</td>\n",
              "    </tr>\n",
              "    <tr>\n",
              "      <th>Is the 'trec-dl' in table 1 the same as the 'trec' in table 2?</th>\n",
              "      <td>Yes</td>\n",
              "      <td>Yes, the 'trec-dl' in Table 1 is the same as the 'TREC' in Table 2.</td>\n",
              "    </tr>\n",
              "  </tbody>\n",
              "</table>\n",
              "</div>\n",
              "    <div class=\"colab-df-buttons\">\n",
              "\n",
              "  <div class=\"colab-df-container\">\n",
              "    <button class=\"colab-df-convert\" onclick=\"convertToInteractive('df-abe9c9e0-fd12-4fc5-bd68-9443392de388')\"\n",
              "            title=\"Convert this dataframe to an interactive table.\"\n",
              "            style=\"display:none;\">\n",
              "\n",
              "  <svg xmlns=\"http://www.w3.org/2000/svg\" height=\"24px\" viewBox=\"0 -960 960 960\">\n",
              "    <path d=\"M120-120v-720h720v720H120Zm60-500h600v-160H180v160Zm220 220h160v-160H400v160Zm0 220h160v-160H400v160ZM180-400h160v-160H180v160Zm440 0h160v-160H620v160ZM180-180h160v-160H180v160Zm440 0h160v-160H620v160Z\"/>\n",
              "  </svg>\n",
              "    </button>\n",
              "\n",
              "  <style>\n",
              "    .colab-df-container {\n",
              "      display:flex;\n",
              "      gap: 12px;\n",
              "    }\n",
              "\n",
              "    .colab-df-convert {\n",
              "      background-color: #E8F0FE;\n",
              "      border: none;\n",
              "      border-radius: 50%;\n",
              "      cursor: pointer;\n",
              "      display: none;\n",
              "      fill: #1967D2;\n",
              "      height: 32px;\n",
              "      padding: 0 0 0 0;\n",
              "      width: 32px;\n",
              "    }\n",
              "\n",
              "    .colab-df-convert:hover {\n",
              "      background-color: #E2EBFA;\n",
              "      box-shadow: 0px 1px 2px rgba(60, 64, 67, 0.3), 0px 1px 3px 1px rgba(60, 64, 67, 0.15);\n",
              "      fill: #174EA6;\n",
              "    }\n",
              "\n",
              "    .colab-df-buttons div {\n",
              "      margin-bottom: 4px;\n",
              "    }\n",
              "\n",
              "    [theme=dark] .colab-df-convert {\n",
              "      background-color: #3B4455;\n",
              "      fill: #D2E3FC;\n",
              "    }\n",
              "\n",
              "    [theme=dark] .colab-df-convert:hover {\n",
              "      background-color: #434B5C;\n",
              "      box-shadow: 0px 1px 3px 1px rgba(0, 0, 0, 0.15);\n",
              "      filter: drop-shadow(0px 1px 2px rgba(0, 0, 0, 0.3));\n",
              "      fill: #FFFFFF;\n",
              "    }\n",
              "  </style>\n",
              "\n",
              "    <script>\n",
              "      const buttonEl =\n",
              "        document.querySelector('#df-abe9c9e0-fd12-4fc5-bd68-9443392de388 button.colab-df-convert');\n",
              "      buttonEl.style.display =\n",
              "        google.colab.kernel.accessAllowed ? 'block' : 'none';\n",
              "\n",
              "      async function convertToInteractive(key) {\n",
              "        const element = document.querySelector('#df-abe9c9e0-fd12-4fc5-bd68-9443392de388');\n",
              "        const dataTable =\n",
              "          await google.colab.kernel.invokeFunction('convertToInteractive',\n",
              "                                                    [key], {});\n",
              "        if (!dataTable) return;\n",
              "\n",
              "        const docLinkHtml = 'Like what you see? Visit the ' +\n",
              "          '<a target=\"_blank\" href=https://colab.research.google.com/notebooks/data_table.ipynb>data table notebook</a>'\n",
              "          + ' to learn more about interactive tables.';\n",
              "        element.innerHTML = '';\n",
              "        dataTable['output_type'] = 'display_data';\n",
              "        await google.colab.output.renderOutput(dataTable, element);\n",
              "        const docLink = document.createElement('div');\n",
              "        docLink.innerHTML = docLinkHtml;\n",
              "        element.appendChild(docLink);\n",
              "      }\n",
              "    </script>\n",
              "  </div>\n",
              "\n",
              "\n",
              "<div id=\"df-2c0ea11b-f60a-4fd2-aed9-1ff4a7d18f96\">\n",
              "  <button class=\"colab-df-quickchart\" onclick=\"quickchart('df-2c0ea11b-f60a-4fd2-aed9-1ff4a7d18f96')\"\n",
              "            title=\"Suggest charts\"\n",
              "            style=\"display:none;\">\n",
              "\n",
              "<svg xmlns=\"http://www.w3.org/2000/svg\" height=\"24px\"viewBox=\"0 0 24 24\"\n",
              "     width=\"24px\">\n",
              "    <g>\n",
              "        <path d=\"M19 3H5c-1.1 0-2 .9-2 2v14c0 1.1.9 2 2 2h14c1.1 0 2-.9 2-2V5c0-1.1-.9-2-2-2zM9 17H7v-7h2v7zm4 0h-2V7h2v10zm4 0h-2v-4h2v4z\"/>\n",
              "    </g>\n",
              "</svg>\n",
              "  </button>\n",
              "\n",
              "<style>\n",
              "  .colab-df-quickchart {\n",
              "      --bg-color: #E8F0FE;\n",
              "      --fill-color: #1967D2;\n",
              "      --hover-bg-color: #E2EBFA;\n",
              "      --hover-fill-color: #174EA6;\n",
              "      --disabled-fill-color: #AAA;\n",
              "      --disabled-bg-color: #DDD;\n",
              "  }\n",
              "\n",
              "  [theme=dark] .colab-df-quickchart {\n",
              "      --bg-color: #3B4455;\n",
              "      --fill-color: #D2E3FC;\n",
              "      --hover-bg-color: #434B5C;\n",
              "      --hover-fill-color: #FFFFFF;\n",
              "      --disabled-bg-color: #3B4455;\n",
              "      --disabled-fill-color: #666;\n",
              "  }\n",
              "\n",
              "  .colab-df-quickchart {\n",
              "    background-color: var(--bg-color);\n",
              "    border: none;\n",
              "    border-radius: 50%;\n",
              "    cursor: pointer;\n",
              "    display: none;\n",
              "    fill: var(--fill-color);\n",
              "    height: 32px;\n",
              "    padding: 0;\n",
              "    width: 32px;\n",
              "  }\n",
              "\n",
              "  .colab-df-quickchart:hover {\n",
              "    background-color: var(--hover-bg-color);\n",
              "    box-shadow: 0 1px 2px rgba(60, 64, 67, 0.3), 0 1px 3px 1px rgba(60, 64, 67, 0.15);\n",
              "    fill: var(--button-hover-fill-color);\n",
              "  }\n",
              "\n",
              "  .colab-df-quickchart-complete:disabled,\n",
              "  .colab-df-quickchart-complete:disabled:hover {\n",
              "    background-color: var(--disabled-bg-color);\n",
              "    fill: var(--disabled-fill-color);\n",
              "    box-shadow: none;\n",
              "  }\n",
              "\n",
              "  .colab-df-spinner {\n",
              "    border: 2px solid var(--fill-color);\n",
              "    border-color: transparent;\n",
              "    border-bottom-color: var(--fill-color);\n",
              "    animation:\n",
              "      spin 1s steps(1) infinite;\n",
              "  }\n",
              "\n",
              "  @keyframes spin {\n",
              "    0% {\n",
              "      border-color: transparent;\n",
              "      border-bottom-color: var(--fill-color);\n",
              "      border-left-color: var(--fill-color);\n",
              "    }\n",
              "    20% {\n",
              "      border-color: transparent;\n",
              "      border-left-color: var(--fill-color);\n",
              "      border-top-color: var(--fill-color);\n",
              "    }\n",
              "    30% {\n",
              "      border-color: transparent;\n",
              "      border-left-color: var(--fill-color);\n",
              "      border-top-color: var(--fill-color);\n",
              "      border-right-color: var(--fill-color);\n",
              "    }\n",
              "    40% {\n",
              "      border-color: transparent;\n",
              "      border-right-color: var(--fill-color);\n",
              "      border-top-color: var(--fill-color);\n",
              "    }\n",
              "    60% {\n",
              "      border-color: transparent;\n",
              "      border-right-color: var(--fill-color);\n",
              "    }\n",
              "    80% {\n",
              "      border-color: transparent;\n",
              "      border-right-color: var(--fill-color);\n",
              "      border-bottom-color: var(--fill-color);\n",
              "    }\n",
              "    90% {\n",
              "      border-color: transparent;\n",
              "      border-bottom-color: var(--fill-color);\n",
              "    }\n",
              "  }\n",
              "</style>\n",
              "\n",
              "  <script>\n",
              "    async function quickchart(key) {\n",
              "      const quickchartButtonEl =\n",
              "        document.querySelector('#' + key + ' button');\n",
              "      quickchartButtonEl.disabled = true;  // To prevent multiple clicks.\n",
              "      quickchartButtonEl.classList.add('colab-df-spinner');\n",
              "      try {\n",
              "        const charts = await google.colab.kernel.invokeFunction(\n",
              "            'suggestCharts', [key], {});\n",
              "      } catch (error) {\n",
              "        console.error('Error during call to suggestCharts:', error);\n",
              "      }\n",
              "      quickchartButtonEl.classList.remove('colab-df-spinner');\n",
              "      quickchartButtonEl.classList.add('colab-df-quickchart-complete');\n",
              "    }\n",
              "    (() => {\n",
              "      let quickchartButtonEl =\n",
              "        document.querySelector('#df-2c0ea11b-f60a-4fd2-aed9-1ff4a7d18f96 button');\n",
              "      quickchartButtonEl.style.display =\n",
              "        google.colab.kernel.accessAllowed ? 'block' : 'none';\n",
              "    })();\n",
              "  </script>\n",
              "</div>\n",
              "    </div>\n",
              "  </div>\n"
            ],
            "text/plain": [
              "                                                                                                                                                                                                                                                                                              ANSWER  \\\n",
              "How does the average query length compare to the average document length in table 1?                                                                        The average query length is shorter in TREC (8) than it is in NTCIR (22). The average doc length is also shorter in TREC (70.9 vs 493.2)   \n",
              "What are the Literal Explanation + BERT method's ndcg@10 scores on both datasets in table 2?                                                                                                                                                                              TREC: 0.529; NTCIR: 0.340.   \n",
              "What impact do natural language explanations (NLEs) have on improving the calibration and overall effectiveness of these models in document ranking tasks?                    NLEs lead to better calibrated neural rankers while maintaining or even boosting ranking performance in most scenarios   \n",
              "How do i interpret table 2's calibration and ranking scores?                                                                                                                                                                           Lower is better for calibration, higher is better for ranking   \n",
              "What are the weights of \"Uncalibrated monoBERT\" tuned on?                                                                                                                                                                                                                                    MSMarco   \n",
              "What category was used to build and train literal explanation + BERT? what does this category mean?                                                                                                                               Category F: training nle-based neural rankers on calibration data.   \n",
              "Is the 'trec-dl' in table 1 the same as the 'trec' in table 2?                                                                                                                                                                                                                                   Yes   \n",
              "\n",
              "                                                                                                                                                                                                                                                                                                                                                                                                                                                                                                                                                                    control  \n",
              "How does the average query length compare to the average document length in table 1?                                                                                                                                                                                                                                                                                                                                                                                                The average query length is shorter compared to the average document length in Table 1.  \n",
              "What are the Literal Explanation + BERT method's ndcg@10 scores on both datasets in table 2?                                                                                                                                                                                                                                                                                                                                                                                                                                                                0.529 and 0.534  \n",
              "What impact do natural language explanations (NLEs) have on improving the calibration and overall effectiveness of these models in document ranking tasks?  Natural language explanations (NLEs) significantly enhance the scale calibration of neural rankers, often maintaining or even boosting ranking performance in most scenarios. They provide valuable insights for document differentiation and lead to statistically significant improvements in scale calibration, resulting in lower calibration error values compared to other calibration methods. Additi...  \n",
              "How do i interpret table 2's calibration and ranking scores?                                                                                                Interpreting Table 2's calibration and ranking scores involves understanding that lower values are better for calibration metrics such as CB-ECE, ECE, and MSE. The table compares the performance of different methods on two scale calibration datasets, TREC and NTCIR, using metrics like nDCG, nDCG@10, CB-ECE, ECE, and MSE. Significant improvements over a baseline method are marked with a dagger ...  \n",
              "What are the weights of \"Uncalibrated monoBERT\" tuned on?                                                                                                                                                                                                                                                                                                                                                                                                                                                The weights of \"Uncalibrated monoBERT\" are fine-tuned on MS MARCO.  \n",
              "What category was used to build and train literal explanation + BERT? what does this category mean?                                                         Category F was used to build and train the literal explanation + BERT. This category involves training NLE-based neural rankers on calibration data. In this method, a BERT model is finetuned to process meta NLEs and produce scale-calibrated ranking scores. Specifically, in the scenario of the literal explanation approach, where each input is represented with two meta NLEs (one for relevance an...  \n",
              "Is the 'trec-dl' in table 1 the same as the 'trec' in table 2?                                                                                                                                                                                                                                                                                                                                                                                                                                          Yes, the 'trec-dl' in Table 1 is the same as the 'TREC' in Table 2.  "
            ]
          },
          "execution_count": 101,
          "metadata": {},
          "output_type": "execute_result"
        }
      ],
      "source": [
        "# Start a dataframe that you can continue to add your results to as you run future experiments\n",
        "ctrl_responses = [{'ANSWER': ANSWERS[0], 'control': one_ctrl},\n",
        "                {'ANSWER': ANSWERS[1], 'control': two_ctrl},\n",
        "                {'ANSWER': ANSWERS[2], 'control': three_ctrl},\n",
        "                {'ANSWER': ANSWERS[3], 'control': four_ctrl},\n",
        "                {'ANSWER': ANSWERS[4], 'control': five_ctrl},\n",
        "                {'ANSWER': ANSWERS[5], 'control': six_ctrl},\n",
        "                {'ANSWER': ANSWERS[6], 'control': seven_ctrl}]\n",
        "\n",
        "exp_results = pd.DataFrame(data=ctrl_responses, index=[QUERIES[0], QUERIES[1], QUERIES[2], QUERIES[3],\n",
        "                                                       QUERIES[4], QUERIES[5], QUERIES[6]])\n",
        "\n",
        "exp_results"
      ]
    },
    {
      "cell_type": "markdown",
      "metadata": {
        "id": "qC_SV_K8oQfi"
      },
      "source": [
        "## Variant 1: concatenate row values\n",
        "\n",
        "For this variant, you will concatenate each row of your extracted tables (stored in `df1` and `df2`). You will then create vectors of each of these rows, upsert them into a Pinecone namespace, and run a RAG pipeline to see how your LLM's responses differ from the actual answers and the control variant's answers, given this vectorization strategy."
      ]
    },
    {
      "cell_type": "code",
      "execution_count": null,
      "metadata": {
        "colab": {
          "base_uri": "https://localhost:8080/",
          "height": 206
        },
        "id": "JIxk-iZCWdLS",
        "outputId": "82875e4f-3e73-4183-f2ca-da253cd3a0ab"
      },
      "outputs": [
        {
          "data": {
            "text/html": [
              "\n",
              "  <style>\n",
              "    pre {\n",
              "        white-space: pre-wrap;\n",
              "    }\n",
              "  </style>\n",
              "  "
            ],
            "text/plain": [
              "<IPython.core.display.HTML object>"
            ]
          },
          "metadata": {},
          "output_type": "display_data"
        },
        {
          "data": {
            "application/vnd.google.colaboratory.intrinsic+json": {
              "summary": "{\n  \"name\": \"df1\",\n  \"rows\": 6,\n  \"fields\": [\n    {\n      \"column\": \"Metric\",\n      \"properties\": {\n        \"dtype\": \"string\",\n        \"num_unique_values\": 6,\n        \"samples\": [\n          \"# Queries (Train/Val/Test)\",\n          \"Avg. # docs per query\",\n          \"Avg. doc. length\"\n        ],\n        \"semantic_type\": \"\",\n        \"description\": \"\"\n      }\n    },\n    {\n      \"column\": \"TREC-DL\",\n      \"properties\": {\n        \"dtype\": \"string\",\n        \"num_unique_values\": 6,\n        \"samples\": [\n          \"| 97/53/67\",\n          \"282.7\",\n          \"70.9\"\n        ],\n        \"semantic_type\": \"\",\n        \"description\": \"\"\n      }\n    },\n    {\n      \"column\": \"NTCIR-14\",\n      \"properties\": {\n        \"dtype\": \"string\",\n        \"num_unique_values\": 6,\n        \"samples\": [\n          \"48/16/16\",\n          \"345.3\",\n          \"493.2\"\n        ],\n        \"semantic_type\": \"\",\n        \"description\": \"\"\n      }\n    }\n  ]\n}",
              "type": "dataframe",
              "variable_name": "df1"
            },
            "text/html": [
              "\n",
              "  <div id=\"df-a7a9ad24-90fd-43cb-b1f7-85ecda0519bf\" class=\"colab-df-container\">\n",
              "    <div>\n",
              "<style scoped>\n",
              "    .dataframe tbody tr th:only-of-type {\n",
              "        vertical-align: middle;\n",
              "    }\n",
              "\n",
              "    .dataframe tbody tr th {\n",
              "        vertical-align: top;\n",
              "    }\n",
              "\n",
              "    .dataframe thead th {\n",
              "        text-align: right;\n",
              "    }\n",
              "</style>\n",
              "<table border=\"1\" class=\"dataframe\">\n",
              "  <thead>\n",
              "    <tr style=\"text-align: right;\">\n",
              "      <th></th>\n",
              "      <th>Metric</th>\n",
              "      <th>TREC-DL</th>\n",
              "      <th>NTCIR-14</th>\n",
              "    </tr>\n",
              "  </thead>\n",
              "  <tbody>\n",
              "    <tr>\n",
              "      <th>0</th>\n",
              "      <td># Queries (Train/Val/Test)</td>\n",
              "      <td>| 97/53/67</td>\n",
              "      <td>48/16/16</td>\n",
              "    </tr>\n",
              "    <tr>\n",
              "      <th>1</th>\n",
              "      <td>Avg. # docs per query</td>\n",
              "      <td>282.7</td>\n",
              "      <td>345.3</td>\n",
              "    </tr>\n",
              "    <tr>\n",
              "      <th>2</th>\n",
              "      <td>Levels of relevance</td>\n",
              "      <td>4</td>\n",
              "      <td>5</td>\n",
              "    </tr>\n",
              "    <tr>\n",
              "      <th>3</th>\n",
              "      <td>Label dist. (low to high)</td>\n",
              "      <td>58/22/14/6</td>\n",
              "      <td>48/23/17/8/3</td>\n",
              "    </tr>\n",
              "    <tr>\n",
              "      <th>4</th>\n",
              "      <td>Avg. query length</td>\n",
              "      <td>8.0</td>\n",
              "      <td>22.0</td>\n",
              "    </tr>\n",
              "  </tbody>\n",
              "</table>\n",
              "</div>\n",
              "    <div class=\"colab-df-buttons\">\n",
              "\n",
              "  <div class=\"colab-df-container\">\n",
              "    <button class=\"colab-df-convert\" onclick=\"convertToInteractive('df-a7a9ad24-90fd-43cb-b1f7-85ecda0519bf')\"\n",
              "            title=\"Convert this dataframe to an interactive table.\"\n",
              "            style=\"display:none;\">\n",
              "\n",
              "  <svg xmlns=\"http://www.w3.org/2000/svg\" height=\"24px\" viewBox=\"0 -960 960 960\">\n",
              "    <path d=\"M120-120v-720h720v720H120Zm60-500h600v-160H180v160Zm220 220h160v-160H400v160Zm0 220h160v-160H400v160ZM180-400h160v-160H180v160Zm440 0h160v-160H620v160ZM180-180h160v-160H180v160Zm440 0h160v-160H620v160Z\"/>\n",
              "  </svg>\n",
              "    </button>\n",
              "\n",
              "  <style>\n",
              "    .colab-df-container {\n",
              "      display:flex;\n",
              "      gap: 12px;\n",
              "    }\n",
              "\n",
              "    .colab-df-convert {\n",
              "      background-color: #E8F0FE;\n",
              "      border: none;\n",
              "      border-radius: 50%;\n",
              "      cursor: pointer;\n",
              "      display: none;\n",
              "      fill: #1967D2;\n",
              "      height: 32px;\n",
              "      padding: 0 0 0 0;\n",
              "      width: 32px;\n",
              "    }\n",
              "\n",
              "    .colab-df-convert:hover {\n",
              "      background-color: #E2EBFA;\n",
              "      box-shadow: 0px 1px 2px rgba(60, 64, 67, 0.3), 0px 1px 3px 1px rgba(60, 64, 67, 0.15);\n",
              "      fill: #174EA6;\n",
              "    }\n",
              "\n",
              "    .colab-df-buttons div {\n",
              "      margin-bottom: 4px;\n",
              "    }\n",
              "\n",
              "    [theme=dark] .colab-df-convert {\n",
              "      background-color: #3B4455;\n",
              "      fill: #D2E3FC;\n",
              "    }\n",
              "\n",
              "    [theme=dark] .colab-df-convert:hover {\n",
              "      background-color: #434B5C;\n",
              "      box-shadow: 0px 1px 3px 1px rgba(0, 0, 0, 0.15);\n",
              "      filter: drop-shadow(0px 1px 2px rgba(0, 0, 0, 0.3));\n",
              "      fill: #FFFFFF;\n",
              "    }\n",
              "  </style>\n",
              "\n",
              "    <script>\n",
              "      const buttonEl =\n",
              "        document.querySelector('#df-a7a9ad24-90fd-43cb-b1f7-85ecda0519bf button.colab-df-convert');\n",
              "      buttonEl.style.display =\n",
              "        google.colab.kernel.accessAllowed ? 'block' : 'none';\n",
              "\n",
              "      async function convertToInteractive(key) {\n",
              "        const element = document.querySelector('#df-a7a9ad24-90fd-43cb-b1f7-85ecda0519bf');\n",
              "        const dataTable =\n",
              "          await google.colab.kernel.invokeFunction('convertToInteractive',\n",
              "                                                    [key], {});\n",
              "        if (!dataTable) return;\n",
              "\n",
              "        const docLinkHtml = 'Like what you see? Visit the ' +\n",
              "          '<a target=\"_blank\" href=https://colab.research.google.com/notebooks/data_table.ipynb>data table notebook</a>'\n",
              "          + ' to learn more about interactive tables.';\n",
              "        element.innerHTML = '';\n",
              "        dataTable['output_type'] = 'display_data';\n",
              "        await google.colab.output.renderOutput(dataTable, element);\n",
              "        const docLink = document.createElement('div');\n",
              "        docLink.innerHTML = docLinkHtml;\n",
              "        element.appendChild(docLink);\n",
              "      }\n",
              "    </script>\n",
              "  </div>\n",
              "\n",
              "\n",
              "<div id=\"df-6419732b-6e36-4d0c-b5dc-c84cd452df39\">\n",
              "  <button class=\"colab-df-quickchart\" onclick=\"quickchart('df-6419732b-6e36-4d0c-b5dc-c84cd452df39')\"\n",
              "            title=\"Suggest charts\"\n",
              "            style=\"display:none;\">\n",
              "\n",
              "<svg xmlns=\"http://www.w3.org/2000/svg\" height=\"24px\"viewBox=\"0 0 24 24\"\n",
              "     width=\"24px\">\n",
              "    <g>\n",
              "        <path d=\"M19 3H5c-1.1 0-2 .9-2 2v14c0 1.1.9 2 2 2h14c1.1 0 2-.9 2-2V5c0-1.1-.9-2-2-2zM9 17H7v-7h2v7zm4 0h-2V7h2v10zm4 0h-2v-4h2v4z\"/>\n",
              "    </g>\n",
              "</svg>\n",
              "  </button>\n",
              "\n",
              "<style>\n",
              "  .colab-df-quickchart {\n",
              "      --bg-color: #E8F0FE;\n",
              "      --fill-color: #1967D2;\n",
              "      --hover-bg-color: #E2EBFA;\n",
              "      --hover-fill-color: #174EA6;\n",
              "      --disabled-fill-color: #AAA;\n",
              "      --disabled-bg-color: #DDD;\n",
              "  }\n",
              "\n",
              "  [theme=dark] .colab-df-quickchart {\n",
              "      --bg-color: #3B4455;\n",
              "      --fill-color: #D2E3FC;\n",
              "      --hover-bg-color: #434B5C;\n",
              "      --hover-fill-color: #FFFFFF;\n",
              "      --disabled-bg-color: #3B4455;\n",
              "      --disabled-fill-color: #666;\n",
              "  }\n",
              "\n",
              "  .colab-df-quickchart {\n",
              "    background-color: var(--bg-color);\n",
              "    border: none;\n",
              "    border-radius: 50%;\n",
              "    cursor: pointer;\n",
              "    display: none;\n",
              "    fill: var(--fill-color);\n",
              "    height: 32px;\n",
              "    padding: 0;\n",
              "    width: 32px;\n",
              "  }\n",
              "\n",
              "  .colab-df-quickchart:hover {\n",
              "    background-color: var(--hover-bg-color);\n",
              "    box-shadow: 0 1px 2px rgba(60, 64, 67, 0.3), 0 1px 3px 1px rgba(60, 64, 67, 0.15);\n",
              "    fill: var(--button-hover-fill-color);\n",
              "  }\n",
              "\n",
              "  .colab-df-quickchart-complete:disabled,\n",
              "  .colab-df-quickchart-complete:disabled:hover {\n",
              "    background-color: var(--disabled-bg-color);\n",
              "    fill: var(--disabled-fill-color);\n",
              "    box-shadow: none;\n",
              "  }\n",
              "\n",
              "  .colab-df-spinner {\n",
              "    border: 2px solid var(--fill-color);\n",
              "    border-color: transparent;\n",
              "    border-bottom-color: var(--fill-color);\n",
              "    animation:\n",
              "      spin 1s steps(1) infinite;\n",
              "  }\n",
              "\n",
              "  @keyframes spin {\n",
              "    0% {\n",
              "      border-color: transparent;\n",
              "      border-bottom-color: var(--fill-color);\n",
              "      border-left-color: var(--fill-color);\n",
              "    }\n",
              "    20% {\n",
              "      border-color: transparent;\n",
              "      border-left-color: var(--fill-color);\n",
              "      border-top-color: var(--fill-color);\n",
              "    }\n",
              "    30% {\n",
              "      border-color: transparent;\n",
              "      border-left-color: var(--fill-color);\n",
              "      border-top-color: var(--fill-color);\n",
              "      border-right-color: var(--fill-color);\n",
              "    }\n",
              "    40% {\n",
              "      border-color: transparent;\n",
              "      border-right-color: var(--fill-color);\n",
              "      border-top-color: var(--fill-color);\n",
              "    }\n",
              "    60% {\n",
              "      border-color: transparent;\n",
              "      border-right-color: var(--fill-color);\n",
              "    }\n",
              "    80% {\n",
              "      border-color: transparent;\n",
              "      border-right-color: var(--fill-color);\n",
              "      border-bottom-color: var(--fill-color);\n",
              "    }\n",
              "    90% {\n",
              "      border-color: transparent;\n",
              "      border-bottom-color: var(--fill-color);\n",
              "    }\n",
              "  }\n",
              "</style>\n",
              "\n",
              "  <script>\n",
              "    async function quickchart(key) {\n",
              "      const quickchartButtonEl =\n",
              "        document.querySelector('#' + key + ' button');\n",
              "      quickchartButtonEl.disabled = true;  // To prevent multiple clicks.\n",
              "      quickchartButtonEl.classList.add('colab-df-spinner');\n",
              "      try {\n",
              "        const charts = await google.colab.kernel.invokeFunction(\n",
              "            'suggestCharts', [key], {});\n",
              "      } catch (error) {\n",
              "        console.error('Error during call to suggestCharts:', error);\n",
              "      }\n",
              "      quickchartButtonEl.classList.remove('colab-df-spinner');\n",
              "      quickchartButtonEl.classList.add('colab-df-quickchart-complete');\n",
              "    }\n",
              "    (() => {\n",
              "      let quickchartButtonEl =\n",
              "        document.querySelector('#df-6419732b-6e36-4d0c-b5dc-c84cd452df39 button');\n",
              "      quickchartButtonEl.style.display =\n",
              "        google.colab.kernel.accessAllowed ? 'block' : 'none';\n",
              "    })();\n",
              "  </script>\n",
              "</div>\n",
              "    </div>\n",
              "  </div>\n"
            ],
            "text/plain": [
              "                       Metric     TREC-DL      NTCIR-14\n",
              "0  # Queries (Train/Val/Test)  | 97/53/67      48/16/16\n",
              "1       Avg. # docs per query       282.7         345.3\n",
              "2         Levels of relevance           4             5\n",
              "3   Label dist. (low to high)  58/22/14/6  48/23/17/8/3\n",
              "4           Avg. query length         8.0          22.0"
            ]
          },
          "execution_count": 102,
          "metadata": {},
          "output_type": "execute_result"
        }
      ],
      "source": [
        "# Quick reminder what your extracted tables look like:\n",
        "# Table 1\n",
        "df1.head()"
      ]
    },
    {
      "cell_type": "code",
      "execution_count": null,
      "metadata": {
        "colab": {
          "base_uri": "https://localhost:8080/",
          "height": 310
        },
        "id": "_aPMmd3cWdQz",
        "outputId": "0cee9382-3516-4c2f-8be3-9ddbf15139f9"
      },
      "outputs": [
        {
          "data": {
            "text/html": [
              "\n",
              "  <style>\n",
              "    pre {\n",
              "        white-space: pre-wrap;\n",
              "    }\n",
              "  </style>\n",
              "  "
            ],
            "text/plain": [
              "<IPython.core.display.HTML object>"
            ]
          },
          "metadata": {},
          "output_type": "display_data"
        },
        {
          "data": {
            "application/vnd.google.colaboratory.intrinsic+json": {
              "summary": "{\n  \"name\": \"df2\",\n  \"rows\": 8,\n  \"fields\": [\n    {\n      \"column\": \"Method\",\n      \"properties\": {\n        \"dtype\": \"string\",\n        \"num_unique_values\": 8,\n        \"samples\": [\n          \"Post hoc + monoBERT\",\n          \"Post hoc + MC Sampling LLM\",\n          \"Uncalibrated monoBERT\"\n        ],\n        \"semantic_type\": \"\",\n        \"description\": \"\"\n      }\n    },\n    {\n      \"column\": \"Category\",\n      \"properties\": {\n        \"dtype\": \"string\",\n        \"num_unique_values\": 6,\n        \"samples\": [\n          \"A\",\n          \"B\",\n          \"F\"\n        ],\n        \"semantic_type\": \"\",\n        \"description\": \"\"\n      }\n    },\n    {\n      \"column\": \"TREC-ndcg\",\n      \"properties\": {\n        \"dtype\": \"string\",\n        \"num_unique_values\": 7,\n        \"samples\": [\n          \"0.799\",\n          \"0.776\",\n          \"0.815*\"\n        ],\n        \"semantic_type\": \"\",\n        \"description\": \"\"\n      }\n    },\n    {\n      \"column\": \"TREC-ndcg@10\",\n      \"properties\": {\n        \"dtype\": \"string\",\n        \"num_unique_values\": 7,\n        \"samples\": [\n          \"0.494\",\n          \"0.422\",\n          \"0.529%\"\n        ],\n        \"semantic_type\": \"\",\n        \"description\": \"\"\n      }\n    },\n    {\n      \"column\": \"TREC-CB-ECE\",\n      \"properties\": {\n        \"dtype\": \"string\",\n        \"num_unique_values\": 8,\n        \"samples\": [\n          \"1.141\",\n          \"1.165\",\n          \"1.205\"\n        ],\n        \"semantic_type\": \"\",\n        \"description\": \"\"\n      }\n    },\n    {\n      \"column\": \"TREC-ECE\",\n      \"properties\": {\n        \"dtype\": \"string\",\n        \"num_unique_values\": 8,\n        \"samples\": [\n          \"0.125\",\n          \"0.145\",\n          \"0.320\"\n        ],\n        \"semantic_type\": \"\",\n        \"description\": \"\"\n      }\n    },\n    {\n      \"column\": \"TREC-MSE\",\n      \"properties\": {\n        \"dtype\": \"string\",\n        \"num_unique_values\": 8,\n        \"samples\": [\n          \"0.684\",\n          \"0.673\",\n          \"0.773\"\n        ],\n        \"semantic_type\": \"\",\n        \"description\": \"\"\n      }\n    },\n    {\n      \"column\": \"NTCIR-ndcg\",\n      \"properties\": {\n        \"dtype\": \"string\",\n        \"num_unique_values\": 7,\n        \"samples\": [\n          \"| 0.735\",\n          \"0.696\",\n          \"0.742\"\n        ],\n        \"semantic_type\": \"\",\n        \"description\": \"\"\n      }\n    },\n    {\n      \"column\": \"NTCIR-ndcg@10\",\n      \"properties\": {\n        \"dtype\": \"string\",\n        \"num_unique_values\": 7,\n        \"samples\": [\n          \"0.337\",\n          \"0.268\",\n          \"0.340\"\n        ],\n        \"semantic_type\": \"\",\n        \"description\": \"\"\n      }\n    },\n    {\n      \"column\": \"NTCIR-CB-ECE\",\n      \"properties\": {\n        \"dtype\": \"string\",\n        \"num_unique_values\": 8,\n        \"samples\": [\n          \"1.624\",\n          \"1.677\",\n          \"1.757\"\n        ],\n        \"semantic_type\": \"\",\n        \"description\": \"\"\n      }\n    },\n    {\n      \"column\": \"NTCIR-ECE\",\n      \"properties\": {\n        \"dtype\": \"string\",\n        \"num_unique_values\": 8,\n        \"samples\": [\n          \"0.457\",\n          \"0.472\",\n          \"0.799\"\n        ],\n        \"semantic_type\": \"\",\n        \"description\": \"\"\n      }\n    },\n    {\n      \"column\": \"NTCIR-MSE\",\n      \"properties\": {\n        \"dtype\": \"string\",\n        \"num_unique_values\": 8,\n        \"samples\": [\n          \"1.462\",\n          \"\\u20181.540\",\n          \"1.824\"\n        ],\n        \"semantic_type\": \"\",\n        \"description\": \"\"\n      }\n    }\n  ]\n}",
              "type": "dataframe",
              "variable_name": "df2"
            },
            "text/html": [
              "\n",
              "  <div id=\"df-b5e12db8-81bb-4bb4-a332-17c90730a4ce\" class=\"colab-df-container\">\n",
              "    <div>\n",
              "<style scoped>\n",
              "    .dataframe tbody tr th:only-of-type {\n",
              "        vertical-align: middle;\n",
              "    }\n",
              "\n",
              "    .dataframe tbody tr th {\n",
              "        vertical-align: top;\n",
              "    }\n",
              "\n",
              "    .dataframe thead th {\n",
              "        text-align: right;\n",
              "    }\n",
              "</style>\n",
              "<table border=\"1\" class=\"dataframe\">\n",
              "  <thead>\n",
              "    <tr style=\"text-align: right;\">\n",
              "      <th></th>\n",
              "      <th>Method</th>\n",
              "      <th>Category</th>\n",
              "      <th>TREC-ndcg</th>\n",
              "      <th>TREC-ndcg@10</th>\n",
              "      <th>TREC-CB-ECE</th>\n",
              "      <th>TREC-ECE</th>\n",
              "      <th>TREC-MSE</th>\n",
              "      <th>NTCIR-ndcg</th>\n",
              "      <th>NTCIR-ndcg@10</th>\n",
              "      <th>NTCIR-CB-ECE</th>\n",
              "      <th>NTCIR-ECE</th>\n",
              "      <th>NTCIR-MSE</th>\n",
              "    </tr>\n",
              "  </thead>\n",
              "  <tbody>\n",
              "    <tr>\n",
              "      <th>0</th>\n",
              "      <td>Uncalibrated monoBERT</td>\n",
              "      <td>A</td>\n",
              "      <td>0.799</td>\n",
              "      <td>0.494</td>\n",
              "      <td>1.205</td>\n",
              "      <td>0.320</td>\n",
              "      <td>0.773</td>\n",
              "      <td>| 0.735</td>\n",
              "      <td>0.337</td>\n",
              "      <td>1.757</td>\n",
              "      <td>0.799</td>\n",
              "      <td>1.824</td>\n",
              "    </tr>\n",
              "    <tr>\n",
              "      <th>1</th>\n",
              "      <td>Post hoc + monoBERT</td>\n",
              "      <td>B</td>\n",
              "      <td>0.799</td>\n",
              "      <td>0.494</td>\n",
              "      <td>1.141</td>\n",
              "      <td>0.125</td>\n",
              "      <td>0.684</td>\n",
              "      <td>| 0.735</td>\n",
              "      <td>0.337</td>\n",
              "      <td>1.624</td>\n",
              "      <td>0.457</td>\n",
              "      <td>1.462</td>\n",
              "    </tr>\n",
              "    <tr>\n",
              "      <th>2</th>\n",
              "      <td>Finetune monoBERT</td>\n",
              "      <td>C</td>\n",
              "      <td>0.776</td>\n",
              "      <td>0.422</td>\n",
              "      <td>1.093</td>\n",
              "      <td>0.221</td>\n",
              "      <td>-~—«0.721 |</td>\n",
              "      <td>0.696</td>\n",
              "      <td>0.268</td>\n",
              "      <td>1.843</td>\n",
              "      <td>0.709</td>\n",
              "      <td>‘1.874</td>\n",
              "    </tr>\n",
              "    <tr>\n",
              "      <th>3</th>\n",
              "      <td>Finetune BERT</td>\n",
              "      <td>C</td>\n",
              "      <td>0.738</td>\n",
              "      <td>0.327</td>\n",
              "      <td>1.253</td>\n",
              "      <td>0.266</td>\n",
              "      <td>~=—0.785_ |</td>\n",
              "      <td>_ 0.727</td>\n",
              "      <td>0.285</td>\n",
              "      <td>1.756</td>\n",
              "      <td>0.546</td>\n",
              "      <td>«1.416</td>\n",
              "    </tr>\n",
              "    <tr>\n",
              "      <th>4</th>\n",
              "      <td>LLM prompting w/ rubrics</td>\n",
              "      <td>D</td>\n",
              "      <td>0.786</td>\n",
              "      <td>0.457</td>\n",
              "      <td>1.000'</td>\n",
              "      <td>1.246</td>\n",
              "      <td>«2.137</td>\n",
              "      <td>| 0.728</td>\n",
              "      <td>0.328</td>\n",
              "      <td>1.2947</td>\n",
              "      <td>1.194</td>\n",
              "      <td>2.773</td>\n",
              "    </tr>\n",
              "  </tbody>\n",
              "</table>\n",
              "</div>\n",
              "    <div class=\"colab-df-buttons\">\n",
              "\n",
              "  <div class=\"colab-df-container\">\n",
              "    <button class=\"colab-df-convert\" onclick=\"convertToInteractive('df-b5e12db8-81bb-4bb4-a332-17c90730a4ce')\"\n",
              "            title=\"Convert this dataframe to an interactive table.\"\n",
              "            style=\"display:none;\">\n",
              "\n",
              "  <svg xmlns=\"http://www.w3.org/2000/svg\" height=\"24px\" viewBox=\"0 -960 960 960\">\n",
              "    <path d=\"M120-120v-720h720v720H120Zm60-500h600v-160H180v160Zm220 220h160v-160H400v160Zm0 220h160v-160H400v160ZM180-400h160v-160H180v160Zm440 0h160v-160H620v160ZM180-180h160v-160H180v160Zm440 0h160v-160H620v160Z\"/>\n",
              "  </svg>\n",
              "    </button>\n",
              "\n",
              "  <style>\n",
              "    .colab-df-container {\n",
              "      display:flex;\n",
              "      gap: 12px;\n",
              "    }\n",
              "\n",
              "    .colab-df-convert {\n",
              "      background-color: #E8F0FE;\n",
              "      border: none;\n",
              "      border-radius: 50%;\n",
              "      cursor: pointer;\n",
              "      display: none;\n",
              "      fill: #1967D2;\n",
              "      height: 32px;\n",
              "      padding: 0 0 0 0;\n",
              "      width: 32px;\n",
              "    }\n",
              "\n",
              "    .colab-df-convert:hover {\n",
              "      background-color: #E2EBFA;\n",
              "      box-shadow: 0px 1px 2px rgba(60, 64, 67, 0.3), 0px 1px 3px 1px rgba(60, 64, 67, 0.15);\n",
              "      fill: #174EA6;\n",
              "    }\n",
              "\n",
              "    .colab-df-buttons div {\n",
              "      margin-bottom: 4px;\n",
              "    }\n",
              "\n",
              "    [theme=dark] .colab-df-convert {\n",
              "      background-color: #3B4455;\n",
              "      fill: #D2E3FC;\n",
              "    }\n",
              "\n",
              "    [theme=dark] .colab-df-convert:hover {\n",
              "      background-color: #434B5C;\n",
              "      box-shadow: 0px 1px 3px 1px rgba(0, 0, 0, 0.15);\n",
              "      filter: drop-shadow(0px 1px 2px rgba(0, 0, 0, 0.3));\n",
              "      fill: #FFFFFF;\n",
              "    }\n",
              "  </style>\n",
              "\n",
              "    <script>\n",
              "      const buttonEl =\n",
              "        document.querySelector('#df-b5e12db8-81bb-4bb4-a332-17c90730a4ce button.colab-df-convert');\n",
              "      buttonEl.style.display =\n",
              "        google.colab.kernel.accessAllowed ? 'block' : 'none';\n",
              "\n",
              "      async function convertToInteractive(key) {\n",
              "        const element = document.querySelector('#df-b5e12db8-81bb-4bb4-a332-17c90730a4ce');\n",
              "        const dataTable =\n",
              "          await google.colab.kernel.invokeFunction('convertToInteractive',\n",
              "                                                    [key], {});\n",
              "        if (!dataTable) return;\n",
              "\n",
              "        const docLinkHtml = 'Like what you see? Visit the ' +\n",
              "          '<a target=\"_blank\" href=https://colab.research.google.com/notebooks/data_table.ipynb>data table notebook</a>'\n",
              "          + ' to learn more about interactive tables.';\n",
              "        element.innerHTML = '';\n",
              "        dataTable['output_type'] = 'display_data';\n",
              "        await google.colab.output.renderOutput(dataTable, element);\n",
              "        const docLink = document.createElement('div');\n",
              "        docLink.innerHTML = docLinkHtml;\n",
              "        element.appendChild(docLink);\n",
              "      }\n",
              "    </script>\n",
              "  </div>\n",
              "\n",
              "\n",
              "<div id=\"df-6973a6a0-303b-4a8b-ae1d-60ef3954f3ca\">\n",
              "  <button class=\"colab-df-quickchart\" onclick=\"quickchart('df-6973a6a0-303b-4a8b-ae1d-60ef3954f3ca')\"\n",
              "            title=\"Suggest charts\"\n",
              "            style=\"display:none;\">\n",
              "\n",
              "<svg xmlns=\"http://www.w3.org/2000/svg\" height=\"24px\"viewBox=\"0 0 24 24\"\n",
              "     width=\"24px\">\n",
              "    <g>\n",
              "        <path d=\"M19 3H5c-1.1 0-2 .9-2 2v14c0 1.1.9 2 2 2h14c1.1 0 2-.9 2-2V5c0-1.1-.9-2-2-2zM9 17H7v-7h2v7zm4 0h-2V7h2v10zm4 0h-2v-4h2v4z\"/>\n",
              "    </g>\n",
              "</svg>\n",
              "  </button>\n",
              "\n",
              "<style>\n",
              "  .colab-df-quickchart {\n",
              "      --bg-color: #E8F0FE;\n",
              "      --fill-color: #1967D2;\n",
              "      --hover-bg-color: #E2EBFA;\n",
              "      --hover-fill-color: #174EA6;\n",
              "      --disabled-fill-color: #AAA;\n",
              "      --disabled-bg-color: #DDD;\n",
              "  }\n",
              "\n",
              "  [theme=dark] .colab-df-quickchart {\n",
              "      --bg-color: #3B4455;\n",
              "      --fill-color: #D2E3FC;\n",
              "      --hover-bg-color: #434B5C;\n",
              "      --hover-fill-color: #FFFFFF;\n",
              "      --disabled-bg-color: #3B4455;\n",
              "      --disabled-fill-color: #666;\n",
              "  }\n",
              "\n",
              "  .colab-df-quickchart {\n",
              "    background-color: var(--bg-color);\n",
              "    border: none;\n",
              "    border-radius: 50%;\n",
              "    cursor: pointer;\n",
              "    display: none;\n",
              "    fill: var(--fill-color);\n",
              "    height: 32px;\n",
              "    padding: 0;\n",
              "    width: 32px;\n",
              "  }\n",
              "\n",
              "  .colab-df-quickchart:hover {\n",
              "    background-color: var(--hover-bg-color);\n",
              "    box-shadow: 0 1px 2px rgba(60, 64, 67, 0.3), 0 1px 3px 1px rgba(60, 64, 67, 0.15);\n",
              "    fill: var(--button-hover-fill-color);\n",
              "  }\n",
              "\n",
              "  .colab-df-quickchart-complete:disabled,\n",
              "  .colab-df-quickchart-complete:disabled:hover {\n",
              "    background-color: var(--disabled-bg-color);\n",
              "    fill: var(--disabled-fill-color);\n",
              "    box-shadow: none;\n",
              "  }\n",
              "\n",
              "  .colab-df-spinner {\n",
              "    border: 2px solid var(--fill-color);\n",
              "    border-color: transparent;\n",
              "    border-bottom-color: var(--fill-color);\n",
              "    animation:\n",
              "      spin 1s steps(1) infinite;\n",
              "  }\n",
              "\n",
              "  @keyframes spin {\n",
              "    0% {\n",
              "      border-color: transparent;\n",
              "      border-bottom-color: var(--fill-color);\n",
              "      border-left-color: var(--fill-color);\n",
              "    }\n",
              "    20% {\n",
              "      border-color: transparent;\n",
              "      border-left-color: var(--fill-color);\n",
              "      border-top-color: var(--fill-color);\n",
              "    }\n",
              "    30% {\n",
              "      border-color: transparent;\n",
              "      border-left-color: var(--fill-color);\n",
              "      border-top-color: var(--fill-color);\n",
              "      border-right-color: var(--fill-color);\n",
              "    }\n",
              "    40% {\n",
              "      border-color: transparent;\n",
              "      border-right-color: var(--fill-color);\n",
              "      border-top-color: var(--fill-color);\n",
              "    }\n",
              "    60% {\n",
              "      border-color: transparent;\n",
              "      border-right-color: var(--fill-color);\n",
              "    }\n",
              "    80% {\n",
              "      border-color: transparent;\n",
              "      border-right-color: var(--fill-color);\n",
              "      border-bottom-color: var(--fill-color);\n",
              "    }\n",
              "    90% {\n",
              "      border-color: transparent;\n",
              "      border-bottom-color: var(--fill-color);\n",
              "    }\n",
              "  }\n",
              "</style>\n",
              "\n",
              "  <script>\n",
              "    async function quickchart(key) {\n",
              "      const quickchartButtonEl =\n",
              "        document.querySelector('#' + key + ' button');\n",
              "      quickchartButtonEl.disabled = true;  // To prevent multiple clicks.\n",
              "      quickchartButtonEl.classList.add('colab-df-spinner');\n",
              "      try {\n",
              "        const charts = await google.colab.kernel.invokeFunction(\n",
              "            'suggestCharts', [key], {});\n",
              "      } catch (error) {\n",
              "        console.error('Error during call to suggestCharts:', error);\n",
              "      }\n",
              "      quickchartButtonEl.classList.remove('colab-df-spinner');\n",
              "      quickchartButtonEl.classList.add('colab-df-quickchart-complete');\n",
              "    }\n",
              "    (() => {\n",
              "      let quickchartButtonEl =\n",
              "        document.querySelector('#df-6973a6a0-303b-4a8b-ae1d-60ef3954f3ca button');\n",
              "      quickchartButtonEl.style.display =\n",
              "        google.colab.kernel.accessAllowed ? 'block' : 'none';\n",
              "    })();\n",
              "  </script>\n",
              "</div>\n",
              "    </div>\n",
              "  </div>\n"
            ],
            "text/plain": [
              "                     Method Category TREC-ndcg TREC-ndcg@10 TREC-CB-ECE  \\\n",
              "0     Uncalibrated monoBERT        A     0.799        0.494       1.205   \n",
              "1       Post hoc + monoBERT        B     0.799        0.494       1.141   \n",
              "2         Finetune monoBERT        C     0.776        0.422       1.093   \n",
              "3             Finetune BERT        C     0.738        0.327       1.253   \n",
              "4  LLM prompting w/ rubrics        D     0.786        0.457      1.000'   \n",
              "\n",
              "  TREC-ECE     TREC-MSE NTCIR-ndcg NTCIR-ndcg@10 NTCIR-CB-ECE NTCIR-ECE  \\\n",
              "0    0.320        0.773    | 0.735         0.337        1.757     0.799   \n",
              "1    0.125        0.684    | 0.735         0.337        1.624     0.457   \n",
              "2    0.221  -~—«0.721 |      0.696         0.268        1.843     0.709   \n",
              "3    0.266  ~=—0.785_ |    _ 0.727         0.285        1.756     0.546   \n",
              "4    1.246       «2.137    | 0.728         0.328       1.2947     1.194   \n",
              "\n",
              "  NTCIR-MSE  \n",
              "0     1.824  \n",
              "1     1.462  \n",
              "2    ‘1.874  \n",
              "3    «1.416  \n",
              "4     2.773  "
            ]
          },
          "execution_count": 48,
          "metadata": {},
          "output_type": "execute_result"
        }
      ],
      "source": [
        "# Table 2\n",
        "df2.head()"
      ]
    },
    {
      "cell_type": "code",
      "execution_count": null,
      "metadata": {
        "colab": {
          "base_uri": "https://localhost:8080/",
          "height": 17
        },
        "id": "D65mGZOMUuFx",
        "outputId": "7b319725-4332-4768-d897-4934e9aa19db"
      },
      "outputs": [
        {
          "data": {
            "text/html": [
              "\n",
              "  <style>\n",
              "    pre {\n",
              "        white-space: pre-wrap;\n",
              "    }\n",
              "  </style>\n",
              "  "
            ],
            "text/plain": [
              "<IPython.core.display.HTML object>"
            ]
          },
          "metadata": {},
          "output_type": "display_data"
        }
      ],
      "source": [
        "# Define function to iterate through your dataframes and concatenate each row's data to itself:\n",
        "\n",
        "def concat_row_values(dataframe: pd.DataFrame) -> list[str]:\n",
        "    \"\"\"\n",
        "    Concatenate all values per row in a dataframe, separated by \", \".\n",
        "\n",
        "    :param: Dataframe containing rows you want to concatenate.\n",
        "    :return: Concatenated row values.\n",
        "    \"\"\"\n",
        "    return dataframe.apply(lambda row: ', '.join(row.astype(str)), axis=1).tolist()"
      ]
    },
    {
      "cell_type": "code",
      "execution_count": null,
      "metadata": {
        "colab": {
          "base_uri": "https://localhost:8080/",
          "height": 17
        },
        "id": "0CWTNKLZUuL2",
        "outputId": "a1e2371c-5d1b-4a60-bef4-1b3f4c2d6e1b"
      },
      "outputs": [
        {
          "data": {
            "text/html": [
              "\n",
              "  <style>\n",
              "    pre {\n",
              "        white-space: pre-wrap;\n",
              "    }\n",
              "  </style>\n",
              "  "
            ],
            "text/plain": [
              "<IPython.core.display.HTML object>"
            ]
          },
          "metadata": {},
          "output_type": "display_data"
        }
      ],
      "source": [
        "df1_concat_rows = concat_row_values(df1)\n",
        "df2_concat_rows = concat_row_values(df2)"
      ]
    },
    {
      "cell_type": "code",
      "execution_count": null,
      "metadata": {
        "colab": {
          "base_uri": "https://localhost:8080/",
          "height": 160
        },
        "id": "5O4SYCFRUuTQ",
        "outputId": "5d4b7d65-d535-46b1-d6eb-bd57dc84713c"
      },
      "outputs": [
        {
          "data": {
            "text/html": [
              "\n",
              "  <style>\n",
              "    pre {\n",
              "        white-space: pre-wrap;\n",
              "    }\n",
              "  </style>\n",
              "  "
            ],
            "text/plain": [
              "<IPython.core.display.HTML object>"
            ]
          },
          "metadata": {},
          "output_type": "display_data"
        },
        {
          "data": {
            "text/plain": [
              "['Uncalibrated monoBERT, A, 0.799, 0.494, 1.205, 0.320, 0.773, | 0.735, 0.337, 1.757, 0.799, 1.824',\n",
              " 'Post hoc + monoBERT, B, 0.799, 0.494, 1.141, 0.125, 0.684, | 0.735, 0.337, 1.624, 0.457, 1.462',\n",
              " 'Finetune monoBERT, C, 0.776, 0.422, 1.093, 0.221, -~—«0.721 |, 0.696, 0.268, 1.843, 0.709, ‘1.874',\n",
              " 'Finetune BERT, C, 0.738, 0.327, 1.253, 0.266, ~=—0.785_ |, _ 0.727, 0.285, 1.756, 0.546, «1.416',\n",
              " \"LLM prompting w/ rubrics, D, 0.786, 0.457, 1.000', 1.246, «2.137, | 0.728, 0.328, 1.2947, 1.194, 2.773\",\n",
              " 'Post hoc + MC Sampling LLM, E, 0.790, 0.473, 1.165, 0.145, 0.673, | 0.736, 0.364\", 1.677, 0.472, ‘1.540',\n",
              " 'Literal Explanation + BERT, F, 0.815*, 0.529%, 0.996°, 0.067*, 0.602\" |, 0.742, 0.340, 1.534\", 0.355, 1.3307',\n",
              " \"Conditional Explanation + BERT, F, 0.822, —0.534*, 0.862', 0.428, ~—0.832_ |, 0.720, 0.322, 1.405', 0.2577, 1.2907\"]"
            ]
          },
          "execution_count": 51,
          "metadata": {},
          "output_type": "execute_result"
        }
      ],
      "source": [
        "# Preview, nice!\n",
        "df2_concat_rows"
      ]
    },
    {
      "cell_type": "code",
      "execution_count": null,
      "metadata": {
        "colab": {
          "base_uri": "https://localhost:8080/",
          "height": 17
        },
        "id": "2eLbJXwiHg0j",
        "outputId": "bc62f291-1ee8-4a70-d21c-c186caad8c82"
      },
      "outputs": [
        {
          "data": {
            "text/html": [
              "\n",
              "  <style>\n",
              "    pre {\n",
              "        white-space: pre-wrap;\n",
              "    }\n",
              "  </style>\n",
              "  "
            ],
            "text/plain": [
              "<IPython.core.display.HTML object>"
            ]
          },
          "metadata": {},
          "output_type": "display_data"
        }
      ],
      "source": [
        "# Now you need to write a function to turn items into aLlamaIndex Document objs so they can go in your indexing pipeline downstream:\n",
        "\n",
        "def turn_data_into_documents(rows: list[str]) -> list[Document]:\n",
        "    \"\"\"\n",
        "    Transform data into LlamaIndex Document objects.\n",
        "    Document obj: llama_index >> core >> schema.py\n",
        "\n",
        "    :param rows: Data you want to turn into Documents.\n",
        "    :return: Document objects.\n",
        "    \"\"\"\n",
        "    docs = []\n",
        "    for i in rows:\n",
        "        doc = Document(text=i)\n",
        "        docs.append(doc)\n",
        "    return docs"
      ]
    },
    {
      "cell_type": "code",
      "execution_count": null,
      "metadata": {
        "colab": {
          "base_uri": "https://localhost:8080/",
          "height": 17
        },
        "id": "d6Pc6qCIWoi0",
        "outputId": "c48cfb3f-5b16-43bb-d348-a037233afa69"
      },
      "outputs": [
        {
          "data": {
            "text/html": [
              "\n",
              "  <style>\n",
              "    pre {\n",
              "        white-space: pre-wrap;\n",
              "    }\n",
              "  </style>\n",
              "  "
            ],
            "text/plain": [
              "<IPython.core.display.HTML object>"
            ]
          },
          "metadata": {},
          "output_type": "display_data"
        }
      ],
      "source": [
        "# Turn each concatenated row into Document objs:\n",
        "df1_concat_rows_docs = turn_data_into_documents(df1_concat_rows)\n",
        "df2_concat_rows_docs = turn_data_into_documents(df2_concat_rows)"
      ]
    },
    {
      "cell_type": "markdown",
      "metadata": {
        "id": "GzNJ_372H0w8"
      },
      "source": [
        "### Run indexing pipeline"
      ]
    },
    {
      "cell_type": "code",
      "execution_count": null,
      "metadata": {
        "colab": {
          "base_uri": "https://localhost:8080/",
          "height": 49,
          "referenced_widgets": [
            "29b9d7ea1f6e4504addd5ad8d8094a68",
            "c534b899e5bf427fb80780fe74711a3d",
            "6b5f68eab8914004a0d7aed9df26fab4",
            "5236fbbb0985478288e8541e86c9a1c3",
            "4d28abd8c5cc43a49ce40a45e287c80f",
            "fc8c4b4878e946bca4eaf003d51f6ced",
            "409a62cb3d1a4731bb0f11085c06de0a",
            "f7b961f8a229446fabbcd7a36a7d268b",
            "51ada96bb02d4f87ba945ad78d7c6982",
            "1650f4bf872847d49da334889f330536",
            "d1abd91d47804e94add09540adc7f8a7"
          ]
        },
        "id": "8aZ0_uzlWouy",
        "outputId": "aa26f3e7-1ff6-443c-8886-e26ce1affa2b"
      },
      "outputs": [
        {
          "data": {
            "text/html": [
              "\n",
              "  <style>\n",
              "    pre {\n",
              "        white-space: pre-wrap;\n",
              "    }\n",
              "  </style>\n",
              "  "
            ],
            "text/plain": [
              "<IPython.core.display.HTML object>"
            ]
          },
          "metadata": {},
          "output_type": "display_data"
        },
        {
          "data": {
            "application/vnd.jupyter.widget-view+json": {
              "model_id": "29b9d7ea1f6e4504addd5ad8d8094a68",
              "version_major": 2,
              "version_minor": 0
            },
            "text/plain": [
              "Upserted vectors:   0%|          | 0/63 [00:00<?, ?it/s]"
            ]
          },
          "metadata": {},
          "output_type": "display_data"
        }
      ],
      "source": [
        "# Define namespace for Variant 1\n",
        "v1_namespace = 'v1'\n",
        "\n",
        "# Initialize vector store w/v1 namespace\n",
        "v1_vector_store = initialize_vector_store(pinecone_index, v1_namespace)\n",
        "\n",
        "# Define docs you'll send through indexing pipeline into v1_namespace\n",
        "# You will combine the table contents you defined above w/the regular PDF contents from control\n",
        "v1_docs = df1_concat_rows_docs + df2_concat_rows_docs + ctrl_docs\n",
        "\n",
        "# Run pipeline\n",
        "output = run_indexing_pipeline(v1_vector_store, v1_docs)"
      ]
    },
    {
      "cell_type": "code",
      "execution_count": null,
      "metadata": {
        "id": "ryJ_-HMOXVhK"
      },
      "outputs": [],
      "source": [
        "# Confirm your v1 docs made it to the index, in the correct namespace\n",
        "pinecone_index.describe_index_stats()"
      ]
    },
    {
      "cell_type": "markdown",
      "metadata": {
        "id": "T40RiV0PJK12"
      },
      "source": [
        "### Run RAG pipeline"
      ]
    },
    {
      "cell_type": "code",
      "execution_count": null,
      "metadata": {
        "colab": {
          "base_uri": "https://localhost:8080/",
          "height": 17
        },
        "id": "r-wO7f2rJMYn",
        "outputId": "ee59e04a-aa48-4338-e67b-bccd98d28e36"
      },
      "outputs": [
        {
          "data": {
            "text/html": [
              "\n",
              "  <style>\n",
              "    pre {\n",
              "        white-space: pre-wrap;\n",
              "    }\n",
              "  </style>\n",
              "  "
            ],
            "text/plain": [
              "<IPython.core.display.HTML object>"
            ]
          },
          "metadata": {},
          "output_type": "display_data"
        }
      ],
      "source": [
        "# Run RAG pipeline for v1 use case\n",
        "one_v1, two_v1, three_v1, four_v1, five_v1, six_v1, seven_v1 = run_rag_pipeline(v1_vector_store, QUERIES)\n"
      ]
    },
    {
      "cell_type": "code",
      "execution_count": null,
      "metadata": {
        "colab": {
          "base_uri": "https://localhost:8080/",
          "height": 929
        },
        "id": "hSoPRIqGKRw3",
        "outputId": "23e0d559-c549-446e-c8df-d9370a3107e5"
      },
      "outputs": [
        {
          "data": {
            "text/html": [
              "\n",
              "  <style>\n",
              "    pre {\n",
              "        white-space: pre-wrap;\n",
              "    }\n",
              "  </style>\n",
              "  "
            ],
            "text/plain": [
              "<IPython.core.display.HTML object>"
            ]
          },
          "metadata": {},
          "output_type": "display_data"
        },
        {
          "data": {
            "application/vnd.google.colaboratory.intrinsic+json": {
              "summary": "{\n  \"name\": \"exp_results\",\n  \"rows\": 7,\n  \"fields\": [\n    {\n      \"column\": \"ANSWER\",\n      \"properties\": {\n        \"dtype\": \"string\",\n        \"num_unique_values\": 7,\n        \"samples\": [\n          \"The average query length is shorter in TREC (8) than it is in NTCIR (22). The average doc length is also shorter in TREC (70.9 vs 493.2)\",\n          \"TREC: 0.529; NTCIR: 0.340.\",\n          \"Category F: training nle-based neural rankers on calibration data.\"\n        ],\n        \"semantic_type\": \"\",\n        \"description\": \"\"\n      }\n    },\n    {\n      \"column\": \"control\",\n      \"properties\": {\n        \"dtype\": \"string\",\n        \"num_unique_values\": 7,\n        \"samples\": [\n          \"The average query length is shorter compared to the average document length in Table 1.\",\n          \"0.529 and 0.534\",\n          \"Category F was used to build and train the literal explanation + BERT. This category involves training NLE-based neural rankers on calibration data. In this method, a BERT model is finetuned to process meta NLEs and produce scale-calibrated ranking scores. Specifically, in the scenario of the literal explanation approach, where each input is represented with two meta NLEs (one for relevance and one for non-relevance), an additional processing step is involved. The hidden states obtained from encoding both NLEs are concatenated, and this concatenated representation is fed into an additional linear layer to transform these combined hidden states into a final ranking score.\"\n        ],\n        \"semantic_type\": \"\",\n        \"description\": \"\"\n      }\n    },\n    {\n      \"column\": \"v1\",\n      \"properties\": {\n        \"dtype\": \"string\",\n        \"num_unique_values\": 7,\n        \"samples\": [\n          \"The average query length is shorter compared to the average document length in table 1.\",\n          \"The Literal Explanation + BERT method's nDCG@10 scores on both datasets in Table 2 are 0.529 for the TREC dataset and 0.602 for the NTCIR dataset.\",\n          \"Category F was used to build and train literal explanation + BERT. This category involves training NLE-based neural rankers on calibration data. In this method, a BERT model is finetuned to process meta NLEs and produce scale-calibrated ranking scores. The approach includes generating and aggregating natural language explanations for query-document pairs, and then using these explanations to refine the ranking scores of the neural ranker.\"\n        ],\n        \"semantic_type\": \"\",\n        \"description\": \"\"\n      }\n    }\n  ]\n}",
              "type": "dataframe",
              "variable_name": "exp_results"
            },
            "text/html": [
              "\n",
              "  <div id=\"df-ed40f169-e4d9-47ca-a23b-b7e85f81d1fd\" class=\"colab-df-container\">\n",
              "    <div>\n",
              "<style scoped>\n",
              "    .dataframe tbody tr th:only-of-type {\n",
              "        vertical-align: middle;\n",
              "    }\n",
              "\n",
              "    .dataframe tbody tr th {\n",
              "        vertical-align: top;\n",
              "    }\n",
              "\n",
              "    .dataframe thead th {\n",
              "        text-align: right;\n",
              "    }\n",
              "</style>\n",
              "<table border=\"1\" class=\"dataframe\">\n",
              "  <thead>\n",
              "    <tr style=\"text-align: right;\">\n",
              "      <th></th>\n",
              "      <th>ANSWER</th>\n",
              "      <th>control</th>\n",
              "      <th>v1</th>\n",
              "    </tr>\n",
              "  </thead>\n",
              "  <tbody>\n",
              "    <tr>\n",
              "      <th>How does the average query length compare to the average document length in table 1?</th>\n",
              "      <td>The average query length is shorter in TREC (8) than it is in NTCIR (22). The average doc length is also shorter in TREC (70.9 vs 493.2)</td>\n",
              "      <td>The average query length is shorter compared to the average document length in Table 1.</td>\n",
              "      <td>The average query length is shorter compared to the average document length in table 1.</td>\n",
              "    </tr>\n",
              "    <tr>\n",
              "      <th>What are the Literal Explanation + BERT method's ndcg@10 scores on both datasets in table 2?</th>\n",
              "      <td>TREC: 0.529; NTCIR: 0.340.</td>\n",
              "      <td>0.529 and 0.534</td>\n",
              "      <td>The Literal Explanation + BERT method's nDCG@10 scores on both datasets in Table 2 are 0.529 for the TREC dataset and 0.602 for the NTCIR dataset.</td>\n",
              "    </tr>\n",
              "    <tr>\n",
              "      <th>What impact do natural language explanations (NLEs) have on improving the calibration and overall effectiveness of these models in document ranking tasks?</th>\n",
              "      <td>NLEs lead to better calibrated neural rankers while maintaining or even boosting ranking performance in most scenarios</td>\n",
              "      <td>Natural language explanations (NLEs) significantly enhance the scale calibration of neural rankers, often maintaining or even boosting ranking performance in most scenarios. They provide valuable insights for document differentiation and lead to statistically significant improvements in scale calibration, resulting in lower calibration error values compared to other calibration methods. Additi...</td>\n",
              "      <td>Natural language explanations (NLEs) significantly enhance the scale calibration of neural rankers, often maintaining or even boosting ranking performance in most scenarios. They provide valuable insights for document differentiation and lead to statistically significant improvements in scale calibration, resulting in lower calibration error values compared to other calibration methods. Additi...</td>\n",
              "    </tr>\n",
              "    <tr>\n",
              "      <th>How do i interpret table 2's calibration and ranking scores?</th>\n",
              "      <td>Lower is better for calibration, higher is better for ranking</td>\n",
              "      <td>Interpreting Table 2's calibration and ranking scores involves understanding that lower values are better for calibration metrics such as CB-ECE, ECE, and MSE. The table compares the performance of different methods on two scale calibration datasets, TREC and NTCIR, using metrics like nDCG, nDCG@10, CB-ECE, ECE, and MSE. Significant improvements over a baseline method are marked with a dagger ...</td>\n",
              "      <td>Interpret the calibration and ranking scores in Table 2 by noting that lower values are better for calibration metrics such as CB-ECE, ECE, and MSE. Statistically significant improvements over the \"Platt Scaling monoBERT\" baseline are marked with a dagger symbol. The table presents the performance of different methods on two scale calibration datasets, TREC and NTCIR, with metrics like nDCG, n...</td>\n",
              "    </tr>\n",
              "    <tr>\n",
              "      <th>What are the weights of \"Uncalibrated monoBERT\" tuned on?</th>\n",
              "      <td>MSMarco</td>\n",
              "      <td>The weights of \"Uncalibrated monoBERT\" are fine-tuned on MS MARCO.</td>\n",
              "      <td>The weights of \"Uncalibrated monoBERT\" are fine-tuned on MS MARCO.</td>\n",
              "    </tr>\n",
              "    <tr>\n",
              "      <th>What category was used to build and train literal explanation + BERT? what does this category mean?</th>\n",
              "      <td>Category F: training nle-based neural rankers on calibration data.</td>\n",
              "      <td>Category F was used to build and train the literal explanation + BERT. This category involves training NLE-based neural rankers on calibration data. In this method, a BERT model is finetuned to process meta NLEs and produce scale-calibrated ranking scores. Specifically, in the scenario of the literal explanation approach, where each input is represented with two meta NLEs (one for relevance an...</td>\n",
              "      <td>Category F was used to build and train literal explanation + BERT. This category involves training NLE-based neural rankers on calibration data. In this method, a BERT model is finetuned to process meta NLEs and produce scale-calibrated ranking scores. The approach includes generating and aggregating natural language explanations for query-document pairs, and then using these explanations to r...</td>\n",
              "    </tr>\n",
              "    <tr>\n",
              "      <th>Is the 'trec-dl' in table 1 the same as the 'trec' in table 2?</th>\n",
              "      <td>Yes</td>\n",
              "      <td>Yes, the 'trec-dl' in Table 1 is the same as the 'TREC' in Table 2.</td>\n",
              "      <td>Yes, the 'trec-dl' in Table 1 is the same dataset as the 'TREC' dataset mentioned in Table 2.</td>\n",
              "    </tr>\n",
              "  </tbody>\n",
              "</table>\n",
              "</div>\n",
              "    <div class=\"colab-df-buttons\">\n",
              "\n",
              "  <div class=\"colab-df-container\">\n",
              "    <button class=\"colab-df-convert\" onclick=\"convertToInteractive('df-ed40f169-e4d9-47ca-a23b-b7e85f81d1fd')\"\n",
              "            title=\"Convert this dataframe to an interactive table.\"\n",
              "            style=\"display:none;\">\n",
              "\n",
              "  <svg xmlns=\"http://www.w3.org/2000/svg\" height=\"24px\" viewBox=\"0 -960 960 960\">\n",
              "    <path d=\"M120-120v-720h720v720H120Zm60-500h600v-160H180v160Zm220 220h160v-160H400v160Zm0 220h160v-160H400v160ZM180-400h160v-160H180v160Zm440 0h160v-160H620v160ZM180-180h160v-160H180v160Zm440 0h160v-160H620v160Z\"/>\n",
              "  </svg>\n",
              "    </button>\n",
              "\n",
              "  <style>\n",
              "    .colab-df-container {\n",
              "      display:flex;\n",
              "      gap: 12px;\n",
              "    }\n",
              "\n",
              "    .colab-df-convert {\n",
              "      background-color: #E8F0FE;\n",
              "      border: none;\n",
              "      border-radius: 50%;\n",
              "      cursor: pointer;\n",
              "      display: none;\n",
              "      fill: #1967D2;\n",
              "      height: 32px;\n",
              "      padding: 0 0 0 0;\n",
              "      width: 32px;\n",
              "    }\n",
              "\n",
              "    .colab-df-convert:hover {\n",
              "      background-color: #E2EBFA;\n",
              "      box-shadow: 0px 1px 2px rgba(60, 64, 67, 0.3), 0px 1px 3px 1px rgba(60, 64, 67, 0.15);\n",
              "      fill: #174EA6;\n",
              "    }\n",
              "\n",
              "    .colab-df-buttons div {\n",
              "      margin-bottom: 4px;\n",
              "    }\n",
              "\n",
              "    [theme=dark] .colab-df-convert {\n",
              "      background-color: #3B4455;\n",
              "      fill: #D2E3FC;\n",
              "    }\n",
              "\n",
              "    [theme=dark] .colab-df-convert:hover {\n",
              "      background-color: #434B5C;\n",
              "      box-shadow: 0px 1px 3px 1px rgba(0, 0, 0, 0.15);\n",
              "      filter: drop-shadow(0px 1px 2px rgba(0, 0, 0, 0.3));\n",
              "      fill: #FFFFFF;\n",
              "    }\n",
              "  </style>\n",
              "\n",
              "    <script>\n",
              "      const buttonEl =\n",
              "        document.querySelector('#df-ed40f169-e4d9-47ca-a23b-b7e85f81d1fd button.colab-df-convert');\n",
              "      buttonEl.style.display =\n",
              "        google.colab.kernel.accessAllowed ? 'block' : 'none';\n",
              "\n",
              "      async function convertToInteractive(key) {\n",
              "        const element = document.querySelector('#df-ed40f169-e4d9-47ca-a23b-b7e85f81d1fd');\n",
              "        const dataTable =\n",
              "          await google.colab.kernel.invokeFunction('convertToInteractive',\n",
              "                                                    [key], {});\n",
              "        if (!dataTable) return;\n",
              "\n",
              "        const docLinkHtml = 'Like what you see? Visit the ' +\n",
              "          '<a target=\"_blank\" href=https://colab.research.google.com/notebooks/data_table.ipynb>data table notebook</a>'\n",
              "          + ' to learn more about interactive tables.';\n",
              "        element.innerHTML = '';\n",
              "        dataTable['output_type'] = 'display_data';\n",
              "        await google.colab.output.renderOutput(dataTable, element);\n",
              "        const docLink = document.createElement('div');\n",
              "        docLink.innerHTML = docLinkHtml;\n",
              "        element.appendChild(docLink);\n",
              "      }\n",
              "    </script>\n",
              "  </div>\n",
              "\n",
              "\n",
              "<div id=\"df-2d9d4a40-3389-4ee4-be76-967ad94f4c54\">\n",
              "  <button class=\"colab-df-quickchart\" onclick=\"quickchart('df-2d9d4a40-3389-4ee4-be76-967ad94f4c54')\"\n",
              "            title=\"Suggest charts\"\n",
              "            style=\"display:none;\">\n",
              "\n",
              "<svg xmlns=\"http://www.w3.org/2000/svg\" height=\"24px\"viewBox=\"0 0 24 24\"\n",
              "     width=\"24px\">\n",
              "    <g>\n",
              "        <path d=\"M19 3H5c-1.1 0-2 .9-2 2v14c0 1.1.9 2 2 2h14c1.1 0 2-.9 2-2V5c0-1.1-.9-2-2-2zM9 17H7v-7h2v7zm4 0h-2V7h2v10zm4 0h-2v-4h2v4z\"/>\n",
              "    </g>\n",
              "</svg>\n",
              "  </button>\n",
              "\n",
              "<style>\n",
              "  .colab-df-quickchart {\n",
              "      --bg-color: #E8F0FE;\n",
              "      --fill-color: #1967D2;\n",
              "      --hover-bg-color: #E2EBFA;\n",
              "      --hover-fill-color: #174EA6;\n",
              "      --disabled-fill-color: #AAA;\n",
              "      --disabled-bg-color: #DDD;\n",
              "  }\n",
              "\n",
              "  [theme=dark] .colab-df-quickchart {\n",
              "      --bg-color: #3B4455;\n",
              "      --fill-color: #D2E3FC;\n",
              "      --hover-bg-color: #434B5C;\n",
              "      --hover-fill-color: #FFFFFF;\n",
              "      --disabled-bg-color: #3B4455;\n",
              "      --disabled-fill-color: #666;\n",
              "  }\n",
              "\n",
              "  .colab-df-quickchart {\n",
              "    background-color: var(--bg-color);\n",
              "    border: none;\n",
              "    border-radius: 50%;\n",
              "    cursor: pointer;\n",
              "    display: none;\n",
              "    fill: var(--fill-color);\n",
              "    height: 32px;\n",
              "    padding: 0;\n",
              "    width: 32px;\n",
              "  }\n",
              "\n",
              "  .colab-df-quickchart:hover {\n",
              "    background-color: var(--hover-bg-color);\n",
              "    box-shadow: 0 1px 2px rgba(60, 64, 67, 0.3), 0 1px 3px 1px rgba(60, 64, 67, 0.15);\n",
              "    fill: var(--button-hover-fill-color);\n",
              "  }\n",
              "\n",
              "  .colab-df-quickchart-complete:disabled,\n",
              "  .colab-df-quickchart-complete:disabled:hover {\n",
              "    background-color: var(--disabled-bg-color);\n",
              "    fill: var(--disabled-fill-color);\n",
              "    box-shadow: none;\n",
              "  }\n",
              "\n",
              "  .colab-df-spinner {\n",
              "    border: 2px solid var(--fill-color);\n",
              "    border-color: transparent;\n",
              "    border-bottom-color: var(--fill-color);\n",
              "    animation:\n",
              "      spin 1s steps(1) infinite;\n",
              "  }\n",
              "\n",
              "  @keyframes spin {\n",
              "    0% {\n",
              "      border-color: transparent;\n",
              "      border-bottom-color: var(--fill-color);\n",
              "      border-left-color: var(--fill-color);\n",
              "    }\n",
              "    20% {\n",
              "      border-color: transparent;\n",
              "      border-left-color: var(--fill-color);\n",
              "      border-top-color: var(--fill-color);\n",
              "    }\n",
              "    30% {\n",
              "      border-color: transparent;\n",
              "      border-left-color: var(--fill-color);\n",
              "      border-top-color: var(--fill-color);\n",
              "      border-right-color: var(--fill-color);\n",
              "    }\n",
              "    40% {\n",
              "      border-color: transparent;\n",
              "      border-right-color: var(--fill-color);\n",
              "      border-top-color: var(--fill-color);\n",
              "    }\n",
              "    60% {\n",
              "      border-color: transparent;\n",
              "      border-right-color: var(--fill-color);\n",
              "    }\n",
              "    80% {\n",
              "      border-color: transparent;\n",
              "      border-right-color: var(--fill-color);\n",
              "      border-bottom-color: var(--fill-color);\n",
              "    }\n",
              "    90% {\n",
              "      border-color: transparent;\n",
              "      border-bottom-color: var(--fill-color);\n",
              "    }\n",
              "  }\n",
              "</style>\n",
              "\n",
              "  <script>\n",
              "    async function quickchart(key) {\n",
              "      const quickchartButtonEl =\n",
              "        document.querySelector('#' + key + ' button');\n",
              "      quickchartButtonEl.disabled = true;  // To prevent multiple clicks.\n",
              "      quickchartButtonEl.classList.add('colab-df-spinner');\n",
              "      try {\n",
              "        const charts = await google.colab.kernel.invokeFunction(\n",
              "            'suggestCharts', [key], {});\n",
              "      } catch (error) {\n",
              "        console.error('Error during call to suggestCharts:', error);\n",
              "      }\n",
              "      quickchartButtonEl.classList.remove('colab-df-spinner');\n",
              "      quickchartButtonEl.classList.add('colab-df-quickchart-complete');\n",
              "    }\n",
              "    (() => {\n",
              "      let quickchartButtonEl =\n",
              "        document.querySelector('#df-2d9d4a40-3389-4ee4-be76-967ad94f4c54 button');\n",
              "      quickchartButtonEl.style.display =\n",
              "        google.colab.kernel.accessAllowed ? 'block' : 'none';\n",
              "    })();\n",
              "  </script>\n",
              "</div>\n",
              "    </div>\n",
              "  </div>\n"
            ],
            "text/plain": [
              "                                                                                                                                                                                                                                                                                              ANSWER  \\\n",
              "How does the average query length compare to the average document length in table 1?                                                                        The average query length is shorter in TREC (8) than it is in NTCIR (22). The average doc length is also shorter in TREC (70.9 vs 493.2)   \n",
              "What are the Literal Explanation + BERT method's ndcg@10 scores on both datasets in table 2?                                                                                                                                                                              TREC: 0.529; NTCIR: 0.340.   \n",
              "What impact do natural language explanations (NLEs) have on improving the calibration and overall effectiveness of these models in document ranking tasks?                    NLEs lead to better calibrated neural rankers while maintaining or even boosting ranking performance in most scenarios   \n",
              "How do i interpret table 2's calibration and ranking scores?                                                                                                                                                                           Lower is better for calibration, higher is better for ranking   \n",
              "What are the weights of \"Uncalibrated monoBERT\" tuned on?                                                                                                                                                                                                                                    MSMarco   \n",
              "What category was used to build and train literal explanation + BERT? what does this category mean?                                                                                                                               Category F: training nle-based neural rankers on calibration data.   \n",
              "Is the 'trec-dl' in table 1 the same as the 'trec' in table 2?                                                                                                                                                                                                                                   Yes   \n",
              "\n",
              "                                                                                                                                                                                                                                                                                                                                                                                                                                                                                                                                                                    control  \\\n",
              "How does the average query length compare to the average document length in table 1?                                                                                                                                                                                                                                                                                                                                                                                                The average query length is shorter compared to the average document length in Table 1.   \n",
              "What are the Literal Explanation + BERT method's ndcg@10 scores on both datasets in table 2?                                                                                                                                                                                                                                                                                                                                                                                                                                                                0.529 and 0.534   \n",
              "What impact do natural language explanations (NLEs) have on improving the calibration and overall effectiveness of these models in document ranking tasks?  Natural language explanations (NLEs) significantly enhance the scale calibration of neural rankers, often maintaining or even boosting ranking performance in most scenarios. They provide valuable insights for document differentiation and lead to statistically significant improvements in scale calibration, resulting in lower calibration error values compared to other calibration methods. Additi...   \n",
              "How do i interpret table 2's calibration and ranking scores?                                                                                                Interpreting Table 2's calibration and ranking scores involves understanding that lower values are better for calibration metrics such as CB-ECE, ECE, and MSE. The table compares the performance of different methods on two scale calibration datasets, TREC and NTCIR, using metrics like nDCG, nDCG@10, CB-ECE, ECE, and MSE. Significant improvements over a baseline method are marked with a dagger ...   \n",
              "What are the weights of \"Uncalibrated monoBERT\" tuned on?                                                                                                                                                                                                                                                                                                                                                                                                                                                The weights of \"Uncalibrated monoBERT\" are fine-tuned on MS MARCO.   \n",
              "What category was used to build and train literal explanation + BERT? what does this category mean?                                                         Category F was used to build and train the literal explanation + BERT. This category involves training NLE-based neural rankers on calibration data. In this method, a BERT model is finetuned to process meta NLEs and produce scale-calibrated ranking scores. Specifically, in the scenario of the literal explanation approach, where each input is represented with two meta NLEs (one for relevance an...   \n",
              "Is the 'trec-dl' in table 1 the same as the 'trec' in table 2?                                                                                                                                                                                                                                                                                                                                                                                                                                          Yes, the 'trec-dl' in Table 1 is the same as the 'TREC' in Table 2.   \n",
              "\n",
              "                                                                                                                                                                                                                                                                                                                                                                                                                                                                                                                                                                         v1  \n",
              "How does the average query length compare to the average document length in table 1?                                                                                                                                                                                                                                                                                                                                                                                                The average query length is shorter compared to the average document length in table 1.  \n",
              "What are the Literal Explanation + BERT method's ndcg@10 scores on both datasets in table 2?                                                                                                                                                                                                                                                                                                                             The Literal Explanation + BERT method's nDCG@10 scores on both datasets in Table 2 are 0.529 for the TREC dataset and 0.602 for the NTCIR dataset.  \n",
              "What impact do natural language explanations (NLEs) have on improving the calibration and overall effectiveness of these models in document ranking tasks?  Natural language explanations (NLEs) significantly enhance the scale calibration of neural rankers, often maintaining or even boosting ranking performance in most scenarios. They provide valuable insights for document differentiation and lead to statistically significant improvements in scale calibration, resulting in lower calibration error values compared to other calibration methods. Additi...  \n",
              "How do i interpret table 2's calibration and ranking scores?                                                                                                Interpret the calibration and ranking scores in Table 2 by noting that lower values are better for calibration metrics such as CB-ECE, ECE, and MSE. Statistically significant improvements over the \"Platt Scaling monoBERT\" baseline are marked with a dagger symbol. The table presents the performance of different methods on two scale calibration datasets, TREC and NTCIR, with metrics like nDCG, n...  \n",
              "What are the weights of \"Uncalibrated monoBERT\" tuned on?                                                                                                                                                                                                                                                                                                                                                                                                                                                The weights of \"Uncalibrated monoBERT\" are fine-tuned on MS MARCO.  \n",
              "What category was used to build and train literal explanation + BERT? what does this category mean?                                                         Category F was used to build and train literal explanation + BERT. This category involves training NLE-based neural rankers on calibration data. In this method, a BERT model is finetuned to process meta NLEs and produce scale-calibrated ranking scores. The approach includes generating and aggregating natural language explanations for query-document pairs, and then using these explanations to r...  \n",
              "Is the 'trec-dl' in table 1 the same as the 'trec' in table 2?                                                                                                                                                                                                                                                                                                                                                                                                                Yes, the 'trec-dl' in Table 1 is the same dataset as the 'TREC' dataset mentioned in Table 2.  "
            ]
          },
          "execution_count": 105,
          "metadata": {},
          "output_type": "execute_result"
        }
      ],
      "source": [
        "# Add variant 1's responses to `exp_results` dataframe:\n",
        "\n",
        "v1_responses = [one_v1, two_v1, three_v1, four_v1, five_v1, six_v1, seven_v1]\n",
        "\n",
        "exp_results['v1'] = v1_responses\n",
        "\n",
        "exp_results"
      ]
    },
    {
      "cell_type": "markdown",
      "metadata": {
        "id": "zUdTj2IiXEwH"
      },
      "source": [
        "## Variant 2: concatenate row values with header data"
      ]
    },
    {
      "cell_type": "code",
      "execution_count": null,
      "metadata": {
        "colab": {
          "base_uri": "https://localhost:8080/",
          "height": 17
        },
        "id": "DmVEUZrMQWfa",
        "outputId": "5afa51cf-659f-4a5b-939f-8a90052f844b"
      },
      "outputs": [
        {
          "data": {
            "text/html": [
              "\n",
              "  <style>\n",
              "    pre {\n",
              "        white-space: pre-wrap;\n",
              "    }\n",
              "  </style>\n",
              "  "
            ],
            "text/plain": [
              "<IPython.core.display.HTML object>"
            ]
          },
          "metadata": {},
          "output_type": "display_data"
        }
      ],
      "source": [
        "def concat_rows_with_headers(dataframe) -> list[str, str]:\n",
        "    \"\"\"\n",
        "    For each row, for each value, concatenate it with its column header.\n",
        "    \"\"\"\n",
        "    return dataframe.apply(lambda row: ', '.join(f\"{col}: {row[col]}\" for col in dataframe.columns), axis=1).tolist()\n"
      ]
    },
    {
      "cell_type": "code",
      "execution_count": null,
      "metadata": {
        "colab": {
          "base_uri": "https://localhost:8080/",
          "height": 17
        },
        "id": "33_x9zEAYyMx",
        "outputId": "3ee16e9c-92ff-4a82-f1e4-1e2821beb972"
      },
      "outputs": [
        {
          "data": {
            "text/html": [
              "\n",
              "  <style>\n",
              "    pre {\n",
              "        white-space: pre-wrap;\n",
              "    }\n",
              "  </style>\n",
              "  "
            ],
            "text/plain": [
              "<IPython.core.display.HTML object>"
            ]
          },
          "metadata": {},
          "output_type": "display_data"
        }
      ],
      "source": [
        "df1_rows_w_headers = concat_rows_with_headers(df1)\n",
        "df2_rows_w_headers = concat_rows_with_headers(df2)"
      ]
    },
    {
      "cell_type": "code",
      "execution_count": null,
      "metadata": {
        "colab": {
          "base_uri": "https://localhost:8080/",
          "height": 124
        },
        "id": "vrb-zZ2aQZ1-",
        "outputId": "692be796-7ded-4f4d-d6ea-faed8b49134b"
      },
      "outputs": [
        {
          "data": {
            "text/html": [
              "\n",
              "  <style>\n",
              "    pre {\n",
              "        white-space: pre-wrap;\n",
              "    }\n",
              "  </style>\n",
              "  "
            ],
            "text/plain": [
              "<IPython.core.display.HTML object>"
            ]
          },
          "metadata": {},
          "output_type": "display_data"
        },
        {
          "data": {
            "text/plain": [
              "['Metric: # Queries (Train/Val/Test), TREC-DL: | 97/53/67, NTCIR-14: 48/16/16',\n",
              " 'Metric: Avg. # docs per query, TREC-DL: 282.7, NTCIR-14: 345.3',\n",
              " 'Metric: Levels of relevance, TREC-DL: 4, NTCIR-14: 5',\n",
              " 'Metric: Label dist. (low to high), TREC-DL: 58/22/14/6, NTCIR-14: 48/23/17/8/3',\n",
              " 'Metric: Avg. query length, TREC-DL: 8.0, NTCIR-14: 22.0',\n",
              " 'Metric: Avg. doc. length, TREC-DL: 70.9, NTCIR-14: 493.2']"
            ]
          },
          "execution_count": 60,
          "metadata": {},
          "output_type": "execute_result"
        }
      ],
      "source": [
        "df1_rows_w_headers"
      ]
    },
    {
      "cell_type": "code",
      "execution_count": null,
      "metadata": {
        "colab": {
          "base_uri": "https://localhost:8080/",
          "height": 338
        },
        "id": "WdTJ_Y8rOQRN",
        "outputId": "3b15a393-f540-40fc-cfe3-2c3d8ac2378c"
      },
      "outputs": [
        {
          "data": {
            "text/html": [
              "\n",
              "  <style>\n",
              "    pre {\n",
              "        white-space: pre-wrap;\n",
              "    }\n",
              "  </style>\n",
              "  "
            ],
            "text/plain": [
              "<IPython.core.display.HTML object>"
            ]
          },
          "metadata": {},
          "output_type": "display_data"
        },
        {
          "data": {
            "text/plain": [
              "['Method: Uncalibrated monoBERT, Category: A, TREC-ndcg: 0.799, TREC-ndcg@10: 0.494, TREC-CB-ECE: 1.205, TREC-ECE: 0.320, TREC-MSE: 0.773, NTCIR-ndcg: | 0.735, NTCIR-ndcg@10: 0.337, NTCIR-CB-ECE: 1.757, NTCIR-ECE: 0.799, NTCIR-MSE: 1.824',\n",
              " 'Method: Post hoc + monoBERT, Category: B, TREC-ndcg: 0.799, TREC-ndcg@10: 0.494, TREC-CB-ECE: 1.141, TREC-ECE: 0.125, TREC-MSE: 0.684, NTCIR-ndcg: | 0.735, NTCIR-ndcg@10: 0.337, NTCIR-CB-ECE: 1.624, NTCIR-ECE: 0.457, NTCIR-MSE: 1.462',\n",
              " 'Method: Finetune monoBERT, Category: C, TREC-ndcg: 0.776, TREC-ndcg@10: 0.422, TREC-CB-ECE: 1.093, TREC-ECE: 0.221, TREC-MSE: -~—«0.721 |, NTCIR-ndcg: 0.696, NTCIR-ndcg@10: 0.268, NTCIR-CB-ECE: 1.843, NTCIR-ECE: 0.709, NTCIR-MSE: ‘1.874',\n",
              " 'Method: Finetune BERT, Category: C, TREC-ndcg: 0.738, TREC-ndcg@10: 0.327, TREC-CB-ECE: 1.253, TREC-ECE: 0.266, TREC-MSE: ~=—0.785_ |, NTCIR-ndcg: _ 0.727, NTCIR-ndcg@10: 0.285, NTCIR-CB-ECE: 1.756, NTCIR-ECE: 0.546, NTCIR-MSE: «1.416',\n",
              " \"Method: LLM prompting w/ rubrics, Category: D, TREC-ndcg: 0.786, TREC-ndcg@10: 0.457, TREC-CB-ECE: 1.000', TREC-ECE: 1.246, TREC-MSE: «2.137, NTCIR-ndcg: | 0.728, NTCIR-ndcg@10: 0.328, NTCIR-CB-ECE: 1.2947, NTCIR-ECE: 1.194, NTCIR-MSE: 2.773\",\n",
              " 'Method: Post hoc + MC Sampling LLM, Category: E, TREC-ndcg: 0.790, TREC-ndcg@10: 0.473, TREC-CB-ECE: 1.165, TREC-ECE: 0.145, TREC-MSE: 0.673, NTCIR-ndcg: | 0.736, NTCIR-ndcg@10: 0.364\", NTCIR-CB-ECE: 1.677, NTCIR-ECE: 0.472, NTCIR-MSE: ‘1.540',\n",
              " 'Method: Literal Explanation + BERT, Category: F, TREC-ndcg: 0.815*, TREC-ndcg@10: 0.529%, TREC-CB-ECE: 0.996°, TREC-ECE: 0.067*, TREC-MSE: 0.602\" |, NTCIR-ndcg: 0.742, NTCIR-ndcg@10: 0.340, NTCIR-CB-ECE: 1.534\", NTCIR-ECE: 0.355, NTCIR-MSE: 1.3307',\n",
              " \"Method: Conditional Explanation + BERT, Category: F, TREC-ndcg: 0.822, TREC-ndcg@10: —0.534*, TREC-CB-ECE: 0.862', TREC-ECE: 0.428, TREC-MSE: ~—0.832_ |, NTCIR-ndcg: 0.720, NTCIR-ndcg@10: 0.322, NTCIR-CB-ECE: 1.405', NTCIR-ECE: 0.2577, NTCIR-MSE: 1.2907\"]"
            ]
          },
          "execution_count": 61,
          "metadata": {},
          "output_type": "execute_result"
        }
      ],
      "source": [
        "df2_rows_w_headers"
      ]
    },
    {
      "cell_type": "code",
      "execution_count": null,
      "metadata": {
        "colab": {
          "base_uri": "https://localhost:8080/",
          "height": 17
        },
        "id": "ctn2yV1LaxhQ",
        "outputId": "840f50ba-8bbd-4601-abf8-0fbf916969df"
      },
      "outputs": [
        {
          "data": {
            "text/html": [
              "\n",
              "  <style>\n",
              "    pre {\n",
              "        white-space: pre-wrap;\n",
              "    }\n",
              "  </style>\n",
              "  "
            ],
            "text/plain": [
              "<IPython.core.display.HTML object>"
            ]
          },
          "metadata": {},
          "output_type": "display_data"
        }
      ],
      "source": [
        "# Now turn your items into Document objects like before, so they can go into the indexing pipeline downstream\n",
        "df1_rows_w_headers_docs = turn_data_into_documents(df1_rows_w_headers)\n",
        "df2_rows_w_headers_docs = turn_data_into_documents(df2_rows_w_headers)"
      ]
    },
    {
      "cell_type": "code",
      "execution_count": null,
      "metadata": {
        "colab": {
          "base_uri": "https://localhost:8080/",
          "height": 88
        },
        "id": "Oxids7R9axmZ",
        "outputId": "0d7b2a6c-9178-4912-e9f0-f65d2ecf9118"
      },
      "outputs": [
        {
          "data": {
            "text/html": [
              "\n",
              "  <style>\n",
              "    pre {\n",
              "        white-space: pre-wrap;\n",
              "    }\n",
              "  </style>\n",
              "  "
            ],
            "text/plain": [
              "<IPython.core.display.HTML object>"
            ]
          },
          "metadata": {},
          "output_type": "display_data"
        },
        {
          "data": {
            "text/plain": [
              "Document(id_='cb245e9f-1204-498e-bafc-f0ef4f493202', embedding=None, metadata={}, excluded_embed_metadata_keys=[], excluded_llm_metadata_keys=[], relationships={}, text='Metric: # Queries (Train/Val/Test), TREC-DL: | 97/53/67, NTCIR-14: 48/16/16', start_char_idx=None, end_char_idx=None, text_template='{metadata_str}\\n\\n{content}', metadata_template='{key}: {value}', metadata_seperator='\\n')"
            ]
          },
          "execution_count": 63,
          "metadata": {},
          "output_type": "execute_result"
        }
      ],
      "source": [
        "# Preview one of your Document objs\n",
        "df1_rows_w_headers_docs[0]"
      ]
    },
    {
      "cell_type": "markdown",
      "metadata": {
        "id": "7L0wTy-pY5E9"
      },
      "source": [
        "### Run indexing pipeline"
      ]
    },
    {
      "cell_type": "code",
      "execution_count": null,
      "metadata": {
        "colab": {
          "base_uri": "https://localhost:8080/",
          "height": 49,
          "referenced_widgets": [
            "4269a5bbe88f4d33a13ecc578dc1f085",
            "f78c83caaa06480a880ceb1cf2185e45",
            "9c0db9cc9956419e804784dc29504a59",
            "f07db6245eb142e4818ccf8676fa1f33",
            "b4c4620618e44397b1949c4145a4db00",
            "f9bc5de70c7f4a0ea70dc2b821493005",
            "b9860cf4971b4658a94453049dbc4ee9",
            "83156f5298eb49509aaaac3c52977fc3",
            "14ee353104b345b3bb128094f985bfd6",
            "d56cb337108d4309afa9a020815bb079",
            "a5ab05f9bbd94ef8a69c27739d301a67"
          ]
        },
        "id": "RjPyIkjdv6Mr",
        "outputId": "3957f480-7b69-4fca-86f1-f855f69f2760"
      },
      "outputs": [
        {
          "data": {
            "text/html": [
              "\n",
              "  <style>\n",
              "    pre {\n",
              "        white-space: pre-wrap;\n",
              "    }\n",
              "  </style>\n",
              "  "
            ],
            "text/plain": [
              "<IPython.core.display.HTML object>"
            ]
          },
          "metadata": {},
          "output_type": "display_data"
        },
        {
          "data": {
            "application/vnd.jupyter.widget-view+json": {
              "model_id": "4269a5bbe88f4d33a13ecc578dc1f085",
              "version_major": 2,
              "version_minor": 0
            },
            "text/plain": [
              "Upserted vectors:   0%|          | 0/63 [00:00<?, ?it/s]"
            ]
          },
          "metadata": {},
          "output_type": "display_data"
        }
      ],
      "source": [
        "# Declare namespace\n",
        "v2_namespace = 'v2'\n",
        "\n",
        "# Initialize vector store w/v2 namespace\n",
        "v2_vector_store = initialize_vector_store(pinecone_index, v2_namespace)\n",
        "\n",
        "# Set up your docs\n",
        "v2_docs = df1_rows_w_headers_docs + df2_rows_w_headers_docs + ctrl_docs\n",
        "\n",
        "# Run your pipeline\n",
        "output = run_indexing_pipeline(v2_vector_store, v2_docs)\n"
      ]
    },
    {
      "cell_type": "code",
      "execution_count": null,
      "metadata": {
        "colab": {
          "base_uri": "https://localhost:8080/",
          "height": 124
        },
        "id": "e_hSiz2hAFzl",
        "outputId": "53c12e89-a19e-43da-ce0a-94a7900c0f94"
      },
      "outputs": [
        {
          "data": {
            "text/html": [
              "\n",
              "  <style>\n",
              "    pre {\n",
              "        white-space: pre-wrap;\n",
              "    }\n",
              "  </style>\n",
              "  "
            ],
            "text/plain": [
              "<IPython.core.display.HTML object>"
            ]
          },
          "metadata": {},
          "output_type": "display_data"
        },
        {
          "data": {
            "text/plain": [
              "{'dimension': 1536,\n",
              " 'index_fullness': 0.0,\n",
              " 'namespaces': {'control': {'vector_count': 48},\n",
              "                'v1': {'vector_count': 63},\n",
              "                'v2': {'vector_count': 0}},\n",
              " 'total_vector_count': 111}"
            ]
          },
          "execution_count": 65,
          "metadata": {},
          "output_type": "execute_result"
        }
      ],
      "source": [
        "# Awesome, you have vectorized each row's values and column headers (per table), and\n",
        "# upserted them all into Pinecone along with the 'control' vectors.\n",
        "\n",
        "pinecone_index.describe_index_stats()"
      ]
    },
    {
      "cell_type": "markdown",
      "metadata": {
        "id": "h6lzrxbwZMX5"
      },
      "source": [
        "### Run RAG pipeline"
      ]
    },
    {
      "cell_type": "code",
      "execution_count": null,
      "metadata": {
        "colab": {
          "base_uri": "https://localhost:8080/",
          "height": 17
        },
        "id": "fFyaM7UtZgLT",
        "outputId": "11174acc-d4f0-43ba-ba87-af14dce0453e"
      },
      "outputs": [
        {
          "data": {
            "text/html": [
              "\n",
              "  <style>\n",
              "    pre {\n",
              "        white-space: pre-wrap;\n",
              "    }\n",
              "  </style>\n",
              "  "
            ],
            "text/plain": [
              "<IPython.core.display.HTML object>"
            ]
          },
          "metadata": {},
          "output_type": "display_data"
        }
      ],
      "source": [
        "# Run RAG pipeline for v2 use case\n",
        "one_v2, two_v2, three_v2, four_v2, five_v2, six_v2, seven_v2 = run_rag_pipeline(v2_vector_store, QUERIES)\n"
      ]
    },
    {
      "cell_type": "code",
      "execution_count": null,
      "metadata": {
        "colab": {
          "base_uri": "https://localhost:8080/",
          "height": 1000
        },
        "id": "6YLIVVj-Z2JT",
        "outputId": "6947c5bc-f92a-4163-eea9-10402bbff65f"
      },
      "outputs": [
        {
          "data": {
            "text/html": [
              "\n",
              "  <style>\n",
              "    pre {\n",
              "        white-space: pre-wrap;\n",
              "    }\n",
              "  </style>\n",
              "  "
            ],
            "text/plain": [
              "<IPython.core.display.HTML object>"
            ]
          },
          "metadata": {},
          "output_type": "display_data"
        },
        {
          "data": {
            "application/vnd.google.colaboratory.intrinsic+json": {
              "summary": "{\n  \"name\": \"exp_results\",\n  \"rows\": 7,\n  \"fields\": [\n    {\n      \"column\": \"ANSWER\",\n      \"properties\": {\n        \"dtype\": \"string\",\n        \"num_unique_values\": 7,\n        \"samples\": [\n          \"The average query length is shorter in TREC (8) than it is in NTCIR (22). The average doc length is also shorter in TREC (70.9 vs 493.2)\",\n          \"TREC: 0.529; NTCIR: 0.340.\",\n          \"Category F: training nle-based neural rankers on calibration data.\"\n        ],\n        \"semantic_type\": \"\",\n        \"description\": \"\"\n      }\n    },\n    {\n      \"column\": \"control\",\n      \"properties\": {\n        \"dtype\": \"string\",\n        \"num_unique_values\": 7,\n        \"samples\": [\n          \"The average query length is shorter compared to the average document length in Table 1.\",\n          \"0.529 and 0.534\",\n          \"Category F was used to build and train the literal explanation + BERT. This category involves training NLE-based neural rankers on calibration data. In this method, a BERT model is finetuned to process meta NLEs and produce scale-calibrated ranking scores. Specifically, in the scenario of the literal explanation approach, where each input is represented with two meta NLEs (one for relevance and one for non-relevance), an additional processing step is involved. The hidden states obtained from encoding both NLEs are concatenated, and this concatenated representation is fed into an additional linear layer to transform these combined hidden states into a final ranking score.\"\n        ],\n        \"semantic_type\": \"\",\n        \"description\": \"\"\n      }\n    },\n    {\n      \"column\": \"v1\",\n      \"properties\": {\n        \"dtype\": \"string\",\n        \"num_unique_values\": 7,\n        \"samples\": [\n          \"The average query length is shorter compared to the average document length in table 1.\",\n          \"The Literal Explanation + BERT method's nDCG@10 scores on both datasets in Table 2 are 0.529 for the TREC dataset and 0.602 for the NTCIR dataset.\",\n          \"Category F was used to build and train literal explanation + BERT. This category involves training NLE-based neural rankers on calibration data. In this method, a BERT model is finetuned to process meta NLEs and produce scale-calibrated ranking scores. The approach includes generating and aggregating natural language explanations for query-document pairs, and then using these explanations to refine the ranking scores of the neural ranker.\"\n        ],\n        \"semantic_type\": \"\",\n        \"description\": \"\"\n      }\n    },\n    {\n      \"column\": \"v2\",\n      \"properties\": {\n        \"dtype\": \"string\",\n        \"num_unique_values\": 7,\n        \"samples\": [\n          \"The average query length is significantly lower than the average document length in table 1.\",\n          \"The Literal Explanation + BERT method's ndcg@10 scores on both datasets in table 2 are 0.529% for the TREC dataset and 0.340 for the NTCIR dataset.\",\n          \"Category F was used to build and train literal explanation + BERT. This category involves training NLE-based neural rankers on calibration data. In this method, a BERT model is finetuned to process meta NLEs and produce scale-calibrated ranking scores. For the literal explanation approach, this category involves generating and aggregating natural language explanations for query-document pairs to enhance the ranking performance of neural rankers.\"\n        ],\n        \"semantic_type\": \"\",\n        \"description\": \"\"\n      }\n    }\n  ]\n}",
              "type": "dataframe",
              "variable_name": "exp_results"
            },
            "text/html": [
              "\n",
              "  <div id=\"df-0d72535c-e62c-4144-a065-dad1c56cbdfa\" class=\"colab-df-container\">\n",
              "    <div>\n",
              "<style scoped>\n",
              "    .dataframe tbody tr th:only-of-type {\n",
              "        vertical-align: middle;\n",
              "    }\n",
              "\n",
              "    .dataframe tbody tr th {\n",
              "        vertical-align: top;\n",
              "    }\n",
              "\n",
              "    .dataframe thead th {\n",
              "        text-align: right;\n",
              "    }\n",
              "</style>\n",
              "<table border=\"1\" class=\"dataframe\">\n",
              "  <thead>\n",
              "    <tr style=\"text-align: right;\">\n",
              "      <th></th>\n",
              "      <th>ANSWER</th>\n",
              "      <th>control</th>\n",
              "      <th>v1</th>\n",
              "      <th>v2</th>\n",
              "    </tr>\n",
              "  </thead>\n",
              "  <tbody>\n",
              "    <tr>\n",
              "      <th>How does the average query length compare to the average document length in table 1?</th>\n",
              "      <td>The average query length is shorter in TREC (8) than it is in NTCIR (22). The average doc length is also shorter in TREC (70.9 vs 493.2)</td>\n",
              "      <td>The average query length is shorter compared to the average document length in Table 1.</td>\n",
              "      <td>The average query length is shorter compared to the average document length in table 1.</td>\n",
              "      <td>The average query length is significantly lower than the average document length in table 1.</td>\n",
              "    </tr>\n",
              "    <tr>\n",
              "      <th>What are the Literal Explanation + BERT method's ndcg@10 scores on both datasets in table 2?</th>\n",
              "      <td>TREC: 0.529; NTCIR: 0.340.</td>\n",
              "      <td>0.529 and 0.534</td>\n",
              "      <td>The Literal Explanation + BERT method's nDCG@10 scores on both datasets in Table 2 are 0.529 for the TREC dataset and 0.602 for the NTCIR dataset.</td>\n",
              "      <td>The Literal Explanation + BERT method's ndcg@10 scores on both datasets in table 2 are 0.529% for the TREC dataset and 0.340 for the NTCIR dataset.</td>\n",
              "    </tr>\n",
              "    <tr>\n",
              "      <th>What impact do natural language explanations (NLEs) have on improving the calibration and overall effectiveness of these models in document ranking tasks?</th>\n",
              "      <td>NLEs lead to better calibrated neural rankers while maintaining or even boosting ranking performance in most scenarios</td>\n",
              "      <td>Natural language explanations (NLEs) significantly enhance the scale calibration of neural rankers, often maintaining or even boosting ranking performance in most scenarios. They provide valuable insights for document differentiation and lead to statistically significant improvements in scale calibration, resulting in lower calibration error values compared to other calibration methods. Additi...</td>\n",
              "      <td>Natural language explanations (NLEs) significantly enhance the scale calibration of neural rankers, often maintaining or even boosting ranking performance in most scenarios. They provide valuable insights for document differentiation and lead to statistically significant improvements in scale calibration, resulting in lower calibration error values compared to other calibration methods. Additi...</td>\n",
              "      <td>Natural language explanations (NLEs) significantly enhance the scale calibration of neural rankers, often maintaining or even boosting ranking performance in most scenarios. They provide valuable insights for document differentiation and lead to statistically significant improvements in scale calibration, resulting in lower calibration error values compared to other calibration methods. Additi...</td>\n",
              "    </tr>\n",
              "    <tr>\n",
              "      <th>How do i interpret table 2's calibration and ranking scores?</th>\n",
              "      <td>Lower is better for calibration, higher is better for ranking</td>\n",
              "      <td>Interpreting Table 2's calibration and ranking scores involves understanding that lower values are better for calibration metrics such as CB-ECE, ECE, and MSE. The table compares the performance of different methods on two scale calibration datasets, TREC and NTCIR, using metrics like nDCG, nDCG@10, CB-ECE, ECE, and MSE. Significant improvements over a baseline method are marked with a dagger ...</td>\n",
              "      <td>Interpret the calibration and ranking scores in Table 2 by noting that lower values are better for calibration metrics such as CB-ECE, ECE, and MSE. Statistically significant improvements over the \"Platt Scaling monoBERT\" baseline are marked with a dagger symbol. The table presents the performance of different methods on two scale calibration datasets, TREC and NTCIR, with metrics like nDCG, n...</td>\n",
              "      <td>Interpret the calibration and ranking scores in Table 2 by noting that lower values are better for calibration metrics such as CB-ECE, ECE, and MSE. Look for statistically significant improvements over the \"Platt Scaling monoBERT\" baseline, which are marked with a dagger symbol (†). Pay attention to the values in the columns for Ranking and Calibration metrics for different methods and dataset...</td>\n",
              "    </tr>\n",
              "    <tr>\n",
              "      <th>What are the weights of \"Uncalibrated monoBERT\" tuned on?</th>\n",
              "      <td>MSMarco</td>\n",
              "      <td>The weights of \"Uncalibrated monoBERT\" are fine-tuned on MS MARCO.</td>\n",
              "      <td>The weights of \"Uncalibrated monoBERT\" are fine-tuned on MS MARCO.</td>\n",
              "      <td>The weights of \"Uncalibrated monoBERT\" are fine-tuned on MS MARCO.</td>\n",
              "    </tr>\n",
              "    <tr>\n",
              "      <th>What category was used to build and train literal explanation + BERT? what does this category mean?</th>\n",
              "      <td>Category F: training nle-based neural rankers on calibration data.</td>\n",
              "      <td>Category F was used to build and train the literal explanation + BERT. This category involves training NLE-based neural rankers on calibration data. In this method, a BERT model is finetuned to process meta NLEs and produce scale-calibrated ranking scores. Specifically, in the scenario of the literal explanation approach, where each input is represented with two meta NLEs (one for relevance an...</td>\n",
              "      <td>Category F was used to build and train literal explanation + BERT. This category involves training NLE-based neural rankers on calibration data. In this method, a BERT model is finetuned to process meta NLEs and produce scale-calibrated ranking scores. The approach includes generating and aggregating natural language explanations for query-document pairs, and then using these explanations to r...</td>\n",
              "      <td>Category F was used to build and train literal explanation + BERT. This category involves training NLE-based neural rankers on calibration data. In this method, a BERT model is finetuned to process meta NLEs and produce scale-calibrated ranking scores. For the literal explanation approach, this category involves generating and aggregating natural language explanations for query-document pairs ...</td>\n",
              "    </tr>\n",
              "    <tr>\n",
              "      <th>Is the 'trec-dl' in table 1 the same as the 'trec' in table 2?</th>\n",
              "      <td>Yes</td>\n",
              "      <td>Yes, the 'trec-dl' in Table 1 is the same as the 'TREC' in Table 2.</td>\n",
              "      <td>Yes, the 'trec-dl' in Table 1 is the same dataset as the 'TREC' dataset mentioned in Table 2.</td>\n",
              "      <td>Yes, the 'trec-dl' in table 1 is the same as the 'TREC' in table 2.</td>\n",
              "    </tr>\n",
              "  </tbody>\n",
              "</table>\n",
              "</div>\n",
              "    <div class=\"colab-df-buttons\">\n",
              "\n",
              "  <div class=\"colab-df-container\">\n",
              "    <button class=\"colab-df-convert\" onclick=\"convertToInteractive('df-0d72535c-e62c-4144-a065-dad1c56cbdfa')\"\n",
              "            title=\"Convert this dataframe to an interactive table.\"\n",
              "            style=\"display:none;\">\n",
              "\n",
              "  <svg xmlns=\"http://www.w3.org/2000/svg\" height=\"24px\" viewBox=\"0 -960 960 960\">\n",
              "    <path d=\"M120-120v-720h720v720H120Zm60-500h600v-160H180v160Zm220 220h160v-160H400v160Zm0 220h160v-160H400v160ZM180-400h160v-160H180v160Zm440 0h160v-160H620v160ZM180-180h160v-160H180v160Zm440 0h160v-160H620v160Z\"/>\n",
              "  </svg>\n",
              "    </button>\n",
              "\n",
              "  <style>\n",
              "    .colab-df-container {\n",
              "      display:flex;\n",
              "      gap: 12px;\n",
              "    }\n",
              "\n",
              "    .colab-df-convert {\n",
              "      background-color: #E8F0FE;\n",
              "      border: none;\n",
              "      border-radius: 50%;\n",
              "      cursor: pointer;\n",
              "      display: none;\n",
              "      fill: #1967D2;\n",
              "      height: 32px;\n",
              "      padding: 0 0 0 0;\n",
              "      width: 32px;\n",
              "    }\n",
              "\n",
              "    .colab-df-convert:hover {\n",
              "      background-color: #E2EBFA;\n",
              "      box-shadow: 0px 1px 2px rgba(60, 64, 67, 0.3), 0px 1px 3px 1px rgba(60, 64, 67, 0.15);\n",
              "      fill: #174EA6;\n",
              "    }\n",
              "\n",
              "    .colab-df-buttons div {\n",
              "      margin-bottom: 4px;\n",
              "    }\n",
              "\n",
              "    [theme=dark] .colab-df-convert {\n",
              "      background-color: #3B4455;\n",
              "      fill: #D2E3FC;\n",
              "    }\n",
              "\n",
              "    [theme=dark] .colab-df-convert:hover {\n",
              "      background-color: #434B5C;\n",
              "      box-shadow: 0px 1px 3px 1px rgba(0, 0, 0, 0.15);\n",
              "      filter: drop-shadow(0px 1px 2px rgba(0, 0, 0, 0.3));\n",
              "      fill: #FFFFFF;\n",
              "    }\n",
              "  </style>\n",
              "\n",
              "    <script>\n",
              "      const buttonEl =\n",
              "        document.querySelector('#df-0d72535c-e62c-4144-a065-dad1c56cbdfa button.colab-df-convert');\n",
              "      buttonEl.style.display =\n",
              "        google.colab.kernel.accessAllowed ? 'block' : 'none';\n",
              "\n",
              "      async function convertToInteractive(key) {\n",
              "        const element = document.querySelector('#df-0d72535c-e62c-4144-a065-dad1c56cbdfa');\n",
              "        const dataTable =\n",
              "          await google.colab.kernel.invokeFunction('convertToInteractive',\n",
              "                                                    [key], {});\n",
              "        if (!dataTable) return;\n",
              "\n",
              "        const docLinkHtml = 'Like what you see? Visit the ' +\n",
              "          '<a target=\"_blank\" href=https://colab.research.google.com/notebooks/data_table.ipynb>data table notebook</a>'\n",
              "          + ' to learn more about interactive tables.';\n",
              "        element.innerHTML = '';\n",
              "        dataTable['output_type'] = 'display_data';\n",
              "        await google.colab.output.renderOutput(dataTable, element);\n",
              "        const docLink = document.createElement('div');\n",
              "        docLink.innerHTML = docLinkHtml;\n",
              "        element.appendChild(docLink);\n",
              "      }\n",
              "    </script>\n",
              "  </div>\n",
              "\n",
              "\n",
              "<div id=\"df-14f77d7e-061f-465d-bb18-00de69675271\">\n",
              "  <button class=\"colab-df-quickchart\" onclick=\"quickchart('df-14f77d7e-061f-465d-bb18-00de69675271')\"\n",
              "            title=\"Suggest charts\"\n",
              "            style=\"display:none;\">\n",
              "\n",
              "<svg xmlns=\"http://www.w3.org/2000/svg\" height=\"24px\"viewBox=\"0 0 24 24\"\n",
              "     width=\"24px\">\n",
              "    <g>\n",
              "        <path d=\"M19 3H5c-1.1 0-2 .9-2 2v14c0 1.1.9 2 2 2h14c1.1 0 2-.9 2-2V5c0-1.1-.9-2-2-2zM9 17H7v-7h2v7zm4 0h-2V7h2v10zm4 0h-2v-4h2v4z\"/>\n",
              "    </g>\n",
              "</svg>\n",
              "  </button>\n",
              "\n",
              "<style>\n",
              "  .colab-df-quickchart {\n",
              "      --bg-color: #E8F0FE;\n",
              "      --fill-color: #1967D2;\n",
              "      --hover-bg-color: #E2EBFA;\n",
              "      --hover-fill-color: #174EA6;\n",
              "      --disabled-fill-color: #AAA;\n",
              "      --disabled-bg-color: #DDD;\n",
              "  }\n",
              "\n",
              "  [theme=dark] .colab-df-quickchart {\n",
              "      --bg-color: #3B4455;\n",
              "      --fill-color: #D2E3FC;\n",
              "      --hover-bg-color: #434B5C;\n",
              "      --hover-fill-color: #FFFFFF;\n",
              "      --disabled-bg-color: #3B4455;\n",
              "      --disabled-fill-color: #666;\n",
              "  }\n",
              "\n",
              "  .colab-df-quickchart {\n",
              "    background-color: var(--bg-color);\n",
              "    border: none;\n",
              "    border-radius: 50%;\n",
              "    cursor: pointer;\n",
              "    display: none;\n",
              "    fill: var(--fill-color);\n",
              "    height: 32px;\n",
              "    padding: 0;\n",
              "    width: 32px;\n",
              "  }\n",
              "\n",
              "  .colab-df-quickchart:hover {\n",
              "    background-color: var(--hover-bg-color);\n",
              "    box-shadow: 0 1px 2px rgba(60, 64, 67, 0.3), 0 1px 3px 1px rgba(60, 64, 67, 0.15);\n",
              "    fill: var(--button-hover-fill-color);\n",
              "  }\n",
              "\n",
              "  .colab-df-quickchart-complete:disabled,\n",
              "  .colab-df-quickchart-complete:disabled:hover {\n",
              "    background-color: var(--disabled-bg-color);\n",
              "    fill: var(--disabled-fill-color);\n",
              "    box-shadow: none;\n",
              "  }\n",
              "\n",
              "  .colab-df-spinner {\n",
              "    border: 2px solid var(--fill-color);\n",
              "    border-color: transparent;\n",
              "    border-bottom-color: var(--fill-color);\n",
              "    animation:\n",
              "      spin 1s steps(1) infinite;\n",
              "  }\n",
              "\n",
              "  @keyframes spin {\n",
              "    0% {\n",
              "      border-color: transparent;\n",
              "      border-bottom-color: var(--fill-color);\n",
              "      border-left-color: var(--fill-color);\n",
              "    }\n",
              "    20% {\n",
              "      border-color: transparent;\n",
              "      border-left-color: var(--fill-color);\n",
              "      border-top-color: var(--fill-color);\n",
              "    }\n",
              "    30% {\n",
              "      border-color: transparent;\n",
              "      border-left-color: var(--fill-color);\n",
              "      border-top-color: var(--fill-color);\n",
              "      border-right-color: var(--fill-color);\n",
              "    }\n",
              "    40% {\n",
              "      border-color: transparent;\n",
              "      border-right-color: var(--fill-color);\n",
              "      border-top-color: var(--fill-color);\n",
              "    }\n",
              "    60% {\n",
              "      border-color: transparent;\n",
              "      border-right-color: var(--fill-color);\n",
              "    }\n",
              "    80% {\n",
              "      border-color: transparent;\n",
              "      border-right-color: var(--fill-color);\n",
              "      border-bottom-color: var(--fill-color);\n",
              "    }\n",
              "    90% {\n",
              "      border-color: transparent;\n",
              "      border-bottom-color: var(--fill-color);\n",
              "    }\n",
              "  }\n",
              "</style>\n",
              "\n",
              "  <script>\n",
              "    async function quickchart(key) {\n",
              "      const quickchartButtonEl =\n",
              "        document.querySelector('#' + key + ' button');\n",
              "      quickchartButtonEl.disabled = true;  // To prevent multiple clicks.\n",
              "      quickchartButtonEl.classList.add('colab-df-spinner');\n",
              "      try {\n",
              "        const charts = await google.colab.kernel.invokeFunction(\n",
              "            'suggestCharts', [key], {});\n",
              "      } catch (error) {\n",
              "        console.error('Error during call to suggestCharts:', error);\n",
              "      }\n",
              "      quickchartButtonEl.classList.remove('colab-df-spinner');\n",
              "      quickchartButtonEl.classList.add('colab-df-quickchart-complete');\n",
              "    }\n",
              "    (() => {\n",
              "      let quickchartButtonEl =\n",
              "        document.querySelector('#df-14f77d7e-061f-465d-bb18-00de69675271 button');\n",
              "      quickchartButtonEl.style.display =\n",
              "        google.colab.kernel.accessAllowed ? 'block' : 'none';\n",
              "    })();\n",
              "  </script>\n",
              "</div>\n",
              "    </div>\n",
              "  </div>\n"
            ],
            "text/plain": [
              "                                                                                                                                                                                                                                                                                              ANSWER  \\\n",
              "How does the average query length compare to the average document length in table 1?                                                                        The average query length is shorter in TREC (8) than it is in NTCIR (22). The average doc length is also shorter in TREC (70.9 vs 493.2)   \n",
              "What are the Literal Explanation + BERT method's ndcg@10 scores on both datasets in table 2?                                                                                                                                                                              TREC: 0.529; NTCIR: 0.340.   \n",
              "What impact do natural language explanations (NLEs) have on improving the calibration and overall effectiveness of these models in document ranking tasks?                    NLEs lead to better calibrated neural rankers while maintaining or even boosting ranking performance in most scenarios   \n",
              "How do i interpret table 2's calibration and ranking scores?                                                                                                                                                                           Lower is better for calibration, higher is better for ranking   \n",
              "What are the weights of \"Uncalibrated monoBERT\" tuned on?                                                                                                                                                                                                                                    MSMarco   \n",
              "What category was used to build and train literal explanation + BERT? what does this category mean?                                                                                                                               Category F: training nle-based neural rankers on calibration data.   \n",
              "Is the 'trec-dl' in table 1 the same as the 'trec' in table 2?                                                                                                                                                                                                                                   Yes   \n",
              "\n",
              "                                                                                                                                                                                                                                                                                                                                                                                                                                                                                                                                                                    control  \\\n",
              "How does the average query length compare to the average document length in table 1?                                                                                                                                                                                                                                                                                                                                                                                                The average query length is shorter compared to the average document length in Table 1.   \n",
              "What are the Literal Explanation + BERT method's ndcg@10 scores on both datasets in table 2?                                                                                                                                                                                                                                                                                                                                                                                                                                                                0.529 and 0.534   \n",
              "What impact do natural language explanations (NLEs) have on improving the calibration and overall effectiveness of these models in document ranking tasks?  Natural language explanations (NLEs) significantly enhance the scale calibration of neural rankers, often maintaining or even boosting ranking performance in most scenarios. They provide valuable insights for document differentiation and lead to statistically significant improvements in scale calibration, resulting in lower calibration error values compared to other calibration methods. Additi...   \n",
              "How do i interpret table 2's calibration and ranking scores?                                                                                                Interpreting Table 2's calibration and ranking scores involves understanding that lower values are better for calibration metrics such as CB-ECE, ECE, and MSE. The table compares the performance of different methods on two scale calibration datasets, TREC and NTCIR, using metrics like nDCG, nDCG@10, CB-ECE, ECE, and MSE. Significant improvements over a baseline method are marked with a dagger ...   \n",
              "What are the weights of \"Uncalibrated monoBERT\" tuned on?                                                                                                                                                                                                                                                                                                                                                                                                                                                The weights of \"Uncalibrated monoBERT\" are fine-tuned on MS MARCO.   \n",
              "What category was used to build and train literal explanation + BERT? what does this category mean?                                                         Category F was used to build and train the literal explanation + BERT. This category involves training NLE-based neural rankers on calibration data. In this method, a BERT model is finetuned to process meta NLEs and produce scale-calibrated ranking scores. Specifically, in the scenario of the literal explanation approach, where each input is represented with two meta NLEs (one for relevance an...   \n",
              "Is the 'trec-dl' in table 1 the same as the 'trec' in table 2?                                                                                                                                                                                                                                                                                                                                                                                                                                          Yes, the 'trec-dl' in Table 1 is the same as the 'TREC' in Table 2.   \n",
              "\n",
              "                                                                                                                                                                                                                                                                                                                                                                                                                                                                                                                                                                         v1  \\\n",
              "How does the average query length compare to the average document length in table 1?                                                                                                                                                                                                                                                                                                                                                                                                The average query length is shorter compared to the average document length in table 1.   \n",
              "What are the Literal Explanation + BERT method's ndcg@10 scores on both datasets in table 2?                                                                                                                                                                                                                                                                                                                             The Literal Explanation + BERT method's nDCG@10 scores on both datasets in Table 2 are 0.529 for the TREC dataset and 0.602 for the NTCIR dataset.   \n",
              "What impact do natural language explanations (NLEs) have on improving the calibration and overall effectiveness of these models in document ranking tasks?  Natural language explanations (NLEs) significantly enhance the scale calibration of neural rankers, often maintaining or even boosting ranking performance in most scenarios. They provide valuable insights for document differentiation and lead to statistically significant improvements in scale calibration, resulting in lower calibration error values compared to other calibration methods. Additi...   \n",
              "How do i interpret table 2's calibration and ranking scores?                                                                                                Interpret the calibration and ranking scores in Table 2 by noting that lower values are better for calibration metrics such as CB-ECE, ECE, and MSE. Statistically significant improvements over the \"Platt Scaling monoBERT\" baseline are marked with a dagger symbol. The table presents the performance of different methods on two scale calibration datasets, TREC and NTCIR, with metrics like nDCG, n...   \n",
              "What are the weights of \"Uncalibrated monoBERT\" tuned on?                                                                                                                                                                                                                                                                                                                                                                                                                                                The weights of \"Uncalibrated monoBERT\" are fine-tuned on MS MARCO.   \n",
              "What category was used to build and train literal explanation + BERT? what does this category mean?                                                         Category F was used to build and train literal explanation + BERT. This category involves training NLE-based neural rankers on calibration data. In this method, a BERT model is finetuned to process meta NLEs and produce scale-calibrated ranking scores. The approach includes generating and aggregating natural language explanations for query-document pairs, and then using these explanations to r...   \n",
              "Is the 'trec-dl' in table 1 the same as the 'trec' in table 2?                                                                                                                                                                                                                                                                                                                                                                                                                Yes, the 'trec-dl' in Table 1 is the same dataset as the 'TREC' dataset mentioned in Table 2.   \n",
              "\n",
              "                                                                                                                                                                                                                                                                                                                                                                                                                                                                                                                                                                         v2  \n",
              "How does the average query length compare to the average document length in table 1?                                                                                                                                                                                                                                                                                                                                                                                           The average query length is significantly lower than the average document length in table 1.  \n",
              "What are the Literal Explanation + BERT method's ndcg@10 scores on both datasets in table 2?                                                                                                                                                                                                                                                                                                                            The Literal Explanation + BERT method's ndcg@10 scores on both datasets in table 2 are 0.529% for the TREC dataset and 0.340 for the NTCIR dataset.  \n",
              "What impact do natural language explanations (NLEs) have on improving the calibration and overall effectiveness of these models in document ranking tasks?  Natural language explanations (NLEs) significantly enhance the scale calibration of neural rankers, often maintaining or even boosting ranking performance in most scenarios. They provide valuable insights for document differentiation and lead to statistically significant improvements in scale calibration, resulting in lower calibration error values compared to other calibration methods. Additi...  \n",
              "How do i interpret table 2's calibration and ranking scores?                                                                                                Interpret the calibration and ranking scores in Table 2 by noting that lower values are better for calibration metrics such as CB-ECE, ECE, and MSE. Look for statistically significant improvements over the \"Platt Scaling monoBERT\" baseline, which are marked with a dagger symbol (†). Pay attention to the values in the columns for Ranking and Calibration metrics for different methods and dataset...  \n",
              "What are the weights of \"Uncalibrated monoBERT\" tuned on?                                                                                                                                                                                                                                                                                                                                                                                                                                                The weights of \"Uncalibrated monoBERT\" are fine-tuned on MS MARCO.  \n",
              "What category was used to build and train literal explanation + BERT? what does this category mean?                                                         Category F was used to build and train literal explanation + BERT. This category involves training NLE-based neural rankers on calibration data. In this method, a BERT model is finetuned to process meta NLEs and produce scale-calibrated ranking scores. For the literal explanation approach, this category involves generating and aggregating natural language explanations for query-document pairs ...  \n",
              "Is the 'trec-dl' in table 1 the same as the 'trec' in table 2?                                                                                                                                                                                                                                                                                                                                                                                                                                          Yes, the 'trec-dl' in table 1 is the same as the 'TREC' in table 2.  "
            ]
          },
          "execution_count": 107,
          "metadata": {},
          "output_type": "execute_result"
        }
      ],
      "source": [
        "# Add variant 2's responses to `exp_results` dataframe:\n",
        "v2_responses = [one_v2, two_v2, three_v2, four_v2, five_v2, six_v2, seven_v2]\n",
        "\n",
        "exp_results['v2'] = v2_responses\n",
        "\n",
        "exp_results"
      ]
    },
    {
      "cell_type": "markdown",
      "metadata": {
        "id": "ytxUQ7srMHDR"
      },
      "source": [
        "## Variant 3: Concatenate row values w/header data *and* table description data\n"
      ]
    },
    {
      "cell_type": "code",
      "execution_count": null,
      "metadata": {
        "colab": {
          "base_uri": "https://localhost:8080/",
          "height": 17
        },
        "id": "51-nnjUWLL1r",
        "outputId": "21d9a090-dfc9-4e0e-8cdc-118f630b5154"
      },
      "outputs": [
        {
          "data": {
            "text/html": [
              "\n",
              "  <style>\n",
              "    pre {\n",
              "        white-space: pre-wrap;\n",
              "    }\n",
              "  </style>\n",
              "  "
            ],
            "text/plain": [
              "<IPython.core.display.HTML object>"
            ]
          },
          "metadata": {},
          "output_type": "display_data"
        }
      ],
      "source": [
        "# Make function to extract table descriptions from the PDF\n",
        "# Note: this function includes transforming the table descriptions into LlamaIndex Document objs, so no need to do that later\n",
        "\n",
        "def extract_table_description(docs: list[Document], start_phrase: str, end_phrase: str) -> list[str]:\n",
        "    \"\"\"\n",
        "    Extract descriptions of embedded tables.\n",
        "\n",
        "    :param docs: LlamaIndex documents you want to search through to find table descriptions.\n",
        "    :param start_phrase: The starting boundary of your table descriptoin (inclusive).\n",
        "    :param end_phrase: The ending boundary of your table descriptoin (inclusive).\n",
        "    \"\"\"\n",
        "    pattern = fr\"(.|^)({start_phrase}.*?{end_phrase})\"\n",
        "    table_desc = []\n",
        "    for d in docs:\n",
        "        match = re.search(pattern, d.text, re.DOTALL)\n",
        "        if match:\n",
        "            table_desc.append(match.group(2))\n",
        "    return turn_data_into_documents(table_desc)  # Turn tables into LlamaIndex Document objs so they work in Pipeline\n"
      ]
    },
    {
      "cell_type": "code",
      "execution_count": null,
      "metadata": {
        "colab": {
          "base_uri": "https://localhost:8080/",
          "height": 17
        },
        "id": "lD0TuHxUOdWE",
        "outputId": "bff89f3c-7142-40be-b8ce-bbc42fb1bdfa"
      },
      "outputs": [
        {
          "data": {
            "text/html": [
              "\n",
              "  <style>\n",
              "    pre {\n",
              "        white-space: pre-wrap;\n",
              "    }\n",
              "  </style>\n",
              "  "
            ],
            "text/plain": [
              "<IPython.core.display.HTML object>"
            ]
          },
          "metadata": {},
          "output_type": "display_data"
        }
      ],
      "source": [
        "# Extract descriptions for Table 1 and Table 2, from `control_docs`\n",
        "t1_desc = extract_table_description(ctrl_docs, \"Table 1\", \"512 tokens\")\n",
        "t2_desc = extract_table_description(ctrl_docs, \"Table 2\", \"marked with\")  # Don't worry about special char in actual PDF at end of desc.\n"
      ]
    },
    {
      "cell_type": "code",
      "execution_count": null,
      "metadata": {
        "colab": {
          "base_uri": "https://localhost:8080/",
          "height": 71
        },
        "id": "pIuKX4i1OfGS",
        "outputId": "b265a040-3a3e-42ef-e715-e4880940edfc"
      },
      "outputs": [
        {
          "data": {
            "text/html": [
              "\n",
              "  <style>\n",
              "    pre {\n",
              "        white-space: pre-wrap;\n",
              "    }\n",
              "  </style>\n",
              "  "
            ],
            "text/plain": [
              "<IPython.core.display.HTML object>"
            ]
          },
          "metadata": {},
          "output_type": "display_data"
        },
        {
          "data": {
            "application/vnd.google.colaboratory.intrinsic+json": {
              "type": "string"
            },
            "text/plain": [
              "'Table 1: Statistics of the TREC-DL 2019-2022 and NTCIR-14\\nWWW-2 Datasets. The lengths of queries and documents are\\nquantified using BERT tokenization. For the NTCIR dataset,\\ndocuments sourced from ClueWeb have undergone prepro-\\ncessing to retain only the initial 512 tokens'"
            ]
          },
          "execution_count": 70,
          "metadata": {},
          "output_type": "execute_result"
        }
      ],
      "source": [
        "t1_desc[0].text"
      ]
    },
    {
      "cell_type": "code",
      "execution_count": null,
      "metadata": {
        "colab": {
          "base_uri": "https://localhost:8080/",
          "height": 17
        },
        "id": "6b7OsDffSS9n",
        "outputId": "63d9fe85-7b96-4c57-8921-f176be518964"
      },
      "outputs": [
        {
          "data": {
            "text/html": [
              "\n",
              "  <style>\n",
              "    pre {\n",
              "        white-space: pre-wrap;\n",
              "    }\n",
              "  </style>\n",
              "  "
            ],
            "text/plain": [
              "<IPython.core.display.HTML object>"
            ]
          },
          "metadata": {},
          "output_type": "display_data"
        }
      ],
      "source": [
        "# Make deep copies of original `df1_rows_w_headers_docs`, so you don't mess past data structures, as we update them in-place below.\n",
        "copy_df1_rows_w_headers_docs = deepcopy(df1_rows_w_headers_docs)\n",
        "copy_df2_rows_w_headers_docs = deepcopy(df2_rows_w_headers_docs)"
      ]
    },
    {
      "cell_type": "code",
      "execution_count": null,
      "metadata": {
        "colab": {
          "base_uri": "https://localhost:8080/",
          "height": 35
        },
        "id": "UtIlmymFyU3G",
        "outputId": "c47194ac-d1e4-40f4-ac46-5d67ab9d9cab"
      },
      "outputs": [
        {
          "data": {
            "text/html": [
              "\n",
              "  <style>\n",
              "    pre {\n",
              "        white-space: pre-wrap;\n",
              "    }\n",
              "  </style>\n",
              "  "
            ],
            "text/plain": [
              "<IPython.core.display.HTML object>"
            ]
          },
          "metadata": {},
          "output_type": "display_data"
        },
        {
          "data": {
            "application/vnd.google.colaboratory.intrinsic+json": {
              "type": "string"
            },
            "text/plain": [
              "'Metric: # Queries (Train/Val/Test), TREC-DL: | 97/53/67, NTCIR-14: 48/16/16'"
            ]
          },
          "execution_count": 72,
          "metadata": {},
          "output_type": "execute_result"
        }
      ],
      "source": [
        "# Before in-place update, t1\n",
        "copy_df1_rows_w_headers_docs[0].text"
      ]
    },
    {
      "cell_type": "code",
      "execution_count": null,
      "metadata": {
        "colab": {
          "base_uri": "https://localhost:8080/",
          "height": 53
        },
        "id": "kDnzFW6dyctH",
        "outputId": "32d8da82-3b1c-4f38-a867-b8f918621d51"
      },
      "outputs": [
        {
          "data": {
            "text/html": [
              "\n",
              "  <style>\n",
              "    pre {\n",
              "        white-space: pre-wrap;\n",
              "    }\n",
              "  </style>\n",
              "  "
            ],
            "text/plain": [
              "<IPython.core.display.HTML object>"
            ]
          },
          "metadata": {},
          "output_type": "display_data"
        },
        {
          "data": {
            "application/vnd.google.colaboratory.intrinsic+json": {
              "type": "string"
            },
            "text/plain": [
              "'Method: Uncalibrated monoBERT, Category: A, TREC-ndcg: 0.799, TREC-ndcg@10: 0.494, TREC-CB-ECE: 1.205, TREC-ECE: 0.320, TREC-MSE: 0.773, NTCIR-ndcg: | 0.735, NTCIR-ndcg@10: 0.337, NTCIR-CB-ECE: 1.757, NTCIR-ECE: 0.799, NTCIR-MSE: 1.824'"
            ]
          },
          "execution_count": 73,
          "metadata": {},
          "output_type": "execute_result"
        }
      ],
      "source": [
        "# Before in-place update, t2\n",
        "copy_df2_rows_w_headers_docs[0].text"
      ]
    },
    {
      "cell_type": "code",
      "execution_count": null,
      "metadata": {
        "colab": {
          "base_uri": "https://localhost:8080/",
          "height": 17
        },
        "id": "gMxLnI-_Qas2",
        "outputId": "9880a0e7-20a6-4639-c4d8-fb6a80cfb761"
      },
      "outputs": [
        {
          "data": {
            "text/html": [
              "\n",
              "  <style>\n",
              "    pre {\n",
              "        white-space: pre-wrap;\n",
              "    }\n",
              "  </style>\n",
              "  "
            ],
            "text/plain": [
              "<IPython.core.display.HTML object>"
            ]
          },
          "metadata": {},
          "output_type": "display_data"
        }
      ],
      "source": [
        "# Update .text attributes of each Document obj in-place to include the extracted table descriptions:\n",
        "\n",
        "def add_in_table_description(docs: list[Document], desc: list[Document]) -> None:\n",
        "    \"\"\"\n",
        "    Add description for embedded table to Document item (in-place).\n",
        "\n",
        "    :param docs: Documents whose .text attribte you want to update with a Table description.\n",
        "    :param desc: The Table description you want to add to a Document's .text attribute.\n",
        "    \"\"\"\n",
        "    for i in range(len(docs)):\n",
        "        docs[i].text += f\". {desc[0].text}\""
      ]
    },
    {
      "cell_type": "code",
      "execution_count": null,
      "metadata": {
        "colab": {
          "base_uri": "https://localhost:8080/",
          "height": 17
        },
        "id": "EhOWNBIBTY5a",
        "outputId": "a80d5c5d-d19c-4b2c-fe46-5c598737ff23"
      },
      "outputs": [
        {
          "data": {
            "text/html": [
              "\n",
              "  <style>\n",
              "    pre {\n",
              "        white-space: pre-wrap;\n",
              "    }\n",
              "  </style>\n",
              "  "
            ],
            "text/plain": [
              "<IPython.core.display.HTML object>"
            ]
          },
          "metadata": {},
          "output_type": "display_data"
        }
      ],
      "source": [
        "# Add Table 1 desc to Table 1 concatenated rows and headers\n",
        "add_in_table_description(copy_df1_rows_w_headers_docs, t1_desc)\n",
        "\n",
        "# Add Table 2 desc to Table 2 concatenated rows and headers\n",
        "add_in_table_description(copy_df2_rows_w_headers_docs, t2_desc)"
      ]
    },
    {
      "cell_type": "code",
      "execution_count": null,
      "metadata": {
        "colab": {
          "base_uri": "https://localhost:8080/",
          "height": 71
        },
        "id": "c36p4QIQyiv3",
        "outputId": "6e15b2e7-f926-4777-879e-62b6aaa2807a"
      },
      "outputs": [
        {
          "data": {
            "text/html": [
              "\n",
              "  <style>\n",
              "    pre {\n",
              "        white-space: pre-wrap;\n",
              "    }\n",
              "  </style>\n",
              "  "
            ],
            "text/plain": [
              "<IPython.core.display.HTML object>"
            ]
          },
          "metadata": {},
          "output_type": "display_data"
        },
        {
          "data": {
            "application/vnd.google.colaboratory.intrinsic+json": {
              "type": "string"
            },
            "text/plain": [
              "'Metric: # Queries (Train/Val/Test), TREC-DL: | 97/53/67, NTCIR-14: 48/16/16. Table 1: Statistics of the TREC-DL 2019-2022 and NTCIR-14\\nWWW-2 Datasets. The lengths of queries and documents are\\nquantified using BERT tokenization. For the NTCIR dataset,\\ndocuments sourced from ClueWeb have undergone prepro-\\ncessing to retain only the initial 512 tokens'"
            ]
          },
          "execution_count": 76,
          "metadata": {},
          "output_type": "execute_result"
        }
      ],
      "source": [
        "# After in-place update, t1\n",
        "copy_df1_rows_w_headers_docs[0].text"
      ]
    },
    {
      "cell_type": "code",
      "execution_count": null,
      "metadata": {
        "colab": {
          "base_uri": "https://localhost:8080/",
          "height": 107
        },
        "id": "KzmZWfDCyk4U",
        "outputId": "ca7ec2a4-1f10-4a2e-ea09-d7f8d52f43e7"
      },
      "outputs": [
        {
          "data": {
            "text/html": [
              "\n",
              "  <style>\n",
              "    pre {\n",
              "        white-space: pre-wrap;\n",
              "    }\n",
              "  </style>\n",
              "  "
            ],
            "text/plain": [
              "<IPython.core.display.HTML object>"
            ]
          },
          "metadata": {},
          "output_type": "display_data"
        },
        {
          "data": {
            "application/vnd.google.colaboratory.intrinsic+json": {
              "type": "string"
            },
            "text/plain": [
              "'Method: Uncalibrated monoBERT, Category: A, TREC-ndcg: 0.799, TREC-ndcg@10: 0.494, TREC-CB-ECE: 1.205, TREC-ECE: 0.320, TREC-MSE: 0.773, NTCIR-ndcg: | 0.735, NTCIR-ndcg@10: 0.337, NTCIR-CB-ECE: 1.757, NTCIR-ECE: 0.799, NTCIR-MSE: 1.824. Table 2: Ranking and scale calibration performance of baseline methods and our approaches on two scale calibration datasets\\nTREC and NTCIR. Note that lower is better with calibration metrics (CB-ECE, ECE and MSE). Statistically significant improve-\\nments over “Platt Scaling monoBERT” are marked with'"
            ]
          },
          "execution_count": 77,
          "metadata": {},
          "output_type": "execute_result"
        }
      ],
      "source": [
        "# After in-place update, t1\n",
        "copy_df2_rows_w_headers_docs[0].text"
      ]
    },
    {
      "cell_type": "code",
      "execution_count": null,
      "metadata": {
        "colab": {
          "base_uri": "https://localhost:8080/",
          "height": 17
        },
        "id": "mteItXBAi8Ce",
        "outputId": "5b3834fe-779f-42ea-a79c-6f8345e1036d"
      },
      "outputs": [
        {
          "data": {
            "text/html": [
              "\n",
              "  <style>\n",
              "    pre {\n",
              "        white-space: pre-wrap;\n",
              "    }\n",
              "  </style>\n",
              "  "
            ],
            "text/plain": [
              "<IPython.core.display.HTML object>"
            ]
          },
          "metadata": {},
          "output_type": "display_data"
        }
      ],
      "source": [
        "# Rename your vars so they reflect the addition of the table descriptions\n",
        "df1_rows_w_headers_desc = copy_df1_rows_w_headers_docs\n",
        "df2_rows_w_headers_desc = copy_df2_rows_w_headers_docs"
      ]
    },
    {
      "cell_type": "code",
      "execution_count": null,
      "metadata": {
        "colab": {
          "base_uri": "https://localhost:8080/",
          "height": 107
        },
        "id": "_iibv2NES3Da",
        "outputId": "a8661d9b-c0e3-422e-ebb6-93c9dcab6f02"
      },
      "outputs": [
        {
          "data": {
            "text/html": [
              "\n",
              "  <style>\n",
              "    pre {\n",
              "        white-space: pre-wrap;\n",
              "    }\n",
              "  </style>\n",
              "  "
            ],
            "text/plain": [
              "<IPython.core.display.HTML object>"
            ]
          },
          "metadata": {},
          "output_type": "display_data"
        },
        {
          "data": {
            "application/vnd.google.colaboratory.intrinsic+json": {
              "type": "string"
            },
            "text/plain": [
              "'Method: Literal Explanation + BERT, Category: F, TREC-ndcg: 0.815*, TREC-ndcg@10: 0.529%, TREC-CB-ECE: 0.996°, TREC-ECE: 0.067*, TREC-MSE: 0.602\" |, NTCIR-ndcg: 0.742, NTCIR-ndcg@10: 0.340, NTCIR-CB-ECE: 1.534\", NTCIR-ECE: 0.355, NTCIR-MSE: 1.3307. Table 2: Ranking and scale calibration performance of baseline methods and our approaches on two scale calibration datasets\\nTREC and NTCIR. Note that lower is better with calibration metrics (CB-ECE, ECE and MSE). Statistically significant improve-\\nments over “Platt Scaling monoBERT” are marked with'"
            ]
          },
          "execution_count": 116,
          "metadata": {},
          "output_type": "execute_result"
        }
      ],
      "source": [
        "# Preview of one doc from after you added Table 1 description\n",
        "df2_rows_w_headers_desc[-2].text"
      ]
    },
    {
      "cell_type": "markdown",
      "metadata": {
        "id": "dAfg71JLbHeP"
      },
      "source": [
        "### Run indexing pipeline"
      ]
    },
    {
      "cell_type": "code",
      "execution_count": null,
      "metadata": {
        "colab": {
          "base_uri": "https://localhost:8080/",
          "height": 49,
          "referenced_widgets": [
            "4453e4001c654052884d767c0ead373b",
            "eaba9b0d0e36434e976c07c2db3fd9e8",
            "a0a3dcafd69c4642a41c87b53385406a",
            "7d9c5f17619e43f79ba5fdc37e56b10b",
            "bd58da26d2704c1ea5a599efa830dd44",
            "9f484b25cc4845e9a625cdaadaa6f663",
            "c7e33648acc042aa8df078e331bb84a0",
            "da8dd880f72e4c68880e16786ba51a3d",
            "7d564ab186c04d1ab27152054d88efe4",
            "6aaaa43a2dc2457cb3c1c3045c52df50",
            "117fd87db5e24c378f9d8d08111f58e9"
          ]
        },
        "id": "FeNnPiiEbJkR",
        "outputId": "a4132dd4-0593-4642-8ee7-97d6b349bed8"
      },
      "outputs": [
        {
          "data": {
            "text/html": [
              "\n",
              "  <style>\n",
              "    pre {\n",
              "        white-space: pre-wrap;\n",
              "    }\n",
              "  </style>\n",
              "  "
            ],
            "text/plain": [
              "<IPython.core.display.HTML object>"
            ]
          },
          "metadata": {},
          "output_type": "display_data"
        },
        {
          "data": {
            "application/vnd.jupyter.widget-view+json": {
              "model_id": "4453e4001c654052884d767c0ead373b",
              "version_major": 2,
              "version_minor": 0
            },
            "text/plain": [
              "Upserted vectors:   0%|          | 0/76 [00:00<?, ?it/s]"
            ]
          },
          "metadata": {},
          "output_type": "display_data"
        }
      ],
      "source": [
        "# Declare namespace\n",
        "v3_namespace = 'v3'\n",
        "\n",
        "# Initialize vector store w/v3 namespace\n",
        "v3_vector_store = initialize_vector_store(pinecone_index, v3_namespace)\n",
        "\n",
        "# Join docs\n",
        "v3_docs = df1_rows_w_headers_desc + df2_rows_w_headers_desc + ctrl_docs\n",
        "\n",
        "# Run through embedding and indexing pipeline\n",
        "output = run_indexing_pipeline(v3_vector_store, v3_docs)"
      ]
    },
    {
      "cell_type": "code",
      "execution_count": null,
      "metadata": {
        "colab": {
          "base_uri": "https://localhost:8080/",
          "height": 142
        },
        "id": "8_tMoiLofe4S",
        "outputId": "70ae2ddd-fbd0-42d4-943b-a7ad2506f887"
      },
      "outputs": [
        {
          "data": {
            "text/html": [
              "\n",
              "  <style>\n",
              "    pre {\n",
              "        white-space: pre-wrap;\n",
              "    }\n",
              "  </style>\n",
              "  "
            ],
            "text/plain": [
              "<IPython.core.display.HTML object>"
            ]
          },
          "metadata": {},
          "output_type": "display_data"
        },
        {
          "data": {
            "text/plain": [
              "{'dimension': 1536,\n",
              " 'index_fullness': 0.0,\n",
              " 'namespaces': {'control': {'vector_count': 48},\n",
              "                'v1': {'vector_count': 63},\n",
              "                'v2': {'vector_count': 63},\n",
              "                'v3': {'vector_count': 0}},\n",
              " 'total_vector_count': 174}"
            ]
          },
          "execution_count": 81,
          "metadata": {},
          "output_type": "execute_result"
        }
      ],
      "source": [
        "pinecone_index.describe_index_stats()"
      ]
    },
    {
      "cell_type": "markdown",
      "metadata": {
        "id": "q861D3Xt24eP"
      },
      "source": [
        "### Run RAG pipeline"
      ]
    },
    {
      "cell_type": "code",
      "execution_count": null,
      "metadata": {
        "colab": {
          "base_uri": "https://localhost:8080/",
          "height": 17
        },
        "id": "jEY062q71w_K",
        "outputId": "5dcb727d-6b62-4918-d282-04241429255c"
      },
      "outputs": [
        {
          "data": {
            "text/html": [
              "\n",
              "  <style>\n",
              "    pre {\n",
              "        white-space: pre-wrap;\n",
              "    }\n",
              "  </style>\n",
              "  "
            ],
            "text/plain": [
              "<IPython.core.display.HTML object>"
            ]
          },
          "metadata": {},
          "output_type": "display_data"
        }
      ],
      "source": [
        "# Run RAG pipeline for v3 use case\n",
        "one_v3, two_v3, three_v3, four_v3, five_v3, six_v3, seven_v3 = run_rag_pipeline(v3_vector_store, QUERIES)\n"
      ]
    },
    {
      "cell_type": "code",
      "execution_count": null,
      "metadata": {
        "colab": {
          "base_uri": "https://localhost:8080/",
          "height": 1000
        },
        "id": "Bxxgj8Xx1xHp",
        "outputId": "1703c8ba-9226-4614-beaa-5c676f5d1855"
      },
      "outputs": [
        {
          "data": {
            "text/html": [
              "\n",
              "  <style>\n",
              "    pre {\n",
              "        white-space: pre-wrap;\n",
              "    }\n",
              "  </style>\n",
              "  "
            ],
            "text/plain": [
              "<IPython.core.display.HTML object>"
            ]
          },
          "metadata": {},
          "output_type": "display_data"
        },
        {
          "data": {
            "application/vnd.google.colaboratory.intrinsic+json": {
              "summary": "{\n  \"name\": \"exp_results\",\n  \"rows\": 7,\n  \"fields\": [\n    {\n      \"column\": \"ANSWER\",\n      \"properties\": {\n        \"dtype\": \"string\",\n        \"num_unique_values\": 7,\n        \"samples\": [\n          \"The average query length is shorter in TREC (8) than it is in NTCIR (22). The average doc length is also shorter in TREC (70.9 vs 493.2)\",\n          \"TREC: 0.529; NTCIR: 0.340.\",\n          \"Category F: training nle-based neural rankers on calibration data.\"\n        ],\n        \"semantic_type\": \"\",\n        \"description\": \"\"\n      }\n    },\n    {\n      \"column\": \"control\",\n      \"properties\": {\n        \"dtype\": \"string\",\n        \"num_unique_values\": 7,\n        \"samples\": [\n          \"The average query length is shorter compared to the average document length in Table 1.\",\n          \"0.529 and 0.534\",\n          \"Category F was used to build and train the literal explanation + BERT. This category involves training NLE-based neural rankers on calibration data. In this method, a BERT model is finetuned to process meta NLEs and produce scale-calibrated ranking scores. Specifically, in the scenario of the literal explanation approach, where each input is represented with two meta NLEs (one for relevance and one for non-relevance), an additional processing step is involved. The hidden states obtained from encoding both NLEs are concatenated, and this concatenated representation is fed into an additional linear layer to transform these combined hidden states into a final ranking score.\"\n        ],\n        \"semantic_type\": \"\",\n        \"description\": \"\"\n      }\n    },\n    {\n      \"column\": \"v1\",\n      \"properties\": {\n        \"dtype\": \"string\",\n        \"num_unique_values\": 7,\n        \"samples\": [\n          \"The average query length is shorter compared to the average document length in table 1.\",\n          \"The Literal Explanation + BERT method's nDCG@10 scores on both datasets in Table 2 are 0.529 for the TREC dataset and 0.602 for the NTCIR dataset.\",\n          \"Category F was used to build and train literal explanation + BERT. This category involves training NLE-based neural rankers on calibration data. In this method, a BERT model is finetuned to process meta NLEs and produce scale-calibrated ranking scores. The approach includes generating and aggregating natural language explanations for query-document pairs, and then using these explanations to refine the ranking scores of the neural ranker.\"\n        ],\n        \"semantic_type\": \"\",\n        \"description\": \"\"\n      }\n    },\n    {\n      \"column\": \"v2\",\n      \"properties\": {\n        \"dtype\": \"string\",\n        \"num_unique_values\": 7,\n        \"samples\": [\n          \"The average query length is significantly lower than the average document length in table 1.\",\n          \"The Literal Explanation + BERT method's ndcg@10 scores on both datasets in table 2 are 0.529% for the TREC dataset and 0.340 for the NTCIR dataset.\",\n          \"Category F was used to build and train literal explanation + BERT. This category involves training NLE-based neural rankers on calibration data. In this method, a BERT model is finetuned to process meta NLEs and produce scale-calibrated ranking scores. For the literal explanation approach, this category involves generating and aggregating natural language explanations for query-document pairs to enhance the ranking performance of neural rankers.\"\n        ],\n        \"semantic_type\": \"\",\n        \"description\": \"\"\n      }\n    },\n    {\n      \"column\": \"v3\",\n      \"properties\": {\n        \"dtype\": \"string\",\n        \"num_unique_values\": 7,\n        \"samples\": [\n          \"The average query length is shorter than the average document length in Table 1.\",\n          \"The Literal Explanation + BERT method's ndcg@10 scores on the TREC dataset and NTCIR dataset in table 2 are 0.529% and 0.340%, respectively.\",\n          \"Category F was used to build and train the literal explanation + BERT model. This category involves training NLE-based neural rankers on calibration data. In this approach, a BERT model is finetuned to process meta natural language explanations (NLEs) and generate scale-calibrated ranking scores.\"\n        ],\n        \"semantic_type\": \"\",\n        \"description\": \"\"\n      }\n    },\n    {\n      \"column\": \"v4\",\n      \"properties\": {\n        \"dtype\": \"string\",\n        \"num_unique_values\": 7,\n        \"samples\": [\n          \"The average query length is significantly lower than the average document length in table 1.\",\n          \"The Literal Explanation + BERT method's nDCG@10 score on the TREC dataset is 0.529% and on the NTCIR dataset is 0.340.\",\n          \"Category F was used to build and train the \\\"Literal Explanation + BERT\\\" method. This category involves training NLE-based neural rankers on calibration data. In this method, a BERT model is finetuned to process meta NLEs and generate scale-calibrated ranking scores. The literal explanation approach utilizes natural language explanations for query-document pairs to enhance the ranking performance of neural rankers.\"\n        ],\n        \"semantic_type\": \"\",\n        \"description\": \"\"\n      }\n    }\n  ]\n}",
              "type": "dataframe",
              "variable_name": "exp_results"
            },
            "text/html": [
              "\n",
              "  <div id=\"df-4f9e2984-4bc9-4504-9d4a-7ab6719e6f4d\" class=\"colab-df-container\">\n",
              "    <div>\n",
              "<style scoped>\n",
              "    .dataframe tbody tr th:only-of-type {\n",
              "        vertical-align: middle;\n",
              "    }\n",
              "\n",
              "    .dataframe tbody tr th {\n",
              "        vertical-align: top;\n",
              "    }\n",
              "\n",
              "    .dataframe thead th {\n",
              "        text-align: right;\n",
              "    }\n",
              "</style>\n",
              "<table border=\"1\" class=\"dataframe\">\n",
              "  <thead>\n",
              "    <tr style=\"text-align: right;\">\n",
              "      <th></th>\n",
              "      <th>ANSWER</th>\n",
              "      <th>control</th>\n",
              "      <th>v1</th>\n",
              "      <th>v2</th>\n",
              "      <th>v3</th>\n",
              "      <th>v4</th>\n",
              "    </tr>\n",
              "  </thead>\n",
              "  <tbody>\n",
              "    <tr>\n",
              "      <th>How does the average query length compare to the average document length in table 1?</th>\n",
              "      <td>The average query length is shorter in TREC (8) than it is in NTCIR (22). The average doc length is also shorter in TREC (70.9 vs 493.2)</td>\n",
              "      <td>The average query length is shorter compared to the average document length in Table 1.</td>\n",
              "      <td>The average query length is shorter compared to the average document length in table 1.</td>\n",
              "      <td>The average query length is significantly lower than the average document length in table 1.</td>\n",
              "      <td>The average query length is shorter than the average document length in Table 1.</td>\n",
              "      <td>The average query length is significantly lower than the average document length in table 1.</td>\n",
              "    </tr>\n",
              "    <tr>\n",
              "      <th>What are the Literal Explanation + BERT method's ndcg@10 scores on both datasets in table 2?</th>\n",
              "      <td>TREC: 0.529; NTCIR: 0.340.</td>\n",
              "      <td>0.529 and 0.534</td>\n",
              "      <td>The Literal Explanation + BERT method's nDCG@10 scores on both datasets in Table 2 are 0.529 for the TREC dataset and 0.602 for the NTCIR dataset.</td>\n",
              "      <td>The Literal Explanation + BERT method's ndcg@10 scores on both datasets in table 2 are 0.529% for the TREC dataset and 0.340 for the NTCIR dataset.</td>\n",
              "      <td>The Literal Explanation + BERT method's ndcg@10 scores on the TREC dataset and NTCIR dataset in table 2 are 0.529% and 0.340%, respectively.</td>\n",
              "      <td>The Literal Explanation + BERT method's nDCG@10 score on the TREC dataset is 0.529% and on the NTCIR dataset is 0.340.</td>\n",
              "    </tr>\n",
              "    <tr>\n",
              "      <th>What impact do natural language explanations (NLEs) have on improving the calibration and overall effectiveness of these models in document ranking tasks?</th>\n",
              "      <td>NLEs lead to better calibrated neural rankers while maintaining or even boosting ranking performance in most scenarios</td>\n",
              "      <td>Natural language explanations (NLEs) significantly enhance the scale calibration of neural rankers, often maintaining or even boosting ranking performance in most scenarios. They provide valuable insights for document differentiation and lead to statistically significant improvements in scale calibration, resulting in lower calibration error values compared to other calibration methods. Additi...</td>\n",
              "      <td>Natural language explanations (NLEs) significantly enhance the scale calibration of neural rankers, often maintaining or even boosting ranking performance in most scenarios. They provide valuable insights for document differentiation and lead to statistically significant improvements in scale calibration, resulting in lower calibration error values compared to other calibration methods. Additi...</td>\n",
              "      <td>Natural language explanations (NLEs) significantly enhance the scale calibration of neural rankers, often maintaining or even boosting ranking performance in most scenarios. They provide valuable insights for document differentiation and lead to statistically significant improvements in scale calibration, resulting in lower calibration error values compared to other calibration methods. Additi...</td>\n",
              "      <td>Natural language explanations (NLEs) significantly enhance the scale calibration of neural rankers, often maintaining or even boosting ranking performance in most scenarios. They provide valuable insights for document differentiation and lead to statistically significant improvements in scale calibration, exhibiting lower error values compared to other calibration methods. Additionally, NLEs c...</td>\n",
              "      <td>Natural language explanations (NLEs) significantly enhance the scale calibration of neural rankers, often maintaining or even boosting ranking performance in most scenarios. They provide valuable insights for document differentiation and lead to statistically significant improvements in scale calibration, exhibiting lower error values compared to other calibration methods. Additionally, NLEs h...</td>\n",
              "    </tr>\n",
              "    <tr>\n",
              "      <th>How do i interpret table 2's calibration and ranking scores?</th>\n",
              "      <td>Lower is better for calibration, higher is better for ranking</td>\n",
              "      <td>Interpreting Table 2's calibration and ranking scores involves understanding that lower values are better for calibration metrics such as CB-ECE, ECE, and MSE. The table compares the performance of different methods on two scale calibration datasets, TREC and NTCIR, using metrics like nDCG, nDCG@10, CB-ECE, ECE, and MSE. Significant improvements over a baseline method are marked with a dagger ...</td>\n",
              "      <td>Interpret the calibration and ranking scores in Table 2 by noting that lower values are better for calibration metrics such as CB-ECE, ECE, and MSE. Statistically significant improvements over the \"Platt Scaling monoBERT\" baseline are marked with a dagger symbol. The table presents the performance of different methods on two scale calibration datasets, TREC and NTCIR, with metrics like nDCG, n...</td>\n",
              "      <td>Interpret the calibration and ranking scores in Table 2 by noting that lower values are better for calibration metrics such as CB-ECE, ECE, and MSE. Look for statistically significant improvements over the \"Platt Scaling monoBERT\" baseline, which are marked with a dagger symbol (†). Pay attention to the values in the columns for Ranking and Calibration metrics for different methods and dataset...</td>\n",
              "      <td>The calibration scores in Table 2, represented by CB-ECE, ECE, and MSE, are metrics used to evaluate the alignment of the ranking scores produced by different methods with the target scale. Lower values for these metrics indicate better calibration performance. On the other hand, the ranking scores, such as nDCG and nDCG@10, measure the effectiveness of the ranking produced by the methods, whe...</td>\n",
              "      <td>Interpret the calibration and ranking scores in Table 2 by noting that lower values are better for calibration metrics such as CB-ECE, ECE, and MSE. Look for statistically significant improvements over the \"Platt Scaling monoBERT\" baseline, which are marked with a dagger symbol (†). Pay attention to the values in the columns for Ranking and Calibration metrics for different methods and dataset...</td>\n",
              "    </tr>\n",
              "    <tr>\n",
              "      <th>What are the weights of \"Uncalibrated monoBERT\" tuned on?</th>\n",
              "      <td>MSMarco</td>\n",
              "      <td>The weights of \"Uncalibrated monoBERT\" are fine-tuned on MS MARCO.</td>\n",
              "      <td>The weights of \"Uncalibrated monoBERT\" are fine-tuned on MS MARCO.</td>\n",
              "      <td>The weights of \"Uncalibrated monoBERT\" are fine-tuned on MS MARCO.</td>\n",
              "      <td>The weights of \"Uncalibrated monoBERT\" are fine-tuned on MS MARCO.</td>\n",
              "      <td>The weights of \"Uncalibrated monoBERT\" are fine-tuned on MS MARCO.</td>\n",
              "    </tr>\n",
              "    <tr>\n",
              "      <th>What category was used to build and train literal explanation + BERT? what does this category mean?</th>\n",
              "      <td>Category F: training nle-based neural rankers on calibration data.</td>\n",
              "      <td>Category F was used to build and train the literal explanation + BERT. This category involves training NLE-based neural rankers on calibration data. In this method, a BERT model is finetuned to process meta NLEs and produce scale-calibrated ranking scores. Specifically, in the scenario of the literal explanation approach, where each input is represented with two meta NLEs (one for relevance an...</td>\n",
              "      <td>Category F was used to build and train literal explanation + BERT. This category involves training NLE-based neural rankers on calibration data. In this method, a BERT model is finetuned to process meta NLEs and produce scale-calibrated ranking scores. The approach includes generating and aggregating natural language explanations for query-document pairs, and then using these explanations to r...</td>\n",
              "      <td>Category F was used to build and train literal explanation + BERT. This category involves training NLE-based neural rankers on calibration data. In this method, a BERT model is finetuned to process meta NLEs and produce scale-calibrated ranking scores. For the literal explanation approach, this category involves generating and aggregating natural language explanations for query-document pairs ...</td>\n",
              "      <td>Category F was used to build and train the literal explanation + BERT model. This category involves training NLE-based neural rankers on calibration data. In this approach, a BERT model is finetuned to process meta natural language explanations (NLEs) and generate scale-calibrated ranking scores.</td>\n",
              "      <td>Category F was used to build and train the \"Literal Explanation + BERT\" method. This category involves training NLE-based neural rankers on calibration data. In this method, a BERT model is finetuned to process meta NLEs and generate scale-calibrated ranking scores. The literal explanation approach utilizes natural language explanations for query-document pairs to enhance the ranking performan...</td>\n",
              "    </tr>\n",
              "    <tr>\n",
              "      <th>Is the 'trec-dl' in table 1 the same as the 'trec' in table 2?</th>\n",
              "      <td>Yes</td>\n",
              "      <td>Yes, the 'trec-dl' in Table 1 is the same as the 'TREC' in Table 2.</td>\n",
              "      <td>Yes, the 'trec-dl' in Table 1 is the same dataset as the 'TREC' dataset mentioned in Table 2.</td>\n",
              "      <td>Yes, the 'trec-dl' in table 1 is the same as the 'TREC' in table 2.</td>\n",
              "      <td>The 'trec-dl' in Table 1 is not the same as the 'trec' in Table 2.</td>\n",
              "      <td>No, the 'trec-dl' in table 1 is not the same as the 'trec' in table 2.</td>\n",
              "    </tr>\n",
              "  </tbody>\n",
              "</table>\n",
              "</div>\n",
              "    <div class=\"colab-df-buttons\">\n",
              "\n",
              "  <div class=\"colab-df-container\">\n",
              "    <button class=\"colab-df-convert\" onclick=\"convertToInteractive('df-4f9e2984-4bc9-4504-9d4a-7ab6719e6f4d')\"\n",
              "            title=\"Convert this dataframe to an interactive table.\"\n",
              "            style=\"display:none;\">\n",
              "\n",
              "  <svg xmlns=\"http://www.w3.org/2000/svg\" height=\"24px\" viewBox=\"0 -960 960 960\">\n",
              "    <path d=\"M120-120v-720h720v720H120Zm60-500h600v-160H180v160Zm220 220h160v-160H400v160Zm0 220h160v-160H400v160ZM180-400h160v-160H180v160Zm440 0h160v-160H620v160ZM180-180h160v-160H180v160Zm440 0h160v-160H620v160Z\"/>\n",
              "  </svg>\n",
              "    </button>\n",
              "\n",
              "  <style>\n",
              "    .colab-df-container {\n",
              "      display:flex;\n",
              "      gap: 12px;\n",
              "    }\n",
              "\n",
              "    .colab-df-convert {\n",
              "      background-color: #E8F0FE;\n",
              "      border: none;\n",
              "      border-radius: 50%;\n",
              "      cursor: pointer;\n",
              "      display: none;\n",
              "      fill: #1967D2;\n",
              "      height: 32px;\n",
              "      padding: 0 0 0 0;\n",
              "      width: 32px;\n",
              "    }\n",
              "\n",
              "    .colab-df-convert:hover {\n",
              "      background-color: #E2EBFA;\n",
              "      box-shadow: 0px 1px 2px rgba(60, 64, 67, 0.3), 0px 1px 3px 1px rgba(60, 64, 67, 0.15);\n",
              "      fill: #174EA6;\n",
              "    }\n",
              "\n",
              "    .colab-df-buttons div {\n",
              "      margin-bottom: 4px;\n",
              "    }\n",
              "\n",
              "    [theme=dark] .colab-df-convert {\n",
              "      background-color: #3B4455;\n",
              "      fill: #D2E3FC;\n",
              "    }\n",
              "\n",
              "    [theme=dark] .colab-df-convert:hover {\n",
              "      background-color: #434B5C;\n",
              "      box-shadow: 0px 1px 3px 1px rgba(0, 0, 0, 0.15);\n",
              "      filter: drop-shadow(0px 1px 2px rgba(0, 0, 0, 0.3));\n",
              "      fill: #FFFFFF;\n",
              "    }\n",
              "  </style>\n",
              "\n",
              "    <script>\n",
              "      const buttonEl =\n",
              "        document.querySelector('#df-4f9e2984-4bc9-4504-9d4a-7ab6719e6f4d button.colab-df-convert');\n",
              "      buttonEl.style.display =\n",
              "        google.colab.kernel.accessAllowed ? 'block' : 'none';\n",
              "\n",
              "      async function convertToInteractive(key) {\n",
              "        const element = document.querySelector('#df-4f9e2984-4bc9-4504-9d4a-7ab6719e6f4d');\n",
              "        const dataTable =\n",
              "          await google.colab.kernel.invokeFunction('convertToInteractive',\n",
              "                                                    [key], {});\n",
              "        if (!dataTable) return;\n",
              "\n",
              "        const docLinkHtml = 'Like what you see? Visit the ' +\n",
              "          '<a target=\"_blank\" href=https://colab.research.google.com/notebooks/data_table.ipynb>data table notebook</a>'\n",
              "          + ' to learn more about interactive tables.';\n",
              "        element.innerHTML = '';\n",
              "        dataTable['output_type'] = 'display_data';\n",
              "        await google.colab.output.renderOutput(dataTable, element);\n",
              "        const docLink = document.createElement('div');\n",
              "        docLink.innerHTML = docLinkHtml;\n",
              "        element.appendChild(docLink);\n",
              "      }\n",
              "    </script>\n",
              "  </div>\n",
              "\n",
              "\n",
              "<div id=\"df-9bf2943b-c010-40e0-af16-108b789bdba2\">\n",
              "  <button class=\"colab-df-quickchart\" onclick=\"quickchart('df-9bf2943b-c010-40e0-af16-108b789bdba2')\"\n",
              "            title=\"Suggest charts\"\n",
              "            style=\"display:none;\">\n",
              "\n",
              "<svg xmlns=\"http://www.w3.org/2000/svg\" height=\"24px\"viewBox=\"0 0 24 24\"\n",
              "     width=\"24px\">\n",
              "    <g>\n",
              "        <path d=\"M19 3H5c-1.1 0-2 .9-2 2v14c0 1.1.9 2 2 2h14c1.1 0 2-.9 2-2V5c0-1.1-.9-2-2-2zM9 17H7v-7h2v7zm4 0h-2V7h2v10zm4 0h-2v-4h2v4z\"/>\n",
              "    </g>\n",
              "</svg>\n",
              "  </button>\n",
              "\n",
              "<style>\n",
              "  .colab-df-quickchart {\n",
              "      --bg-color: #E8F0FE;\n",
              "      --fill-color: #1967D2;\n",
              "      --hover-bg-color: #E2EBFA;\n",
              "      --hover-fill-color: #174EA6;\n",
              "      --disabled-fill-color: #AAA;\n",
              "      --disabled-bg-color: #DDD;\n",
              "  }\n",
              "\n",
              "  [theme=dark] .colab-df-quickchart {\n",
              "      --bg-color: #3B4455;\n",
              "      --fill-color: #D2E3FC;\n",
              "      --hover-bg-color: #434B5C;\n",
              "      --hover-fill-color: #FFFFFF;\n",
              "      --disabled-bg-color: #3B4455;\n",
              "      --disabled-fill-color: #666;\n",
              "  }\n",
              "\n",
              "  .colab-df-quickchart {\n",
              "    background-color: var(--bg-color);\n",
              "    border: none;\n",
              "    border-radius: 50%;\n",
              "    cursor: pointer;\n",
              "    display: none;\n",
              "    fill: var(--fill-color);\n",
              "    height: 32px;\n",
              "    padding: 0;\n",
              "    width: 32px;\n",
              "  }\n",
              "\n",
              "  .colab-df-quickchart:hover {\n",
              "    background-color: var(--hover-bg-color);\n",
              "    box-shadow: 0 1px 2px rgba(60, 64, 67, 0.3), 0 1px 3px 1px rgba(60, 64, 67, 0.15);\n",
              "    fill: var(--button-hover-fill-color);\n",
              "  }\n",
              "\n",
              "  .colab-df-quickchart-complete:disabled,\n",
              "  .colab-df-quickchart-complete:disabled:hover {\n",
              "    background-color: var(--disabled-bg-color);\n",
              "    fill: var(--disabled-fill-color);\n",
              "    box-shadow: none;\n",
              "  }\n",
              "\n",
              "  .colab-df-spinner {\n",
              "    border: 2px solid var(--fill-color);\n",
              "    border-color: transparent;\n",
              "    border-bottom-color: var(--fill-color);\n",
              "    animation:\n",
              "      spin 1s steps(1) infinite;\n",
              "  }\n",
              "\n",
              "  @keyframes spin {\n",
              "    0% {\n",
              "      border-color: transparent;\n",
              "      border-bottom-color: var(--fill-color);\n",
              "      border-left-color: var(--fill-color);\n",
              "    }\n",
              "    20% {\n",
              "      border-color: transparent;\n",
              "      border-left-color: var(--fill-color);\n",
              "      border-top-color: var(--fill-color);\n",
              "    }\n",
              "    30% {\n",
              "      border-color: transparent;\n",
              "      border-left-color: var(--fill-color);\n",
              "      border-top-color: var(--fill-color);\n",
              "      border-right-color: var(--fill-color);\n",
              "    }\n",
              "    40% {\n",
              "      border-color: transparent;\n",
              "      border-right-color: var(--fill-color);\n",
              "      border-top-color: var(--fill-color);\n",
              "    }\n",
              "    60% {\n",
              "      border-color: transparent;\n",
              "      border-right-color: var(--fill-color);\n",
              "    }\n",
              "    80% {\n",
              "      border-color: transparent;\n",
              "      border-right-color: var(--fill-color);\n",
              "      border-bottom-color: var(--fill-color);\n",
              "    }\n",
              "    90% {\n",
              "      border-color: transparent;\n",
              "      border-bottom-color: var(--fill-color);\n",
              "    }\n",
              "  }\n",
              "</style>\n",
              "\n",
              "  <script>\n",
              "    async function quickchart(key) {\n",
              "      const quickchartButtonEl =\n",
              "        document.querySelector('#' + key + ' button');\n",
              "      quickchartButtonEl.disabled = true;  // To prevent multiple clicks.\n",
              "      quickchartButtonEl.classList.add('colab-df-spinner');\n",
              "      try {\n",
              "        const charts = await google.colab.kernel.invokeFunction(\n",
              "            'suggestCharts', [key], {});\n",
              "      } catch (error) {\n",
              "        console.error('Error during call to suggestCharts:', error);\n",
              "      }\n",
              "      quickchartButtonEl.classList.remove('colab-df-spinner');\n",
              "      quickchartButtonEl.classList.add('colab-df-quickchart-complete');\n",
              "    }\n",
              "    (() => {\n",
              "      let quickchartButtonEl =\n",
              "        document.querySelector('#df-9bf2943b-c010-40e0-af16-108b789bdba2 button');\n",
              "      quickchartButtonEl.style.display =\n",
              "        google.colab.kernel.accessAllowed ? 'block' : 'none';\n",
              "    })();\n",
              "  </script>\n",
              "</div>\n",
              "    </div>\n",
              "  </div>\n"
            ],
            "text/plain": [
              "                                                                                                                                                                                                                                                                                              ANSWER  \\\n",
              "How does the average query length compare to the average document length in table 1?                                                                        The average query length is shorter in TREC (8) than it is in NTCIR (22). The average doc length is also shorter in TREC (70.9 vs 493.2)   \n",
              "What are the Literal Explanation + BERT method's ndcg@10 scores on both datasets in table 2?                                                                                                                                                                              TREC: 0.529; NTCIR: 0.340.   \n",
              "What impact do natural language explanations (NLEs) have on improving the calibration and overall effectiveness of these models in document ranking tasks?                    NLEs lead to better calibrated neural rankers while maintaining or even boosting ranking performance in most scenarios   \n",
              "How do i interpret table 2's calibration and ranking scores?                                                                                                                                                                           Lower is better for calibration, higher is better for ranking   \n",
              "What are the weights of \"Uncalibrated monoBERT\" tuned on?                                                                                                                                                                                                                                    MSMarco   \n",
              "What category was used to build and train literal explanation + BERT? what does this category mean?                                                                                                                               Category F: training nle-based neural rankers on calibration data.   \n",
              "Is the 'trec-dl' in table 1 the same as the 'trec' in table 2?                                                                                                                                                                                                                                   Yes   \n",
              "\n",
              "                                                                                                                                                                                                                                                                                                                                                                                                                                                                                                                                                                    control  \\\n",
              "How does the average query length compare to the average document length in table 1?                                                                                                                                                                                                                                                                                                                                                                                                The average query length is shorter compared to the average document length in Table 1.   \n",
              "What are the Literal Explanation + BERT method's ndcg@10 scores on both datasets in table 2?                                                                                                                                                                                                                                                                                                                                                                                                                                                                0.529 and 0.534   \n",
              "What impact do natural language explanations (NLEs) have on improving the calibration and overall effectiveness of these models in document ranking tasks?  Natural language explanations (NLEs) significantly enhance the scale calibration of neural rankers, often maintaining or even boosting ranking performance in most scenarios. They provide valuable insights for document differentiation and lead to statistically significant improvements in scale calibration, resulting in lower calibration error values compared to other calibration methods. Additi...   \n",
              "How do i interpret table 2's calibration and ranking scores?                                                                                                Interpreting Table 2's calibration and ranking scores involves understanding that lower values are better for calibration metrics such as CB-ECE, ECE, and MSE. The table compares the performance of different methods on two scale calibration datasets, TREC and NTCIR, using metrics like nDCG, nDCG@10, CB-ECE, ECE, and MSE. Significant improvements over a baseline method are marked with a dagger ...   \n",
              "What are the weights of \"Uncalibrated monoBERT\" tuned on?                                                                                                                                                                                                                                                                                                                                                                                                                                                The weights of \"Uncalibrated monoBERT\" are fine-tuned on MS MARCO.   \n",
              "What category was used to build and train literal explanation + BERT? what does this category mean?                                                         Category F was used to build and train the literal explanation + BERT. This category involves training NLE-based neural rankers on calibration data. In this method, a BERT model is finetuned to process meta NLEs and produce scale-calibrated ranking scores. Specifically, in the scenario of the literal explanation approach, where each input is represented with two meta NLEs (one for relevance an...   \n",
              "Is the 'trec-dl' in table 1 the same as the 'trec' in table 2?                                                                                                                                                                                                                                                                                                                                                                                                                                          Yes, the 'trec-dl' in Table 1 is the same as the 'TREC' in Table 2.   \n",
              "\n",
              "                                                                                                                                                                                                                                                                                                                                                                                                                                                                                                                                                                         v1  \\\n",
              "How does the average query length compare to the average document length in table 1?                                                                                                                                                                                                                                                                                                                                                                                                The average query length is shorter compared to the average document length in table 1.   \n",
              "What are the Literal Explanation + BERT method's ndcg@10 scores on both datasets in table 2?                                                                                                                                                                                                                                                                                                                             The Literal Explanation + BERT method's nDCG@10 scores on both datasets in Table 2 are 0.529 for the TREC dataset and 0.602 for the NTCIR dataset.   \n",
              "What impact do natural language explanations (NLEs) have on improving the calibration and overall effectiveness of these models in document ranking tasks?  Natural language explanations (NLEs) significantly enhance the scale calibration of neural rankers, often maintaining or even boosting ranking performance in most scenarios. They provide valuable insights for document differentiation and lead to statistically significant improvements in scale calibration, resulting in lower calibration error values compared to other calibration methods. Additi...   \n",
              "How do i interpret table 2's calibration and ranking scores?                                                                                                Interpret the calibration and ranking scores in Table 2 by noting that lower values are better for calibration metrics such as CB-ECE, ECE, and MSE. Statistically significant improvements over the \"Platt Scaling monoBERT\" baseline are marked with a dagger symbol. The table presents the performance of different methods on two scale calibration datasets, TREC and NTCIR, with metrics like nDCG, n...   \n",
              "What are the weights of \"Uncalibrated monoBERT\" tuned on?                                                                                                                                                                                                                                                                                                                                                                                                                                                The weights of \"Uncalibrated monoBERT\" are fine-tuned on MS MARCO.   \n",
              "What category was used to build and train literal explanation + BERT? what does this category mean?                                                         Category F was used to build and train literal explanation + BERT. This category involves training NLE-based neural rankers on calibration data. In this method, a BERT model is finetuned to process meta NLEs and produce scale-calibrated ranking scores. The approach includes generating and aggregating natural language explanations for query-document pairs, and then using these explanations to r...   \n",
              "Is the 'trec-dl' in table 1 the same as the 'trec' in table 2?                                                                                                                                                                                                                                                                                                                                                                                                                Yes, the 'trec-dl' in Table 1 is the same dataset as the 'TREC' dataset mentioned in Table 2.   \n",
              "\n",
              "                                                                                                                                                                                                                                                                                                                                                                                                                                                                                                                                                                         v2  \\\n",
              "How does the average query length compare to the average document length in table 1?                                                                                                                                                                                                                                                                                                                                                                                           The average query length is significantly lower than the average document length in table 1.   \n",
              "What are the Literal Explanation + BERT method's ndcg@10 scores on both datasets in table 2?                                                                                                                                                                                                                                                                                                                            The Literal Explanation + BERT method's ndcg@10 scores on both datasets in table 2 are 0.529% for the TREC dataset and 0.340 for the NTCIR dataset.   \n",
              "What impact do natural language explanations (NLEs) have on improving the calibration and overall effectiveness of these models in document ranking tasks?  Natural language explanations (NLEs) significantly enhance the scale calibration of neural rankers, often maintaining or even boosting ranking performance in most scenarios. They provide valuable insights for document differentiation and lead to statistically significant improvements in scale calibration, resulting in lower calibration error values compared to other calibration methods. Additi...   \n",
              "How do i interpret table 2's calibration and ranking scores?                                                                                                Interpret the calibration and ranking scores in Table 2 by noting that lower values are better for calibration metrics such as CB-ECE, ECE, and MSE. Look for statistically significant improvements over the \"Platt Scaling monoBERT\" baseline, which are marked with a dagger symbol (†). Pay attention to the values in the columns for Ranking and Calibration metrics for different methods and dataset...   \n",
              "What are the weights of \"Uncalibrated monoBERT\" tuned on?                                                                                                                                                                                                                                                                                                                                                                                                                                                The weights of \"Uncalibrated monoBERT\" are fine-tuned on MS MARCO.   \n",
              "What category was used to build and train literal explanation + BERT? what does this category mean?                                                         Category F was used to build and train literal explanation + BERT. This category involves training NLE-based neural rankers on calibration data. In this method, a BERT model is finetuned to process meta NLEs and produce scale-calibrated ranking scores. For the literal explanation approach, this category involves generating and aggregating natural language explanations for query-document pairs ...   \n",
              "Is the 'trec-dl' in table 1 the same as the 'trec' in table 2?                                                                                                                                                                                                                                                                                                                                                                                                                                          Yes, the 'trec-dl' in table 1 is the same as the 'TREC' in table 2.   \n",
              "\n",
              "                                                                                                                                                                                                                                                                                                                                                                                                                                                                                                                                                                         v3  \\\n",
              "How does the average query length compare to the average document length in table 1?                                                                                                                                                                                                                                                                                                                                                                                                       The average query length is shorter than the average document length in Table 1.   \n",
              "What are the Literal Explanation + BERT method's ndcg@10 scores on both datasets in table 2?                                                                                                                                                                                                                                                                                                                                   The Literal Explanation + BERT method's ndcg@10 scores on the TREC dataset and NTCIR dataset in table 2 are 0.529% and 0.340%, respectively.   \n",
              "What impact do natural language explanations (NLEs) have on improving the calibration and overall effectiveness of these models in document ranking tasks?  Natural language explanations (NLEs) significantly enhance the scale calibration of neural rankers, often maintaining or even boosting ranking performance in most scenarios. They provide valuable insights for document differentiation and lead to statistically significant improvements in scale calibration, exhibiting lower error values compared to other calibration methods. Additionally, NLEs c...   \n",
              "How do i interpret table 2's calibration and ranking scores?                                                                                                The calibration scores in Table 2, represented by CB-ECE, ECE, and MSE, are metrics used to evaluate the alignment of the ranking scores produced by different methods with the target scale. Lower values for these metrics indicate better calibration performance. On the other hand, the ranking scores, such as nDCG and nDCG@10, measure the effectiveness of the ranking produced by the methods, whe...   \n",
              "What are the weights of \"Uncalibrated monoBERT\" tuned on?                                                                                                                                                                                                                                                                                                                                                                                                                                                The weights of \"Uncalibrated monoBERT\" are fine-tuned on MS MARCO.   \n",
              "What category was used to build and train literal explanation + BERT? what does this category mean?                                                                                                                                                               Category F was used to build and train the literal explanation + BERT model. This category involves training NLE-based neural rankers on calibration data. In this approach, a BERT model is finetuned to process meta natural language explanations (NLEs) and generate scale-calibrated ranking scores.   \n",
              "Is the 'trec-dl' in table 1 the same as the 'trec' in table 2?                                                                                                                                                                                                                                                                                                                                                                                                                                           The 'trec-dl' in Table 1 is not the same as the 'trec' in Table 2.   \n",
              "\n",
              "                                                                                                                                                                                                                                                                                                                                                                                                                                                                                                                                                                         v4  \n",
              "How does the average query length compare to the average document length in table 1?                                                                                                                                                                                                                                                                                                                                                                                           The average query length is significantly lower than the average document length in table 1.  \n",
              "What are the Literal Explanation + BERT method's ndcg@10 scores on both datasets in table 2?                                                                                                                                                                                                                                                                                                                                                         The Literal Explanation + BERT method's nDCG@10 score on the TREC dataset is 0.529% and on the NTCIR dataset is 0.340.  \n",
              "What impact do natural language explanations (NLEs) have on improving the calibration and overall effectiveness of these models in document ranking tasks?  Natural language explanations (NLEs) significantly enhance the scale calibration of neural rankers, often maintaining or even boosting ranking performance in most scenarios. They provide valuable insights for document differentiation and lead to statistically significant improvements in scale calibration, exhibiting lower error values compared to other calibration methods. Additionally, NLEs h...  \n",
              "How do i interpret table 2's calibration and ranking scores?                                                                                                Interpret the calibration and ranking scores in Table 2 by noting that lower values are better for calibration metrics such as CB-ECE, ECE, and MSE. Look for statistically significant improvements over the \"Platt Scaling monoBERT\" baseline, which are marked with a dagger symbol (†). Pay attention to the values in the columns for Ranking and Calibration metrics for different methods and dataset...  \n",
              "What are the weights of \"Uncalibrated monoBERT\" tuned on?                                                                                                                                                                                                                                                                                                                                                                                                                                                The weights of \"Uncalibrated monoBERT\" are fine-tuned on MS MARCO.  \n",
              "What category was used to build and train literal explanation + BERT? what does this category mean?                                                         Category F was used to build and train the \"Literal Explanation + BERT\" method. This category involves training NLE-based neural rankers on calibration data. In this method, a BERT model is finetuned to process meta NLEs and generate scale-calibrated ranking scores. The literal explanation approach utilizes natural language explanations for query-document pairs to enhance the ranking performan...  \n",
              "Is the 'trec-dl' in table 1 the same as the 'trec' in table 2?                                                                                                                                                                                                                                                                                                                                                                                                                                       No, the 'trec-dl' in table 1 is not the same as the 'trec' in table 2.  "
            ]
          },
          "execution_count": 115,
          "metadata": {},
          "output_type": "execute_result"
        }
      ],
      "source": [
        "# Add variant 3's responses to `exp_results` dataframe:\n",
        "v3_responses = [one_v3, two_v3, three_v3, four_v3, five_v3, six_v3, seven_v3]\n",
        "\n",
        "exp_results['v3'] = v3_responses\n",
        "\n",
        "exp_results"
      ]
    },
    {
      "cell_type": "markdown",
      "metadata": {
        "id": "HyqF3J2DobEY"
      },
      "source": [
        "## Variant 4: Natural language injection\n",
        "\n",
        "For this variant, you will inject the structured data values from your table into a phrase (or sentence) and vectorize that."
      ]
    },
    {
      "cell_type": "code",
      "execution_count": null,
      "metadata": {
        "colab": {
          "base_uri": "https://localhost:8080/",
          "height": 238
        },
        "id": "qf5-LXj-YBYE",
        "outputId": "b9008321-06f4-45c2-cee9-980190ba20b7"
      },
      "outputs": [
        {
          "data": {
            "text/html": [
              "\n",
              "  <style>\n",
              "    pre {\n",
              "        white-space: pre-wrap;\n",
              "    }\n",
              "  </style>\n",
              "  "
            ],
            "text/plain": [
              "<IPython.core.display.HTML object>"
            ]
          },
          "metadata": {},
          "output_type": "display_data"
        },
        {
          "data": {
            "application/vnd.google.colaboratory.intrinsic+json": {
              "summary": "{\n  \"name\": \"df1\",\n  \"rows\": 6,\n  \"fields\": [\n    {\n      \"column\": \"Metric\",\n      \"properties\": {\n        \"dtype\": \"string\",\n        \"num_unique_values\": 6,\n        \"samples\": [\n          \"# Queries (Train/Val/Test)\",\n          \"Avg. # docs per query\",\n          \"Avg. doc. length\"\n        ],\n        \"semantic_type\": \"\",\n        \"description\": \"\"\n      }\n    },\n    {\n      \"column\": \"TREC-DL\",\n      \"properties\": {\n        \"dtype\": \"string\",\n        \"num_unique_values\": 6,\n        \"samples\": [\n          \"| 97/53/67\",\n          \"282.7\",\n          \"70.9\"\n        ],\n        \"semantic_type\": \"\",\n        \"description\": \"\"\n      }\n    },\n    {\n      \"column\": \"NTCIR-14\",\n      \"properties\": {\n        \"dtype\": \"string\",\n        \"num_unique_values\": 6,\n        \"samples\": [\n          \"48/16/16\",\n          \"345.3\",\n          \"493.2\"\n        ],\n        \"semantic_type\": \"\",\n        \"description\": \"\"\n      }\n    }\n  ]\n}",
              "type": "dataframe",
              "variable_name": "df1"
            },
            "text/html": [
              "\n",
              "  <div id=\"df-2f6536f5-a952-4d21-bb5b-549e2f291622\" class=\"colab-df-container\">\n",
              "    <div>\n",
              "<style scoped>\n",
              "    .dataframe tbody tr th:only-of-type {\n",
              "        vertical-align: middle;\n",
              "    }\n",
              "\n",
              "    .dataframe tbody tr th {\n",
              "        vertical-align: top;\n",
              "    }\n",
              "\n",
              "    .dataframe thead th {\n",
              "        text-align: right;\n",
              "    }\n",
              "</style>\n",
              "<table border=\"1\" class=\"dataframe\">\n",
              "  <thead>\n",
              "    <tr style=\"text-align: right;\">\n",
              "      <th></th>\n",
              "      <th>Metric</th>\n",
              "      <th>TREC-DL</th>\n",
              "      <th>NTCIR-14</th>\n",
              "    </tr>\n",
              "  </thead>\n",
              "  <tbody>\n",
              "    <tr>\n",
              "      <th>0</th>\n",
              "      <td># Queries (Train/Val/Test)</td>\n",
              "      <td>| 97/53/67</td>\n",
              "      <td>48/16/16</td>\n",
              "    </tr>\n",
              "    <tr>\n",
              "      <th>1</th>\n",
              "      <td>Avg. # docs per query</td>\n",
              "      <td>282.7</td>\n",
              "      <td>345.3</td>\n",
              "    </tr>\n",
              "    <tr>\n",
              "      <th>2</th>\n",
              "      <td>Levels of relevance</td>\n",
              "      <td>4</td>\n",
              "      <td>5</td>\n",
              "    </tr>\n",
              "    <tr>\n",
              "      <th>3</th>\n",
              "      <td>Label dist. (low to high)</td>\n",
              "      <td>58/22/14/6</td>\n",
              "      <td>48/23/17/8/3</td>\n",
              "    </tr>\n",
              "    <tr>\n",
              "      <th>4</th>\n",
              "      <td>Avg. query length</td>\n",
              "      <td>8.0</td>\n",
              "      <td>22.0</td>\n",
              "    </tr>\n",
              "    <tr>\n",
              "      <th>5</th>\n",
              "      <td>Avg. doc. length</td>\n",
              "      <td>70.9</td>\n",
              "      <td>493.2</td>\n",
              "    </tr>\n",
              "  </tbody>\n",
              "</table>\n",
              "</div>\n",
              "    <div class=\"colab-df-buttons\">\n",
              "\n",
              "  <div class=\"colab-df-container\">\n",
              "    <button class=\"colab-df-convert\" onclick=\"convertToInteractive('df-2f6536f5-a952-4d21-bb5b-549e2f291622')\"\n",
              "            title=\"Convert this dataframe to an interactive table.\"\n",
              "            style=\"display:none;\">\n",
              "\n",
              "  <svg xmlns=\"http://www.w3.org/2000/svg\" height=\"24px\" viewBox=\"0 -960 960 960\">\n",
              "    <path d=\"M120-120v-720h720v720H120Zm60-500h600v-160H180v160Zm220 220h160v-160H400v160Zm0 220h160v-160H400v160ZM180-400h160v-160H180v160Zm440 0h160v-160H620v160ZM180-180h160v-160H180v160Zm440 0h160v-160H620v160Z\"/>\n",
              "  </svg>\n",
              "    </button>\n",
              "\n",
              "  <style>\n",
              "    .colab-df-container {\n",
              "      display:flex;\n",
              "      gap: 12px;\n",
              "    }\n",
              "\n",
              "    .colab-df-convert {\n",
              "      background-color: #E8F0FE;\n",
              "      border: none;\n",
              "      border-radius: 50%;\n",
              "      cursor: pointer;\n",
              "      display: none;\n",
              "      fill: #1967D2;\n",
              "      height: 32px;\n",
              "      padding: 0 0 0 0;\n",
              "      width: 32px;\n",
              "    }\n",
              "\n",
              "    .colab-df-convert:hover {\n",
              "      background-color: #E2EBFA;\n",
              "      box-shadow: 0px 1px 2px rgba(60, 64, 67, 0.3), 0px 1px 3px 1px rgba(60, 64, 67, 0.15);\n",
              "      fill: #174EA6;\n",
              "    }\n",
              "\n",
              "    .colab-df-buttons div {\n",
              "      margin-bottom: 4px;\n",
              "    }\n",
              "\n",
              "    [theme=dark] .colab-df-convert {\n",
              "      background-color: #3B4455;\n",
              "      fill: #D2E3FC;\n",
              "    }\n",
              "\n",
              "    [theme=dark] .colab-df-convert:hover {\n",
              "      background-color: #434B5C;\n",
              "      box-shadow: 0px 1px 3px 1px rgba(0, 0, 0, 0.15);\n",
              "      filter: drop-shadow(0px 1px 2px rgba(0, 0, 0, 0.3));\n",
              "      fill: #FFFFFF;\n",
              "    }\n",
              "  </style>\n",
              "\n",
              "    <script>\n",
              "      const buttonEl =\n",
              "        document.querySelector('#df-2f6536f5-a952-4d21-bb5b-549e2f291622 button.colab-df-convert');\n",
              "      buttonEl.style.display =\n",
              "        google.colab.kernel.accessAllowed ? 'block' : 'none';\n",
              "\n",
              "      async function convertToInteractive(key) {\n",
              "        const element = document.querySelector('#df-2f6536f5-a952-4d21-bb5b-549e2f291622');\n",
              "        const dataTable =\n",
              "          await google.colab.kernel.invokeFunction('convertToInteractive',\n",
              "                                                    [key], {});\n",
              "        if (!dataTable) return;\n",
              "\n",
              "        const docLinkHtml = 'Like what you see? Visit the ' +\n",
              "          '<a target=\"_blank\" href=https://colab.research.google.com/notebooks/data_table.ipynb>data table notebook</a>'\n",
              "          + ' to learn more about interactive tables.';\n",
              "        element.innerHTML = '';\n",
              "        dataTable['output_type'] = 'display_data';\n",
              "        await google.colab.output.renderOutput(dataTable, element);\n",
              "        const docLink = document.createElement('div');\n",
              "        docLink.innerHTML = docLinkHtml;\n",
              "        element.appendChild(docLink);\n",
              "      }\n",
              "    </script>\n",
              "  </div>\n",
              "\n",
              "\n",
              "<div id=\"df-3c4e6d8d-d95d-4854-8552-07b5a58202f0\">\n",
              "  <button class=\"colab-df-quickchart\" onclick=\"quickchart('df-3c4e6d8d-d95d-4854-8552-07b5a58202f0')\"\n",
              "            title=\"Suggest charts\"\n",
              "            style=\"display:none;\">\n",
              "\n",
              "<svg xmlns=\"http://www.w3.org/2000/svg\" height=\"24px\"viewBox=\"0 0 24 24\"\n",
              "     width=\"24px\">\n",
              "    <g>\n",
              "        <path d=\"M19 3H5c-1.1 0-2 .9-2 2v14c0 1.1.9 2 2 2h14c1.1 0 2-.9 2-2V5c0-1.1-.9-2-2-2zM9 17H7v-7h2v7zm4 0h-2V7h2v10zm4 0h-2v-4h2v4z\"/>\n",
              "    </g>\n",
              "</svg>\n",
              "  </button>\n",
              "\n",
              "<style>\n",
              "  .colab-df-quickchart {\n",
              "      --bg-color: #E8F0FE;\n",
              "      --fill-color: #1967D2;\n",
              "      --hover-bg-color: #E2EBFA;\n",
              "      --hover-fill-color: #174EA6;\n",
              "      --disabled-fill-color: #AAA;\n",
              "      --disabled-bg-color: #DDD;\n",
              "  }\n",
              "\n",
              "  [theme=dark] .colab-df-quickchart {\n",
              "      --bg-color: #3B4455;\n",
              "      --fill-color: #D2E3FC;\n",
              "      --hover-bg-color: #434B5C;\n",
              "      --hover-fill-color: #FFFFFF;\n",
              "      --disabled-bg-color: #3B4455;\n",
              "      --disabled-fill-color: #666;\n",
              "  }\n",
              "\n",
              "  .colab-df-quickchart {\n",
              "    background-color: var(--bg-color);\n",
              "    border: none;\n",
              "    border-radius: 50%;\n",
              "    cursor: pointer;\n",
              "    display: none;\n",
              "    fill: var(--fill-color);\n",
              "    height: 32px;\n",
              "    padding: 0;\n",
              "    width: 32px;\n",
              "  }\n",
              "\n",
              "  .colab-df-quickchart:hover {\n",
              "    background-color: var(--hover-bg-color);\n",
              "    box-shadow: 0 1px 2px rgba(60, 64, 67, 0.3), 0 1px 3px 1px rgba(60, 64, 67, 0.15);\n",
              "    fill: var(--button-hover-fill-color);\n",
              "  }\n",
              "\n",
              "  .colab-df-quickchart-complete:disabled,\n",
              "  .colab-df-quickchart-complete:disabled:hover {\n",
              "    background-color: var(--disabled-bg-color);\n",
              "    fill: var(--disabled-fill-color);\n",
              "    box-shadow: none;\n",
              "  }\n",
              "\n",
              "  .colab-df-spinner {\n",
              "    border: 2px solid var(--fill-color);\n",
              "    border-color: transparent;\n",
              "    border-bottom-color: var(--fill-color);\n",
              "    animation:\n",
              "      spin 1s steps(1) infinite;\n",
              "  }\n",
              "\n",
              "  @keyframes spin {\n",
              "    0% {\n",
              "      border-color: transparent;\n",
              "      border-bottom-color: var(--fill-color);\n",
              "      border-left-color: var(--fill-color);\n",
              "    }\n",
              "    20% {\n",
              "      border-color: transparent;\n",
              "      border-left-color: var(--fill-color);\n",
              "      border-top-color: var(--fill-color);\n",
              "    }\n",
              "    30% {\n",
              "      border-color: transparent;\n",
              "      border-left-color: var(--fill-color);\n",
              "      border-top-color: var(--fill-color);\n",
              "      border-right-color: var(--fill-color);\n",
              "    }\n",
              "    40% {\n",
              "      border-color: transparent;\n",
              "      border-right-color: var(--fill-color);\n",
              "      border-top-color: var(--fill-color);\n",
              "    }\n",
              "    60% {\n",
              "      border-color: transparent;\n",
              "      border-right-color: var(--fill-color);\n",
              "    }\n",
              "    80% {\n",
              "      border-color: transparent;\n",
              "      border-right-color: var(--fill-color);\n",
              "      border-bottom-color: var(--fill-color);\n",
              "    }\n",
              "    90% {\n",
              "      border-color: transparent;\n",
              "      border-bottom-color: var(--fill-color);\n",
              "    }\n",
              "  }\n",
              "</style>\n",
              "\n",
              "  <script>\n",
              "    async function quickchart(key) {\n",
              "      const quickchartButtonEl =\n",
              "        document.querySelector('#' + key + ' button');\n",
              "      quickchartButtonEl.disabled = true;  // To prevent multiple clicks.\n",
              "      quickchartButtonEl.classList.add('colab-df-spinner');\n",
              "      try {\n",
              "        const charts = await google.colab.kernel.invokeFunction(\n",
              "            'suggestCharts', [key], {});\n",
              "      } catch (error) {\n",
              "        console.error('Error during call to suggestCharts:', error);\n",
              "      }\n",
              "      quickchartButtonEl.classList.remove('colab-df-spinner');\n",
              "      quickchartButtonEl.classList.add('colab-df-quickchart-complete');\n",
              "    }\n",
              "    (() => {\n",
              "      let quickchartButtonEl =\n",
              "        document.querySelector('#df-3c4e6d8d-d95d-4854-8552-07b5a58202f0 button');\n",
              "      quickchartButtonEl.style.display =\n",
              "        google.colab.kernel.accessAllowed ? 'block' : 'none';\n",
              "    })();\n",
              "  </script>\n",
              "</div>\n",
              "    </div>\n",
              "  </div>\n"
            ],
            "text/plain": [
              "                       Metric     TREC-DL      NTCIR-14\n",
              "0  # Queries (Train/Val/Test)  | 97/53/67      48/16/16\n",
              "1       Avg. # docs per query       282.7         345.3\n",
              "2         Levels of relevance           4             5\n",
              "3   Label dist. (low to high)  58/22/14/6  48/23/17/8/3\n",
              "4           Avg. query length         8.0          22.0\n",
              "5            Avg. doc. length        70.9         493.2"
            ]
          },
          "execution_count": 84,
          "metadata": {},
          "output_type": "execute_result"
        }
      ],
      "source": [
        "# Reminder of what df1 looks like\n",
        "df1"
      ]
    },
    {
      "cell_type": "code",
      "execution_count": null,
      "metadata": {
        "colab": {
          "base_uri": "https://localhost:8080/",
          "height": 17
        },
        "id": "IkXJ568gYBkT",
        "outputId": "dda22de5-8ea2-49be-fb12-1a54c6af8bf2"
      },
      "outputs": [
        {
          "data": {
            "text/html": [
              "\n",
              "  <style>\n",
              "    pre {\n",
              "        white-space: pre-wrap;\n",
              "    }\n",
              "  </style>\n",
              "  "
            ],
            "text/plain": [
              "<IPython.core.display.HTML object>"
            ]
          },
          "metadata": {},
          "output_type": "display_data"
        }
      ],
      "source": [
        "# Write func that comes up with a natural language phrase/sentence/paragraph that makes Table 1's data make sense.\n",
        "# You could do also this via LLM if scaling this workflow is important.\n",
        "\n",
        "def inject_df1_vals_into_template(dataframe: pd.DataFrame) -> list[str]:\n",
        "    \"\"\"\n",
        "    Inject values from Table 1 dataframe (`df1`) into a natural-language template.\n",
        "\n",
        "    :param dataframe: Dataframe representing Table 1 from PDF.\n",
        "    :return: Populated natural-language templates.\n",
        "    \"\"\"\n",
        "    filled_templates = []\n",
        "    for i,v in dataframe.iterrows():\n",
        "        metric_name = v[0]\n",
        "        val_1 = v[1]\n",
        "        val_2 = v[2]\n",
        "        dataset_1 = dataframe.columns[1]\n",
        "        dataset_2 = dataframe.columns[2]\n",
        "        template = f\"The {metric_name} in the {dataset_1} dataset is {val_1}, while it\\'s {val_2} in the {dataset_2} dataset\"\n",
        "        filled_templates.append(template)\n",
        "    return filled_templates\n"
      ]
    },
    {
      "cell_type": "code",
      "execution_count": null,
      "metadata": {
        "colab": {
          "base_uri": "https://localhost:8080/",
          "height": 231
        },
        "id": "oIySv4xRYBqR",
        "outputId": "941fe256-bcac-45ec-c29d-3dc1ea9b7634"
      },
      "outputs": [
        {
          "data": {
            "text/html": [
              "\n",
              "  <style>\n",
              "    pre {\n",
              "        white-space: pre-wrap;\n",
              "    }\n",
              "  </style>\n",
              "  "
            ],
            "text/plain": [
              "<IPython.core.display.HTML object>"
            ]
          },
          "metadata": {},
          "output_type": "display_data"
        },
        {
          "name": "stderr",
          "output_type": "stream",
          "text": [
            "<ipython-input-85-ae18fa5bcf96>:13: FutureWarning: Series.__getitem__ treating keys as positions is deprecated. In a future version, integer keys will always be treated as labels (consistent with DataFrame behavior). To access a value by position, use `ser.iloc[pos]`\n",
            "  metric_name = v[0]\n",
            "<ipython-input-85-ae18fa5bcf96>:14: FutureWarning: Series.__getitem__ treating keys as positions is deprecated. In a future version, integer keys will always be treated as labels (consistent with DataFrame behavior). To access a value by position, use `ser.iloc[pos]`\n",
            "  val_1 = v[1]\n",
            "<ipython-input-85-ae18fa5bcf96>:15: FutureWarning: Series.__getitem__ treating keys as positions is deprecated. In a future version, integer keys will always be treated as labels (consistent with DataFrame behavior). To access a value by position, use `ser.iloc[pos]`\n",
            "  val_2 = v[2]\n"
          ]
        }
      ],
      "source": [
        "df1_filled_templates = inject_df1_vals_into_template(df1)"
      ]
    },
    {
      "cell_type": "code",
      "execution_count": null,
      "metadata": {
        "colab": {
          "base_uri": "https://localhost:8080/",
          "height": 35
        },
        "id": "RvZis-0K4MNh",
        "outputId": "3ac85122-8f67-4d5f-eb1f-e9a36f1c044b"
      },
      "outputs": [
        {
          "data": {
            "text/html": [
              "\n",
              "  <style>\n",
              "    pre {\n",
              "        white-space: pre-wrap;\n",
              "    }\n",
              "  </style>\n",
              "  "
            ],
            "text/plain": [
              "<IPython.core.display.HTML object>"
            ]
          },
          "metadata": {},
          "output_type": "display_data"
        },
        {
          "data": {
            "application/vnd.google.colaboratory.intrinsic+json": {
              "type": "string"
            },
            "text/plain": [
              "\"The # Queries (Train/Val/Test) in the TREC-DL dataset is | 97/53/67, while it's 48/16/16 in the NTCIR-14 dataset\""
            ]
          },
          "execution_count": 87,
          "metadata": {},
          "output_type": "execute_result"
        }
      ],
      "source": [
        "# Check out one of the phrases you made:\n",
        "df1_filled_templates[0]"
      ]
    },
    {
      "cell_type": "code",
      "execution_count": null,
      "metadata": {
        "colab": {
          "base_uri": "https://localhost:8080/",
          "height": 474
        },
        "id": "XpH4y7NFwDc6",
        "outputId": "e3c9a8dd-aa6d-46e5-fe12-4b558d085f9e"
      },
      "outputs": [
        {
          "data": {
            "text/html": [
              "\n",
              "  <style>\n",
              "    pre {\n",
              "        white-space: pre-wrap;\n",
              "    }\n",
              "  </style>\n",
              "  "
            ],
            "text/plain": [
              "<IPython.core.display.HTML object>"
            ]
          },
          "metadata": {},
          "output_type": "display_data"
        },
        {
          "data": {
            "application/vnd.google.colaboratory.intrinsic+json": {
              "summary": "{\n  \"name\": \"df2\",\n  \"rows\": 8,\n  \"fields\": [\n    {\n      \"column\": \"Method\",\n      \"properties\": {\n        \"dtype\": \"string\",\n        \"num_unique_values\": 8,\n        \"samples\": [\n          \"Post hoc + monoBERT\",\n          \"Post hoc + MC Sampling LLM\",\n          \"Uncalibrated monoBERT\"\n        ],\n        \"semantic_type\": \"\",\n        \"description\": \"\"\n      }\n    },\n    {\n      \"column\": \"Category\",\n      \"properties\": {\n        \"dtype\": \"string\",\n        \"num_unique_values\": 6,\n        \"samples\": [\n          \"A\",\n          \"B\",\n          \"F\"\n        ],\n        \"semantic_type\": \"\",\n        \"description\": \"\"\n      }\n    },\n    {\n      \"column\": \"TREC-ndcg\",\n      \"properties\": {\n        \"dtype\": \"string\",\n        \"num_unique_values\": 7,\n        \"samples\": [\n          \"0.799\",\n          \"0.776\",\n          \"0.815*\"\n        ],\n        \"semantic_type\": \"\",\n        \"description\": \"\"\n      }\n    },\n    {\n      \"column\": \"TREC-ndcg@10\",\n      \"properties\": {\n        \"dtype\": \"string\",\n        \"num_unique_values\": 7,\n        \"samples\": [\n          \"0.494\",\n          \"0.422\",\n          \"0.529%\"\n        ],\n        \"semantic_type\": \"\",\n        \"description\": \"\"\n      }\n    },\n    {\n      \"column\": \"TREC-CB-ECE\",\n      \"properties\": {\n        \"dtype\": \"string\",\n        \"num_unique_values\": 8,\n        \"samples\": [\n          \"1.141\",\n          \"1.165\",\n          \"1.205\"\n        ],\n        \"semantic_type\": \"\",\n        \"description\": \"\"\n      }\n    },\n    {\n      \"column\": \"TREC-ECE\",\n      \"properties\": {\n        \"dtype\": \"string\",\n        \"num_unique_values\": 8,\n        \"samples\": [\n          \"0.125\",\n          \"0.145\",\n          \"0.320\"\n        ],\n        \"semantic_type\": \"\",\n        \"description\": \"\"\n      }\n    },\n    {\n      \"column\": \"TREC-MSE\",\n      \"properties\": {\n        \"dtype\": \"string\",\n        \"num_unique_values\": 8,\n        \"samples\": [\n          \"0.684\",\n          \"0.673\",\n          \"0.773\"\n        ],\n        \"semantic_type\": \"\",\n        \"description\": \"\"\n      }\n    },\n    {\n      \"column\": \"NTCIR-ndcg\",\n      \"properties\": {\n        \"dtype\": \"string\",\n        \"num_unique_values\": 7,\n        \"samples\": [\n          \"| 0.735\",\n          \"0.696\",\n          \"0.742\"\n        ],\n        \"semantic_type\": \"\",\n        \"description\": \"\"\n      }\n    },\n    {\n      \"column\": \"NTCIR-ndcg@10\",\n      \"properties\": {\n        \"dtype\": \"string\",\n        \"num_unique_values\": 7,\n        \"samples\": [\n          \"0.337\",\n          \"0.268\",\n          \"0.340\"\n        ],\n        \"semantic_type\": \"\",\n        \"description\": \"\"\n      }\n    },\n    {\n      \"column\": \"NTCIR-CB-ECE\",\n      \"properties\": {\n        \"dtype\": \"string\",\n        \"num_unique_values\": 8,\n        \"samples\": [\n          \"1.624\",\n          \"1.677\",\n          \"1.757\"\n        ],\n        \"semantic_type\": \"\",\n        \"description\": \"\"\n      }\n    },\n    {\n      \"column\": \"NTCIR-ECE\",\n      \"properties\": {\n        \"dtype\": \"string\",\n        \"num_unique_values\": 8,\n        \"samples\": [\n          \"0.457\",\n          \"0.472\",\n          \"0.799\"\n        ],\n        \"semantic_type\": \"\",\n        \"description\": \"\"\n      }\n    },\n    {\n      \"column\": \"NTCIR-MSE\",\n      \"properties\": {\n        \"dtype\": \"string\",\n        \"num_unique_values\": 8,\n        \"samples\": [\n          \"1.462\",\n          \"\\u20181.540\",\n          \"1.824\"\n        ],\n        \"semantic_type\": \"\",\n        \"description\": \"\"\n      }\n    }\n  ]\n}",
              "type": "dataframe",
              "variable_name": "df2"
            },
            "text/html": [
              "\n",
              "  <div id=\"df-68ee2418-b63a-4419-8f9a-65cee86538ba\" class=\"colab-df-container\">\n",
              "    <div>\n",
              "<style scoped>\n",
              "    .dataframe tbody tr th:only-of-type {\n",
              "        vertical-align: middle;\n",
              "    }\n",
              "\n",
              "    .dataframe tbody tr th {\n",
              "        vertical-align: top;\n",
              "    }\n",
              "\n",
              "    .dataframe thead th {\n",
              "        text-align: right;\n",
              "    }\n",
              "</style>\n",
              "<table border=\"1\" class=\"dataframe\">\n",
              "  <thead>\n",
              "    <tr style=\"text-align: right;\">\n",
              "      <th></th>\n",
              "      <th>Method</th>\n",
              "      <th>Category</th>\n",
              "      <th>TREC-ndcg</th>\n",
              "      <th>TREC-ndcg@10</th>\n",
              "      <th>TREC-CB-ECE</th>\n",
              "      <th>TREC-ECE</th>\n",
              "      <th>TREC-MSE</th>\n",
              "      <th>NTCIR-ndcg</th>\n",
              "      <th>NTCIR-ndcg@10</th>\n",
              "      <th>NTCIR-CB-ECE</th>\n",
              "      <th>NTCIR-ECE</th>\n",
              "      <th>NTCIR-MSE</th>\n",
              "    </tr>\n",
              "  </thead>\n",
              "  <tbody>\n",
              "    <tr>\n",
              "      <th>0</th>\n",
              "      <td>Uncalibrated monoBERT</td>\n",
              "      <td>A</td>\n",
              "      <td>0.799</td>\n",
              "      <td>0.494</td>\n",
              "      <td>1.205</td>\n",
              "      <td>0.320</td>\n",
              "      <td>0.773</td>\n",
              "      <td>| 0.735</td>\n",
              "      <td>0.337</td>\n",
              "      <td>1.757</td>\n",
              "      <td>0.799</td>\n",
              "      <td>1.824</td>\n",
              "    </tr>\n",
              "    <tr>\n",
              "      <th>1</th>\n",
              "      <td>Post hoc + monoBERT</td>\n",
              "      <td>B</td>\n",
              "      <td>0.799</td>\n",
              "      <td>0.494</td>\n",
              "      <td>1.141</td>\n",
              "      <td>0.125</td>\n",
              "      <td>0.684</td>\n",
              "      <td>| 0.735</td>\n",
              "      <td>0.337</td>\n",
              "      <td>1.624</td>\n",
              "      <td>0.457</td>\n",
              "      <td>1.462</td>\n",
              "    </tr>\n",
              "    <tr>\n",
              "      <th>2</th>\n",
              "      <td>Finetune monoBERT</td>\n",
              "      <td>C</td>\n",
              "      <td>0.776</td>\n",
              "      <td>0.422</td>\n",
              "      <td>1.093</td>\n",
              "      <td>0.221</td>\n",
              "      <td>-~—«0.721 |</td>\n",
              "      <td>0.696</td>\n",
              "      <td>0.268</td>\n",
              "      <td>1.843</td>\n",
              "      <td>0.709</td>\n",
              "      <td>‘1.874</td>\n",
              "    </tr>\n",
              "    <tr>\n",
              "      <th>3</th>\n",
              "      <td>Finetune BERT</td>\n",
              "      <td>C</td>\n",
              "      <td>0.738</td>\n",
              "      <td>0.327</td>\n",
              "      <td>1.253</td>\n",
              "      <td>0.266</td>\n",
              "      <td>~=—0.785_ |</td>\n",
              "      <td>_ 0.727</td>\n",
              "      <td>0.285</td>\n",
              "      <td>1.756</td>\n",
              "      <td>0.546</td>\n",
              "      <td>«1.416</td>\n",
              "    </tr>\n",
              "    <tr>\n",
              "      <th>4</th>\n",
              "      <td>LLM prompting w/ rubrics</td>\n",
              "      <td>D</td>\n",
              "      <td>0.786</td>\n",
              "      <td>0.457</td>\n",
              "      <td>1.000'</td>\n",
              "      <td>1.246</td>\n",
              "      <td>«2.137</td>\n",
              "      <td>| 0.728</td>\n",
              "      <td>0.328</td>\n",
              "      <td>1.2947</td>\n",
              "      <td>1.194</td>\n",
              "      <td>2.773</td>\n",
              "    </tr>\n",
              "    <tr>\n",
              "      <th>5</th>\n",
              "      <td>Post hoc + MC Sampling LLM</td>\n",
              "      <td>E</td>\n",
              "      <td>0.790</td>\n",
              "      <td>0.473</td>\n",
              "      <td>1.165</td>\n",
              "      <td>0.145</td>\n",
              "      <td>0.673</td>\n",
              "      <td>| 0.736</td>\n",
              "      <td>0.364\"</td>\n",
              "      <td>1.677</td>\n",
              "      <td>0.472</td>\n",
              "      <td>‘1.540</td>\n",
              "    </tr>\n",
              "    <tr>\n",
              "      <th>6</th>\n",
              "      <td>Literal Explanation + BERT</td>\n",
              "      <td>F</td>\n",
              "      <td>0.815*</td>\n",
              "      <td>0.529%</td>\n",
              "      <td>0.996°</td>\n",
              "      <td>0.067*</td>\n",
              "      <td>0.602\" |</td>\n",
              "      <td>0.742</td>\n",
              "      <td>0.340</td>\n",
              "      <td>1.534\"</td>\n",
              "      <td>0.355</td>\n",
              "      <td>1.3307</td>\n",
              "    </tr>\n",
              "    <tr>\n",
              "      <th>7</th>\n",
              "      <td>Conditional Explanation + BERT</td>\n",
              "      <td>F</td>\n",
              "      <td>0.822</td>\n",
              "      <td>—0.534*</td>\n",
              "      <td>0.862'</td>\n",
              "      <td>0.428</td>\n",
              "      <td>~—0.832_ |</td>\n",
              "      <td>0.720</td>\n",
              "      <td>0.322</td>\n",
              "      <td>1.405'</td>\n",
              "      <td>0.2577</td>\n",
              "      <td>1.2907</td>\n",
              "    </tr>\n",
              "  </tbody>\n",
              "</table>\n",
              "</div>\n",
              "    <div class=\"colab-df-buttons\">\n",
              "\n",
              "  <div class=\"colab-df-container\">\n",
              "    <button class=\"colab-df-convert\" onclick=\"convertToInteractive('df-68ee2418-b63a-4419-8f9a-65cee86538ba')\"\n",
              "            title=\"Convert this dataframe to an interactive table.\"\n",
              "            style=\"display:none;\">\n",
              "\n",
              "  <svg xmlns=\"http://www.w3.org/2000/svg\" height=\"24px\" viewBox=\"0 -960 960 960\">\n",
              "    <path d=\"M120-120v-720h720v720H120Zm60-500h600v-160H180v160Zm220 220h160v-160H400v160Zm0 220h160v-160H400v160ZM180-400h160v-160H180v160Zm440 0h160v-160H620v160ZM180-180h160v-160H180v160Zm440 0h160v-160H620v160Z\"/>\n",
              "  </svg>\n",
              "    </button>\n",
              "\n",
              "  <style>\n",
              "    .colab-df-container {\n",
              "      display:flex;\n",
              "      gap: 12px;\n",
              "    }\n",
              "\n",
              "    .colab-df-convert {\n",
              "      background-color: #E8F0FE;\n",
              "      border: none;\n",
              "      border-radius: 50%;\n",
              "      cursor: pointer;\n",
              "      display: none;\n",
              "      fill: #1967D2;\n",
              "      height: 32px;\n",
              "      padding: 0 0 0 0;\n",
              "      width: 32px;\n",
              "    }\n",
              "\n",
              "    .colab-df-convert:hover {\n",
              "      background-color: #E2EBFA;\n",
              "      box-shadow: 0px 1px 2px rgba(60, 64, 67, 0.3), 0px 1px 3px 1px rgba(60, 64, 67, 0.15);\n",
              "      fill: #174EA6;\n",
              "    }\n",
              "\n",
              "    .colab-df-buttons div {\n",
              "      margin-bottom: 4px;\n",
              "    }\n",
              "\n",
              "    [theme=dark] .colab-df-convert {\n",
              "      background-color: #3B4455;\n",
              "      fill: #D2E3FC;\n",
              "    }\n",
              "\n",
              "    [theme=dark] .colab-df-convert:hover {\n",
              "      background-color: #434B5C;\n",
              "      box-shadow: 0px 1px 3px 1px rgba(0, 0, 0, 0.15);\n",
              "      filter: drop-shadow(0px 1px 2px rgba(0, 0, 0, 0.3));\n",
              "      fill: #FFFFFF;\n",
              "    }\n",
              "  </style>\n",
              "\n",
              "    <script>\n",
              "      const buttonEl =\n",
              "        document.querySelector('#df-68ee2418-b63a-4419-8f9a-65cee86538ba button.colab-df-convert');\n",
              "      buttonEl.style.display =\n",
              "        google.colab.kernel.accessAllowed ? 'block' : 'none';\n",
              "\n",
              "      async function convertToInteractive(key) {\n",
              "        const element = document.querySelector('#df-68ee2418-b63a-4419-8f9a-65cee86538ba');\n",
              "        const dataTable =\n",
              "          await google.colab.kernel.invokeFunction('convertToInteractive',\n",
              "                                                    [key], {});\n",
              "        if (!dataTable) return;\n",
              "\n",
              "        const docLinkHtml = 'Like what you see? Visit the ' +\n",
              "          '<a target=\"_blank\" href=https://colab.research.google.com/notebooks/data_table.ipynb>data table notebook</a>'\n",
              "          + ' to learn more about interactive tables.';\n",
              "        element.innerHTML = '';\n",
              "        dataTable['output_type'] = 'display_data';\n",
              "        await google.colab.output.renderOutput(dataTable, element);\n",
              "        const docLink = document.createElement('div');\n",
              "        docLink.innerHTML = docLinkHtml;\n",
              "        element.appendChild(docLink);\n",
              "      }\n",
              "    </script>\n",
              "  </div>\n",
              "\n",
              "\n",
              "<div id=\"df-00fa6fb1-968b-4f7d-8c96-c36fd6240fcc\">\n",
              "  <button class=\"colab-df-quickchart\" onclick=\"quickchart('df-00fa6fb1-968b-4f7d-8c96-c36fd6240fcc')\"\n",
              "            title=\"Suggest charts\"\n",
              "            style=\"display:none;\">\n",
              "\n",
              "<svg xmlns=\"http://www.w3.org/2000/svg\" height=\"24px\"viewBox=\"0 0 24 24\"\n",
              "     width=\"24px\">\n",
              "    <g>\n",
              "        <path d=\"M19 3H5c-1.1 0-2 .9-2 2v14c0 1.1.9 2 2 2h14c1.1 0 2-.9 2-2V5c0-1.1-.9-2-2-2zM9 17H7v-7h2v7zm4 0h-2V7h2v10zm4 0h-2v-4h2v4z\"/>\n",
              "    </g>\n",
              "</svg>\n",
              "  </button>\n",
              "\n",
              "<style>\n",
              "  .colab-df-quickchart {\n",
              "      --bg-color: #E8F0FE;\n",
              "      --fill-color: #1967D2;\n",
              "      --hover-bg-color: #E2EBFA;\n",
              "      --hover-fill-color: #174EA6;\n",
              "      --disabled-fill-color: #AAA;\n",
              "      --disabled-bg-color: #DDD;\n",
              "  }\n",
              "\n",
              "  [theme=dark] .colab-df-quickchart {\n",
              "      --bg-color: #3B4455;\n",
              "      --fill-color: #D2E3FC;\n",
              "      --hover-bg-color: #434B5C;\n",
              "      --hover-fill-color: #FFFFFF;\n",
              "      --disabled-bg-color: #3B4455;\n",
              "      --disabled-fill-color: #666;\n",
              "  }\n",
              "\n",
              "  .colab-df-quickchart {\n",
              "    background-color: var(--bg-color);\n",
              "    border: none;\n",
              "    border-radius: 50%;\n",
              "    cursor: pointer;\n",
              "    display: none;\n",
              "    fill: var(--fill-color);\n",
              "    height: 32px;\n",
              "    padding: 0;\n",
              "    width: 32px;\n",
              "  }\n",
              "\n",
              "  .colab-df-quickchart:hover {\n",
              "    background-color: var(--hover-bg-color);\n",
              "    box-shadow: 0 1px 2px rgba(60, 64, 67, 0.3), 0 1px 3px 1px rgba(60, 64, 67, 0.15);\n",
              "    fill: var(--button-hover-fill-color);\n",
              "  }\n",
              "\n",
              "  .colab-df-quickchart-complete:disabled,\n",
              "  .colab-df-quickchart-complete:disabled:hover {\n",
              "    background-color: var(--disabled-bg-color);\n",
              "    fill: var(--disabled-fill-color);\n",
              "    box-shadow: none;\n",
              "  }\n",
              "\n",
              "  .colab-df-spinner {\n",
              "    border: 2px solid var(--fill-color);\n",
              "    border-color: transparent;\n",
              "    border-bottom-color: var(--fill-color);\n",
              "    animation:\n",
              "      spin 1s steps(1) infinite;\n",
              "  }\n",
              "\n",
              "  @keyframes spin {\n",
              "    0% {\n",
              "      border-color: transparent;\n",
              "      border-bottom-color: var(--fill-color);\n",
              "      border-left-color: var(--fill-color);\n",
              "    }\n",
              "    20% {\n",
              "      border-color: transparent;\n",
              "      border-left-color: var(--fill-color);\n",
              "      border-top-color: var(--fill-color);\n",
              "    }\n",
              "    30% {\n",
              "      border-color: transparent;\n",
              "      border-left-color: var(--fill-color);\n",
              "      border-top-color: var(--fill-color);\n",
              "      border-right-color: var(--fill-color);\n",
              "    }\n",
              "    40% {\n",
              "      border-color: transparent;\n",
              "      border-right-color: var(--fill-color);\n",
              "      border-top-color: var(--fill-color);\n",
              "    }\n",
              "    60% {\n",
              "      border-color: transparent;\n",
              "      border-right-color: var(--fill-color);\n",
              "    }\n",
              "    80% {\n",
              "      border-color: transparent;\n",
              "      border-right-color: var(--fill-color);\n",
              "      border-bottom-color: var(--fill-color);\n",
              "    }\n",
              "    90% {\n",
              "      border-color: transparent;\n",
              "      border-bottom-color: var(--fill-color);\n",
              "    }\n",
              "  }\n",
              "</style>\n",
              "\n",
              "  <script>\n",
              "    async function quickchart(key) {\n",
              "      const quickchartButtonEl =\n",
              "        document.querySelector('#' + key + ' button');\n",
              "      quickchartButtonEl.disabled = true;  // To prevent multiple clicks.\n",
              "      quickchartButtonEl.classList.add('colab-df-spinner');\n",
              "      try {\n",
              "        const charts = await google.colab.kernel.invokeFunction(\n",
              "            'suggestCharts', [key], {});\n",
              "      } catch (error) {\n",
              "        console.error('Error during call to suggestCharts:', error);\n",
              "      }\n",
              "      quickchartButtonEl.classList.remove('colab-df-spinner');\n",
              "      quickchartButtonEl.classList.add('colab-df-quickchart-complete');\n",
              "    }\n",
              "    (() => {\n",
              "      let quickchartButtonEl =\n",
              "        document.querySelector('#df-00fa6fb1-968b-4f7d-8c96-c36fd6240fcc button');\n",
              "      quickchartButtonEl.style.display =\n",
              "        google.colab.kernel.accessAllowed ? 'block' : 'none';\n",
              "    })();\n",
              "  </script>\n",
              "</div>\n",
              "    </div>\n",
              "  </div>\n"
            ],
            "text/plain": [
              "                           Method Category TREC-ndcg TREC-ndcg@10 TREC-CB-ECE  \\\n",
              "0           Uncalibrated monoBERT        A     0.799        0.494       1.205   \n",
              "1             Post hoc + monoBERT        B     0.799        0.494       1.141   \n",
              "2               Finetune monoBERT        C     0.776        0.422       1.093   \n",
              "3                   Finetune BERT        C     0.738        0.327       1.253   \n",
              "4        LLM prompting w/ rubrics        D     0.786        0.457      1.000'   \n",
              "5      Post hoc + MC Sampling LLM        E     0.790        0.473       1.165   \n",
              "6      Literal Explanation + BERT        F    0.815*       0.529%      0.996°   \n",
              "7  Conditional Explanation + BERT        F     0.822      —0.534*      0.862'   \n",
              "\n",
              "  TREC-ECE     TREC-MSE NTCIR-ndcg NTCIR-ndcg@10 NTCIR-CB-ECE NTCIR-ECE  \\\n",
              "0    0.320        0.773    | 0.735         0.337        1.757     0.799   \n",
              "1    0.125        0.684    | 0.735         0.337        1.624     0.457   \n",
              "2    0.221  -~—«0.721 |      0.696         0.268        1.843     0.709   \n",
              "3    0.266  ~=—0.785_ |    _ 0.727         0.285        1.756     0.546   \n",
              "4    1.246       «2.137    | 0.728         0.328       1.2947     1.194   \n",
              "5    0.145        0.673    | 0.736        0.364\"        1.677     0.472   \n",
              "6   0.067*     0.602\" |      0.742         0.340       1.534\"     0.355   \n",
              "7    0.428   ~—0.832_ |      0.720         0.322       1.405'    0.2577   \n",
              "\n",
              "  NTCIR-MSE  \n",
              "0     1.824  \n",
              "1     1.462  \n",
              "2    ‘1.874  \n",
              "3    «1.416  \n",
              "4     2.773  \n",
              "5    ‘1.540  \n",
              "6    1.3307  \n",
              "7    1.2907  "
            ]
          },
          "execution_count": 88,
          "metadata": {},
          "output_type": "execute_result"
        }
      ],
      "source": [
        "# Do the same with df_2\n",
        "# # Reminder of what df2 looks like\n",
        "df2"
      ]
    },
    {
      "cell_type": "code",
      "execution_count": null,
      "metadata": {
        "colab": {
          "base_uri": "https://localhost:8080/",
          "height": 17
        },
        "id": "GwbYYsJyb9GE",
        "outputId": "3c425b1d-9d81-49f8-f5bf-644b4a740bdc"
      },
      "outputs": [
        {
          "data": {
            "text/html": [
              "\n",
              "  <style>\n",
              "    pre {\n",
              "        white-space: pre-wrap;\n",
              "    }\n",
              "  </style>\n",
              "  "
            ],
            "text/plain": [
              "<IPython.core.display.HTML object>"
            ]
          },
          "metadata": {},
          "output_type": "display_data"
        }
      ],
      "source": [
        "def inject_df2_vals_into_template(dataframe: pd.DataFrame) -> list[str]:\n",
        "    \"\"\"\n",
        "    Inject values from Table 2 dataframe (`df1`) into a natural-language template.\n",
        "\n",
        "    :param dataframe: Dataframe representing Table 2 from PDF.\n",
        "    :return: Populated natural-language templates.\n",
        "    \"\"\"\n",
        "    template = (\"Against the {dataset} dataset, the \\\"{method}\\\" method (from the \\\"{category}\\\" category) got a nDCG score of {nDCG}, \"\n",
        "                \"a nDCG@10 score of {nDCG10}, a CB-ECE score of {CB_ECE}, \"\n",
        "                \"an ECE score of {ECE}, and an MSE score of {MSE}.\")\n",
        "\n",
        "    paragraphs = []  # To store the final paragraphs\n",
        "\n",
        "    # Iterate over the dataframe\n",
        "    for index, row in dataframe.iterrows():\n",
        "        method = row['Method']\n",
        "        category = row['Category']\n",
        "        trec_values = {col.split('-', 1)[1]: val for col, val in row.items() if col.startswith('TREC')}\n",
        "        ntcir_values = {col.split('-', 1)[1]: val for col, val in row.items() if col.startswith('NTCIR')}\n",
        "\n",
        "        # Inject the values into the template for TREC\n",
        "        trec_paragraph = template.format(\n",
        "            dataset=\"TREC\",\n",
        "            method=method,\n",
        "            category=category,\n",
        "            nDCG=trec_values.get('ndcg', 'N/A'),\n",
        "            nDCG10=trec_values.get('ndcg@10', 'N/A'),\n",
        "            CB_ECE=trec_values.get('CB-ECE', 'N/A'),\n",
        "            ECE=trec_values.get('ECE', 'N/A'),\n",
        "            MSE=trec_values.get('MSE', 'N/A')\n",
        "        )\n",
        "\n",
        "        # Inject the values into the template for NTCIR\n",
        "        ntcir_paragraph = template.format(\n",
        "            dataset=\"NTCIR\",\n",
        "            method=method,\n",
        "            category=category,\n",
        "            nDCG=ntcir_values.get('ndcg', 'N/A'),\n",
        "            nDCG10=ntcir_values.get('ndcg@10', 'N/A'),\n",
        "            CB_ECE=ntcir_values.get('CB-ECE', 'N/A'),\n",
        "            ECE=ntcir_values.get('ECE', 'N/A'),\n",
        "            MSE=ntcir_values.get('MSE', 'N/A')\n",
        "        )\n",
        "\n",
        "        # Combine the TREC and NTCIR paragraphs\n",
        "        combined_paragraph = trec_paragraph + \" \" + ntcir_paragraph\n",
        "        paragraphs.append(combined_paragraph)\n",
        "\n",
        "    return paragraphs\n"
      ]
    },
    {
      "cell_type": "code",
      "execution_count": null,
      "metadata": {
        "colab": {
          "base_uri": "https://localhost:8080/",
          "height": 17
        },
        "id": "5sOg_k2Vfu6M",
        "outputId": "90bf1ec3-3e76-4b9f-be08-59571c00bc77"
      },
      "outputs": [
        {
          "data": {
            "text/html": [
              "\n",
              "  <style>\n",
              "    pre {\n",
              "        white-space: pre-wrap;\n",
              "    }\n",
              "  </style>\n",
              "  "
            ],
            "text/plain": [
              "<IPython.core.display.HTML object>"
            ]
          },
          "metadata": {},
          "output_type": "display_data"
        }
      ],
      "source": [
        "df2_filled_templates = inject_df2_vals_into_template(df2)"
      ]
    },
    {
      "cell_type": "code",
      "execution_count": null,
      "metadata": {
        "colab": {
          "base_uri": "https://localhost:8080/",
          "height": 89
        },
        "id": "Kn1n4jpb40Vb",
        "outputId": "bbff9bb6-b52e-4582-b70f-d062ebb0b8db"
      },
      "outputs": [
        {
          "data": {
            "text/html": [
              "\n",
              "  <style>\n",
              "    pre {\n",
              "        white-space: pre-wrap;\n",
              "    }\n",
              "  </style>\n",
              "  "
            ],
            "text/plain": [
              "<IPython.core.display.HTML object>"
            ]
          },
          "metadata": {},
          "output_type": "display_data"
        },
        {
          "data": {
            "application/vnd.google.colaboratory.intrinsic+json": {
              "type": "string"
            },
            "text/plain": [
              "'Against the TREC dataset, the \"Uncalibrated monoBERT\" method (from the \"A\" category) got a nDCG score of 0.799, a nDCG@10 score of 0.494, a CB-ECE score of 1.205, an ECE score of 0.320, and an MSE score of 0.773. Against the NTCIR dataset, the \"Uncalibrated monoBERT\" method (from the \"A\" category) got a nDCG score of | 0.735, a nDCG@10 score of 0.337, a CB-ECE score of 1.757, an ECE score of 0.799, and an MSE score of 1.824.'"
            ]
          },
          "execution_count": 91,
          "metadata": {},
          "output_type": "execute_result"
        }
      ],
      "source": [
        "# Preview\n",
        "df2_filled_templates[0]"
      ]
    },
    {
      "cell_type": "code",
      "execution_count": null,
      "metadata": {
        "colab": {
          "base_uri": "https://localhost:8080/",
          "height": 89
        },
        "id": "_GhtZ9TFSdTb",
        "outputId": "9f56b758-ad04-43bb-f6bf-379423d4a22b"
      },
      "outputs": [
        {
          "data": {
            "text/html": [
              "\n",
              "  <style>\n",
              "    pre {\n",
              "        white-space: pre-wrap;\n",
              "    }\n",
              "  </style>\n",
              "  "
            ],
            "text/plain": [
              "<IPython.core.display.HTML object>"
            ]
          },
          "metadata": {},
          "output_type": "display_data"
        },
        {
          "data": {
            "application/vnd.google.colaboratory.intrinsic+json": {
              "type": "string"
            },
            "text/plain": [
              "'Against the TREC dataset, the \"Literal Explanation + BERT\" method (from the \"F\" category) got a nDCG score of 0.815*, a nDCG@10 score of 0.529%, a CB-ECE score of 0.996°, an ECE score of 0.067*, and an MSE score of 0.602\" |. Against the NTCIR dataset, the \"Literal Explanation + BERT\" method (from the \"F\" category) got a nDCG score of 0.742, a nDCG@10 score of 0.340, a CB-ECE score of 1.534\", an ECE score of 0.355, and an MSE score of 1.3307.'"
            ]
          },
          "execution_count": 92,
          "metadata": {},
          "output_type": "execute_result"
        }
      ],
      "source": [
        "df2_filled_templates[-2]"
      ]
    },
    {
      "cell_type": "code",
      "execution_count": null,
      "metadata": {
        "colab": {
          "base_uri": "https://localhost:8080/",
          "height": 17
        },
        "id": "V_IkN4lwfw1Z",
        "outputId": "ba1cb86d-f6e0-4bcc-d5de-550bd1c7f690"
      },
      "outputs": [
        {
          "data": {
            "text/html": [
              "\n",
              "  <style>\n",
              "    pre {\n",
              "        white-space: pre-wrap;\n",
              "    }\n",
              "  </style>\n",
              "  "
            ],
            "text/plain": [
              "<IPython.core.display.HTML object>"
            ]
          },
          "metadata": {},
          "output_type": "display_data"
        }
      ],
      "source": [
        "# Now turn both lists of filled-in templates into LlamaIndex Document objects:\n",
        "df1_filled_templates_docs = turn_data_into_documents(df1_filled_templates)\n",
        "df2_filled_templates_docs = turn_data_into_documents(df2_filled_templates)"
      ]
    },
    {
      "cell_type": "markdown",
      "metadata": {
        "id": "Y5Ukh_ac47HL"
      },
      "source": [
        "### Run indexing pipeline"
      ]
    },
    {
      "cell_type": "code",
      "execution_count": null,
      "metadata": {
        "colab": {
          "base_uri": "https://localhost:8080/",
          "height": 49,
          "referenced_widgets": [
            "b3e16e2ee79a41818437fd2e45a10ab6",
            "08bcbbb1aaf64e61bcf641162592245f",
            "838ef7beab4848beb9426d0dd127ba29",
            "8fd8f8c9813d4c2ab99a77c7862a97f2",
            "6804bc883e03469ebd2687fffe4d2d9e",
            "542f183046f14799825b8df25ec98ce9",
            "8b0a3c305285445d97f053ea9937074e",
            "2d0003b57e0d489f8f76cad0ebda4145",
            "c4649f99409c4bf4b4fa9184f3519aed",
            "0fe4606f93994f96bbccf0c176c45a29",
            "cf2566c4889a4fb78e5ae87e92c1ba10"
          ]
        },
        "id": "S8CE5_OnkDv-",
        "outputId": "4e64fda8-5588-4930-f7a1-308682ee2fd7"
      },
      "outputs": [
        {
          "data": {
            "text/html": [
              "\n",
              "  <style>\n",
              "    pre {\n",
              "        white-space: pre-wrap;\n",
              "    }\n",
              "  </style>\n",
              "  "
            ],
            "text/plain": [
              "<IPython.core.display.HTML object>"
            ]
          },
          "metadata": {},
          "output_type": "display_data"
        },
        {
          "data": {
            "application/vnd.jupyter.widget-view+json": {
              "model_id": "b3e16e2ee79a41818437fd2e45a10ab6",
              "version_major": 2,
              "version_minor": 0
            },
            "text/plain": [
              "Upserted vectors:   0%|          | 0/63 [00:00<?, ?it/s]"
            ]
          },
          "metadata": {},
          "output_type": "display_data"
        }
      ],
      "source": [
        "# Declare new namespace\n",
        "v4_namespace = 'v4'\n",
        "\n",
        "# Initialize vector store w/v4 namespace\n",
        "v4_vector_store = initialize_vector_store(pinecone_index, v4_namespace)\n",
        "\n",
        "# Join docs\n",
        "v4_docs = df1_filled_templates_docs + df2_filled_templates_docs + ctrl_docs\n",
        "\n",
        "# Run through embedding and indexing pipeline\n",
        "output = run_indexing_pipeline(v4_vector_store, v4_docs)"
      ]
    },
    {
      "cell_type": "code",
      "execution_count": null,
      "metadata": {
        "colab": {
          "base_uri": "https://localhost:8080/",
          "height": 160
        },
        "id": "4s-gPgzll1_p",
        "outputId": "221ab7c8-3b8f-4eab-f077-99651171d5ae"
      },
      "outputs": [
        {
          "data": {
            "text/html": [
              "\n",
              "  <style>\n",
              "    pre {\n",
              "        white-space: pre-wrap;\n",
              "    }\n",
              "  </style>\n",
              "  "
            ],
            "text/plain": [
              "<IPython.core.display.HTML object>"
            ]
          },
          "metadata": {},
          "output_type": "display_data"
        },
        {
          "data": {
            "text/plain": [
              "{'dimension': 1536,\n",
              " 'index_fullness': 0.0,\n",
              " 'namespaces': {'control': {'vector_count': 48},\n",
              "                'v1': {'vector_count': 63},\n",
              "                'v2': {'vector_count': 63},\n",
              "                'v3': {'vector_count': 76},\n",
              "                'v4': {'vector_count': 0}},\n",
              " 'total_vector_count': 250}"
            ]
          },
          "execution_count": 95,
          "metadata": {},
          "output_type": "execute_result"
        }
      ],
      "source": [
        "pinecone_index.describe_index_stats()"
      ]
    },
    {
      "cell_type": "markdown",
      "metadata": {
        "id": "TDu6-kes5VDC"
      },
      "source": [
        "### Run RAG pipeline"
      ]
    },
    {
      "cell_type": "code",
      "execution_count": null,
      "metadata": {
        "colab": {
          "base_uri": "https://localhost:8080/",
          "height": 17
        },
        "id": "K4v4S_Pf5aBP",
        "outputId": "9e27cec9-f335-4217-bf83-08ffbe1bf0af"
      },
      "outputs": [
        {
          "data": {
            "text/html": [
              "\n",
              "  <style>\n",
              "    pre {\n",
              "        white-space: pre-wrap;\n",
              "    }\n",
              "  </style>\n",
              "  "
            ],
            "text/plain": [
              "<IPython.core.display.HTML object>"
            ]
          },
          "metadata": {},
          "output_type": "display_data"
        }
      ],
      "source": [
        "# Run RAG pipeline for v4 use case\n",
        "one_v4, two_v4, three_v4, four_v4, five_v4, six_v4, seven_v4 = run_rag_pipeline(v4_vector_store, QUERIES)\n"
      ]
    },
    {
      "cell_type": "code",
      "execution_count": null,
      "metadata": {
        "colab": {
          "base_uri": "https://localhost:8080/",
          "height": 1000
        },
        "id": "8JTL4ztf5aBZ",
        "outputId": "06b7729a-4c87-45ea-b258-b907ab480624"
      },
      "outputs": [
        {
          "data": {
            "text/html": [
              "\n",
              "  <style>\n",
              "    pre {\n",
              "        white-space: pre-wrap;\n",
              "    }\n",
              "  </style>\n",
              "  "
            ],
            "text/plain": [
              "<IPython.core.display.HTML object>"
            ]
          },
          "metadata": {},
          "output_type": "display_data"
        },
        {
          "data": {
            "application/vnd.google.colaboratory.intrinsic+json": {
              "summary": "{\n  \"name\": \"exp_results\",\n  \"rows\": 7,\n  \"fields\": [\n    {\n      \"column\": \"ANSWER\",\n      \"properties\": {\n        \"dtype\": \"string\",\n        \"num_unique_values\": 7,\n        \"samples\": [\n          \"The average query length is shorter in TREC (8) than it is in NTCIR (22). The average doc length is also shorter in TREC (70.9 vs 493.2)\",\n          \"TREC: 0.529; NTCIR: 0.340.\",\n          \"Category F: training nle-based neural rankers on calibration data.\"\n        ],\n        \"semantic_type\": \"\",\n        \"description\": \"\"\n      }\n    },\n    {\n      \"column\": \"control\",\n      \"properties\": {\n        \"dtype\": \"string\",\n        \"num_unique_values\": 7,\n        \"samples\": [\n          \"The average query length is shorter compared to the average document length in Table 1.\",\n          \"0.529 and 0.534\",\n          \"Category F was used to build and train the literal explanation + BERT. This category involves training NLE-based neural rankers on calibration data. In this method, a BERT model is finetuned to process meta NLEs and produce scale-calibrated ranking scores. Specifically, in the scenario of the literal explanation approach, where each input is represented with two meta NLEs (one for relevance and one for non-relevance), an additional processing step is involved. The hidden states obtained from encoding both NLEs are concatenated, and this concatenated representation is fed into an additional linear layer to transform these combined hidden states into a final ranking score.\"\n        ],\n        \"semantic_type\": \"\",\n        \"description\": \"\"\n      }\n    },\n    {\n      \"column\": \"v1\",\n      \"properties\": {\n        \"dtype\": \"string\",\n        \"num_unique_values\": 7,\n        \"samples\": [\n          \"The average query length is shorter compared to the average document length in table 1.\",\n          \"The Literal Explanation + BERT method's nDCG@10 scores on both datasets in Table 2 are 0.529 for the TREC dataset and 0.602 for the NTCIR dataset.\",\n          \"Category F was used to build and train literal explanation + BERT. This category involves training NLE-based neural rankers on calibration data. In this method, a BERT model is finetuned to process meta NLEs and produce scale-calibrated ranking scores. The approach includes generating and aggregating natural language explanations for query-document pairs, and then using these explanations to refine the ranking scores of the neural ranker.\"\n        ],\n        \"semantic_type\": \"\",\n        \"description\": \"\"\n      }\n    },\n    {\n      \"column\": \"v2\",\n      \"properties\": {\n        \"dtype\": \"string\",\n        \"num_unique_values\": 7,\n        \"samples\": [\n          \"The average query length is significantly lower than the average document length in table 1.\",\n          \"The Literal Explanation + BERT method's ndcg@10 scores on both datasets in table 2 are 0.529% for the TREC dataset and 0.340 for the NTCIR dataset.\",\n          \"Category F was used to build and train literal explanation + BERT. This category involves training NLE-based neural rankers on calibration data. In this method, a BERT model is finetuned to process meta NLEs and produce scale-calibrated ranking scores. For the literal explanation approach, this category involves generating and aggregating natural language explanations for query-document pairs to enhance the ranking performance of neural rankers.\"\n        ],\n        \"semantic_type\": \"\",\n        \"description\": \"\"\n      }\n    },\n    {\n      \"column\": \"v3\",\n      \"properties\": {\n        \"dtype\": \"string\",\n        \"num_unique_values\": 7,\n        \"samples\": [\n          \"The average query length is shorter than the average document length in Table 1.\",\n          \"The Literal Explanation + BERT method's ndcg@10 scores on the TREC dataset and the NTCIR dataset in table 2 are 0.529% and 0.340%, respectively.\",\n          \"Category F was used to build and train the literal explanation + BERT model. This category involves training NLE-based neural rankers on calibration data. In this context, it means that the model was fine-tuned to process meta natural language explanations (NLEs) for query-document pairs and generate scale-calibrated ranking scores.\"\n        ],\n        \"semantic_type\": \"\",\n        \"description\": \"\"\n      }\n    },\n    {\n      \"column\": \"v4\",\n      \"properties\": {\n        \"dtype\": \"string\",\n        \"num_unique_values\": 7,\n        \"samples\": [\n          \"The average query length is significantly lower than the average document length in table 1.\",\n          \"The Literal Explanation + BERT method's nDCG@10 score on the TREC dataset is 0.529% and on the NTCIR dataset is 0.340.\",\n          \"Category F was used to build and train the \\\"Literal Explanation + BERT\\\" method. This category involves training NLE-based neural rankers on calibration data. In this method, a BERT model is finetuned to process meta NLEs and generate scale-calibrated ranking scores. The literal explanation approach utilizes natural language explanations for query-document pairs to enhance the ranking performance of neural rankers.\"\n        ],\n        \"semantic_type\": \"\",\n        \"description\": \"\"\n      }\n    }\n  ]\n}",
              "type": "dataframe",
              "variable_name": "exp_results"
            },
            "text/html": [
              "\n",
              "  <div id=\"df-7391e708-4337-435c-8749-64206a2f8d63\" class=\"colab-df-container\">\n",
              "    <div>\n",
              "<style scoped>\n",
              "    .dataframe tbody tr th:only-of-type {\n",
              "        vertical-align: middle;\n",
              "    }\n",
              "\n",
              "    .dataframe tbody tr th {\n",
              "        vertical-align: top;\n",
              "    }\n",
              "\n",
              "    .dataframe thead th {\n",
              "        text-align: right;\n",
              "    }\n",
              "</style>\n",
              "<table border=\"1\" class=\"dataframe\">\n",
              "  <thead>\n",
              "    <tr style=\"text-align: right;\">\n",
              "      <th></th>\n",
              "      <th>ANSWER</th>\n",
              "      <th>control</th>\n",
              "      <th>v1</th>\n",
              "      <th>v2</th>\n",
              "      <th>v3</th>\n",
              "      <th>v4</th>\n",
              "    </tr>\n",
              "  </thead>\n",
              "  <tbody>\n",
              "    <tr>\n",
              "      <th>How does the average query length compare to the average document length in table 1?</th>\n",
              "      <td>The average query length is shorter in TREC (8) than it is in NTCIR (22). The average doc length is also shorter in TREC (70.9 vs 493.2)</td>\n",
              "      <td>The average query length is shorter compared to the average document length in Table 1.</td>\n",
              "      <td>The average query length is shorter compared to the average document length in table 1.</td>\n",
              "      <td>The average query length is significantly lower than the average document length in table 1.</td>\n",
              "      <td>The average query length is shorter than the average document length in Table 1.</td>\n",
              "      <td>The average query length is significantly lower than the average document length in table 1.</td>\n",
              "    </tr>\n",
              "    <tr>\n",
              "      <th>What are the Literal Explanation + BERT method's ndcg@10 scores on both datasets in table 2?</th>\n",
              "      <td>TREC: 0.529; NTCIR: 0.340.</td>\n",
              "      <td>0.529 and 0.534</td>\n",
              "      <td>The Literal Explanation + BERT method's nDCG@10 scores on both datasets in Table 2 are 0.529 for the TREC dataset and 0.602 for the NTCIR dataset.</td>\n",
              "      <td>The Literal Explanation + BERT method's ndcg@10 scores on both datasets in table 2 are 0.529% for the TREC dataset and 0.340 for the NTCIR dataset.</td>\n",
              "      <td>The Literal Explanation + BERT method's ndcg@10 scores on the TREC dataset and the NTCIR dataset in table 2 are 0.529% and 0.340%, respectively.</td>\n",
              "      <td>The Literal Explanation + BERT method's nDCG@10 score on the TREC dataset is 0.529% and on the NTCIR dataset is 0.340.</td>\n",
              "    </tr>\n",
              "    <tr>\n",
              "      <th>What impact do natural language explanations (NLEs) have on improving the calibration and overall effectiveness of these models in document ranking tasks?</th>\n",
              "      <td>NLEs lead to better calibrated neural rankers while maintaining or even boosting ranking performance in most scenarios</td>\n",
              "      <td>Natural language explanations (NLEs) significantly enhance the scale calibration of neural rankers, often maintaining or even boosting ranking performance in most scenarios. They provide valuable insights for document differentiation and lead to statistically significant improvements in scale calibration, resulting in lower calibration error values compared to other calibration methods. Additi...</td>\n",
              "      <td>Natural language explanations (NLEs) significantly enhance the scale calibration of neural rankers, often maintaining or even boosting ranking performance in most scenarios. They provide valuable insights for document differentiation and lead to statistically significant improvements in scale calibration, resulting in lower calibration error values compared to other calibration methods. Additi...</td>\n",
              "      <td>Natural language explanations (NLEs) significantly enhance the scale calibration of neural rankers, often maintaining or even boosting ranking performance in most scenarios. They provide valuable insights for document differentiation and lead to statistically significant improvements in scale calibration, resulting in lower calibration error values compared to other calibration methods. Additi...</td>\n",
              "      <td>Natural language explanations (NLEs) significantly enhance the scale calibration of neural rankers, often maintaining or even boosting ranking performance in most scenarios. They provide valuable insights for document differentiation and lead to statistically significant improvements in scale calibration, resulting in lower calibration error values compared to other calibration methods. Additi...</td>\n",
              "      <td>Natural language explanations (NLEs) significantly enhance the scale calibration of neural rankers, often maintaining or even boosting ranking performance in most scenarios. They provide valuable insights for document differentiation and lead to statistically significant improvements in scale calibration, exhibiting lower error values compared to other calibration methods. Additionally, NLEs h...</td>\n",
              "    </tr>\n",
              "    <tr>\n",
              "      <th>How do i interpret table 2's calibration and ranking scores?</th>\n",
              "      <td>Lower is better for calibration, higher is better for ranking</td>\n",
              "      <td>Interpreting Table 2's calibration and ranking scores involves understanding that lower values are better for calibration metrics such as CB-ECE, ECE, and MSE. The table compares the performance of different methods on two scale calibration datasets, TREC and NTCIR, using metrics like nDCG, nDCG@10, CB-ECE, ECE, and MSE. Significant improvements over a baseline method are marked with a dagger ...</td>\n",
              "      <td>Interpret the calibration and ranking scores in Table 2 by noting that lower values are better for calibration metrics such as CB-ECE, ECE, and MSE. Statistically significant improvements over the \"Platt Scaling monoBERT\" baseline are marked with a dagger symbol. The table presents the performance of different methods on two scale calibration datasets, TREC and NTCIR, with metrics like nDCG, n...</td>\n",
              "      <td>Interpret the calibration and ranking scores in Table 2 by noting that lower values are better for calibration metrics such as CB-ECE, ECE, and MSE. Look for statistically significant improvements over the \"Platt Scaling monoBERT\" baseline, which are marked with a dagger symbol (†). Pay attention to the values in the columns for Ranking and Calibration metrics for different methods and dataset...</td>\n",
              "      <td>The calibration and ranking scores in Table 2 are evaluated based on different metrics such as nDCG, nDCG@10, CB-ECE, ECE, and MSE. Lower values are considered better for calibration metrics like CB-ECE, ECE, and MSE. The table compares the performance of baseline methods and new approaches on two scale calibration datasets, TREC and NTCIR. The results show how different methods perform in ter...</td>\n",
              "      <td>Interpret the calibration and ranking scores in Table 2 by noting that lower values are better for calibration metrics such as CB-ECE, ECE, and MSE. Look for statistically significant improvements over the \"Platt Scaling monoBERT\" baseline, which are marked with a dagger symbol (†). Pay attention to the values in the columns for Ranking and Calibration metrics for different methods and dataset...</td>\n",
              "    </tr>\n",
              "    <tr>\n",
              "      <th>What are the weights of \"Uncalibrated monoBERT\" tuned on?</th>\n",
              "      <td>MSMarco</td>\n",
              "      <td>The weights of \"Uncalibrated monoBERT\" are fine-tuned on MS MARCO.</td>\n",
              "      <td>The weights of \"Uncalibrated monoBERT\" are fine-tuned on MS MARCO.</td>\n",
              "      <td>The weights of \"Uncalibrated monoBERT\" are fine-tuned on MS MARCO.</td>\n",
              "      <td>The weights of \"Uncalibrated monoBERT\" are fine-tuned on MS MARCO.</td>\n",
              "      <td>The weights of \"Uncalibrated monoBERT\" are fine-tuned on MS MARCO.</td>\n",
              "    </tr>\n",
              "    <tr>\n",
              "      <th>What category was used to build and train literal explanation + BERT? what does this category mean?</th>\n",
              "      <td>Category F: training nle-based neural rankers on calibration data.</td>\n",
              "      <td>Category F was used to build and train the literal explanation + BERT. This category involves training NLE-based neural rankers on calibration data. In this method, a BERT model is finetuned to process meta NLEs and produce scale-calibrated ranking scores. Specifically, in the scenario of the literal explanation approach, where each input is represented with two meta NLEs (one for relevance an...</td>\n",
              "      <td>Category F was used to build and train literal explanation + BERT. This category involves training NLE-based neural rankers on calibration data. In this method, a BERT model is finetuned to process meta NLEs and produce scale-calibrated ranking scores. The approach includes generating and aggregating natural language explanations for query-document pairs, and then using these explanations to r...</td>\n",
              "      <td>Category F was used to build and train literal explanation + BERT. This category involves training NLE-based neural rankers on calibration data. In this method, a BERT model is finetuned to process meta NLEs and produce scale-calibrated ranking scores. For the literal explanation approach, this category involves generating and aggregating natural language explanations for query-document pairs ...</td>\n",
              "      <td>Category F was used to build and train the literal explanation + BERT model. This category involves training NLE-based neural rankers on calibration data. In this context, it means that the model was fine-tuned to process meta natural language explanations (NLEs) for query-document pairs and generate scale-calibrated ranking scores.</td>\n",
              "      <td>Category F was used to build and train the \"Literal Explanation + BERT\" method. This category involves training NLE-based neural rankers on calibration data. In this method, a BERT model is finetuned to process meta NLEs and generate scale-calibrated ranking scores. The literal explanation approach utilizes natural language explanations for query-document pairs to enhance the ranking performan...</td>\n",
              "    </tr>\n",
              "    <tr>\n",
              "      <th>Is the 'trec-dl' in table 1 the same as the 'trec' in table 2?</th>\n",
              "      <td>Yes</td>\n",
              "      <td>Yes, the 'trec-dl' in Table 1 is the same as the 'TREC' in Table 2.</td>\n",
              "      <td>Yes, the 'trec-dl' in Table 1 is the same dataset as the 'TREC' dataset mentioned in Table 2.</td>\n",
              "      <td>Yes, the 'trec-dl' in table 1 is the same as the 'TREC' in table 2.</td>\n",
              "      <td>Yes, the 'trec-dl' in Table 1 is the same as the 'TREC' in Table 2.</td>\n",
              "      <td>No, the 'trec-dl' in table 1 is not the same as the 'trec' in table 2.</td>\n",
              "    </tr>\n",
              "  </tbody>\n",
              "</table>\n",
              "</div>\n",
              "    <div class=\"colab-df-buttons\">\n",
              "\n",
              "  <div class=\"colab-df-container\">\n",
              "    <button class=\"colab-df-convert\" onclick=\"convertToInteractive('df-7391e708-4337-435c-8749-64206a2f8d63')\"\n",
              "            title=\"Convert this dataframe to an interactive table.\"\n",
              "            style=\"display:none;\">\n",
              "\n",
              "  <svg xmlns=\"http://www.w3.org/2000/svg\" height=\"24px\" viewBox=\"0 -960 960 960\">\n",
              "    <path d=\"M120-120v-720h720v720H120Zm60-500h600v-160H180v160Zm220 220h160v-160H400v160Zm0 220h160v-160H400v160ZM180-400h160v-160H180v160Zm440 0h160v-160H620v160ZM180-180h160v-160H180v160Zm440 0h160v-160H620v160Z\"/>\n",
              "  </svg>\n",
              "    </button>\n",
              "\n",
              "  <style>\n",
              "    .colab-df-container {\n",
              "      display:flex;\n",
              "      gap: 12px;\n",
              "    }\n",
              "\n",
              "    .colab-df-convert {\n",
              "      background-color: #E8F0FE;\n",
              "      border: none;\n",
              "      border-radius: 50%;\n",
              "      cursor: pointer;\n",
              "      display: none;\n",
              "      fill: #1967D2;\n",
              "      height: 32px;\n",
              "      padding: 0 0 0 0;\n",
              "      width: 32px;\n",
              "    }\n",
              "\n",
              "    .colab-df-convert:hover {\n",
              "      background-color: #E2EBFA;\n",
              "      box-shadow: 0px 1px 2px rgba(60, 64, 67, 0.3), 0px 1px 3px 1px rgba(60, 64, 67, 0.15);\n",
              "      fill: #174EA6;\n",
              "    }\n",
              "\n",
              "    .colab-df-buttons div {\n",
              "      margin-bottom: 4px;\n",
              "    }\n",
              "\n",
              "    [theme=dark] .colab-df-convert {\n",
              "      background-color: #3B4455;\n",
              "      fill: #D2E3FC;\n",
              "    }\n",
              "\n",
              "    [theme=dark] .colab-df-convert:hover {\n",
              "      background-color: #434B5C;\n",
              "      box-shadow: 0px 1px 3px 1px rgba(0, 0, 0, 0.15);\n",
              "      filter: drop-shadow(0px 1px 2px rgba(0, 0, 0, 0.3));\n",
              "      fill: #FFFFFF;\n",
              "    }\n",
              "  </style>\n",
              "\n",
              "    <script>\n",
              "      const buttonEl =\n",
              "        document.querySelector('#df-7391e708-4337-435c-8749-64206a2f8d63 button.colab-df-convert');\n",
              "      buttonEl.style.display =\n",
              "        google.colab.kernel.accessAllowed ? 'block' : 'none';\n",
              "\n",
              "      async function convertToInteractive(key) {\n",
              "        const element = document.querySelector('#df-7391e708-4337-435c-8749-64206a2f8d63');\n",
              "        const dataTable =\n",
              "          await google.colab.kernel.invokeFunction('convertToInteractive',\n",
              "                                                    [key], {});\n",
              "        if (!dataTable) return;\n",
              "\n",
              "        const docLinkHtml = 'Like what you see? Visit the ' +\n",
              "          '<a target=\"_blank\" href=https://colab.research.google.com/notebooks/data_table.ipynb>data table notebook</a>'\n",
              "          + ' to learn more about interactive tables.';\n",
              "        element.innerHTML = '';\n",
              "        dataTable['output_type'] = 'display_data';\n",
              "        await google.colab.output.renderOutput(dataTable, element);\n",
              "        const docLink = document.createElement('div');\n",
              "        docLink.innerHTML = docLinkHtml;\n",
              "        element.appendChild(docLink);\n",
              "      }\n",
              "    </script>\n",
              "  </div>\n",
              "\n",
              "\n",
              "<div id=\"df-67fb2798-662b-4b7a-82b4-636019f40033\">\n",
              "  <button class=\"colab-df-quickchart\" onclick=\"quickchart('df-67fb2798-662b-4b7a-82b4-636019f40033')\"\n",
              "            title=\"Suggest charts\"\n",
              "            style=\"display:none;\">\n",
              "\n",
              "<svg xmlns=\"http://www.w3.org/2000/svg\" height=\"24px\"viewBox=\"0 0 24 24\"\n",
              "     width=\"24px\">\n",
              "    <g>\n",
              "        <path d=\"M19 3H5c-1.1 0-2 .9-2 2v14c0 1.1.9 2 2 2h14c1.1 0 2-.9 2-2V5c0-1.1-.9-2-2-2zM9 17H7v-7h2v7zm4 0h-2V7h2v10zm4 0h-2v-4h2v4z\"/>\n",
              "    </g>\n",
              "</svg>\n",
              "  </button>\n",
              "\n",
              "<style>\n",
              "  .colab-df-quickchart {\n",
              "      --bg-color: #E8F0FE;\n",
              "      --fill-color: #1967D2;\n",
              "      --hover-bg-color: #E2EBFA;\n",
              "      --hover-fill-color: #174EA6;\n",
              "      --disabled-fill-color: #AAA;\n",
              "      --disabled-bg-color: #DDD;\n",
              "  }\n",
              "\n",
              "  [theme=dark] .colab-df-quickchart {\n",
              "      --bg-color: #3B4455;\n",
              "      --fill-color: #D2E3FC;\n",
              "      --hover-bg-color: #434B5C;\n",
              "      --hover-fill-color: #FFFFFF;\n",
              "      --disabled-bg-color: #3B4455;\n",
              "      --disabled-fill-color: #666;\n",
              "  }\n",
              "\n",
              "  .colab-df-quickchart {\n",
              "    background-color: var(--bg-color);\n",
              "    border: none;\n",
              "    border-radius: 50%;\n",
              "    cursor: pointer;\n",
              "    display: none;\n",
              "    fill: var(--fill-color);\n",
              "    height: 32px;\n",
              "    padding: 0;\n",
              "    width: 32px;\n",
              "  }\n",
              "\n",
              "  .colab-df-quickchart:hover {\n",
              "    background-color: var(--hover-bg-color);\n",
              "    box-shadow: 0 1px 2px rgba(60, 64, 67, 0.3), 0 1px 3px 1px rgba(60, 64, 67, 0.15);\n",
              "    fill: var(--button-hover-fill-color);\n",
              "  }\n",
              "\n",
              "  .colab-df-quickchart-complete:disabled,\n",
              "  .colab-df-quickchart-complete:disabled:hover {\n",
              "    background-color: var(--disabled-bg-color);\n",
              "    fill: var(--disabled-fill-color);\n",
              "    box-shadow: none;\n",
              "  }\n",
              "\n",
              "  .colab-df-spinner {\n",
              "    border: 2px solid var(--fill-color);\n",
              "    border-color: transparent;\n",
              "    border-bottom-color: var(--fill-color);\n",
              "    animation:\n",
              "      spin 1s steps(1) infinite;\n",
              "  }\n",
              "\n",
              "  @keyframes spin {\n",
              "    0% {\n",
              "      border-color: transparent;\n",
              "      border-bottom-color: var(--fill-color);\n",
              "      border-left-color: var(--fill-color);\n",
              "    }\n",
              "    20% {\n",
              "      border-color: transparent;\n",
              "      border-left-color: var(--fill-color);\n",
              "      border-top-color: var(--fill-color);\n",
              "    }\n",
              "    30% {\n",
              "      border-color: transparent;\n",
              "      border-left-color: var(--fill-color);\n",
              "      border-top-color: var(--fill-color);\n",
              "      border-right-color: var(--fill-color);\n",
              "    }\n",
              "    40% {\n",
              "      border-color: transparent;\n",
              "      border-right-color: var(--fill-color);\n",
              "      border-top-color: var(--fill-color);\n",
              "    }\n",
              "    60% {\n",
              "      border-color: transparent;\n",
              "      border-right-color: var(--fill-color);\n",
              "    }\n",
              "    80% {\n",
              "      border-color: transparent;\n",
              "      border-right-color: var(--fill-color);\n",
              "      border-bottom-color: var(--fill-color);\n",
              "    }\n",
              "    90% {\n",
              "      border-color: transparent;\n",
              "      border-bottom-color: var(--fill-color);\n",
              "    }\n",
              "  }\n",
              "</style>\n",
              "\n",
              "  <script>\n",
              "    async function quickchart(key) {\n",
              "      const quickchartButtonEl =\n",
              "        document.querySelector('#' + key + ' button');\n",
              "      quickchartButtonEl.disabled = true;  // To prevent multiple clicks.\n",
              "      quickchartButtonEl.classList.add('colab-df-spinner');\n",
              "      try {\n",
              "        const charts = await google.colab.kernel.invokeFunction(\n",
              "            'suggestCharts', [key], {});\n",
              "      } catch (error) {\n",
              "        console.error('Error during call to suggestCharts:', error);\n",
              "      }\n",
              "      quickchartButtonEl.classList.remove('colab-df-spinner');\n",
              "      quickchartButtonEl.classList.add('colab-df-quickchart-complete');\n",
              "    }\n",
              "    (() => {\n",
              "      let quickchartButtonEl =\n",
              "        document.querySelector('#df-67fb2798-662b-4b7a-82b4-636019f40033 button');\n",
              "      quickchartButtonEl.style.display =\n",
              "        google.colab.kernel.accessAllowed ? 'block' : 'none';\n",
              "    })();\n",
              "  </script>\n",
              "</div>\n",
              "    </div>\n",
              "  </div>\n"
            ],
            "text/plain": [
              "                                                                                                                                                                                                                                                                                              ANSWER  \\\n",
              "How does the average query length compare to the average document length in table 1?                                                                        The average query length is shorter in TREC (8) than it is in NTCIR (22). The average doc length is also shorter in TREC (70.9 vs 493.2)   \n",
              "What are the Literal Explanation + BERT method's ndcg@10 scores on both datasets in table 2?                                                                                                                                                                              TREC: 0.529; NTCIR: 0.340.   \n",
              "What impact do natural language explanations (NLEs) have on improving the calibration and overall effectiveness of these models in document ranking tasks?                    NLEs lead to better calibrated neural rankers while maintaining or even boosting ranking performance in most scenarios   \n",
              "How do i interpret table 2's calibration and ranking scores?                                                                                                                                                                           Lower is better for calibration, higher is better for ranking   \n",
              "What are the weights of \"Uncalibrated monoBERT\" tuned on?                                                                                                                                                                                                                                    MSMarco   \n",
              "What category was used to build and train literal explanation + BERT? what does this category mean?                                                                                                                               Category F: training nle-based neural rankers on calibration data.   \n",
              "Is the 'trec-dl' in table 1 the same as the 'trec' in table 2?                                                                                                                                                                                                                                   Yes   \n",
              "\n",
              "                                                                                                                                                                                                                                                                                                                                                                                                                                                                                                                                                                    control  \\\n",
              "How does the average query length compare to the average document length in table 1?                                                                                                                                                                                                                                                                                                                                                                                                The average query length is shorter compared to the average document length in Table 1.   \n",
              "What are the Literal Explanation + BERT method's ndcg@10 scores on both datasets in table 2?                                                                                                                                                                                                                                                                                                                                                                                                                                                                0.529 and 0.534   \n",
              "What impact do natural language explanations (NLEs) have on improving the calibration and overall effectiveness of these models in document ranking tasks?  Natural language explanations (NLEs) significantly enhance the scale calibration of neural rankers, often maintaining or even boosting ranking performance in most scenarios. They provide valuable insights for document differentiation and lead to statistically significant improvements in scale calibration, resulting in lower calibration error values compared to other calibration methods. Additi...   \n",
              "How do i interpret table 2's calibration and ranking scores?                                                                                                Interpreting Table 2's calibration and ranking scores involves understanding that lower values are better for calibration metrics such as CB-ECE, ECE, and MSE. The table compares the performance of different methods on two scale calibration datasets, TREC and NTCIR, using metrics like nDCG, nDCG@10, CB-ECE, ECE, and MSE. Significant improvements over a baseline method are marked with a dagger ...   \n",
              "What are the weights of \"Uncalibrated monoBERT\" tuned on?                                                                                                                                                                                                                                                                                                                                                                                                                                                The weights of \"Uncalibrated monoBERT\" are fine-tuned on MS MARCO.   \n",
              "What category was used to build and train literal explanation + BERT? what does this category mean?                                                         Category F was used to build and train the literal explanation + BERT. This category involves training NLE-based neural rankers on calibration data. In this method, a BERT model is finetuned to process meta NLEs and produce scale-calibrated ranking scores. Specifically, in the scenario of the literal explanation approach, where each input is represented with two meta NLEs (one for relevance an...   \n",
              "Is the 'trec-dl' in table 1 the same as the 'trec' in table 2?                                                                                                                                                                                                                                                                                                                                                                                                                                          Yes, the 'trec-dl' in Table 1 is the same as the 'TREC' in Table 2.   \n",
              "\n",
              "                                                                                                                                                                                                                                                                                                                                                                                                                                                                                                                                                                         v1  \\\n",
              "How does the average query length compare to the average document length in table 1?                                                                                                                                                                                                                                                                                                                                                                                                The average query length is shorter compared to the average document length in table 1.   \n",
              "What are the Literal Explanation + BERT method's ndcg@10 scores on both datasets in table 2?                                                                                                                                                                                                                                                                                                                             The Literal Explanation + BERT method's nDCG@10 scores on both datasets in Table 2 are 0.529 for the TREC dataset and 0.602 for the NTCIR dataset.   \n",
              "What impact do natural language explanations (NLEs) have on improving the calibration and overall effectiveness of these models in document ranking tasks?  Natural language explanations (NLEs) significantly enhance the scale calibration of neural rankers, often maintaining or even boosting ranking performance in most scenarios. They provide valuable insights for document differentiation and lead to statistically significant improvements in scale calibration, resulting in lower calibration error values compared to other calibration methods. Additi...   \n",
              "How do i interpret table 2's calibration and ranking scores?                                                                                                Interpret the calibration and ranking scores in Table 2 by noting that lower values are better for calibration metrics such as CB-ECE, ECE, and MSE. Statistically significant improvements over the \"Platt Scaling monoBERT\" baseline are marked with a dagger symbol. The table presents the performance of different methods on two scale calibration datasets, TREC and NTCIR, with metrics like nDCG, n...   \n",
              "What are the weights of \"Uncalibrated monoBERT\" tuned on?                                                                                                                                                                                                                                                                                                                                                                                                                                                The weights of \"Uncalibrated monoBERT\" are fine-tuned on MS MARCO.   \n",
              "What category was used to build and train literal explanation + BERT? what does this category mean?                                                         Category F was used to build and train literal explanation + BERT. This category involves training NLE-based neural rankers on calibration data. In this method, a BERT model is finetuned to process meta NLEs and produce scale-calibrated ranking scores. The approach includes generating and aggregating natural language explanations for query-document pairs, and then using these explanations to r...   \n",
              "Is the 'trec-dl' in table 1 the same as the 'trec' in table 2?                                                                                                                                                                                                                                                                                                                                                                                                                Yes, the 'trec-dl' in Table 1 is the same dataset as the 'TREC' dataset mentioned in Table 2.   \n",
              "\n",
              "                                                                                                                                                                                                                                                                                                                                                                                                                                                                                                                                                                         v2  \\\n",
              "How does the average query length compare to the average document length in table 1?                                                                                                                                                                                                                                                                                                                                                                                           The average query length is significantly lower than the average document length in table 1.   \n",
              "What are the Literal Explanation + BERT method's ndcg@10 scores on both datasets in table 2?                                                                                                                                                                                                                                                                                                                            The Literal Explanation + BERT method's ndcg@10 scores on both datasets in table 2 are 0.529% for the TREC dataset and 0.340 for the NTCIR dataset.   \n",
              "What impact do natural language explanations (NLEs) have on improving the calibration and overall effectiveness of these models in document ranking tasks?  Natural language explanations (NLEs) significantly enhance the scale calibration of neural rankers, often maintaining or even boosting ranking performance in most scenarios. They provide valuable insights for document differentiation and lead to statistically significant improvements in scale calibration, resulting in lower calibration error values compared to other calibration methods. Additi...   \n",
              "How do i interpret table 2's calibration and ranking scores?                                                                                                Interpret the calibration and ranking scores in Table 2 by noting that lower values are better for calibration metrics such as CB-ECE, ECE, and MSE. Look for statistically significant improvements over the \"Platt Scaling monoBERT\" baseline, which are marked with a dagger symbol (†). Pay attention to the values in the columns for Ranking and Calibration metrics for different methods and dataset...   \n",
              "What are the weights of \"Uncalibrated monoBERT\" tuned on?                                                                                                                                                                                                                                                                                                                                                                                                                                                The weights of \"Uncalibrated monoBERT\" are fine-tuned on MS MARCO.   \n",
              "What category was used to build and train literal explanation + BERT? what does this category mean?                                                         Category F was used to build and train literal explanation + BERT. This category involves training NLE-based neural rankers on calibration data. In this method, a BERT model is finetuned to process meta NLEs and produce scale-calibrated ranking scores. For the literal explanation approach, this category involves generating and aggregating natural language explanations for query-document pairs ...   \n",
              "Is the 'trec-dl' in table 1 the same as the 'trec' in table 2?                                                                                                                                                                                                                                                                                                                                                                                                                                          Yes, the 'trec-dl' in table 1 is the same as the 'TREC' in table 2.   \n",
              "\n",
              "                                                                                                                                                                                                                                                                                                                                                                                                                                                                                                                                                                         v3  \\\n",
              "How does the average query length compare to the average document length in table 1?                                                                                                                                                                                                                                                                                                                                                                                                       The average query length is shorter than the average document length in Table 1.   \n",
              "What are the Literal Explanation + BERT method's ndcg@10 scores on both datasets in table 2?                                                                                                                                                                                                                                                                                                                               The Literal Explanation + BERT method's ndcg@10 scores on the TREC dataset and the NTCIR dataset in table 2 are 0.529% and 0.340%, respectively.   \n",
              "What impact do natural language explanations (NLEs) have on improving the calibration and overall effectiveness of these models in document ranking tasks?  Natural language explanations (NLEs) significantly enhance the scale calibration of neural rankers, often maintaining or even boosting ranking performance in most scenarios. They provide valuable insights for document differentiation and lead to statistically significant improvements in scale calibration, resulting in lower calibration error values compared to other calibration methods. Additi...   \n",
              "How do i interpret table 2's calibration and ranking scores?                                                                                                The calibration and ranking scores in Table 2 are evaluated based on different metrics such as nDCG, nDCG@10, CB-ECE, ECE, and MSE. Lower values are considered better for calibration metrics like CB-ECE, ECE, and MSE. The table compares the performance of baseline methods and new approaches on two scale calibration datasets, TREC and NTCIR. The results show how different methods perform in ter...   \n",
              "What are the weights of \"Uncalibrated monoBERT\" tuned on?                                                                                                                                                                                                                                                                                                                                                                                                                                                The weights of \"Uncalibrated monoBERT\" are fine-tuned on MS MARCO.   \n",
              "What category was used to build and train literal explanation + BERT? what does this category mean?                                                                                                                          Category F was used to build and train the literal explanation + BERT model. This category involves training NLE-based neural rankers on calibration data. In this context, it means that the model was fine-tuned to process meta natural language explanations (NLEs) for query-document pairs and generate scale-calibrated ranking scores.   \n",
              "Is the 'trec-dl' in table 1 the same as the 'trec' in table 2?                                                                                                                                                                                                                                                                                                                                                                                                                                          Yes, the 'trec-dl' in Table 1 is the same as the 'TREC' in Table 2.   \n",
              "\n",
              "                                                                                                                                                                                                                                                                                                                                                                                                                                                                                                                                                                         v4  \n",
              "How does the average query length compare to the average document length in table 1?                                                                                                                                                                                                                                                                                                                                                                                           The average query length is significantly lower than the average document length in table 1.  \n",
              "What are the Literal Explanation + BERT method's ndcg@10 scores on both datasets in table 2?                                                                                                                                                                                                                                                                                                                                                         The Literal Explanation + BERT method's nDCG@10 score on the TREC dataset is 0.529% and on the NTCIR dataset is 0.340.  \n",
              "What impact do natural language explanations (NLEs) have on improving the calibration and overall effectiveness of these models in document ranking tasks?  Natural language explanations (NLEs) significantly enhance the scale calibration of neural rankers, often maintaining or even boosting ranking performance in most scenarios. They provide valuable insights for document differentiation and lead to statistically significant improvements in scale calibration, exhibiting lower error values compared to other calibration methods. Additionally, NLEs h...  \n",
              "How do i interpret table 2's calibration and ranking scores?                                                                                                Interpret the calibration and ranking scores in Table 2 by noting that lower values are better for calibration metrics such as CB-ECE, ECE, and MSE. Look for statistically significant improvements over the \"Platt Scaling monoBERT\" baseline, which are marked with a dagger symbol (†). Pay attention to the values in the columns for Ranking and Calibration metrics for different methods and dataset...  \n",
              "What are the weights of \"Uncalibrated monoBERT\" tuned on?                                                                                                                                                                                                                                                                                                                                                                                                                                                The weights of \"Uncalibrated monoBERT\" are fine-tuned on MS MARCO.  \n",
              "What category was used to build and train literal explanation + BERT? what does this category mean?                                                         Category F was used to build and train the \"Literal Explanation + BERT\" method. This category involves training NLE-based neural rankers on calibration data. In this method, a BERT model is finetuned to process meta NLEs and generate scale-calibrated ranking scores. The literal explanation approach utilizes natural language explanations for query-document pairs to enhance the ranking performan...  \n",
              "Is the 'trec-dl' in table 1 the same as the 'trec' in table 2?                                                                                                                                                                                                                                                                                                                                                                                                                                       No, the 'trec-dl' in table 1 is not the same as the 'trec' in table 2.  "
            ]
          },
          "execution_count": 113,
          "metadata": {},
          "output_type": "execute_result"
        }
      ],
      "source": [
        "# Add variant 4's responses to `exp_results` dataframe:\n",
        "v4_responses = [one_v4, two_v4, three_v4, four_v4, five_v4, six_v4, seven_v4]\n",
        "\n",
        "exp_results['v4'] = v4_responses\n",
        "\n",
        "exp_results"
      ]
    },
    {
      "cell_type": "code",
      "execution_count": null,
      "metadata": {
        "colab": {
          "base_uri": "https://localhost:8080/",
          "height": 17
        },
        "id": "fcR3rYODtiJ-",
        "outputId": "ef02992a-e6ab-4b14-eae0-7cb7e9646947"
      },
      "outputs": [
        {
          "data": {
            "text/html": [
              "\n",
              "  <style>\n",
              "    pre {\n",
              "        white-space: pre-wrap;\n",
              "    }\n",
              "  </style>\n",
              "  "
            ],
            "text/plain": [
              "<IPython.core.display.HTML object>"
            ]
          },
          "metadata": {},
          "output_type": "display_data"
        }
      ],
      "source": [
        "# The end!"
      ]
    }
  ],
  "metadata": {
    "colab": {
      "provenance": [],
      "toc_visible": true,
      "include_colab_link": true
    },
    "kernelspec": {
      "display_name": "Python 3",
      "name": "python3"
    },
    "language_info": {
      "codemirror_mode": {
        "name": "ipython",
        "version": 3
      },
      "file_extension": ".py",
      "mimetype": "text/x-python",
      "name": "python",
      "nbconvert_exporter": "python",
      "pygments_lexer": "ipython3",
      "version": "3.11.5"
    },
    "widgets": {
      "application/vnd.jupyter.widget-state+json": {
        "f51e82193e3c4c1283df845ef460d52d": {
          "model_module": "@jupyter-widgets/controls",
          "model_name": "HBoxModel",
          "model_module_version": "1.5.0",
          "state": {
            "_dom_classes": [],
            "_model_module": "@jupyter-widgets/controls",
            "_model_module_version": "1.5.0",
            "_model_name": "HBoxModel",
            "_view_count": null,
            "_view_module": "@jupyter-widgets/controls",
            "_view_module_version": "1.5.0",
            "_view_name": "HBoxView",
            "box_style": "",
            "children": [
              "IPY_MODEL_950775a7afeb4e4bb01e14f0bfe94d92",
              "IPY_MODEL_e39f5291624d47d6ad50bc1e3f7f1c1d",
              "IPY_MODEL_83bc39235aaa4cf6aa18f34936b933d6"
            ],
            "layout": "IPY_MODEL_8bbee1c4c0a741feb3a80550e7057e00"
          }
        },
        "950775a7afeb4e4bb01e14f0bfe94d92": {
          "model_module": "@jupyter-widgets/controls",
          "model_name": "HTMLModel",
          "model_module_version": "1.5.0",
          "state": {
            "_dom_classes": [],
            "_model_module": "@jupyter-widgets/controls",
            "_model_module_version": "1.5.0",
            "_model_name": "HTMLModel",
            "_view_count": null,
            "_view_module": "@jupyter-widgets/controls",
            "_view_module_version": "1.5.0",
            "_view_name": "HTMLView",
            "description": "",
            "description_tooltip": null,
            "layout": "IPY_MODEL_6dc4011c1c164ed8b4143d368632d242",
            "placeholder": "​",
            "style": "IPY_MODEL_890dcab4d54b45c2bcb4c9148e2309e6",
            "value": "yolox_l0.05_quantized.onnx: 100%"
          }
        },
        "e39f5291624d47d6ad50bc1e3f7f1c1d": {
          "model_module": "@jupyter-widgets/controls",
          "model_name": "FloatProgressModel",
          "model_module_version": "1.5.0",
          "state": {
            "_dom_classes": [],
            "_model_module": "@jupyter-widgets/controls",
            "_model_module_version": "1.5.0",
            "_model_name": "FloatProgressModel",
            "_view_count": null,
            "_view_module": "@jupyter-widgets/controls",
            "_view_module_version": "1.5.0",
            "_view_name": "ProgressView",
            "bar_style": "success",
            "description": "",
            "description_tooltip": null,
            "layout": "IPY_MODEL_f8e3a5112b054c24b8387fcf2f6002b0",
            "max": 54599886,
            "min": 0,
            "orientation": "horizontal",
            "style": "IPY_MODEL_6266fe4f4575402d8edf13d7c9344bdc",
            "value": 54599886
          }
        },
        "83bc39235aaa4cf6aa18f34936b933d6": {
          "model_module": "@jupyter-widgets/controls",
          "model_name": "HTMLModel",
          "model_module_version": "1.5.0",
          "state": {
            "_dom_classes": [],
            "_model_module": "@jupyter-widgets/controls",
            "_model_module_version": "1.5.0",
            "_model_name": "HTMLModel",
            "_view_count": null,
            "_view_module": "@jupyter-widgets/controls",
            "_view_module_version": "1.5.0",
            "_view_name": "HTMLView",
            "description": "",
            "description_tooltip": null,
            "layout": "IPY_MODEL_9d4f4b9425f0468b887e7223655142b4",
            "placeholder": "​",
            "style": "IPY_MODEL_f1a6a4d0217b44efa00cf32cd6782a3a",
            "value": " 54.6M/54.6M [00:01&lt;00:00, 50.1MB/s]"
          }
        },
        "8bbee1c4c0a741feb3a80550e7057e00": {
          "model_module": "@jupyter-widgets/base",
          "model_name": "LayoutModel",
          "model_module_version": "1.2.0",
          "state": {
            "_model_module": "@jupyter-widgets/base",
            "_model_module_version": "1.2.0",
            "_model_name": "LayoutModel",
            "_view_count": null,
            "_view_module": "@jupyter-widgets/base",
            "_view_module_version": "1.2.0",
            "_view_name": "LayoutView",
            "align_content": null,
            "align_items": null,
            "align_self": null,
            "border": null,
            "bottom": null,
            "display": null,
            "flex": null,
            "flex_flow": null,
            "grid_area": null,
            "grid_auto_columns": null,
            "grid_auto_flow": null,
            "grid_auto_rows": null,
            "grid_column": null,
            "grid_gap": null,
            "grid_row": null,
            "grid_template_areas": null,
            "grid_template_columns": null,
            "grid_template_rows": null,
            "height": null,
            "justify_content": null,
            "justify_items": null,
            "left": null,
            "margin": null,
            "max_height": null,
            "max_width": null,
            "min_height": null,
            "min_width": null,
            "object_fit": null,
            "object_position": null,
            "order": null,
            "overflow": null,
            "overflow_x": null,
            "overflow_y": null,
            "padding": null,
            "right": null,
            "top": null,
            "visibility": null,
            "width": null
          }
        },
        "6dc4011c1c164ed8b4143d368632d242": {
          "model_module": "@jupyter-widgets/base",
          "model_name": "LayoutModel",
          "model_module_version": "1.2.0",
          "state": {
            "_model_module": "@jupyter-widgets/base",
            "_model_module_version": "1.2.0",
            "_model_name": "LayoutModel",
            "_view_count": null,
            "_view_module": "@jupyter-widgets/base",
            "_view_module_version": "1.2.0",
            "_view_name": "LayoutView",
            "align_content": null,
            "align_items": null,
            "align_self": null,
            "border": null,
            "bottom": null,
            "display": null,
            "flex": null,
            "flex_flow": null,
            "grid_area": null,
            "grid_auto_columns": null,
            "grid_auto_flow": null,
            "grid_auto_rows": null,
            "grid_column": null,
            "grid_gap": null,
            "grid_row": null,
            "grid_template_areas": null,
            "grid_template_columns": null,
            "grid_template_rows": null,
            "height": null,
            "justify_content": null,
            "justify_items": null,
            "left": null,
            "margin": null,
            "max_height": null,
            "max_width": null,
            "min_height": null,
            "min_width": null,
            "object_fit": null,
            "object_position": null,
            "order": null,
            "overflow": null,
            "overflow_x": null,
            "overflow_y": null,
            "padding": null,
            "right": null,
            "top": null,
            "visibility": null,
            "width": null
          }
        },
        "890dcab4d54b45c2bcb4c9148e2309e6": {
          "model_module": "@jupyter-widgets/controls",
          "model_name": "DescriptionStyleModel",
          "model_module_version": "1.5.0",
          "state": {
            "_model_module": "@jupyter-widgets/controls",
            "_model_module_version": "1.5.0",
            "_model_name": "DescriptionStyleModel",
            "_view_count": null,
            "_view_module": "@jupyter-widgets/base",
            "_view_module_version": "1.2.0",
            "_view_name": "StyleView",
            "description_width": ""
          }
        },
        "f8e3a5112b054c24b8387fcf2f6002b0": {
          "model_module": "@jupyter-widgets/base",
          "model_name": "LayoutModel",
          "model_module_version": "1.2.0",
          "state": {
            "_model_module": "@jupyter-widgets/base",
            "_model_module_version": "1.2.0",
            "_model_name": "LayoutModel",
            "_view_count": null,
            "_view_module": "@jupyter-widgets/base",
            "_view_module_version": "1.2.0",
            "_view_name": "LayoutView",
            "align_content": null,
            "align_items": null,
            "align_self": null,
            "border": null,
            "bottom": null,
            "display": null,
            "flex": null,
            "flex_flow": null,
            "grid_area": null,
            "grid_auto_columns": null,
            "grid_auto_flow": null,
            "grid_auto_rows": null,
            "grid_column": null,
            "grid_gap": null,
            "grid_row": null,
            "grid_template_areas": null,
            "grid_template_columns": null,
            "grid_template_rows": null,
            "height": null,
            "justify_content": null,
            "justify_items": null,
            "left": null,
            "margin": null,
            "max_height": null,
            "max_width": null,
            "min_height": null,
            "min_width": null,
            "object_fit": null,
            "object_position": null,
            "order": null,
            "overflow": null,
            "overflow_x": null,
            "overflow_y": null,
            "padding": null,
            "right": null,
            "top": null,
            "visibility": null,
            "width": null
          }
        },
        "6266fe4f4575402d8edf13d7c9344bdc": {
          "model_module": "@jupyter-widgets/controls",
          "model_name": "ProgressStyleModel",
          "model_module_version": "1.5.0",
          "state": {
            "_model_module": "@jupyter-widgets/controls",
            "_model_module_version": "1.5.0",
            "_model_name": "ProgressStyleModel",
            "_view_count": null,
            "_view_module": "@jupyter-widgets/base",
            "_view_module_version": "1.2.0",
            "_view_name": "StyleView",
            "bar_color": null,
            "description_width": ""
          }
        },
        "9d4f4b9425f0468b887e7223655142b4": {
          "model_module": "@jupyter-widgets/base",
          "model_name": "LayoutModel",
          "model_module_version": "1.2.0",
          "state": {
            "_model_module": "@jupyter-widgets/base",
            "_model_module_version": "1.2.0",
            "_model_name": "LayoutModel",
            "_view_count": null,
            "_view_module": "@jupyter-widgets/base",
            "_view_module_version": "1.2.0",
            "_view_name": "LayoutView",
            "align_content": null,
            "align_items": null,
            "align_self": null,
            "border": null,
            "bottom": null,
            "display": null,
            "flex": null,
            "flex_flow": null,
            "grid_area": null,
            "grid_auto_columns": null,
            "grid_auto_flow": null,
            "grid_auto_rows": null,
            "grid_column": null,
            "grid_gap": null,
            "grid_row": null,
            "grid_template_areas": null,
            "grid_template_columns": null,
            "grid_template_rows": null,
            "height": null,
            "justify_content": null,
            "justify_items": null,
            "left": null,
            "margin": null,
            "max_height": null,
            "max_width": null,
            "min_height": null,
            "min_width": null,
            "object_fit": null,
            "object_position": null,
            "order": null,
            "overflow": null,
            "overflow_x": null,
            "overflow_y": null,
            "padding": null,
            "right": null,
            "top": null,
            "visibility": null,
            "width": null
          }
        },
        "f1a6a4d0217b44efa00cf32cd6782a3a": {
          "model_module": "@jupyter-widgets/controls",
          "model_name": "DescriptionStyleModel",
          "model_module_version": "1.5.0",
          "state": {
            "_model_module": "@jupyter-widgets/controls",
            "_model_module_version": "1.5.0",
            "_model_name": "DescriptionStyleModel",
            "_view_count": null,
            "_view_module": "@jupyter-widgets/base",
            "_view_module_version": "1.2.0",
            "_view_name": "StyleView",
            "description_width": ""
          }
        },
        "23599b568d404c8cbba3244fa0996f6d": {
          "model_module": "@jupyter-widgets/controls",
          "model_name": "HBoxModel",
          "model_module_version": "1.5.0",
          "state": {
            "_dom_classes": [],
            "_model_module": "@jupyter-widgets/controls",
            "_model_module_version": "1.5.0",
            "_model_name": "HBoxModel",
            "_view_count": null,
            "_view_module": "@jupyter-widgets/controls",
            "_view_module_version": "1.5.0",
            "_view_name": "HBoxView",
            "box_style": "",
            "children": [
              "IPY_MODEL_863b47b248d74c7abd8a41ae50ad8d7c",
              "IPY_MODEL_25bf178b8ebe4070a660a947aefb9138",
              "IPY_MODEL_87b54a8c424f4037ae7a1a7cbecb1323"
            ],
            "layout": "IPY_MODEL_8842328598884416824da42133cab32d"
          }
        },
        "863b47b248d74c7abd8a41ae50ad8d7c": {
          "model_module": "@jupyter-widgets/controls",
          "model_name": "HTMLModel",
          "model_module_version": "1.5.0",
          "state": {
            "_dom_classes": [],
            "_model_module": "@jupyter-widgets/controls",
            "_model_module_version": "1.5.0",
            "_model_name": "HTMLModel",
            "_view_count": null,
            "_view_module": "@jupyter-widgets/controls",
            "_view_module_version": "1.5.0",
            "_view_name": "HTMLView",
            "description": "",
            "description_tooltip": null,
            "layout": "IPY_MODEL_15cf41176f314738a020e04baf8c42c7",
            "placeholder": "​",
            "style": "IPY_MODEL_bd866d8fe75e4352a19365d101f759d0",
            "value": "Fetching 1 files: 100%"
          }
        },
        "25bf178b8ebe4070a660a947aefb9138": {
          "model_module": "@jupyter-widgets/controls",
          "model_name": "FloatProgressModel",
          "model_module_version": "1.5.0",
          "state": {
            "_dom_classes": [],
            "_model_module": "@jupyter-widgets/controls",
            "_model_module_version": "1.5.0",
            "_model_name": "FloatProgressModel",
            "_view_count": null,
            "_view_module": "@jupyter-widgets/controls",
            "_view_module_version": "1.5.0",
            "_view_name": "ProgressView",
            "bar_style": "success",
            "description": "",
            "description_tooltip": null,
            "layout": "IPY_MODEL_764dc30bf217439189a48a92e7dd9277",
            "max": 1,
            "min": 0,
            "orientation": "horizontal",
            "style": "IPY_MODEL_bf155796884f4176a1aa8f53e32cfadd",
            "value": 1
          }
        },
        "87b54a8c424f4037ae7a1a7cbecb1323": {
          "model_module": "@jupyter-widgets/controls",
          "model_name": "HTMLModel",
          "model_module_version": "1.5.0",
          "state": {
            "_dom_classes": [],
            "_model_module": "@jupyter-widgets/controls",
            "_model_module_version": "1.5.0",
            "_model_name": "HTMLModel",
            "_view_count": null,
            "_view_module": "@jupyter-widgets/controls",
            "_view_module_version": "1.5.0",
            "_view_name": "HTMLView",
            "description": "",
            "description_tooltip": null,
            "layout": "IPY_MODEL_79c3f4d523ba4446b6db5095ce99287e",
            "placeholder": "​",
            "style": "IPY_MODEL_281470206a8148258c43d753b57bffd3",
            "value": " 1/1 [00:00&lt;00:00,  3.94it/s]"
          }
        },
        "8842328598884416824da42133cab32d": {
          "model_module": "@jupyter-widgets/base",
          "model_name": "LayoutModel",
          "model_module_version": "1.2.0",
          "state": {
            "_model_module": "@jupyter-widgets/base",
            "_model_module_version": "1.2.0",
            "_model_name": "LayoutModel",
            "_view_count": null,
            "_view_module": "@jupyter-widgets/base",
            "_view_module_version": "1.2.0",
            "_view_name": "LayoutView",
            "align_content": null,
            "align_items": null,
            "align_self": null,
            "border": null,
            "bottom": null,
            "display": null,
            "flex": null,
            "flex_flow": null,
            "grid_area": null,
            "grid_auto_columns": null,
            "grid_auto_flow": null,
            "grid_auto_rows": null,
            "grid_column": null,
            "grid_gap": null,
            "grid_row": null,
            "grid_template_areas": null,
            "grid_template_columns": null,
            "grid_template_rows": null,
            "height": null,
            "justify_content": null,
            "justify_items": null,
            "left": null,
            "margin": null,
            "max_height": null,
            "max_width": null,
            "min_height": null,
            "min_width": null,
            "object_fit": null,
            "object_position": null,
            "order": null,
            "overflow": null,
            "overflow_x": null,
            "overflow_y": null,
            "padding": null,
            "right": null,
            "top": null,
            "visibility": null,
            "width": null
          }
        },
        "15cf41176f314738a020e04baf8c42c7": {
          "model_module": "@jupyter-widgets/base",
          "model_name": "LayoutModel",
          "model_module_version": "1.2.0",
          "state": {
            "_model_module": "@jupyter-widgets/base",
            "_model_module_version": "1.2.0",
            "_model_name": "LayoutModel",
            "_view_count": null,
            "_view_module": "@jupyter-widgets/base",
            "_view_module_version": "1.2.0",
            "_view_name": "LayoutView",
            "align_content": null,
            "align_items": null,
            "align_self": null,
            "border": null,
            "bottom": null,
            "display": null,
            "flex": null,
            "flex_flow": null,
            "grid_area": null,
            "grid_auto_columns": null,
            "grid_auto_flow": null,
            "grid_auto_rows": null,
            "grid_column": null,
            "grid_gap": null,
            "grid_row": null,
            "grid_template_areas": null,
            "grid_template_columns": null,
            "grid_template_rows": null,
            "height": null,
            "justify_content": null,
            "justify_items": null,
            "left": null,
            "margin": null,
            "max_height": null,
            "max_width": null,
            "min_height": null,
            "min_width": null,
            "object_fit": null,
            "object_position": null,
            "order": null,
            "overflow": null,
            "overflow_x": null,
            "overflow_y": null,
            "padding": null,
            "right": null,
            "top": null,
            "visibility": null,
            "width": null
          }
        },
        "bd866d8fe75e4352a19365d101f759d0": {
          "model_module": "@jupyter-widgets/controls",
          "model_name": "DescriptionStyleModel",
          "model_module_version": "1.5.0",
          "state": {
            "_model_module": "@jupyter-widgets/controls",
            "_model_module_version": "1.5.0",
            "_model_name": "DescriptionStyleModel",
            "_view_count": null,
            "_view_module": "@jupyter-widgets/base",
            "_view_module_version": "1.2.0",
            "_view_name": "StyleView",
            "description_width": ""
          }
        },
        "764dc30bf217439189a48a92e7dd9277": {
          "model_module": "@jupyter-widgets/base",
          "model_name": "LayoutModel",
          "model_module_version": "1.2.0",
          "state": {
            "_model_module": "@jupyter-widgets/base",
            "_model_module_version": "1.2.0",
            "_model_name": "LayoutModel",
            "_view_count": null,
            "_view_module": "@jupyter-widgets/base",
            "_view_module_version": "1.2.0",
            "_view_name": "LayoutView",
            "align_content": null,
            "align_items": null,
            "align_self": null,
            "border": null,
            "bottom": null,
            "display": null,
            "flex": null,
            "flex_flow": null,
            "grid_area": null,
            "grid_auto_columns": null,
            "grid_auto_flow": null,
            "grid_auto_rows": null,
            "grid_column": null,
            "grid_gap": null,
            "grid_row": null,
            "grid_template_areas": null,
            "grid_template_columns": null,
            "grid_template_rows": null,
            "height": null,
            "justify_content": null,
            "justify_items": null,
            "left": null,
            "margin": null,
            "max_height": null,
            "max_width": null,
            "min_height": null,
            "min_width": null,
            "object_fit": null,
            "object_position": null,
            "order": null,
            "overflow": null,
            "overflow_x": null,
            "overflow_y": null,
            "padding": null,
            "right": null,
            "top": null,
            "visibility": null,
            "width": null
          }
        },
        "bf155796884f4176a1aa8f53e32cfadd": {
          "model_module": "@jupyter-widgets/controls",
          "model_name": "ProgressStyleModel",
          "model_module_version": "1.5.0",
          "state": {
            "_model_module": "@jupyter-widgets/controls",
            "_model_module_version": "1.5.0",
            "_model_name": "ProgressStyleModel",
            "_view_count": null,
            "_view_module": "@jupyter-widgets/base",
            "_view_module_version": "1.2.0",
            "_view_name": "StyleView",
            "bar_color": null,
            "description_width": ""
          }
        },
        "79c3f4d523ba4446b6db5095ce99287e": {
          "model_module": "@jupyter-widgets/base",
          "model_name": "LayoutModel",
          "model_module_version": "1.2.0",
          "state": {
            "_model_module": "@jupyter-widgets/base",
            "_model_module_version": "1.2.0",
            "_model_name": "LayoutModel",
            "_view_count": null,
            "_view_module": "@jupyter-widgets/base",
            "_view_module_version": "1.2.0",
            "_view_name": "LayoutView",
            "align_content": null,
            "align_items": null,
            "align_self": null,
            "border": null,
            "bottom": null,
            "display": null,
            "flex": null,
            "flex_flow": null,
            "grid_area": null,
            "grid_auto_columns": null,
            "grid_auto_flow": null,
            "grid_auto_rows": null,
            "grid_column": null,
            "grid_gap": null,
            "grid_row": null,
            "grid_template_areas": null,
            "grid_template_columns": null,
            "grid_template_rows": null,
            "height": null,
            "justify_content": null,
            "justify_items": null,
            "left": null,
            "margin": null,
            "max_height": null,
            "max_width": null,
            "min_height": null,
            "min_width": null,
            "object_fit": null,
            "object_position": null,
            "order": null,
            "overflow": null,
            "overflow_x": null,
            "overflow_y": null,
            "padding": null,
            "right": null,
            "top": null,
            "visibility": null,
            "width": null
          }
        },
        "281470206a8148258c43d753b57bffd3": {
          "model_module": "@jupyter-widgets/controls",
          "model_name": "DescriptionStyleModel",
          "model_module_version": "1.5.0",
          "state": {
            "_model_module": "@jupyter-widgets/controls",
            "_model_module_version": "1.5.0",
            "_model_name": "DescriptionStyleModel",
            "_view_count": null,
            "_view_module": "@jupyter-widgets/base",
            "_view_module_version": "1.2.0",
            "_view_name": "StyleView",
            "description_width": ""
          }
        },
        "ebba02bdf3ac4e2690f28c90c6f6bc08": {
          "model_module": "@jupyter-widgets/controls",
          "model_name": "HBoxModel",
          "model_module_version": "1.5.0",
          "state": {
            "_dom_classes": [],
            "_model_module": "@jupyter-widgets/controls",
            "_model_module_version": "1.5.0",
            "_model_name": "HBoxModel",
            "_view_count": null,
            "_view_module": "@jupyter-widgets/controls",
            "_view_module_version": "1.5.0",
            "_view_name": "HBoxView",
            "box_style": "",
            "children": [
              "IPY_MODEL_4d43799aa3f0445298a0ff32b0c86e80",
              "IPY_MODEL_2297098ebb89435893d854f19ec3b809",
              "IPY_MODEL_071691ce562243cba6856c829341a00a"
            ],
            "layout": "IPY_MODEL_d9309fbfda794aeca23d3d1cea449fa1"
          }
        },
        "4d43799aa3f0445298a0ff32b0c86e80": {
          "model_module": "@jupyter-widgets/controls",
          "model_name": "HTMLModel",
          "model_module_version": "1.5.0",
          "state": {
            "_dom_classes": [],
            "_model_module": "@jupyter-widgets/controls",
            "_model_module_version": "1.5.0",
            "_model_name": "HTMLModel",
            "_view_count": null,
            "_view_module": "@jupyter-widgets/controls",
            "_view_module_version": "1.5.0",
            "_view_name": "HTMLView",
            "description": "",
            "description_tooltip": null,
            "layout": "IPY_MODEL_01eb0edbf65a4c348aaeac0fdd03f696",
            "placeholder": "​",
            "style": "IPY_MODEL_eb2a5bcfdd3b41c4aabd60f3f822dae7",
            "value": "preprocessor_config.json: 100%"
          }
        },
        "2297098ebb89435893d854f19ec3b809": {
          "model_module": "@jupyter-widgets/controls",
          "model_name": "FloatProgressModel",
          "model_module_version": "1.5.0",
          "state": {
            "_dom_classes": [],
            "_model_module": "@jupyter-widgets/controls",
            "_model_module_version": "1.5.0",
            "_model_name": "FloatProgressModel",
            "_view_count": null,
            "_view_module": "@jupyter-widgets/controls",
            "_view_module_version": "1.5.0",
            "_view_name": "ProgressView",
            "bar_style": "success",
            "description": "",
            "description_tooltip": null,
            "layout": "IPY_MODEL_fef09d6de17a4f318f48ed3e5896136c",
            "max": 274,
            "min": 0,
            "orientation": "horizontal",
            "style": "IPY_MODEL_e4e848f674234d2a93b58567bfaac795",
            "value": 274
          }
        },
        "071691ce562243cba6856c829341a00a": {
          "model_module": "@jupyter-widgets/controls",
          "model_name": "HTMLModel",
          "model_module_version": "1.5.0",
          "state": {
            "_dom_classes": [],
            "_model_module": "@jupyter-widgets/controls",
            "_model_module_version": "1.5.0",
            "_model_name": "HTMLModel",
            "_view_count": null,
            "_view_module": "@jupyter-widgets/controls",
            "_view_module_version": "1.5.0",
            "_view_name": "HTMLView",
            "description": "",
            "description_tooltip": null,
            "layout": "IPY_MODEL_f6b46d69c80f4288a7bddaa04d71964c",
            "placeholder": "​",
            "style": "IPY_MODEL_a0e391ad53684bbab7ba2a1129aac8fe",
            "value": " 274/274 [00:00&lt;00:00, 16.4kB/s]"
          }
        },
        "d9309fbfda794aeca23d3d1cea449fa1": {
          "model_module": "@jupyter-widgets/base",
          "model_name": "LayoutModel",
          "model_module_version": "1.2.0",
          "state": {
            "_model_module": "@jupyter-widgets/base",
            "_model_module_version": "1.2.0",
            "_model_name": "LayoutModel",
            "_view_count": null,
            "_view_module": "@jupyter-widgets/base",
            "_view_module_version": "1.2.0",
            "_view_name": "LayoutView",
            "align_content": null,
            "align_items": null,
            "align_self": null,
            "border": null,
            "bottom": null,
            "display": null,
            "flex": null,
            "flex_flow": null,
            "grid_area": null,
            "grid_auto_columns": null,
            "grid_auto_flow": null,
            "grid_auto_rows": null,
            "grid_column": null,
            "grid_gap": null,
            "grid_row": null,
            "grid_template_areas": null,
            "grid_template_columns": null,
            "grid_template_rows": null,
            "height": null,
            "justify_content": null,
            "justify_items": null,
            "left": null,
            "margin": null,
            "max_height": null,
            "max_width": null,
            "min_height": null,
            "min_width": null,
            "object_fit": null,
            "object_position": null,
            "order": null,
            "overflow": null,
            "overflow_x": null,
            "overflow_y": null,
            "padding": null,
            "right": null,
            "top": null,
            "visibility": null,
            "width": null
          }
        },
        "01eb0edbf65a4c348aaeac0fdd03f696": {
          "model_module": "@jupyter-widgets/base",
          "model_name": "LayoutModel",
          "model_module_version": "1.2.0",
          "state": {
            "_model_module": "@jupyter-widgets/base",
            "_model_module_version": "1.2.0",
            "_model_name": "LayoutModel",
            "_view_count": null,
            "_view_module": "@jupyter-widgets/base",
            "_view_module_version": "1.2.0",
            "_view_name": "LayoutView",
            "align_content": null,
            "align_items": null,
            "align_self": null,
            "border": null,
            "bottom": null,
            "display": null,
            "flex": null,
            "flex_flow": null,
            "grid_area": null,
            "grid_auto_columns": null,
            "grid_auto_flow": null,
            "grid_auto_rows": null,
            "grid_column": null,
            "grid_gap": null,
            "grid_row": null,
            "grid_template_areas": null,
            "grid_template_columns": null,
            "grid_template_rows": null,
            "height": null,
            "justify_content": null,
            "justify_items": null,
            "left": null,
            "margin": null,
            "max_height": null,
            "max_width": null,
            "min_height": null,
            "min_width": null,
            "object_fit": null,
            "object_position": null,
            "order": null,
            "overflow": null,
            "overflow_x": null,
            "overflow_y": null,
            "padding": null,
            "right": null,
            "top": null,
            "visibility": null,
            "width": null
          }
        },
        "eb2a5bcfdd3b41c4aabd60f3f822dae7": {
          "model_module": "@jupyter-widgets/controls",
          "model_name": "DescriptionStyleModel",
          "model_module_version": "1.5.0",
          "state": {
            "_model_module": "@jupyter-widgets/controls",
            "_model_module_version": "1.5.0",
            "_model_name": "DescriptionStyleModel",
            "_view_count": null,
            "_view_module": "@jupyter-widgets/base",
            "_view_module_version": "1.2.0",
            "_view_name": "StyleView",
            "description_width": ""
          }
        },
        "fef09d6de17a4f318f48ed3e5896136c": {
          "model_module": "@jupyter-widgets/base",
          "model_name": "LayoutModel",
          "model_module_version": "1.2.0",
          "state": {
            "_model_module": "@jupyter-widgets/base",
            "_model_module_version": "1.2.0",
            "_model_name": "LayoutModel",
            "_view_count": null,
            "_view_module": "@jupyter-widgets/base",
            "_view_module_version": "1.2.0",
            "_view_name": "LayoutView",
            "align_content": null,
            "align_items": null,
            "align_self": null,
            "border": null,
            "bottom": null,
            "display": null,
            "flex": null,
            "flex_flow": null,
            "grid_area": null,
            "grid_auto_columns": null,
            "grid_auto_flow": null,
            "grid_auto_rows": null,
            "grid_column": null,
            "grid_gap": null,
            "grid_row": null,
            "grid_template_areas": null,
            "grid_template_columns": null,
            "grid_template_rows": null,
            "height": null,
            "justify_content": null,
            "justify_items": null,
            "left": null,
            "margin": null,
            "max_height": null,
            "max_width": null,
            "min_height": null,
            "min_width": null,
            "object_fit": null,
            "object_position": null,
            "order": null,
            "overflow": null,
            "overflow_x": null,
            "overflow_y": null,
            "padding": null,
            "right": null,
            "top": null,
            "visibility": null,
            "width": null
          }
        },
        "e4e848f674234d2a93b58567bfaac795": {
          "model_module": "@jupyter-widgets/controls",
          "model_name": "ProgressStyleModel",
          "model_module_version": "1.5.0",
          "state": {
            "_model_module": "@jupyter-widgets/controls",
            "_model_module_version": "1.5.0",
            "_model_name": "ProgressStyleModel",
            "_view_count": null,
            "_view_module": "@jupyter-widgets/base",
            "_view_module_version": "1.2.0",
            "_view_name": "StyleView",
            "bar_color": null,
            "description_width": ""
          }
        },
        "f6b46d69c80f4288a7bddaa04d71964c": {
          "model_module": "@jupyter-widgets/base",
          "model_name": "LayoutModel",
          "model_module_version": "1.2.0",
          "state": {
            "_model_module": "@jupyter-widgets/base",
            "_model_module_version": "1.2.0",
            "_model_name": "LayoutModel",
            "_view_count": null,
            "_view_module": "@jupyter-widgets/base",
            "_view_module_version": "1.2.0",
            "_view_name": "LayoutView",
            "align_content": null,
            "align_items": null,
            "align_self": null,
            "border": null,
            "bottom": null,
            "display": null,
            "flex": null,
            "flex_flow": null,
            "grid_area": null,
            "grid_auto_columns": null,
            "grid_auto_flow": null,
            "grid_auto_rows": null,
            "grid_column": null,
            "grid_gap": null,
            "grid_row": null,
            "grid_template_areas": null,
            "grid_template_columns": null,
            "grid_template_rows": null,
            "height": null,
            "justify_content": null,
            "justify_items": null,
            "left": null,
            "margin": null,
            "max_height": null,
            "max_width": null,
            "min_height": null,
            "min_width": null,
            "object_fit": null,
            "object_position": null,
            "order": null,
            "overflow": null,
            "overflow_x": null,
            "overflow_y": null,
            "padding": null,
            "right": null,
            "top": null,
            "visibility": null,
            "width": null
          }
        },
        "a0e391ad53684bbab7ba2a1129aac8fe": {
          "model_module": "@jupyter-widgets/controls",
          "model_name": "DescriptionStyleModel",
          "model_module_version": "1.5.0",
          "state": {
            "_model_module": "@jupyter-widgets/controls",
            "_model_module_version": "1.5.0",
            "_model_name": "DescriptionStyleModel",
            "_view_count": null,
            "_view_module": "@jupyter-widgets/base",
            "_view_module_version": "1.2.0",
            "_view_name": "StyleView",
            "description_width": ""
          }
        },
        "6fd4141469a7461187602721d50a49df": {
          "model_module": "@jupyter-widgets/controls",
          "model_name": "HBoxModel",
          "model_module_version": "1.5.0",
          "state": {
            "_dom_classes": [],
            "_model_module": "@jupyter-widgets/controls",
            "_model_module_version": "1.5.0",
            "_model_name": "HBoxModel",
            "_view_count": null,
            "_view_module": "@jupyter-widgets/controls",
            "_view_module_version": "1.5.0",
            "_view_name": "HBoxView",
            "box_style": "",
            "children": [
              "IPY_MODEL_146c6277f53a4c9a99965fb60c82d830",
              "IPY_MODEL_7e883f39b2f7498a86437d37e9a22a79",
              "IPY_MODEL_a9476d5d9a03431aa9dc588a487eae1e"
            ],
            "layout": "IPY_MODEL_c395dc19e1ba4483adb9686bc9328821"
          }
        },
        "146c6277f53a4c9a99965fb60c82d830": {
          "model_module": "@jupyter-widgets/controls",
          "model_name": "HTMLModel",
          "model_module_version": "1.5.0",
          "state": {
            "_dom_classes": [],
            "_model_module": "@jupyter-widgets/controls",
            "_model_module_version": "1.5.0",
            "_model_name": "HTMLModel",
            "_view_count": null,
            "_view_module": "@jupyter-widgets/controls",
            "_view_module_version": "1.5.0",
            "_view_name": "HTMLView",
            "description": "",
            "description_tooltip": null,
            "layout": "IPY_MODEL_7e74844605c2441faeb843dcb0c105a8",
            "placeholder": "​",
            "style": "IPY_MODEL_11db42b25cab4bfdba9b90bdbeae2926",
            "value": "config.json: "
          }
        },
        "7e883f39b2f7498a86437d37e9a22a79": {
          "model_module": "@jupyter-widgets/controls",
          "model_name": "FloatProgressModel",
          "model_module_version": "1.5.0",
          "state": {
            "_dom_classes": [],
            "_model_module": "@jupyter-widgets/controls",
            "_model_module_version": "1.5.0",
            "_model_name": "FloatProgressModel",
            "_view_count": null,
            "_view_module": "@jupyter-widgets/controls",
            "_view_module_version": "1.5.0",
            "_view_name": "ProgressView",
            "bar_style": "success",
            "description": "",
            "description_tooltip": null,
            "layout": "IPY_MODEL_15d6df324c9f4ed69e4ddd87cd7f0cba",
            "max": 1,
            "min": 0,
            "orientation": "horizontal",
            "style": "IPY_MODEL_263bf03cd8654e9abeaef708de68ddd6",
            "value": 1
          }
        },
        "a9476d5d9a03431aa9dc588a487eae1e": {
          "model_module": "@jupyter-widgets/controls",
          "model_name": "HTMLModel",
          "model_module_version": "1.5.0",
          "state": {
            "_dom_classes": [],
            "_model_module": "@jupyter-widgets/controls",
            "_model_module_version": "1.5.0",
            "_model_name": "HTMLModel",
            "_view_count": null,
            "_view_module": "@jupyter-widgets/controls",
            "_view_module_version": "1.5.0",
            "_view_name": "HTMLView",
            "description": "",
            "description_tooltip": null,
            "layout": "IPY_MODEL_8f47f02bcfb448adb1253493f5ad7568",
            "placeholder": "​",
            "style": "IPY_MODEL_9233baf71a234fe6872af3ebe85614c3",
            "value": " 1.47k/? [00:00&lt;00:00, 136kB/s]"
          }
        },
        "c395dc19e1ba4483adb9686bc9328821": {
          "model_module": "@jupyter-widgets/base",
          "model_name": "LayoutModel",
          "model_module_version": "1.2.0",
          "state": {
            "_model_module": "@jupyter-widgets/base",
            "_model_module_version": "1.2.0",
            "_model_name": "LayoutModel",
            "_view_count": null,
            "_view_module": "@jupyter-widgets/base",
            "_view_module_version": "1.2.0",
            "_view_name": "LayoutView",
            "align_content": null,
            "align_items": null,
            "align_self": null,
            "border": null,
            "bottom": null,
            "display": null,
            "flex": null,
            "flex_flow": null,
            "grid_area": null,
            "grid_auto_columns": null,
            "grid_auto_flow": null,
            "grid_auto_rows": null,
            "grid_column": null,
            "grid_gap": null,
            "grid_row": null,
            "grid_template_areas": null,
            "grid_template_columns": null,
            "grid_template_rows": null,
            "height": null,
            "justify_content": null,
            "justify_items": null,
            "left": null,
            "margin": null,
            "max_height": null,
            "max_width": null,
            "min_height": null,
            "min_width": null,
            "object_fit": null,
            "object_position": null,
            "order": null,
            "overflow": null,
            "overflow_x": null,
            "overflow_y": null,
            "padding": null,
            "right": null,
            "top": null,
            "visibility": null,
            "width": null
          }
        },
        "7e74844605c2441faeb843dcb0c105a8": {
          "model_module": "@jupyter-widgets/base",
          "model_name": "LayoutModel",
          "model_module_version": "1.2.0",
          "state": {
            "_model_module": "@jupyter-widgets/base",
            "_model_module_version": "1.2.0",
            "_model_name": "LayoutModel",
            "_view_count": null,
            "_view_module": "@jupyter-widgets/base",
            "_view_module_version": "1.2.0",
            "_view_name": "LayoutView",
            "align_content": null,
            "align_items": null,
            "align_self": null,
            "border": null,
            "bottom": null,
            "display": null,
            "flex": null,
            "flex_flow": null,
            "grid_area": null,
            "grid_auto_columns": null,
            "grid_auto_flow": null,
            "grid_auto_rows": null,
            "grid_column": null,
            "grid_gap": null,
            "grid_row": null,
            "grid_template_areas": null,
            "grid_template_columns": null,
            "grid_template_rows": null,
            "height": null,
            "justify_content": null,
            "justify_items": null,
            "left": null,
            "margin": null,
            "max_height": null,
            "max_width": null,
            "min_height": null,
            "min_width": null,
            "object_fit": null,
            "object_position": null,
            "order": null,
            "overflow": null,
            "overflow_x": null,
            "overflow_y": null,
            "padding": null,
            "right": null,
            "top": null,
            "visibility": null,
            "width": null
          }
        },
        "11db42b25cab4bfdba9b90bdbeae2926": {
          "model_module": "@jupyter-widgets/controls",
          "model_name": "DescriptionStyleModel",
          "model_module_version": "1.5.0",
          "state": {
            "_model_module": "@jupyter-widgets/controls",
            "_model_module_version": "1.5.0",
            "_model_name": "DescriptionStyleModel",
            "_view_count": null,
            "_view_module": "@jupyter-widgets/base",
            "_view_module_version": "1.2.0",
            "_view_name": "StyleView",
            "description_width": ""
          }
        },
        "15d6df324c9f4ed69e4ddd87cd7f0cba": {
          "model_module": "@jupyter-widgets/base",
          "model_name": "LayoutModel",
          "model_module_version": "1.2.0",
          "state": {
            "_model_module": "@jupyter-widgets/base",
            "_model_module_version": "1.2.0",
            "_model_name": "LayoutModel",
            "_view_count": null,
            "_view_module": "@jupyter-widgets/base",
            "_view_module_version": "1.2.0",
            "_view_name": "LayoutView",
            "align_content": null,
            "align_items": null,
            "align_self": null,
            "border": null,
            "bottom": null,
            "display": null,
            "flex": null,
            "flex_flow": null,
            "grid_area": null,
            "grid_auto_columns": null,
            "grid_auto_flow": null,
            "grid_auto_rows": null,
            "grid_column": null,
            "grid_gap": null,
            "grid_row": null,
            "grid_template_areas": null,
            "grid_template_columns": null,
            "grid_template_rows": null,
            "height": null,
            "justify_content": null,
            "justify_items": null,
            "left": null,
            "margin": null,
            "max_height": null,
            "max_width": null,
            "min_height": null,
            "min_width": null,
            "object_fit": null,
            "object_position": null,
            "order": null,
            "overflow": null,
            "overflow_x": null,
            "overflow_y": null,
            "padding": null,
            "right": null,
            "top": null,
            "visibility": null,
            "width": "20px"
          }
        },
        "263bf03cd8654e9abeaef708de68ddd6": {
          "model_module": "@jupyter-widgets/controls",
          "model_name": "ProgressStyleModel",
          "model_module_version": "1.5.0",
          "state": {
            "_model_module": "@jupyter-widgets/controls",
            "_model_module_version": "1.5.0",
            "_model_name": "ProgressStyleModel",
            "_view_count": null,
            "_view_module": "@jupyter-widgets/base",
            "_view_module_version": "1.2.0",
            "_view_name": "StyleView",
            "bar_color": null,
            "description_width": ""
          }
        },
        "8f47f02bcfb448adb1253493f5ad7568": {
          "model_module": "@jupyter-widgets/base",
          "model_name": "LayoutModel",
          "model_module_version": "1.2.0",
          "state": {
            "_model_module": "@jupyter-widgets/base",
            "_model_module_version": "1.2.0",
            "_model_name": "LayoutModel",
            "_view_count": null,
            "_view_module": "@jupyter-widgets/base",
            "_view_module_version": "1.2.0",
            "_view_name": "LayoutView",
            "align_content": null,
            "align_items": null,
            "align_self": null,
            "border": null,
            "bottom": null,
            "display": null,
            "flex": null,
            "flex_flow": null,
            "grid_area": null,
            "grid_auto_columns": null,
            "grid_auto_flow": null,
            "grid_auto_rows": null,
            "grid_column": null,
            "grid_gap": null,
            "grid_row": null,
            "grid_template_areas": null,
            "grid_template_columns": null,
            "grid_template_rows": null,
            "height": null,
            "justify_content": null,
            "justify_items": null,
            "left": null,
            "margin": null,
            "max_height": null,
            "max_width": null,
            "min_height": null,
            "min_width": null,
            "object_fit": null,
            "object_position": null,
            "order": null,
            "overflow": null,
            "overflow_x": null,
            "overflow_y": null,
            "padding": null,
            "right": null,
            "top": null,
            "visibility": null,
            "width": null
          }
        },
        "9233baf71a234fe6872af3ebe85614c3": {
          "model_module": "@jupyter-widgets/controls",
          "model_name": "DescriptionStyleModel",
          "model_module_version": "1.5.0",
          "state": {
            "_model_module": "@jupyter-widgets/controls",
            "_model_module_version": "1.5.0",
            "_model_name": "DescriptionStyleModel",
            "_view_count": null,
            "_view_module": "@jupyter-widgets/base",
            "_view_module_version": "1.2.0",
            "_view_name": "StyleView",
            "description_width": ""
          }
        },
        "f9899a30d5194abb93d735d8f2d47089": {
          "model_module": "@jupyter-widgets/controls",
          "model_name": "HBoxModel",
          "model_module_version": "1.5.0",
          "state": {
            "_dom_classes": [],
            "_model_module": "@jupyter-widgets/controls",
            "_model_module_version": "1.5.0",
            "_model_name": "HBoxModel",
            "_view_count": null,
            "_view_module": "@jupyter-widgets/controls",
            "_view_module_version": "1.5.0",
            "_view_name": "HBoxView",
            "box_style": "",
            "children": [
              "IPY_MODEL_32034b4d096b479caa52803f26f00b50",
              "IPY_MODEL_a590b9edf5e541ca80e556dd62190d87",
              "IPY_MODEL_ea26837e443843a9a0166f77cb9b36e2"
            ],
            "layout": "IPY_MODEL_914f940f4e39475d9fd456d6d1b4a720"
          }
        },
        "32034b4d096b479caa52803f26f00b50": {
          "model_module": "@jupyter-widgets/controls",
          "model_name": "HTMLModel",
          "model_module_version": "1.5.0",
          "state": {
            "_dom_classes": [],
            "_model_module": "@jupyter-widgets/controls",
            "_model_module_version": "1.5.0",
            "_model_name": "HTMLModel",
            "_view_count": null,
            "_view_module": "@jupyter-widgets/controls",
            "_view_module_version": "1.5.0",
            "_view_name": "HTMLView",
            "description": "",
            "description_tooltip": null,
            "layout": "IPY_MODEL_51953efd6f5445899207e59e149b5949",
            "placeholder": "​",
            "style": "IPY_MODEL_1205cdcc42e3451abd78eb77062d12a2",
            "value": "model.safetensors: 100%"
          }
        },
        "a590b9edf5e541ca80e556dd62190d87": {
          "model_module": "@jupyter-widgets/controls",
          "model_name": "FloatProgressModel",
          "model_module_version": "1.5.0",
          "state": {
            "_dom_classes": [],
            "_model_module": "@jupyter-widgets/controls",
            "_model_module_version": "1.5.0",
            "_model_name": "FloatProgressModel",
            "_view_count": null,
            "_view_module": "@jupyter-widgets/controls",
            "_view_module_version": "1.5.0",
            "_view_name": "ProgressView",
            "bar_style": "success",
            "description": "",
            "description_tooltip": null,
            "layout": "IPY_MODEL_3fe66f5d21524830ba3ac4eb98069f4d",
            "max": 115434268,
            "min": 0,
            "orientation": "horizontal",
            "style": "IPY_MODEL_b2715a87ccef447086683155cbf3d80e",
            "value": 115434268
          }
        },
        "ea26837e443843a9a0166f77cb9b36e2": {
          "model_module": "@jupyter-widgets/controls",
          "model_name": "HTMLModel",
          "model_module_version": "1.5.0",
          "state": {
            "_dom_classes": [],
            "_model_module": "@jupyter-widgets/controls",
            "_model_module_version": "1.5.0",
            "_model_name": "HTMLModel",
            "_view_count": null,
            "_view_module": "@jupyter-widgets/controls",
            "_view_module_version": "1.5.0",
            "_view_name": "HTMLView",
            "description": "",
            "description_tooltip": null,
            "layout": "IPY_MODEL_f14cc1ad7e52467ea393ee2f3f91c430",
            "placeholder": "​",
            "style": "IPY_MODEL_34b8bec3af7947779c7cc0bfb993e88a",
            "value": " 115M/115M [00:01&lt;00:00, 79.2MB/s]"
          }
        },
        "914f940f4e39475d9fd456d6d1b4a720": {
          "model_module": "@jupyter-widgets/base",
          "model_name": "LayoutModel",
          "model_module_version": "1.2.0",
          "state": {
            "_model_module": "@jupyter-widgets/base",
            "_model_module_version": "1.2.0",
            "_model_name": "LayoutModel",
            "_view_count": null,
            "_view_module": "@jupyter-widgets/base",
            "_view_module_version": "1.2.0",
            "_view_name": "LayoutView",
            "align_content": null,
            "align_items": null,
            "align_self": null,
            "border": null,
            "bottom": null,
            "display": null,
            "flex": null,
            "flex_flow": null,
            "grid_area": null,
            "grid_auto_columns": null,
            "grid_auto_flow": null,
            "grid_auto_rows": null,
            "grid_column": null,
            "grid_gap": null,
            "grid_row": null,
            "grid_template_areas": null,
            "grid_template_columns": null,
            "grid_template_rows": null,
            "height": null,
            "justify_content": null,
            "justify_items": null,
            "left": null,
            "margin": null,
            "max_height": null,
            "max_width": null,
            "min_height": null,
            "min_width": null,
            "object_fit": null,
            "object_position": null,
            "order": null,
            "overflow": null,
            "overflow_x": null,
            "overflow_y": null,
            "padding": null,
            "right": null,
            "top": null,
            "visibility": null,
            "width": null
          }
        },
        "51953efd6f5445899207e59e149b5949": {
          "model_module": "@jupyter-widgets/base",
          "model_name": "LayoutModel",
          "model_module_version": "1.2.0",
          "state": {
            "_model_module": "@jupyter-widgets/base",
            "_model_module_version": "1.2.0",
            "_model_name": "LayoutModel",
            "_view_count": null,
            "_view_module": "@jupyter-widgets/base",
            "_view_module_version": "1.2.0",
            "_view_name": "LayoutView",
            "align_content": null,
            "align_items": null,
            "align_self": null,
            "border": null,
            "bottom": null,
            "display": null,
            "flex": null,
            "flex_flow": null,
            "grid_area": null,
            "grid_auto_columns": null,
            "grid_auto_flow": null,
            "grid_auto_rows": null,
            "grid_column": null,
            "grid_gap": null,
            "grid_row": null,
            "grid_template_areas": null,
            "grid_template_columns": null,
            "grid_template_rows": null,
            "height": null,
            "justify_content": null,
            "justify_items": null,
            "left": null,
            "margin": null,
            "max_height": null,
            "max_width": null,
            "min_height": null,
            "min_width": null,
            "object_fit": null,
            "object_position": null,
            "order": null,
            "overflow": null,
            "overflow_x": null,
            "overflow_y": null,
            "padding": null,
            "right": null,
            "top": null,
            "visibility": null,
            "width": null
          }
        },
        "1205cdcc42e3451abd78eb77062d12a2": {
          "model_module": "@jupyter-widgets/controls",
          "model_name": "DescriptionStyleModel",
          "model_module_version": "1.5.0",
          "state": {
            "_model_module": "@jupyter-widgets/controls",
            "_model_module_version": "1.5.0",
            "_model_name": "DescriptionStyleModel",
            "_view_count": null,
            "_view_module": "@jupyter-widgets/base",
            "_view_module_version": "1.2.0",
            "_view_name": "StyleView",
            "description_width": ""
          }
        },
        "3fe66f5d21524830ba3ac4eb98069f4d": {
          "model_module": "@jupyter-widgets/base",
          "model_name": "LayoutModel",
          "model_module_version": "1.2.0",
          "state": {
            "_model_module": "@jupyter-widgets/base",
            "_model_module_version": "1.2.0",
            "_model_name": "LayoutModel",
            "_view_count": null,
            "_view_module": "@jupyter-widgets/base",
            "_view_module_version": "1.2.0",
            "_view_name": "LayoutView",
            "align_content": null,
            "align_items": null,
            "align_self": null,
            "border": null,
            "bottom": null,
            "display": null,
            "flex": null,
            "flex_flow": null,
            "grid_area": null,
            "grid_auto_columns": null,
            "grid_auto_flow": null,
            "grid_auto_rows": null,
            "grid_column": null,
            "grid_gap": null,
            "grid_row": null,
            "grid_template_areas": null,
            "grid_template_columns": null,
            "grid_template_rows": null,
            "height": null,
            "justify_content": null,
            "justify_items": null,
            "left": null,
            "margin": null,
            "max_height": null,
            "max_width": null,
            "min_height": null,
            "min_width": null,
            "object_fit": null,
            "object_position": null,
            "order": null,
            "overflow": null,
            "overflow_x": null,
            "overflow_y": null,
            "padding": null,
            "right": null,
            "top": null,
            "visibility": null,
            "width": null
          }
        },
        "b2715a87ccef447086683155cbf3d80e": {
          "model_module": "@jupyter-widgets/controls",
          "model_name": "ProgressStyleModel",
          "model_module_version": "1.5.0",
          "state": {
            "_model_module": "@jupyter-widgets/controls",
            "_model_module_version": "1.5.0",
            "_model_name": "ProgressStyleModel",
            "_view_count": null,
            "_view_module": "@jupyter-widgets/base",
            "_view_module_version": "1.2.0",
            "_view_name": "StyleView",
            "bar_color": null,
            "description_width": ""
          }
        },
        "f14cc1ad7e52467ea393ee2f3f91c430": {
          "model_module": "@jupyter-widgets/base",
          "model_name": "LayoutModel",
          "model_module_version": "1.2.0",
          "state": {
            "_model_module": "@jupyter-widgets/base",
            "_model_module_version": "1.2.0",
            "_model_name": "LayoutModel",
            "_view_count": null,
            "_view_module": "@jupyter-widgets/base",
            "_view_module_version": "1.2.0",
            "_view_name": "LayoutView",
            "align_content": null,
            "align_items": null,
            "align_self": null,
            "border": null,
            "bottom": null,
            "display": null,
            "flex": null,
            "flex_flow": null,
            "grid_area": null,
            "grid_auto_columns": null,
            "grid_auto_flow": null,
            "grid_auto_rows": null,
            "grid_column": null,
            "grid_gap": null,
            "grid_row": null,
            "grid_template_areas": null,
            "grid_template_columns": null,
            "grid_template_rows": null,
            "height": null,
            "justify_content": null,
            "justify_items": null,
            "left": null,
            "margin": null,
            "max_height": null,
            "max_width": null,
            "min_height": null,
            "min_width": null,
            "object_fit": null,
            "object_position": null,
            "order": null,
            "overflow": null,
            "overflow_x": null,
            "overflow_y": null,
            "padding": null,
            "right": null,
            "top": null,
            "visibility": null,
            "width": null
          }
        },
        "34b8bec3af7947779c7cc0bfb993e88a": {
          "model_module": "@jupyter-widgets/controls",
          "model_name": "DescriptionStyleModel",
          "model_module_version": "1.5.0",
          "state": {
            "_model_module": "@jupyter-widgets/controls",
            "_model_module_version": "1.5.0",
            "_model_name": "DescriptionStyleModel",
            "_view_count": null,
            "_view_module": "@jupyter-widgets/base",
            "_view_module_version": "1.2.0",
            "_view_name": "StyleView",
            "description_width": ""
          }
        },
        "30d4da689b4d4779b81572412a55e18c": {
          "model_module": "@jupyter-widgets/controls",
          "model_name": "HBoxModel",
          "model_module_version": "1.5.0",
          "state": {
            "_dom_classes": [],
            "_model_module": "@jupyter-widgets/controls",
            "_model_module_version": "1.5.0",
            "_model_name": "HBoxModel",
            "_view_count": null,
            "_view_module": "@jupyter-widgets/controls",
            "_view_module_version": "1.5.0",
            "_view_name": "HBoxView",
            "box_style": "",
            "children": [
              "IPY_MODEL_d0012b806a794e4e82f4d312ba7f58fb",
              "IPY_MODEL_12be5a77ec0f4be69eab73324995ca25",
              "IPY_MODEL_b91afe7eb90b47388fc2e62c57f9407c"
            ],
            "layout": "IPY_MODEL_d3d4eb856bb3411881465dc9d66b2b4d"
          }
        },
        "d0012b806a794e4e82f4d312ba7f58fb": {
          "model_module": "@jupyter-widgets/controls",
          "model_name": "HTMLModel",
          "model_module_version": "1.5.0",
          "state": {
            "_dom_classes": [],
            "_model_module": "@jupyter-widgets/controls",
            "_model_module_version": "1.5.0",
            "_model_name": "HTMLModel",
            "_view_count": null,
            "_view_module": "@jupyter-widgets/controls",
            "_view_module_version": "1.5.0",
            "_view_name": "HTMLView",
            "description": "",
            "description_tooltip": null,
            "layout": "IPY_MODEL_65cc66b588294298bbae1c5808ce510c",
            "placeholder": "​",
            "style": "IPY_MODEL_b4ea4c733bf6400a920c7799100205fa",
            "value": "model.safetensors: 100%"
          }
        },
        "12be5a77ec0f4be69eab73324995ca25": {
          "model_module": "@jupyter-widgets/controls",
          "model_name": "FloatProgressModel",
          "model_module_version": "1.5.0",
          "state": {
            "_dom_classes": [],
            "_model_module": "@jupyter-widgets/controls",
            "_model_module_version": "1.5.0",
            "_model_name": "FloatProgressModel",
            "_view_count": null,
            "_view_module": "@jupyter-widgets/controls",
            "_view_module_version": "1.5.0",
            "_view_name": "ProgressView",
            "bar_style": "success",
            "description": "",
            "description_tooltip": null,
            "layout": "IPY_MODEL_5741ec0e613947a09c71bbc923e11a64",
            "max": 46807446,
            "min": 0,
            "orientation": "horizontal",
            "style": "IPY_MODEL_6c934f847bfd4602980cd219fed6eff3",
            "value": 46807446
          }
        },
        "b91afe7eb90b47388fc2e62c57f9407c": {
          "model_module": "@jupyter-widgets/controls",
          "model_name": "HTMLModel",
          "model_module_version": "1.5.0",
          "state": {
            "_dom_classes": [],
            "_model_module": "@jupyter-widgets/controls",
            "_model_module_version": "1.5.0",
            "_model_name": "HTMLModel",
            "_view_count": null,
            "_view_module": "@jupyter-widgets/controls",
            "_view_module_version": "1.5.0",
            "_view_name": "HTMLView",
            "description": "",
            "description_tooltip": null,
            "layout": "IPY_MODEL_c5dfbe038d54412782b98f7f41c5092f",
            "placeholder": "​",
            "style": "IPY_MODEL_3662afbeade84799aad3c25419e638c0",
            "value": " 46.8M/46.8M [00:00&lt;00:00, 90.1MB/s]"
          }
        },
        "d3d4eb856bb3411881465dc9d66b2b4d": {
          "model_module": "@jupyter-widgets/base",
          "model_name": "LayoutModel",
          "model_module_version": "1.2.0",
          "state": {
            "_model_module": "@jupyter-widgets/base",
            "_model_module_version": "1.2.0",
            "_model_name": "LayoutModel",
            "_view_count": null,
            "_view_module": "@jupyter-widgets/base",
            "_view_module_version": "1.2.0",
            "_view_name": "LayoutView",
            "align_content": null,
            "align_items": null,
            "align_self": null,
            "border": null,
            "bottom": null,
            "display": null,
            "flex": null,
            "flex_flow": null,
            "grid_area": null,
            "grid_auto_columns": null,
            "grid_auto_flow": null,
            "grid_auto_rows": null,
            "grid_column": null,
            "grid_gap": null,
            "grid_row": null,
            "grid_template_areas": null,
            "grid_template_columns": null,
            "grid_template_rows": null,
            "height": null,
            "justify_content": null,
            "justify_items": null,
            "left": null,
            "margin": null,
            "max_height": null,
            "max_width": null,
            "min_height": null,
            "min_width": null,
            "object_fit": null,
            "object_position": null,
            "order": null,
            "overflow": null,
            "overflow_x": null,
            "overflow_y": null,
            "padding": null,
            "right": null,
            "top": null,
            "visibility": null,
            "width": null
          }
        },
        "65cc66b588294298bbae1c5808ce510c": {
          "model_module": "@jupyter-widgets/base",
          "model_name": "LayoutModel",
          "model_module_version": "1.2.0",
          "state": {
            "_model_module": "@jupyter-widgets/base",
            "_model_module_version": "1.2.0",
            "_model_name": "LayoutModel",
            "_view_count": null,
            "_view_module": "@jupyter-widgets/base",
            "_view_module_version": "1.2.0",
            "_view_name": "LayoutView",
            "align_content": null,
            "align_items": null,
            "align_self": null,
            "border": null,
            "bottom": null,
            "display": null,
            "flex": null,
            "flex_flow": null,
            "grid_area": null,
            "grid_auto_columns": null,
            "grid_auto_flow": null,
            "grid_auto_rows": null,
            "grid_column": null,
            "grid_gap": null,
            "grid_row": null,
            "grid_template_areas": null,
            "grid_template_columns": null,
            "grid_template_rows": null,
            "height": null,
            "justify_content": null,
            "justify_items": null,
            "left": null,
            "margin": null,
            "max_height": null,
            "max_width": null,
            "min_height": null,
            "min_width": null,
            "object_fit": null,
            "object_position": null,
            "order": null,
            "overflow": null,
            "overflow_x": null,
            "overflow_y": null,
            "padding": null,
            "right": null,
            "top": null,
            "visibility": null,
            "width": null
          }
        },
        "b4ea4c733bf6400a920c7799100205fa": {
          "model_module": "@jupyter-widgets/controls",
          "model_name": "DescriptionStyleModel",
          "model_module_version": "1.5.0",
          "state": {
            "_model_module": "@jupyter-widgets/controls",
            "_model_module_version": "1.5.0",
            "_model_name": "DescriptionStyleModel",
            "_view_count": null,
            "_view_module": "@jupyter-widgets/base",
            "_view_module_version": "1.2.0",
            "_view_name": "StyleView",
            "description_width": ""
          }
        },
        "5741ec0e613947a09c71bbc923e11a64": {
          "model_module": "@jupyter-widgets/base",
          "model_name": "LayoutModel",
          "model_module_version": "1.2.0",
          "state": {
            "_model_module": "@jupyter-widgets/base",
            "_model_module_version": "1.2.0",
            "_model_name": "LayoutModel",
            "_view_count": null,
            "_view_module": "@jupyter-widgets/base",
            "_view_module_version": "1.2.0",
            "_view_name": "LayoutView",
            "align_content": null,
            "align_items": null,
            "align_self": null,
            "border": null,
            "bottom": null,
            "display": null,
            "flex": null,
            "flex_flow": null,
            "grid_area": null,
            "grid_auto_columns": null,
            "grid_auto_flow": null,
            "grid_auto_rows": null,
            "grid_column": null,
            "grid_gap": null,
            "grid_row": null,
            "grid_template_areas": null,
            "grid_template_columns": null,
            "grid_template_rows": null,
            "height": null,
            "justify_content": null,
            "justify_items": null,
            "left": null,
            "margin": null,
            "max_height": null,
            "max_width": null,
            "min_height": null,
            "min_width": null,
            "object_fit": null,
            "object_position": null,
            "order": null,
            "overflow": null,
            "overflow_x": null,
            "overflow_y": null,
            "padding": null,
            "right": null,
            "top": null,
            "visibility": null,
            "width": null
          }
        },
        "6c934f847bfd4602980cd219fed6eff3": {
          "model_module": "@jupyter-widgets/controls",
          "model_name": "ProgressStyleModel",
          "model_module_version": "1.5.0",
          "state": {
            "_model_module": "@jupyter-widgets/controls",
            "_model_module_version": "1.5.0",
            "_model_name": "ProgressStyleModel",
            "_view_count": null,
            "_view_module": "@jupyter-widgets/base",
            "_view_module_version": "1.2.0",
            "_view_name": "StyleView",
            "bar_color": null,
            "description_width": ""
          }
        },
        "c5dfbe038d54412782b98f7f41c5092f": {
          "model_module": "@jupyter-widgets/base",
          "model_name": "LayoutModel",
          "model_module_version": "1.2.0",
          "state": {
            "_model_module": "@jupyter-widgets/base",
            "_model_module_version": "1.2.0",
            "_model_name": "LayoutModel",
            "_view_count": null,
            "_view_module": "@jupyter-widgets/base",
            "_view_module_version": "1.2.0",
            "_view_name": "LayoutView",
            "align_content": null,
            "align_items": null,
            "align_self": null,
            "border": null,
            "bottom": null,
            "display": null,
            "flex": null,
            "flex_flow": null,
            "grid_area": null,
            "grid_auto_columns": null,
            "grid_auto_flow": null,
            "grid_auto_rows": null,
            "grid_column": null,
            "grid_gap": null,
            "grid_row": null,
            "grid_template_areas": null,
            "grid_template_columns": null,
            "grid_template_rows": null,
            "height": null,
            "justify_content": null,
            "justify_items": null,
            "left": null,
            "margin": null,
            "max_height": null,
            "max_width": null,
            "min_height": null,
            "min_width": null,
            "object_fit": null,
            "object_position": null,
            "order": null,
            "overflow": null,
            "overflow_x": null,
            "overflow_y": null,
            "padding": null,
            "right": null,
            "top": null,
            "visibility": null,
            "width": null
          }
        },
        "3662afbeade84799aad3c25419e638c0": {
          "model_module": "@jupyter-widgets/controls",
          "model_name": "DescriptionStyleModel",
          "model_module_version": "1.5.0",
          "state": {
            "_model_module": "@jupyter-widgets/controls",
            "_model_module_version": "1.5.0",
            "_model_name": "DescriptionStyleModel",
            "_view_count": null,
            "_view_module": "@jupyter-widgets/base",
            "_view_module_version": "1.2.0",
            "_view_name": "StyleView",
            "description_width": ""
          }
        }
      }
    }
  },
  "nbformat": 4,
  "nbformat_minor": 0
}